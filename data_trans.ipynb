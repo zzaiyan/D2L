{
 "cells": [
  {
   "cell_type": "code",
   "execution_count": 45,
   "metadata": {},
   "outputs": [],
   "source": [
    "import pandas as pd\n",
    "import numpy as np\n",
    "from tqdm import tqdm\n",
    "import torch\n",
    "from torch import nn\n",
    "from torch.utils import data\n",
    "from d2l import torch as d2l"
   ]
  },
  {
   "attachments": {},
   "cell_type": "markdown",
   "metadata": {},
   "source": [
    "关于下标\n",
    "1. 0~N-1：琪琪的属性嵌入、匹配度、满意度\n",
    "2. 1~N：whc做的那两个dict文件\n",
    "3. 真实ID：导出文件格式（题目要求）"
   ]
  },
  {
   "cell_type": "code",
   "execution_count": 2,
   "metadata": {},
   "outputs": [],
   "source": [
    "# ID映射表\n",
    "df_per = pd.read_csv('./user_dict',sep='\\t')\n",
    "df_rec = pd.read_csv('./jd_dict',sep='\\t')"
   ]
  },
  {
   "cell_type": "code",
   "execution_count": 3,
   "metadata": {},
   "outputs": [
    {
     "data": {
      "text/plain": [
       "(   position  user  ppd\n",
       " 0         0    94    6\n",
       " 1         0   165    6\n",
       " 2         0   168    6\n",
       " 3         1    94    6\n",
       " 4         1   165    6,\n",
       "    user  position  myd\n",
       " 0   425       295    8\n",
       " 1   425      1504    8\n",
       " 2   425      1515    8\n",
       " 3   425      1542    8\n",
       " 4   425      1543    8)"
      ]
     },
     "execution_count": 3,
     "metadata": {},
     "output_type": "execute_result"
    }
   ],
   "source": [
    "# 匹配度、满意度，这里的序号是0~N-1\n",
    "df_ppd = pd.read_csv('./p-u-rating.txt',sep=' ')\n",
    "df_myd = pd.read_csv('./u-p-rating.txt',sep=' ')\n",
    "df_ppd.head(), df_myd.head()"
   ]
  },
  {
   "cell_type": "code",
   "execution_count": 76,
   "metadata": {},
   "outputs": [],
   "source": [
    "def is_fw(pid):\n",
    "  # return not pid in idx\n",
    "  val = fw_list.iloc[pid,0]\n",
    "  return val==1\n",
    "\n",
    "fw_list = pd.read_csv('./fw.txt',sep=' ',index_col=0)"
   ]
  },
  {
   "cell_type": "code",
   "execution_count": 3,
   "metadata": {},
   "outputs": [],
   "source": [
    "per_id = {}\n",
    "for i in df_per.index:\n",
    "  per_id[df_per.iloc[i,0]] = df_per.iloc[i,1]\n",
    "rec_id = {}\n",
    "for i in df_rec.index:\n",
    "  rec_id[df_rec.iloc[i,0]] = df_rec.iloc[i,1]"
   ]
  },
  {
   "cell_type": "code",
   "execution_count": 7,
   "metadata": {},
   "outputs": [
    {
     "name": "stdout",
     "output_type": "stream",
     "text": [
      "0 1 2 3 4 5 6 7 8 9 10 11 12 13 14 15 16 17 18 19 20 21 22 23 24 25 26 27 28 29 30 31 32 33 34 35 36 37 38 39 40 41 42 43 44 45 46 47 48 49 50 51 52 53 54 55 56 57 58 59 60 61 62 63 64 65 66 67 68 69 70 71 72 73 "
     ]
    }
   ],
   "source": [
    "for i in range(74):\n",
    "  print(f'{i} ',end='')"
   ]
  },
  {
   "cell_type": "code",
   "execution_count": 24,
   "metadata": {},
   "outputs": [],
   "source": [
    "# df_map.to_csv('./per_job_map.csv',header=['job','person','label'],index=None)"
   ]
  },
  {
   "cell_type": "code",
   "execution_count": 114,
   "metadata": {},
   "outputs": [
    {
     "name": "stdout",
     "output_type": "stream",
     "text": [
      "(1575, 74) (868, 74)\n"
     ]
    },
    {
     "data": {
      "text/html": [
       "<div>\n",
       "<style scoped>\n",
       "    .dataframe tbody tr th:only-of-type {\n",
       "        vertical-align: middle;\n",
       "    }\n",
       "\n",
       "    .dataframe tbody tr th {\n",
       "        vertical-align: top;\n",
       "    }\n",
       "\n",
       "    .dataframe thead th {\n",
       "        text-align: right;\n",
       "    }\n",
       "</style>\n",
       "<table border=\"1\" class=\"dataframe\">\n",
       "  <thead>\n",
       "    <tr style=\"text-align: right;\">\n",
       "      <th></th>\n",
       "      <th>1</th>\n",
       "      <th>2</th>\n",
       "      <th>3</th>\n",
       "      <th>4</th>\n",
       "      <th>5</th>\n",
       "      <th>6</th>\n",
       "      <th>7</th>\n",
       "      <th>8</th>\n",
       "      <th>9</th>\n",
       "      <th>10</th>\n",
       "      <th>...</th>\n",
       "      <th>65</th>\n",
       "      <th>66</th>\n",
       "      <th>67</th>\n",
       "      <th>68</th>\n",
       "      <th>69</th>\n",
       "      <th>70</th>\n",
       "      <th>71</th>\n",
       "      <th>72</th>\n",
       "      <th>73</th>\n",
       "      <th>74</th>\n",
       "    </tr>\n",
       "  </thead>\n",
       "  <tbody>\n",
       "    <tr>\n",
       "      <th>0</th>\n",
       "      <td>-0.724494</td>\n",
       "      <td>-0.559137</td>\n",
       "      <td>-0.300785</td>\n",
       "      <td>0.008680</td>\n",
       "      <td>-0.170450</td>\n",
       "      <td>0</td>\n",
       "      <td>0</td>\n",
       "      <td>0.0</td>\n",
       "      <td>1</td>\n",
       "      <td>0</td>\n",
       "      <td>...</td>\n",
       "      <td>-0.160764</td>\n",
       "      <td>0.035278</td>\n",
       "      <td>0.060169</td>\n",
       "      <td>0.088794</td>\n",
       "      <td>-0.306723</td>\n",
       "      <td>0.137945</td>\n",
       "      <td>0.316116</td>\n",
       "      <td>0.4042</td>\n",
       "      <td>0.127718</td>\n",
       "      <td>0.047178</td>\n",
       "    </tr>\n",
       "    <tr>\n",
       "      <th>7</th>\n",
       "      <td>-0.724494</td>\n",
       "      <td>-0.721122</td>\n",
       "      <td>-0.890788</td>\n",
       "      <td>4.934121</td>\n",
       "      <td>3.222017</td>\n",
       "      <td>0</td>\n",
       "      <td>0</td>\n",
       "      <td>0.0</td>\n",
       "      <td>1</td>\n",
       "      <td>0</td>\n",
       "      <td>...</td>\n",
       "      <td>-0.160764</td>\n",
       "      <td>0.035278</td>\n",
       "      <td>0.060169</td>\n",
       "      <td>0.088794</td>\n",
       "      <td>-0.306723</td>\n",
       "      <td>0.137945</td>\n",
       "      <td>0.316116</td>\n",
       "      <td>0.4042</td>\n",
       "      <td>0.127718</td>\n",
       "      <td>0.047178</td>\n",
       "    </tr>\n",
       "    <tr>\n",
       "      <th>10</th>\n",
       "      <td>1.741550</td>\n",
       "      <td>-0.802114</td>\n",
       "      <td>-0.890788</td>\n",
       "      <td>2.832705</td>\n",
       "      <td>7.543888</td>\n",
       "      <td>0</td>\n",
       "      <td>0</td>\n",
       "      <td>0.0</td>\n",
       "      <td>0</td>\n",
       "      <td>1</td>\n",
       "      <td>...</td>\n",
       "      <td>-0.160764</td>\n",
       "      <td>0.035278</td>\n",
       "      <td>0.060169</td>\n",
       "      <td>0.088794</td>\n",
       "      <td>-0.306723</td>\n",
       "      <td>0.137945</td>\n",
       "      <td>0.316116</td>\n",
       "      <td>0.4042</td>\n",
       "      <td>0.127718</td>\n",
       "      <td>0.047178</td>\n",
       "    </tr>\n",
       "    <tr>\n",
       "      <th>12</th>\n",
       "      <td>-0.724494</td>\n",
       "      <td>-0.397152</td>\n",
       "      <td>-0.448285</td>\n",
       "      <td>0.080217</td>\n",
       "      <td>-0.179261</td>\n",
       "      <td>0</td>\n",
       "      <td>0</td>\n",
       "      <td>0.0</td>\n",
       "      <td>1</td>\n",
       "      <td>1</td>\n",
       "      <td>...</td>\n",
       "      <td>-0.160764</td>\n",
       "      <td>0.035278</td>\n",
       "      <td>0.060169</td>\n",
       "      <td>0.088794</td>\n",
       "      <td>-0.306723</td>\n",
       "      <td>0.137945</td>\n",
       "      <td>0.316116</td>\n",
       "      <td>0.4042</td>\n",
       "      <td>0.127718</td>\n",
       "      <td>0.047178</td>\n",
       "    </tr>\n",
       "    <tr>\n",
       "      <th>13</th>\n",
       "      <td>-0.724494</td>\n",
       "      <td>3.247509</td>\n",
       "      <td>6.041750</td>\n",
       "      <td>0.025324</td>\n",
       "      <td>-0.260802</td>\n",
       "      <td>0</td>\n",
       "      <td>0</td>\n",
       "      <td>0.0</td>\n",
       "      <td>1</td>\n",
       "      <td>1</td>\n",
       "      <td>...</td>\n",
       "      <td>-0.160764</td>\n",
       "      <td>0.035278</td>\n",
       "      <td>0.060169</td>\n",
       "      <td>0.088794</td>\n",
       "      <td>-0.306723</td>\n",
       "      <td>0.137945</td>\n",
       "      <td>0.316116</td>\n",
       "      <td>0.4042</td>\n",
       "      <td>0.127718</td>\n",
       "      <td>0.047178</td>\n",
       "    </tr>\n",
       "  </tbody>\n",
       "</table>\n",
       "<p>5 rows × 74 columns</p>\n",
       "</div>"
      ],
      "text/plain": [
       "          1         2         3         4         5   6   7    8   9   10  \\\n",
       "0  -0.724494 -0.559137 -0.300785  0.008680 -0.170450   0   0  0.0   1   0   \n",
       "7  -0.724494 -0.721122 -0.890788  4.934121  3.222017   0   0  0.0   1   0   \n",
       "10  1.741550 -0.802114 -0.890788  2.832705  7.543888   0   0  0.0   0   1   \n",
       "12 -0.724494 -0.397152 -0.448285  0.080217 -0.179261   0   0  0.0   1   1   \n",
       "13 -0.724494  3.247509  6.041750  0.025324 -0.260802   0   0  0.0   1   1   \n",
       "\n",
       "    ...        65        66        67        68        69        70        71  \\\n",
       "0   ... -0.160764  0.035278  0.060169  0.088794 -0.306723  0.137945  0.316116   \n",
       "7   ... -0.160764  0.035278  0.060169  0.088794 -0.306723  0.137945  0.316116   \n",
       "10  ... -0.160764  0.035278  0.060169  0.088794 -0.306723  0.137945  0.316116   \n",
       "12  ... -0.160764  0.035278  0.060169  0.088794 -0.306723  0.137945  0.316116   \n",
       "13  ... -0.160764  0.035278  0.060169  0.088794 -0.306723  0.137945  0.316116   \n",
       "\n",
       "        72        73        74  \n",
       "0   0.4042  0.127718  0.047178  \n",
       "7   0.4042  0.127718  0.047178  \n",
       "10  0.4042  0.127718  0.047178  \n",
       "12  0.4042  0.127718  0.047178  \n",
       "13  0.4042  0.127718  0.047178  \n",
       "\n",
       "[5 rows x 74 columns]"
      ]
     },
     "execution_count": 114,
     "metadata": {},
     "output_type": "execute_result"
    }
   ],
   "source": [
    "# 属性嵌入，这里的序号是0~N-1\n",
    "a_emb_job = pd.read_csv('./attribute_embedding_position.txt',sep=' ',index_col=0,header=None,na_values=[])\n",
    "a_emb_per = pd.read_csv('./attribute_embedding_user.txt',sep=' ',index_col=0,header=None,na_values=[])\n",
    "a_emb_per.index = [per_id(i) for i in range(868)]\n",
    "print(a_emb_job.shape, a_emb_per.shape)\n",
    "a_emb_per.head()"
   ]
  },
  {
   "attachments": {},
   "cell_type": "markdown",
   "metadata": {},
   "source": [
    "先算PU网络，得到匹配度"
   ]
  },
  {
   "cell_type": "code",
   "execution_count": 88,
   "metadata": {},
   "outputs": [
    {
     "name": "stdout",
     "output_type": "stream",
     "text": [
      "0 7 10 12 13 14 15 20 22 23 "
     ]
    }
   ],
   "source": [
    "no_fw = pd.read_csv('./no_fw.csv',index_col=0)\n",
    "def per_id(x):\n",
    "  return no_fw.iloc[x,0]\n",
    "\n",
    "for i in range(10):\n",
    "  print(per_id(i),end=' ')"
   ]
  },
  {
   "cell_type": "code",
   "execution_count": 95,
   "metadata": {},
   "outputs": [
    {
     "name": "stdout",
     "output_type": "stream",
     "text": [
      "(1575, 128) (868, 128)\n"
     ]
    },
    {
     "data": {
      "text/html": [
       "<div>\n",
       "<style scoped>\n",
       "    .dataframe tbody tr th:only-of-type {\n",
       "        vertical-align: middle;\n",
       "    }\n",
       "\n",
       "    .dataframe tbody tr th {\n",
       "        vertical-align: top;\n",
       "    }\n",
       "\n",
       "    .dataframe thead th {\n",
       "        text-align: right;\n",
       "    }\n",
       "</style>\n",
       "<table border=\"1\" class=\"dataframe\">\n",
       "  <thead>\n",
       "    <tr style=\"text-align: right;\">\n",
       "      <th></th>\n",
       "      <th>1</th>\n",
       "      <th>2</th>\n",
       "      <th>3</th>\n",
       "      <th>4</th>\n",
       "      <th>5</th>\n",
       "      <th>6</th>\n",
       "      <th>7</th>\n",
       "      <th>8</th>\n",
       "      <th>9</th>\n",
       "      <th>10</th>\n",
       "      <th>...</th>\n",
       "      <th>119</th>\n",
       "      <th>120</th>\n",
       "      <th>121</th>\n",
       "      <th>122</th>\n",
       "      <th>123</th>\n",
       "      <th>124</th>\n",
       "      <th>125</th>\n",
       "      <th>126</th>\n",
       "      <th>127</th>\n",
       "      <th>128</th>\n",
       "    </tr>\n",
       "  </thead>\n",
       "  <tbody>\n",
       "    <tr>\n",
       "      <th>0</th>\n",
       "      <td>0.106909</td>\n",
       "      <td>-0.046381</td>\n",
       "      <td>0.227989</td>\n",
       "      <td>0.011383</td>\n",
       "      <td>0.049010</td>\n",
       "      <td>0.013847</td>\n",
       "      <td>0.011298</td>\n",
       "      <td>-0.075828</td>\n",
       "      <td>-0.220346</td>\n",
       "      <td>-0.297584</td>\n",
       "      <td>...</td>\n",
       "      <td>0.305304</td>\n",
       "      <td>0.071091</td>\n",
       "      <td>0.004234</td>\n",
       "      <td>0.159778</td>\n",
       "      <td>0.208874</td>\n",
       "      <td>0.261583</td>\n",
       "      <td>0.304411</td>\n",
       "      <td>-0.178296</td>\n",
       "      <td>-0.006043</td>\n",
       "      <td>0.402940</td>\n",
       "    </tr>\n",
       "    <tr>\n",
       "      <th>7</th>\n",
       "      <td>0.176486</td>\n",
       "      <td>0.125179</td>\n",
       "      <td>0.170178</td>\n",
       "      <td>0.010691</td>\n",
       "      <td>-0.109280</td>\n",
       "      <td>0.048260</td>\n",
       "      <td>0.103159</td>\n",
       "      <td>-0.049660</td>\n",
       "      <td>-0.293907</td>\n",
       "      <td>-0.443231</td>\n",
       "      <td>...</td>\n",
       "      <td>0.141347</td>\n",
       "      <td>0.170352</td>\n",
       "      <td>0.099519</td>\n",
       "      <td>0.360286</td>\n",
       "      <td>0.144341</td>\n",
       "      <td>0.294506</td>\n",
       "      <td>0.422864</td>\n",
       "      <td>-0.047133</td>\n",
       "      <td>-0.079090</td>\n",
       "      <td>0.512646</td>\n",
       "    </tr>\n",
       "    <tr>\n",
       "      <th>10</th>\n",
       "      <td>0.070882</td>\n",
       "      <td>0.197714</td>\n",
       "      <td>0.028229</td>\n",
       "      <td>0.098573</td>\n",
       "      <td>-0.222974</td>\n",
       "      <td>-0.022671</td>\n",
       "      <td>-0.054216</td>\n",
       "      <td>-0.003531</td>\n",
       "      <td>-0.285085</td>\n",
       "      <td>-0.488723</td>\n",
       "      <td>...</td>\n",
       "      <td>-0.069236</td>\n",
       "      <td>0.208382</td>\n",
       "      <td>0.019828</td>\n",
       "      <td>0.413162</td>\n",
       "      <td>0.065986</td>\n",
       "      <td>0.334274</td>\n",
       "      <td>0.341294</td>\n",
       "      <td>0.069452</td>\n",
       "      <td>-0.118390</td>\n",
       "      <td>0.537937</td>\n",
       "    </tr>\n",
       "    <tr>\n",
       "      <th>12</th>\n",
       "      <td>0.186596</td>\n",
       "      <td>-0.067015</td>\n",
       "      <td>0.246331</td>\n",
       "      <td>0.018256</td>\n",
       "      <td>0.053443</td>\n",
       "      <td>0.091744</td>\n",
       "      <td>-0.038790</td>\n",
       "      <td>-0.039274</td>\n",
       "      <td>-0.235857</td>\n",
       "      <td>-0.276473</td>\n",
       "      <td>...</td>\n",
       "      <td>0.248856</td>\n",
       "      <td>0.136002</td>\n",
       "      <td>0.001937</td>\n",
       "      <td>0.131124</td>\n",
       "      <td>0.154355</td>\n",
       "      <td>0.266727</td>\n",
       "      <td>0.293040</td>\n",
       "      <td>-0.170457</td>\n",
       "      <td>0.010407</td>\n",
       "      <td>0.351705</td>\n",
       "    </tr>\n",
       "    <tr>\n",
       "      <th>13</th>\n",
       "      <td>0.169177</td>\n",
       "      <td>0.083607</td>\n",
       "      <td>0.280480</td>\n",
       "      <td>0.036082</td>\n",
       "      <td>-0.073978</td>\n",
       "      <td>0.088527</td>\n",
       "      <td>0.002985</td>\n",
       "      <td>-0.015185</td>\n",
       "      <td>-0.162121</td>\n",
       "      <td>-0.377745</td>\n",
       "      <td>...</td>\n",
       "      <td>0.212814</td>\n",
       "      <td>0.159757</td>\n",
       "      <td>0.102400</td>\n",
       "      <td>0.217491</td>\n",
       "      <td>0.118156</td>\n",
       "      <td>0.201218</td>\n",
       "      <td>0.407281</td>\n",
       "      <td>-0.038142</td>\n",
       "      <td>-0.057384</td>\n",
       "      <td>0.484031</td>\n",
       "    </tr>\n",
       "  </tbody>\n",
       "</table>\n",
       "<p>5 rows × 128 columns</p>\n",
       "</div>"
      ],
      "text/plain": [
       "           1         2         3         4         5         6         7  \\\n",
       "0   0.106909 -0.046381  0.227989  0.011383  0.049010  0.013847  0.011298   \n",
       "7   0.176486  0.125179  0.170178  0.010691 -0.109280  0.048260  0.103159   \n",
       "10  0.070882  0.197714  0.028229  0.098573 -0.222974 -0.022671 -0.054216   \n",
       "12  0.186596 -0.067015  0.246331  0.018256  0.053443  0.091744 -0.038790   \n",
       "13  0.169177  0.083607  0.280480  0.036082 -0.073978  0.088527  0.002985   \n",
       "\n",
       "           8         9        10  ...       119       120       121       122  \\\n",
       "0  -0.075828 -0.220346 -0.297584  ...  0.305304  0.071091  0.004234  0.159778   \n",
       "7  -0.049660 -0.293907 -0.443231  ...  0.141347  0.170352  0.099519  0.360286   \n",
       "10 -0.003531 -0.285085 -0.488723  ... -0.069236  0.208382  0.019828  0.413162   \n",
       "12 -0.039274 -0.235857 -0.276473  ...  0.248856  0.136002  0.001937  0.131124   \n",
       "13 -0.015185 -0.162121 -0.377745  ...  0.212814  0.159757  0.102400  0.217491   \n",
       "\n",
       "         123       124       125       126       127       128  \n",
       "0   0.208874  0.261583  0.304411 -0.178296 -0.006043  0.402940  \n",
       "7   0.144341  0.294506  0.422864 -0.047133 -0.079090  0.512646  \n",
       "10  0.065986  0.334274  0.341294  0.069452 -0.118390  0.537937  \n",
       "12  0.154355  0.266727  0.293040 -0.170457  0.010407  0.351705  \n",
       "13  0.118156  0.201218  0.407281 -0.038142 -0.057384  0.484031  \n",
       "\n",
       "[5 rows x 128 columns]"
      ]
     },
     "execution_count": 95,
     "metadata": {},
     "output_type": "execute_result"
    }
   ],
   "source": [
    "# 结构嵌入，这里的序号是0~N-1\n",
    "d_emb_job = pd.read_csv('./position_pu.csv',index_col=0,header=0,na_values=[])\n",
    "d_emb_per = pd.read_csv('./user_pu.csv',index_col=0,header=0,na_values=[])\n",
    "d_emb_per.index = [per_id(i) for i in range(868)]\n",
    "print(d_emb_job.shape, d_emb_per.shape)\n",
    "d_emb_per.head()"
   ]
  },
  {
   "cell_type": "code",
   "execution_count": 96,
   "metadata": {},
   "outputs": [
    {
     "data": {
      "text/plain": [
       "(404,)"
      ]
     },
     "execution_count": 96,
     "metadata": {},
     "output_type": "execute_result"
    }
   ],
   "source": [
    "def get_input(pid, rid):\n",
    "  # pid = per_id(pid) # 映射到无废物下标\n",
    "  p_a = a_emb_per.loc[pid].values  # per属性\n",
    "  p_d = d_emb_per.loc[pid].values  # per结构\n",
    "  j_a = a_emb_job.loc[rid].values  # job属性\n",
    "  j_d = d_emb_job.loc[rid].values  # job结构\n",
    "  all = np.concatenate([p_a,p_d,j_a,j_d],axis=0)\n",
    "  return all\n",
    "\n",
    "get_input(1,1).shape"
   ]
  },
  {
   "cell_type": "code",
   "execution_count": 112,
   "metadata": {},
   "outputs": [
    {
     "ename": "IndexError",
     "evalue": "single positional indexer is out-of-bounds",
     "output_type": "error",
     "traceback": [
      "\u001b[1;31m---------------------------------------------------------------------------\u001b[0m",
      "\u001b[1;31mIndexError\u001b[0m                                Traceback (most recent call last)",
      "Cell \u001b[1;32mIn[112], line 3\u001b[0m\n\u001b[0;32m      1\u001b[0m \u001b[39m# x=get_input(4335,0)\u001b[39;00m\n\u001b[0;32m      2\u001b[0m \u001b[39m# x.shape\u001b[39;00m\n\u001b[1;32m----> 3\u001b[0m per_id(\u001b[39m4335\u001b[39;49m)\n",
      "Cell \u001b[1;32mIn[88], line 3\u001b[0m, in \u001b[0;36mper_id\u001b[1;34m(x)\u001b[0m\n\u001b[0;32m      2\u001b[0m \u001b[39mdef\u001b[39;00m \u001b[39mper_id\u001b[39m(x):\n\u001b[1;32m----> 3\u001b[0m   \u001b[39mreturn\u001b[39;00m no_fw\u001b[39m.\u001b[39;49miloc[x,\u001b[39m0\u001b[39;49m]\n",
      "File \u001b[1;32md:\\Anaconda3\\envs\\pytorch\\lib\\site-packages\\pandas\\core\\indexing.py:889\u001b[0m, in \u001b[0;36m_LocationIndexer.__getitem__\u001b[1;34m(self, key)\u001b[0m\n\u001b[0;32m    886\u001b[0m         \u001b[39mwith\u001b[39;00m suppress(\u001b[39mKeyError\u001b[39;00m, \u001b[39mIndexError\u001b[39;00m, \u001b[39mAttributeError\u001b[39;00m):\n\u001b[0;32m    887\u001b[0m             \u001b[39m# AttributeError for IntervalTree get_value\u001b[39;00m\n\u001b[0;32m    888\u001b[0m             \u001b[39mreturn\u001b[39;00m \u001b[39mself\u001b[39m\u001b[39m.\u001b[39mobj\u001b[39m.\u001b[39m_get_value(\u001b[39m*\u001b[39mkey, takeable\u001b[39m=\u001b[39m\u001b[39mself\u001b[39m\u001b[39m.\u001b[39m_takeable)\n\u001b[1;32m--> 889\u001b[0m     \u001b[39mreturn\u001b[39;00m \u001b[39mself\u001b[39;49m\u001b[39m.\u001b[39;49m_getitem_tuple(key)\n\u001b[0;32m    890\u001b[0m \u001b[39melse\u001b[39;00m:\n\u001b[0;32m    891\u001b[0m     \u001b[39m# we by definition only have the 0th axis\u001b[39;00m\n\u001b[0;32m    892\u001b[0m     axis \u001b[39m=\u001b[39m \u001b[39mself\u001b[39m\u001b[39m.\u001b[39maxis \u001b[39mor\u001b[39;00m \u001b[39m0\u001b[39m\n",
      "File \u001b[1;32md:\\Anaconda3\\envs\\pytorch\\lib\\site-packages\\pandas\\core\\indexing.py:1450\u001b[0m, in \u001b[0;36m_iLocIndexer._getitem_tuple\u001b[1;34m(self, tup)\u001b[0m\n\u001b[0;32m   1448\u001b[0m \u001b[39mdef\u001b[39;00m \u001b[39m_getitem_tuple\u001b[39m(\u001b[39mself\u001b[39m, tup: Tuple):\n\u001b[1;32m-> 1450\u001b[0m     \u001b[39mself\u001b[39;49m\u001b[39m.\u001b[39;49m_has_valid_tuple(tup)\n\u001b[0;32m   1451\u001b[0m     \u001b[39mwith\u001b[39;00m suppress(IndexingError):\n\u001b[0;32m   1452\u001b[0m         \u001b[39mreturn\u001b[39;00m \u001b[39mself\u001b[39m\u001b[39m.\u001b[39m_getitem_lowerdim(tup)\n",
      "File \u001b[1;32md:\\Anaconda3\\envs\\pytorch\\lib\\site-packages\\pandas\\core\\indexing.py:723\u001b[0m, in \u001b[0;36m_LocationIndexer._has_valid_tuple\u001b[1;34m(self, key)\u001b[0m\n\u001b[0;32m    721\u001b[0m \u001b[39mfor\u001b[39;00m i, k \u001b[39min\u001b[39;00m \u001b[39menumerate\u001b[39m(key):\n\u001b[0;32m    722\u001b[0m     \u001b[39mtry\u001b[39;00m:\n\u001b[1;32m--> 723\u001b[0m         \u001b[39mself\u001b[39;49m\u001b[39m.\u001b[39;49m_validate_key(k, i)\n\u001b[0;32m    724\u001b[0m     \u001b[39mexcept\u001b[39;00m \u001b[39mValueError\u001b[39;00m \u001b[39mas\u001b[39;00m err:\n\u001b[0;32m    725\u001b[0m         \u001b[39mraise\u001b[39;00m \u001b[39mValueError\u001b[39;00m(\n\u001b[0;32m    726\u001b[0m             \u001b[39m\"\u001b[39m\u001b[39mLocation based indexing can only have \u001b[39m\u001b[39m\"\u001b[39m\n\u001b[0;32m    727\u001b[0m             \u001b[39mf\u001b[39m\u001b[39m\"\u001b[39m\u001b[39m[\u001b[39m\u001b[39m{\u001b[39;00m\u001b[39mself\u001b[39m\u001b[39m.\u001b[39m_valid_types\u001b[39m}\u001b[39;00m\u001b[39m] types\u001b[39m\u001b[39m\"\u001b[39m\n\u001b[0;32m    728\u001b[0m         ) \u001b[39mfrom\u001b[39;00m \u001b[39merr\u001b[39;00m\n",
      "File \u001b[1;32md:\\Anaconda3\\envs\\pytorch\\lib\\site-packages\\pandas\\core\\indexing.py:1358\u001b[0m, in \u001b[0;36m_iLocIndexer._validate_key\u001b[1;34m(self, key, axis)\u001b[0m\n\u001b[0;32m   1356\u001b[0m     \u001b[39mreturn\u001b[39;00m\n\u001b[0;32m   1357\u001b[0m \u001b[39melif\u001b[39;00m is_integer(key):\n\u001b[1;32m-> 1358\u001b[0m     \u001b[39mself\u001b[39;49m\u001b[39m.\u001b[39;49m_validate_integer(key, axis)\n\u001b[0;32m   1359\u001b[0m \u001b[39melif\u001b[39;00m \u001b[39misinstance\u001b[39m(key, \u001b[39mtuple\u001b[39m):\n\u001b[0;32m   1360\u001b[0m     \u001b[39m# a tuple should already have been caught by this point\u001b[39;00m\n\u001b[0;32m   1361\u001b[0m     \u001b[39m# so don't treat a tuple as a valid indexer\u001b[39;00m\n\u001b[0;32m   1362\u001b[0m     \u001b[39mraise\u001b[39;00m IndexingError(\u001b[39m\"\u001b[39m\u001b[39mToo many indexers\u001b[39m\u001b[39m\"\u001b[39m)\n",
      "File \u001b[1;32md:\\Anaconda3\\envs\\pytorch\\lib\\site-packages\\pandas\\core\\indexing.py:1444\u001b[0m, in \u001b[0;36m_iLocIndexer._validate_integer\u001b[1;34m(self, key, axis)\u001b[0m\n\u001b[0;32m   1442\u001b[0m len_axis \u001b[39m=\u001b[39m \u001b[39mlen\u001b[39m(\u001b[39mself\u001b[39m\u001b[39m.\u001b[39mobj\u001b[39m.\u001b[39m_get_axis(axis))\n\u001b[0;32m   1443\u001b[0m \u001b[39mif\u001b[39;00m key \u001b[39m>\u001b[39m\u001b[39m=\u001b[39m len_axis \u001b[39mor\u001b[39;00m key \u001b[39m<\u001b[39m \u001b[39m-\u001b[39mlen_axis:\n\u001b[1;32m-> 1444\u001b[0m     \u001b[39mraise\u001b[39;00m \u001b[39mIndexError\u001b[39;00m(\u001b[39m\"\u001b[39m\u001b[39msingle positional indexer is out-of-bounds\u001b[39m\u001b[39m\"\u001b[39m)\n",
      "\u001b[1;31mIndexError\u001b[0m: single positional indexer is out-of-bounds"
     ]
    }
   ],
   "source": [
    "# x=get_input(4335,0)\n",
    "# x.shape\n",
    "per_id(4335)"
   ]
  },
  {
   "cell_type": "code",
   "execution_count": 109,
   "metadata": {},
   "outputs": [
    {
     "data": {
      "text/plain": [
       "(404,)"
      ]
     },
     "execution_count": 109,
     "metadata": {},
     "output_type": "execute_result"
    }
   ],
   "source": [
    "features = []\n",
    "labels = []\n",
    "get_input(1,2).shape"
   ]
  },
  {
   "cell_type": "code",
   "execution_count": 100,
   "metadata": {},
   "outputs": [
    {
     "data": {
      "text/html": [
       "<div>\n",
       "<style scoped>\n",
       "    .dataframe tbody tr th:only-of-type {\n",
       "        vertical-align: middle;\n",
       "    }\n",
       "\n",
       "    .dataframe tbody tr th {\n",
       "        vertical-align: top;\n",
       "    }\n",
       "\n",
       "    .dataframe thead th {\n",
       "        text-align: right;\n",
       "    }\n",
       "</style>\n",
       "<table border=\"1\" class=\"dataframe\">\n",
       "  <thead>\n",
       "    <tr style=\"text-align: right;\">\n",
       "      <th></th>\n",
       "      <th>position</th>\n",
       "      <th>user</th>\n",
       "      <th>ppd</th>\n",
       "    </tr>\n",
       "  </thead>\n",
       "  <tbody>\n",
       "    <tr>\n",
       "      <th>0</th>\n",
       "      <td>0</td>\n",
       "      <td>94</td>\n",
       "      <td>6</td>\n",
       "    </tr>\n",
       "    <tr>\n",
       "      <th>1</th>\n",
       "      <td>0</td>\n",
       "      <td>165</td>\n",
       "      <td>6</td>\n",
       "    </tr>\n",
       "    <tr>\n",
       "      <th>2</th>\n",
       "      <td>0</td>\n",
       "      <td>168</td>\n",
       "      <td>6</td>\n",
       "    </tr>\n",
       "    <tr>\n",
       "      <th>3</th>\n",
       "      <td>1</td>\n",
       "      <td>94</td>\n",
       "      <td>6</td>\n",
       "    </tr>\n",
       "    <tr>\n",
       "      <th>4</th>\n",
       "      <td>1</td>\n",
       "      <td>165</td>\n",
       "      <td>6</td>\n",
       "    </tr>\n",
       "  </tbody>\n",
       "</table>\n",
       "</div>"
      ],
      "text/plain": [
       "   position  user  ppd\n",
       "0         0    94    6\n",
       "1         0   165    6\n",
       "2         0   168    6\n",
       "3         1    94    6\n",
       "4         1   165    6"
      ]
     },
     "execution_count": 100,
     "metadata": {},
     "output_type": "execute_result"
    }
   ],
   "source": [
    "df_ppd.head()"
   ]
  },
  {
   "cell_type": "code",
   "execution_count": 110,
   "metadata": {},
   "outputs": [
    {
     "name": "stderr",
     "output_type": "stream",
     "text": [
      "  0%|          | 90/526221 [00:00<05:34, 1574.78it/s]"
     ]
    },
    {
     "name": "stdout",
     "output_type": "stream",
     "text": [
      "94 0 6\n",
      "165 0 6\n",
      "168 0 6\n",
      "94 1 6\n",
      "165 1 6\n",
      "168 1 6\n",
      "94 2 6\n",
      "165 2 6\n",
      "168 2 6\n",
      "94 9 6\n",
      "165 9 6\n",
      "168 9 6\n",
      "94 26 6\n",
      "165 26 6\n",
      "168 26 6\n",
      "94 62 6\n",
      "165 62 6\n",
      "168 62 6\n",
      "94 69 6\n",
      "165 69 6\n",
      "168 69 6\n",
      "94 104 6\n",
      "165 104 6\n",
      "168 104 6\n",
      "94 107 6\n",
      "165 107 6\n",
      "168 107 6\n",
      "94 108 6\n",
      "165 108 6\n",
      "168 108 6\n",
      "94 110 6\n",
      "165 110 6\n",
      "168 110 6\n",
      "94 140 6\n",
      "165 140 6\n",
      "168 140 6\n",
      "94 201 6\n",
      "165 201 6\n",
      "168 201 6\n",
      "94 219 6\n",
      "165 219 6\n",
      "168 219 6\n",
      "94 228 6\n",
      "165 228 6\n",
      "168 228 6\n",
      "94 346 6\n",
      "165 346 6\n",
      "168 346 6\n",
      "94 1507 6\n",
      "165 1507 6\n",
      "168 1507 6\n",
      "94 1508 6\n",
      "165 1508 6\n",
      "168 1508 6\n",
      "94 1529 6\n",
      "165 1529 6\n",
      "168 1529 6\n",
      "94 1574 6\n",
      "165 1574 6\n",
      "168 1574 6\n",
      "49 0 8\n",
      "49 1 8\n",
      "49 2 8\n",
      "49 9 8\n",
      "49 26 8\n",
      "49 62 8\n",
      "49 69 8\n",
      "49 104 8\n",
      "49 107 8\n",
      "49 108 8\n",
      "49 110 8\n",
      "49 140 8\n",
      "49 201 8\n",
      "49 219 8\n",
      "49 228 8\n",
      "49 346 8\n",
      "49 1507 8\n",
      "49 1508 8\n",
      "49 1529 8\n",
      "49 1574 8\n",
      "20 0 5\n",
      "24 0 5\n",
      "25 0 5\n",
      "26 0 5\n",
      "28 0 5\n",
      "44 0 5\n",
      "93 0 5\n",
      "102 0 5\n",
      "339 0 5\n",
      "552 0 5\n",
      "4335 0 5\n"
     ]
    },
    {
     "name": "stderr",
     "output_type": "stream",
     "text": [
      "\n"
     ]
    },
    {
     "ename": "IndexError",
     "evalue": "single positional indexer is out-of-bounds",
     "output_type": "error",
     "traceback": [
      "\u001b[1;31m---------------------------------------------------------------------------\u001b[0m",
      "\u001b[1;31mIndexError\u001b[0m                                Traceback (most recent call last)",
      "Cell \u001b[1;32mIn[110], line 4\u001b[0m\n\u001b[0;32m      2\u001b[0m row \u001b[39m=\u001b[39m df_ppd\u001b[39m.\u001b[39mloc[i,]\n\u001b[0;32m      3\u001b[0m \u001b[39mprint\u001b[39m(row[\u001b[39m'\u001b[39m\u001b[39muser\u001b[39m\u001b[39m'\u001b[39m], row[\u001b[39m'\u001b[39m\u001b[39mposition\u001b[39m\u001b[39m'\u001b[39m], row[\u001b[39m'\u001b[39m\u001b[39mppd\u001b[39m\u001b[39m'\u001b[39m])\n\u001b[1;32m----> 4\u001b[0m feature \u001b[39m=\u001b[39m get_input(row[\u001b[39m'\u001b[39;49m\u001b[39muser\u001b[39;49m\u001b[39m'\u001b[39;49m],row[\u001b[39m'\u001b[39;49m\u001b[39mposition\u001b[39;49m\u001b[39m'\u001b[39;49m])\n\u001b[0;32m      5\u001b[0m label \u001b[39m=\u001b[39m row[\u001b[39m'\u001b[39m\u001b[39mppd\u001b[39m\u001b[39m'\u001b[39m]\n\u001b[0;32m      6\u001b[0m features\u001b[39m.\u001b[39mappend(feature)\n",
      "Cell \u001b[1;32mIn[96], line 2\u001b[0m, in \u001b[0;36mget_input\u001b[1;34m(pid, rid)\u001b[0m\n\u001b[0;32m      1\u001b[0m \u001b[39mdef\u001b[39;00m \u001b[39mget_input\u001b[39m(pid, rid):\n\u001b[1;32m----> 2\u001b[0m   pid \u001b[39m=\u001b[39m per_id(pid)\n\u001b[0;32m      3\u001b[0m   p_a \u001b[39m=\u001b[39m a_emb_per\u001b[39m.\u001b[39mloc[pid]\u001b[39m.\u001b[39mvalues  \u001b[39m# per属性\u001b[39;00m\n\u001b[0;32m      4\u001b[0m   p_d \u001b[39m=\u001b[39m d_emb_per\u001b[39m.\u001b[39mloc[pid]\u001b[39m.\u001b[39mvalues  \u001b[39m# per结构\u001b[39;00m\n",
      "Cell \u001b[1;32mIn[88], line 3\u001b[0m, in \u001b[0;36mper_id\u001b[1;34m(x)\u001b[0m\n\u001b[0;32m      2\u001b[0m \u001b[39mdef\u001b[39;00m \u001b[39mper_id\u001b[39m(x):\n\u001b[1;32m----> 3\u001b[0m   \u001b[39mreturn\u001b[39;00m no_fw\u001b[39m.\u001b[39;49miloc[x,\u001b[39m0\u001b[39;49m]\n",
      "File \u001b[1;32md:\\Anaconda3\\envs\\pytorch\\lib\\site-packages\\pandas\\core\\indexing.py:889\u001b[0m, in \u001b[0;36m_LocationIndexer.__getitem__\u001b[1;34m(self, key)\u001b[0m\n\u001b[0;32m    886\u001b[0m         \u001b[39mwith\u001b[39;00m suppress(\u001b[39mKeyError\u001b[39;00m, \u001b[39mIndexError\u001b[39;00m, \u001b[39mAttributeError\u001b[39;00m):\n\u001b[0;32m    887\u001b[0m             \u001b[39m# AttributeError for IntervalTree get_value\u001b[39;00m\n\u001b[0;32m    888\u001b[0m             \u001b[39mreturn\u001b[39;00m \u001b[39mself\u001b[39m\u001b[39m.\u001b[39mobj\u001b[39m.\u001b[39m_get_value(\u001b[39m*\u001b[39mkey, takeable\u001b[39m=\u001b[39m\u001b[39mself\u001b[39m\u001b[39m.\u001b[39m_takeable)\n\u001b[1;32m--> 889\u001b[0m     \u001b[39mreturn\u001b[39;00m \u001b[39mself\u001b[39;49m\u001b[39m.\u001b[39;49m_getitem_tuple(key)\n\u001b[0;32m    890\u001b[0m \u001b[39melse\u001b[39;00m:\n\u001b[0;32m    891\u001b[0m     \u001b[39m# we by definition only have the 0th axis\u001b[39;00m\n\u001b[0;32m    892\u001b[0m     axis \u001b[39m=\u001b[39m \u001b[39mself\u001b[39m\u001b[39m.\u001b[39maxis \u001b[39mor\u001b[39;00m \u001b[39m0\u001b[39m\n",
      "File \u001b[1;32md:\\Anaconda3\\envs\\pytorch\\lib\\site-packages\\pandas\\core\\indexing.py:1450\u001b[0m, in \u001b[0;36m_iLocIndexer._getitem_tuple\u001b[1;34m(self, tup)\u001b[0m\n\u001b[0;32m   1448\u001b[0m \u001b[39mdef\u001b[39;00m \u001b[39m_getitem_tuple\u001b[39m(\u001b[39mself\u001b[39m, tup: Tuple):\n\u001b[1;32m-> 1450\u001b[0m     \u001b[39mself\u001b[39;49m\u001b[39m.\u001b[39;49m_has_valid_tuple(tup)\n\u001b[0;32m   1451\u001b[0m     \u001b[39mwith\u001b[39;00m suppress(IndexingError):\n\u001b[0;32m   1452\u001b[0m         \u001b[39mreturn\u001b[39;00m \u001b[39mself\u001b[39m\u001b[39m.\u001b[39m_getitem_lowerdim(tup)\n",
      "File \u001b[1;32md:\\Anaconda3\\envs\\pytorch\\lib\\site-packages\\pandas\\core\\indexing.py:723\u001b[0m, in \u001b[0;36m_LocationIndexer._has_valid_tuple\u001b[1;34m(self, key)\u001b[0m\n\u001b[0;32m    721\u001b[0m \u001b[39mfor\u001b[39;00m i, k \u001b[39min\u001b[39;00m \u001b[39menumerate\u001b[39m(key):\n\u001b[0;32m    722\u001b[0m     \u001b[39mtry\u001b[39;00m:\n\u001b[1;32m--> 723\u001b[0m         \u001b[39mself\u001b[39;49m\u001b[39m.\u001b[39;49m_validate_key(k, i)\n\u001b[0;32m    724\u001b[0m     \u001b[39mexcept\u001b[39;00m \u001b[39mValueError\u001b[39;00m \u001b[39mas\u001b[39;00m err:\n\u001b[0;32m    725\u001b[0m         \u001b[39mraise\u001b[39;00m \u001b[39mValueError\u001b[39;00m(\n\u001b[0;32m    726\u001b[0m             \u001b[39m\"\u001b[39m\u001b[39mLocation based indexing can only have \u001b[39m\u001b[39m\"\u001b[39m\n\u001b[0;32m    727\u001b[0m             \u001b[39mf\u001b[39m\u001b[39m\"\u001b[39m\u001b[39m[\u001b[39m\u001b[39m{\u001b[39;00m\u001b[39mself\u001b[39m\u001b[39m.\u001b[39m_valid_types\u001b[39m}\u001b[39;00m\u001b[39m] types\u001b[39m\u001b[39m\"\u001b[39m\n\u001b[0;32m    728\u001b[0m         ) \u001b[39mfrom\u001b[39;00m \u001b[39merr\u001b[39;00m\n",
      "File \u001b[1;32md:\\Anaconda3\\envs\\pytorch\\lib\\site-packages\\pandas\\core\\indexing.py:1358\u001b[0m, in \u001b[0;36m_iLocIndexer._validate_key\u001b[1;34m(self, key, axis)\u001b[0m\n\u001b[0;32m   1356\u001b[0m     \u001b[39mreturn\u001b[39;00m\n\u001b[0;32m   1357\u001b[0m \u001b[39melif\u001b[39;00m is_integer(key):\n\u001b[1;32m-> 1358\u001b[0m     \u001b[39mself\u001b[39;49m\u001b[39m.\u001b[39;49m_validate_integer(key, axis)\n\u001b[0;32m   1359\u001b[0m \u001b[39melif\u001b[39;00m \u001b[39misinstance\u001b[39m(key, \u001b[39mtuple\u001b[39m):\n\u001b[0;32m   1360\u001b[0m     \u001b[39m# a tuple should already have been caught by this point\u001b[39;00m\n\u001b[0;32m   1361\u001b[0m     \u001b[39m# so don't treat a tuple as a valid indexer\u001b[39;00m\n\u001b[0;32m   1362\u001b[0m     \u001b[39mraise\u001b[39;00m IndexingError(\u001b[39m\"\u001b[39m\u001b[39mToo many indexers\u001b[39m\u001b[39m\"\u001b[39m)\n",
      "File \u001b[1;32md:\\Anaconda3\\envs\\pytorch\\lib\\site-packages\\pandas\\core\\indexing.py:1444\u001b[0m, in \u001b[0;36m_iLocIndexer._validate_integer\u001b[1;34m(self, key, axis)\u001b[0m\n\u001b[0;32m   1442\u001b[0m len_axis \u001b[39m=\u001b[39m \u001b[39mlen\u001b[39m(\u001b[39mself\u001b[39m\u001b[39m.\u001b[39mobj\u001b[39m.\u001b[39m_get_axis(axis))\n\u001b[0;32m   1443\u001b[0m \u001b[39mif\u001b[39;00m key \u001b[39m>\u001b[39m\u001b[39m=\u001b[39m len_axis \u001b[39mor\u001b[39;00m key \u001b[39m<\u001b[39m \u001b[39m-\u001b[39mlen_axis:\n\u001b[1;32m-> 1444\u001b[0m     \u001b[39mraise\u001b[39;00m \u001b[39mIndexError\u001b[39;00m(\u001b[39m\"\u001b[39m\u001b[39msingle positional indexer is out-of-bounds\u001b[39m\u001b[39m\"\u001b[39m)\n",
      "\u001b[1;31mIndexError\u001b[0m: single positional indexer is out-of-bounds"
     ]
    }
   ],
   "source": [
    "for i in tqdm(df_ppd.index):\n",
    "  row = df_ppd.loc[i,]\n",
    "  print(row['user'], row['position'], row['ppd'])\n",
    "  feature = get_input(row['user'],row['position'])\n",
    "  label = row['ppd']\n",
    "  features.append(feature)\n",
    "  labels.append(label)\n",
    "  "
   ]
  },
  {
   "cell_type": "code",
   "execution_count": 108,
   "metadata": {},
   "outputs": [
    {
     "data": {
      "text/plain": [
       "[6, 6, 6, 6, 6]"
      ]
     },
     "execution_count": 108,
     "metadata": {},
     "output_type": "execute_result"
    }
   ],
   "source": []
  },
  {
   "cell_type": "code",
   "execution_count": 12,
   "metadata": {},
   "outputs": [
    {
     "data": {
      "text/plain": [
       "torch.Size([35291, 283])"
      ]
     },
     "execution_count": 12,
     "metadata": {},
     "output_type": "execute_result"
    }
   ],
   "source": [
    "features = np.array(features)\n",
    "labels = np.array(labels)\n",
    "features = torch.Tensor(features)\n",
    "labels = torch.Tensor(labels)\n",
    "features.shape"
   ]
  },
  {
   "cell_type": "code",
   "execution_count": 13,
   "metadata": {},
   "outputs": [],
   "source": [
    "class DS:\n",
    "  def __init__(self,data_arrays):\n",
    "    self.data = data_arrays\n",
    "\n",
    "  def __getitem__(self,index):\n",
    "    return self.data[0][index],self.data[1][index]\n",
    "  \n",
    "  def __len__(self):\n",
    "    return self.data[0].size()[0]\n",
    "\n",
    "def load_array(data_arrays, batch_size, is_train=True):\n",
    "  # Array to Iter\n",
    "  dataset = data.TensorDataset(*data_arrays)\n",
    "  # dataset = DS(data_arrays)\n",
    "  return data.DataLoader(dataset, batch_size, shuffle=is_train)\n",
    "    "
   ]
  },
  {
   "cell_type": "code",
   "execution_count": 110,
   "metadata": {},
   "outputs": [],
   "source": [
    "batch_size = 50\n",
    "train_size = 30000\n",
    "test_size = 1000\n",
    "\n",
    "train_iter = load_array((features[:train_size],labels[:train_size]), batch_size)\n",
    "test_iter = load_array((features[train_size:train_size+test_size],labels[train_size:train_size+test_size]), batch_size, False)"
   ]
  },
  {
   "cell_type": "code",
   "execution_count": 70,
   "metadata": {},
   "outputs": [
    {
     "data": {
      "text/plain": [
       "torch.Size([35291, 283])"
      ]
     },
     "execution_count": 70,
     "metadata": {},
     "output_type": "execute_result"
    }
   ],
   "source": [
    "features.shape"
   ]
  },
  {
   "cell_type": "code",
   "execution_count": 71,
   "metadata": {},
   "outputs": [],
   "source": [
    "net = nn.Sequential(nn.Linear(283,200),\n",
    "                    nn.ReLU(),\n",
    "                    nn.Linear(200,100),\n",
    "                    nn.ReLU(),\n",
    "                    nn.Linear(100,2)\n",
    "                    )"
   ]
  },
  {
   "cell_type": "code",
   "execution_count": 72,
   "metadata": {},
   "outputs": [
    {
     "data": {
      "text/plain": [
       "Sequential(\n",
       "  (0): Linear(in_features=283, out_features=200, bias=True)\n",
       "  (1): ReLU()\n",
       "  (2): Linear(in_features=200, out_features=100, bias=True)\n",
       "  (3): ReLU()\n",
       "  (4): Linear(in_features=100, out_features=2, bias=True)\n",
       ")"
      ]
     },
     "execution_count": 72,
     "metadata": {},
     "output_type": "execute_result"
    }
   ],
   "source": [
    "def init_weights(m):\n",
    "    if type(m) == nn.Linear:\n",
    "        nn.init.normal_(m.weight, std=0.01)\n",
    "\n",
    "net.apply(init_weights)"
   ]
  },
  {
   "cell_type": "code",
   "execution_count": 111,
   "metadata": {},
   "outputs": [],
   "source": [
    "loss = nn.MSELoss()\n",
    "# loss = nn.CrossEntropyLoss(reduction='none')\n",
    "trainer = torch.optim.SGD(net.parameters(), lr=0.01)"
   ]
  },
  {
   "cell_type": "code",
   "execution_count": null,
   "metadata": {},
   "outputs": [],
   "source": [
    "num_epochs = 100\n",
    "d2l.train_ch3(net, train_iter, test_iter, loss, num_epochs, trainer)"
   ]
  },
  {
   "cell_type": "code",
   "execution_count": 128,
   "metadata": {},
   "outputs": [
    {
     "name": "stderr",
     "output_type": "stream",
     "text": [
      "epoch 10, loss 0.013473: 100%|██████████| 10/10 [00:36<00:00,  3.69s/it]\n"
     ]
    }
   ],
   "source": [
    "num_epochs = 10\n",
    "looper = tqdm(range(num_epochs))\n",
    "for epoch in looper:\n",
    "    for X, y in train_iter:\n",
    "        # print(X.shape, y.shape)\n",
    "        l = loss(net(X) ,y)\n",
    "        trainer.zero_grad()\n",
    "        l.backward()\n",
    "        trainer.step()\n",
    "    l = loss(net(features[train_size:train_size+test_size]), labels[train_size:train_size+test_size])\n",
    "    # print(f'epoch {epoch + 1}, loss {l:f}')\n",
    "    looper.set_description(f'epoch {epoch + 1}, loss {l:f}')"
   ]
  },
  {
   "cell_type": "code",
   "execution_count": 165,
   "metadata": {},
   "outputs": [
    {
     "name": "stdout",
     "output_type": "stream",
     "text": [
      "tensor([0.9993, 0.6959], grad_fn=<AddBackward0>)\n",
      "tensor([1.0001, 0.6275], grad_fn=<AddBackward0>)\n"
     ]
    }
   ],
   "source": [
    "print(net(torch.Tensor(get_input(51121,2044))))\n",
    "print(net(torch.Tensor(get_input(54525,1075))))\n",
    "# net.state_dict()"
   ]
  },
  {
   "cell_type": "code",
   "execution_count": 122,
   "metadata": {},
   "outputs": [],
   "source": [
    "torch.save(net,'MLP.pt')"
   ]
  }
 ],
 "metadata": {
  "kernelspec": {
   "display_name": "pytorch",
   "language": "python",
   "name": "python3"
  },
  "language_info": {
   "codemirror_mode": {
    "name": "ipython",
    "version": 3
   },
   "file_extension": ".py",
   "mimetype": "text/x-python",
   "name": "python",
   "nbconvert_exporter": "python",
   "pygments_lexer": "ipython3",
   "version": "3.9.16"
  },
  "orig_nbformat": 4
 },
 "nbformat": 4,
 "nbformat_minor": 2
}
