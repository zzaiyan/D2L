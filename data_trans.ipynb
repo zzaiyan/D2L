{
 "cells": [
  {
   "cell_type": "code",
   "execution_count": 1,
   "metadata": {},
   "outputs": [],
   "source": [
    "import pandas as pd\n",
    "import numpy as np\n",
    "from tqdm import tqdm\n",
    "import torch\n",
    "from torch import nn\n",
    "from torch.utils import data\n",
    "from d2l import torch as d2l"
   ]
  },
  {
   "attachments": {},
   "cell_type": "markdown",
   "metadata": {},
   "source": [
    "关于下标\n",
    "1. 0~N-1：琪琪的属性嵌入、匹配度、满意度\n",
    "2. 1~N：whc做的那两个dict文件\n",
    "3. 真实ID：导出文件格式（题目要求）"
   ]
  },
  {
   "cell_type": "code",
   "execution_count": 2,
   "metadata": {},
   "outputs": [],
   "source": [
    "# ID映射表\n",
    "# df_per = pd.read_csv('./user_dict',sep='\\t')\n",
    "# df_rec = pd.read_csv('./jd_dict',sep='\\t')"
   ]
  },
  {
   "cell_type": "code",
   "execution_count": 2,
   "metadata": {},
   "outputs": [
    {
     "data": {
      "text/plain": [
       "(   position  user  rating\n",
       " 0         0    94       6\n",
       " 1         0   165       6\n",
       " 2         0   168       6\n",
       " 3         1    94       6\n",
       " 4         1   165       6,\n",
       "    user  position  myd\n",
       " 0   425       295    8\n",
       " 1   425      1504    8\n",
       " 2   425      1515    8\n",
       " 3   425      1542    8\n",
       " 4   425      1543    8)"
      ]
     },
     "execution_count": 2,
     "metadata": {},
     "output_type": "execute_result"
    }
   ],
   "source": [
    "# 匹配度、满意度，这里的序号是0~N-1\n",
    "df_ppd = pd.read_csv('./p-u-rating.txt',sep=' ')\n",
    "df_myd = pd.read_csv('./u-p-rating.txt',sep=' ')\n",
    "df_ppd.head(), df_myd.head()"
   ]
  },
  {
   "cell_type": "code",
   "execution_count": 3,
   "metadata": {},
   "outputs": [
    {
     "data": {
      "text/html": [
       "<div>\n",
       "<style scoped>\n",
       "    .dataframe tbody tr th:only-of-type {\n",
       "        vertical-align: middle;\n",
       "    }\n",
       "\n",
       "    .dataframe tbody tr th {\n",
       "        vertical-align: top;\n",
       "    }\n",
       "\n",
       "    .dataframe thead th {\n",
       "        text-align: right;\n",
       "    }\n",
       "</style>\n",
       "<table border=\"1\" class=\"dataframe\">\n",
       "  <thead>\n",
       "    <tr style=\"text-align: right;\">\n",
       "      <th></th>\n",
       "      <th>是否为废人</th>\n",
       "    </tr>\n",
       "    <tr>\n",
       "      <th>下标</th>\n",
       "      <th></th>\n",
       "    </tr>\n",
       "  </thead>\n",
       "  <tbody>\n",
       "    <tr>\n",
       "      <th>0</th>\n",
       "      <td>0</td>\n",
       "    </tr>\n",
       "    <tr>\n",
       "      <th>1</th>\n",
       "      <td>1</td>\n",
       "    </tr>\n",
       "    <tr>\n",
       "      <th>2</th>\n",
       "      <td>1</td>\n",
       "    </tr>\n",
       "    <tr>\n",
       "      <th>3</th>\n",
       "      <td>1</td>\n",
       "    </tr>\n",
       "    <tr>\n",
       "      <th>4</th>\n",
       "      <td>1</td>\n",
       "    </tr>\n",
       "  </tbody>\n",
       "</table>\n",
       "</div>"
      ],
      "text/plain": [
       "    是否为废人\n",
       "下标       \n",
       "0       0\n",
       "1       1\n",
       "2       1\n",
       "3       1\n",
       "4       1"
      ]
     },
     "execution_count": 3,
     "metadata": {},
     "output_type": "execute_result"
    }
   ],
   "source": [
    "def is_fw(pid):\n",
    "  # return not pid in idx\n",
    "  # print(f'is_fw({pid})')\n",
    "  val = fw_list.loc[pid,'是否为废人']\n",
    "  return val==1\n",
    "\n",
    "fw_list = pd.read_csv('./fw.txt',sep=' ',index_col=0)\n",
    "fw_list.head()"
   ]
  },
  {
   "cell_type": "code",
   "execution_count": 4,
   "metadata": {},
   "outputs": [],
   "source": [
    "alive = []\n",
    "for i in range(10877):\n",
    "  if is_fw(i):\n",
    "    pass\n",
    "  else:\n",
    "    alive.append(i)"
   ]
  },
  {
   "cell_type": "code",
   "execution_count": 5,
   "metadata": {},
   "outputs": [
    {
     "name": "stdout",
     "output_type": "stream",
     "text": [
      "False True True True True True True False True True False True False False False False True True True True False True False False False False False False False False False False False True True False False False False False False False False False False False False False False False True True False True False False True False True False False True True False False False False True False False False False False True False False False False True False False False False False False False False True False False False False False False False True False False True True False False False False False False False False False False False True False False False True False False False False False False True False False True False False False False False False False False False True True True False False False False False False False False False False True False False False False False False False False False False False False False False False False False False False False True False True False False True True True False False True False False False False False False False False False False False False True False False False False True False False False False False False False False True False False False False False False True True True True True True True True True True True True True False False True True True True True True True True True False True True True True True True True True True True True True True True True True True True False True True True True True True True True True True True True True True True True True True True True True True True False True True True True True True True True True True True True True True True True True True True True True True True True True True True False True True False True True True False True True True True True True True True True False True True True True True True True True True True True True True False True True True True True True True True True True False True True True True True True True True True True True True False True True True True True True True False True True True True True True True True True True True True True True True True True True False True True True True True True True True True True True True True True True True True True True True True True True True True True True True True True True True True True False True True True True True True True True True True True True True True True True True True True True True True True True True True True True True True True True True True True True True True True True True True True True True True True True True True True True True True True True True True True True True True True True True True True True True True True True True False True True True True True True True True True True True True True True True True True True True True True True True True True True True False True True True True True True True True True True True True True True True True True True True True False True True True False True True True True True True True True True True True True True True True True True True True True True True True True True True True True True True True False True True True True True True False True True True True True True True True True False True True True True True True True True True True True True False True True False True True True True True True True False True True True True True True True True True True True True True True True True True True True True True True True True True True False True True True True True True False True True True True True True True False True True True True True True True True True True True True True True True True True True True True True True True True True True True True True True True True True True True True True True True False True True True True True True True False True True True True False True True True True True True True True True True False True True True True True True True True True True True True True True True True True True True True True True True True True True True True False True True True True True True True True True True True True True True True True True True True True True True True True False True True True True True True True True True True True True True True True True True True True True True True True True False True False True True True True True True True True True True True True True True True True True True True True True True True True True True True True True True True True True True True True True True True True True True False True True False True True True True True True True True True True False True True True True True True True True True True True False True False True True True True True False True True True True True True True True True True True True True True True True True True True True True True True True True True False True True False True True True True True True True True True True True False True True True True True True True True True True True True False True True True True True True True True True True True True True True True True True True True True True True True True True True True True True True True True True True True True True True True True True True True True True True True True True True True True True True True True True True False True True True True True True True True True True True False True True True False True True False True True True True True True True True True True True True True True True True True True True True True True True True True True True True True True True True True True True True True True True True True True True True True True True True True True True True True True True True True True True True True True True True True True True True True True True True True True True True True True True True True True True True True True True True False True True True True True True True True True False True True True True True True True True True True True True True True True True True True True True True True True True True True False False True True True True True True True False True True True True True True True True True True False True True True True True True True True True True True True True True True True True True True True True True True True True True True True True True True True True True True True True True True True True True True True True True True True False True True True True True True True True True True True True True True True True True False True True True True True True True True True True True True True True True True True True True True True True True True True True True False True True True True True True True True True True True True True True True True True True True True True True True True False True True True True True True True True True True True True True True True True True True True True True True True True True True False True True True True True True True True True True True True True True True True True True True True True True True True True True True True True True True True True True True True True True True True True True True True True True True True True True True True True True True True True True True True True True True True True True True True True True False True True True True True True True True True True True True True True True True True True True True True True True True True True True True True False True True True True True True True True True True True True True True True True True True True True True True True True True True True True True True True True True True True True True True True True True True True True True True True True True True True False True True True False True True True True True True True True True True True True True True True True True True True True True True True True True True True True True False True True True True True True True True True True True True True False True True True True True True True True True True True True True True True True True True True True True True True True True True True True True True True True True True True True False True False True True False True True True True False True True True True True True True True True True True True True True True True True True True True False True True True True True True True True True True True True True True True True True True True True True True True True True True True True True True False True True True True True True True True True True True True True True True True True True True True True True True True False True True True True True True True True True False True True True True True True True True True True True True True True True False True True True True False True True True False True True True True True True True True True True True True True True True True True True True True True True True True True True True True True True True True True True True True True True True True True True True True True True True True True True False True True True True True True True True True True True True True True True True True True True True True True True True True True True True True True False True True False True True True True True True True True True True True True False True True True True True True True True True True True True True True True True True True True True True True True True True True True True True True True True True True False True True True True True True True True True True True True True True True True True True True True True True True True False True True True True True True True True True False True True True True True True True True True True True True True True True True True True True True True True True True True True True True True True True True True True True True True True True True True True True True True True True True True True True True True True True True True True True True True True True True True True True False False True True True True True True True True True True True True True True True True True True True True True True True True True True True False True True True True True True True True True True True True True True True True True True True True True True True True True True True True True True True True False True True True True True True True True True True True True True True True True True True True True True True True True True True True True True True True True True True True True True True True True True True True True True True True True True True True True True True True False True True True True True True True True True True True True True True False True False True True True True True True True True True True True True True True True True True False True True True True True True True True True True True True True True True True True True True True True True True True True True True True True True True False True True True True False False True True True True True True True False True True True True True True False True True True True True True True True True True True True True True True True True True True True True True True True True True True True True True True True True True True True True True True True True True True True True True True True True True True True True True True True True True True True True True True True True True True True True True True True True True True True True True True True True True True True True True True True True True True True False True True True True True True True True True True True True True True True True True True False True True True True True True True True True True True True True True True True True True True True True True True True True True True True True True True True True True True True True True True True True True True True False True True True True True True False True True True True True True True True True True True True True True True True True True True True True True True True True True True True True True True True True True True False True True True True True True True True True True True True True True True True True True True True True False True True True True True True True True True True True True True True True True True True True True True True True True True True True True True True True True True True True True True True False True True False True True True True True True True True True True True True True True True True True True True True True True True True True True True True True True True True True True True True True True True True True True True True True True True True True True True True True True True True True False True True True True True True True True True True False True True True True True True True True False True True False True True True True True True True True True True True True True True True True True True True True True True True True True True True True True True True True True True True True True True True True True True True True True True True True True True True True True True True True True True True True True True True True True True False True True True True True True True True True True True True True True True True True True True True True True True True True True True True True True True True True True True True True True True True True True True True True True True True True True True True True True True True True True True True True True True True True True True True True True True False True True True True True True True True True True True True True True True True True True True True True True True True True True True True True True True True True True True True True True True True True True True True True True True True True True True True True True True False True True True True True True True True True True True True True True True True True True True True True True True True True True True True True True True True True True True True True True True True True True True False True True True True True True True True True True True True True True True True True True True True True True True True True True True True True True True True True True True True True True True True True False True True True True True True True True True True True True True True True True True True True True True True True True True True True True True True True True True True True True True True True True True True True True True True True True True True True True True True True True True True True True True True True True True True True True True True True True True True True True True True True True True True True True True True True True True True True True True True True True True True True True True True True True True True True True False True True True True True True True True True True True True True True False False False False True True True True True True True True True True True True True True True True True True True True True True True True True True True True True True True True True True True True True True True True True True True True True True True True True True True True True True True True True True True True True True True True True True True True True True True False True True True True True True True True True True True True True True True True True True True True True True True True True True True True True True True True True True True True True True True True True True True True True True True True True True True True True True True True True True True True True True True False True True True True True True True True True True True True True True True True True True True True True True True True True True True True True True True True True True True True True True True True True True True True True True True True True True True True True True True True True True False True True True False True True True True True True True True True True True True True True True True True True True True True True True False True True True True True True True True True True True True True True False True True True True True True True True True True True True True True True True True True True True True True True True True True True True True True True True True True True True True True True True False True True True True True True True True True True True True True True True True True False True True True True True True True True True True True True True True True True True True True True True True True True True True True True True True True True True True False True True True True True True True True True True True True True True True True True True True True True True True True True True True True True True True True True True False True True True True True True True True True True False True True True True True True False True True True True True True True True True True True True True True True True True True True True True True True True True True True True True True True True True True False True True True True True True False True True True True True True True True True True True True True True True True True True True True True True True True True True True True True True True True True True True True True True True True True True True True True False True True True True True True True True True True True True True True True True True True True True True True True True True True True True True True True True True True True True True True True True True True True False True True True True True True True True True True True True True True True True False True True True True True True True True True True True True True True True True True True True True True True True True True True True True True True True True True True True True True True True True True True True True True True True True True True True True True True True True True True True True True True True True True True True True True True True True True True False True False True True True True True True True True True True True True True True True True True True True True True True True False True True True True True True True True True True False True False True True True True True True True True True True True True True True True True True True True True True True True True True True True True True False True True True True True True True True True True True True True True True True True True True True True True True True True True False True True True True True True True True True True True True True True True True True True True True True False True True False True True True True True True True True True True True True True True True True True True True True True True True True True True True True True True True True True True True True True True True True True True True True True True True True True True True True True True True True True True True True True True True False True True True True True True True True False True True True True True True True True True True True True True True True True True True False True True True True False True True True True True True True True True True True True True True True True True True True True True False True True False True True True True True True True True True True True True True True True True True True True True True True True True True True True True True True True True True True True True True True True True True True True True True True True True True True True True True True True True True True True True False True True True True True True True True True True True True True True True True True True True True True True True True True True True True True True True True True True True True True True True False True True True True True True True True True True True False True True True True True True True True True True True True True True True True True True True True True True True True True True True True True True True True True True True True False True True True True True True True True False True True True True True True True True True False True True True True True True True True True True True True False True True True True True True True True True True True True True True True True True True True True True True True True True True True True True True True False True True True True True True True True True True True True True True True True True True True True True True True True True True True True True True True True True True True True True True True True True True True True True True True True True True True True True True True True True True True True True True False True True True True True True True True True True True True True True True True True True True True False False False False False False False False False False False False False False False False False False False False False False False False False False False False False False False False False False False False True False False False False False False False False False False False False False False False False False False False False False False False False False True True True True True True True False True True True True True True True False False False False False False False True True True True True True True True True True True True True True True True True True True True True True True True True True True True True True True True True True True True True True True True True True True True True True False False False False False False False False False False False False False False False False False False False False False False False False True False False False False False False False False False False False False False False False False False False False False False False False False False False False False False False False False False False False False False False False False False False False True True True True True True True True True True True True True True True True True True True True True True True True True True True True True True True True True True True True True True True True True True True False False False True True True True True True True True True True True True True True True True True True False True True True True True True True True True False True True True True True True True True True True True True True True True True True True True True True True True True True True True True True True True True True True True True True True True True True False False True True True True True True True True True True True True True True True True True True True True True True True True True True True True True True True True True True True True True True True True True True True True True True True True True True True True True False True True True True True True True True False True True True True True True True True True True True True True True True True True True True True True True True True True True True True True True True True True True True True True True True True True True True False True True False True True True True True False True True True True True True True True True True False True True True True True True True True True True False True True False True True False True True True True True True True True True True False True True True True True True True True False True True True True True True True True True False True True True True True True True True True True True True True True True True True True True True True True True True True True False True False True True True True True True True True True True True False True True True True True True True True True True True True True True True True True True True True True True True True True True True True True True True True True True True True True True True True True True True True True True True True True True True False True True True True True True True True True True True True True True True True True True True True True True True True True False True True True True True True False True True True True True True True False True True True True True True True True True True True True True True True True True True True True True True True True True True True True True True True True True True True True True True True True True True True True True True True True True True True True True True True True True True True True True True True True True True True True True True True True True False True True True True True False True True True True True True True True True True True True True True True True True True True True False True True True True True True True True True True False True True True True True True True True True True True True True True True True True True True True True True True True True True True True True True True True True True True True True True True True True True True True True True True True True True True True True True True True True True True True True True True True True True True True True True True True True True True True True True False True True True True True True True True True True True True True True True True True True True True True True True True True True True False True True True True True True True True True True False True True True True True True True True True True True True True True True True True True False True True True True True True True True True True True True True True True True True True True False True True True True True True True True True True True True True True True True True True False True True True True True True True True True True True True True True True True True True True True True False True True True True True True True True True True True True True True True True True True True True True True True True False True True True True True True True True True True True True True False True True True True True True True True True True True True True True True True True True True True True True True True True True True True True True True True True True True True True True True True True True True True True True True True True True True True True True True True True True True True True True True True True True True True True True True True True True True True True True True True True True True True True True True True True True True True True True False True True True True True True True False True True True True True True False True True True True False True True True True True True True True True True True True True True True True True True True True True True True False True True True True True True True False True True True True True True True False True True True True True True True True True True True True True True True True True True True True True True True True True True True True True True True True True True True True True True True False True True True True True True True True True True True True True True True True True True True True True True True True True True True True True True True True True True True True True True True True True True True True True True True True True True True True True True True True True True True True True True True True True True True True True True True True True True True True True True False True True True True True True True True True True True True True True True True True True True True True True True True True True True True True True True True True True True True True True True True True True True True True True True True True True True True True True True True True True True False True True True True True True True False True True True True True True True True True True True True True True True True True True True True True True True True True True True True True False True True True True True True False True True True True True True True True True True True True True True True False True True True True True True True True True True True True True True True True True True True True True True True True True True True True True True True True True True True True True True True True True True True True True True True True True True True True True True True True True False True True True True True True True True True True True False True True True True True True True True True True True True True True True True True True True True True True True True True True True True True True True True True False False True True True True True True True True True True True True True True True True True True True True True True True True True True True True True True True True True True True True True True True True True True True True True True True True True True True True True True True True True True True True True False True True True True False True True True True True True True True True True True True True True True True False True True True True True True True True True True True True True True True True True True True True True True True True True True True True True True True True True True True True True True True True False True True True True True True True True True True True True True True True True True True True True True True True True True True True True True True True True True True True True True True True True True True True True True True True True True True True True True True True True True True True True True True True True True True True True True True True True True True True True True True True True True True True True True False True True True True True True True True True True True True True True True True True True True True True True True True True True True True True True True True True True True True True True True True True True True True True True True True True True True True True True True True True True True True True True True True True True True True True True True True True True True True True True True True True True True True True True True True True True True True True True True True True True True True True True True True True True True True True True True True True True True True True True True True False True True True True True True True True True True True True True True True True True True True True True True True True True True True True True True True True True True True True True True True True True True True True True True True True True False True True True True True True True True True True True True True True True True True True True True True True True True True True True True True True True True True True True True True True True True True True True True True True True True True True True True True True True True True True True True True True True True True True True True True True True True True True True True True True True True True True True True True True True True True True True True True True False True True True True True True True True True True True True True True True True True True True True True True True True True True True True False True True True True True False True True True True True True True True True True True True True True True True True True True True True True True True True True True True True True True True True True True True True True True True True True True True True True True True True True True True True True True True True True True True True True True True True True True True True True True True True True True True True True True True True True True True True True True True True True True True True True True True True True True True True True True True True False True True True True True True True True True True True True True True True True True True True True True True True True True False True True True False True False True True True True True True True True True True True True True True True True True True True True True True True True True True True True True True True True True True True True True True True True True True True True True True True True True True True True True True True True True True True True True True True True True True True True True True False True True True True True True True False True True True True True True True True True True True True False False False False False False True True True True True True True True True True True False True False True True True True True True True True True True True True True True True True True True True True False False False False False False False False False False False False False False False False True True True True True True True True True False True True True True True True True True True True True True True True True True True True True True True True True True True True True False False False True True True True True True True True True True True True True False True True True True True False True True True True True True True True True True True True True True True True True True False True True True True True True True True True True True True True True True True True True True True True True True True True True True True True True True True True True True True True True True True True True True True True True True True True True True False True True True True True True True True True True True True True True True True True True True True True True True True True True True True True True True True True True True True True True True True True True True True True True True True True True True True True True True True True True True True True True True True True True True True True False True True True True True True True True True True True True True True True True True True True True True True True False True True True True True False True True True True True True True True True False True True True True True True True True True True True True True True True True True True True True True True True True True True True True True True True True True True False True True True True True True True True True True True True True True True True True True True True True True True True True True True True True True True True True True True True True True True True True True True True True True True True False True True True True True True True True True True False True True True True True True True False True True True True True True True True True True True True True True True True True True True True True True True True False True True True True True True True True True True True True True True True True True True True True True True True True True True True True True True True True True True False False False False False False False False False False False False False False False False False False False False False True True True True True True True True True True True True True True True False True True True True True True True True True True True True True True True True True True True False True True True True True True True True True True True True True True True True True True True True True True True True True True True True True True True True True True True True True True False True True False True True True True True True True True True True True True True True True True True True True True True True False True True True True True True True True True True True True True True True True True True True True True True True True True True True True True True True True True True True True True True True True True True True True True True True True True True True True False True True True True True True True True True True True True True False True False True True True True True True True True True True True True True True True True True True True True True True True True True True True True True True True True True True True True True True True True True True True True True True True True True True True True True True True True True True True True True True True True True True True True True True True True True True True True True True False True True True True True True True True True True True True True True True True True True False True True True True True True True True True True True True True True True True True True True True True True True True True True True True True True True True True True True True True True True True True True True True True True True True True True True True False True True True True True True True True True True True True True True True True True True True True True True True True True True True True True True True True True True True True True False True True True True True True True True True True True True True True True True True True True True True True True True True True True True True True True False False True True True True True True True True True True True False True True True True True True True True True True True True True True True True True True True True True True True True True True False True True True True True True True True True True True True True True True True True True True True True True True True True True True True True True True True True True True True True True True True False True True True True True False True True True True True True True False True False True True True True True True True True True True True True True True True True True True True True True True True False True True True True True True True True True True True True True True True True True True True True True True True True True True True True True True True True True True True True True True True True True True True True True True False True True True True True True True True True True True False True True True True True True True True True True True True True True True True True True True True True True True True True True True True True True True True False True True True True True True True True True True True True True True True True True True True True True True True True True True False True True True True True True True True True True True True True True True True True True True True True True True True True True True True True True True True True True True True True True True True True True True True True True True True True True True True True True True True True True True True True True True True True True True True True True True True True True True True True True True True True True True True True False True True True True True True True True True True True True True True True True True True True True True True True True True True True True True True True True True True True True True True True True True True True True True True True True True True True True True True True True True True True True True True True True True True True True True True True True True True True True True True True True True True True True True True True True True True True True True True True True True True True True True False True True True False True True True True True True True True True True True True True True True True True False True True True True True True True True True True True True True True True True True True True True True True True True True True True True True True True True True True True True True True True True True True True True True True True True True True True True True True True True True True True True True True True True False True True True True True True True True True True True True True True True True True True True True True True True True False True True True True True False True True True True True False True True True False True True True True True True True True True True True True True False True True True True True True True True True True True True True True True True False True True True True True True True True True True True True True True True True True True True True True True True True True True True True False True True True True True True True True True True True True True True True True True True True True True True True True True True True True True True True True True True True True True True True True True True True True True True True True True True True True True True True True True True True True True True True True False True False True True True True True True True True True True True True True True True True True True True True True True True True True True True True True True True True True True False True True True True True True True True True True True True True True True True True True True True True True True True True True True True True True True True True True True True True True True True True True True True True True True True True True True True True True True True True True True False True True True True True True True True True True True True True True True True False True True True True True True True True True True True True True True True True True True True True True False False True True True True True True True True True True True True True True True True True True True True True True True True True True True True True True True True True True True True True True True True True True True True True True True True True True True True True True True True True False True True True True True True True True True True True True True True True True True True True True True True True True False True True True True True True True True True True True True True True True True True True True True True True True True True False True True True True True True True True True True True True True False True True True True True True True True True True True True True True True True True True True True True True True True True True True True True True True True True True True True True True True True True True True True True True True True True True True True True True True True True True True True True True True True True True True True True True True True True True True True True True True True True True True True True False True True True True True True True True True True True True True True True True True True False True True True True True True True False True True True True True False True True True True True True True True True True True True True True True True True True True True True True True True True True True True True True True False True True True True True True True True True True True True True True True True True True True True True True True True True True True True True True True True True True True True True True True False True True True True True True True True True True True True True True True True True True True True True True True True True True True True True True True True True True True True True True False True True True True False True True True True True True True True True True True True True True True True True True True True True True True True True True True True True True True True False True True True True True False True True True True True True True True True True True True True True True True True True True True True False True True True True True True True True False True True True True True True True True True True True True True True True True True True True True False True True True True True True True True True True True True True True True False True False True False True True True True True True True True True True True True True True True True True True True True True True False False True True True True True True True True True True True True True True True True True True True True True True True True True True True True True True True True True True True True True True True True False True True True True True True True True True True True True True True True True True True True True True True True True True True True True True False True True True True True True True True True True True True True True True True True True True True True True True True True True True True True True True True True True True True True True True True True True True False True True False True True True True True True True True True True True True True True True True True True False True True True True True True True True True True False True True True True True True True True True True False True True True True True True True True True True True False True True True True True True True True True True True True True True True True True True False True True True True True True True True True True True True True False True True True True True True True True True True True True True True True True True True True True True True True True True True True False True False True True True True True True True True True False True True True True True True True True True True True True True True True True True True True True True False True True True True True True True True True True False True True True True True True True True True True True True True True True True True True True True True True False True True True True True True True True True True True True True True True True True True True True True True True True False True True True True True True True True True True True True True True True True True True True True True True True True True True True True True True True True True True True True True True True True True True True True True True False True True True True True True True True True True True True True True True False True True True True True True True True False True True True True True True True True True True True True True True True True True True True True True True True True True True True True True True True True True True True True True True True True True True True False True True True True True False True False True True True True True True True True True True True True True True True True True True True True True True False True True True True True True True True True True True True True True True True True True True True True True True True True True True True True True True True True True True True True True True True True False True True True True True True True True False True False True True True True True True True False True True True True True True True True True True True True True True True True True False True True True True True True True True True True True True True False True True True True True True True False True True True True True True True True True True True True True True True True False True True True True True True True True True True True True True True True True False True True True True True True True True True True True True True True True True True True True True True True True True True True True True True True True True True True True True True True True True True True True True True True True True True True False True True True True True True True True True True True True True True True True True True True True True False True True True True True True True True True True True True True True True True True True True True True True True True True True True True True True True True True True True True True True True True True True True True True True True True True True True True True True True True True True True True True True True True True True True True True True False True True True True True True True True True True True True True True True False True True True True True True True True True True True True True True True True True True True True True True True True False True True True True True True True True True True True True True True True True True True True True True True True True True True True True True True True True True True True True True True True True True True True True True True True True True True True True True True True True True True True True True True True True True True True True True True True True True True True True True True True False True True True True True True True True True True True True True True True True True True True True True True True True True True True True True True True True True True True True True True True True True True False False True True True True True True True True True True True True True True True True True True True True True True True True False True True True True True True True True True True True True True True True True True True True True True True True True True True True True True True False False False False False False False False False False False False False False False False False False False False False False False False False False False False False False False False False False False False False False False False False False False False False False False False False False False False False False False False False False False False False False False False False False False False False False False False False False False False False False False False False False False False False False False True True True True True True True True True True True True True True True True True False True True True True True True True True False True True True True True True True True True True True True True True True True True True True True True True True True True True True True True True False True True True True True False True True False True True True True True True True False False False False True True True True True True True True False True True True True True True True True True True True True True True True False True True True True True True True True True True True True True True True True True True True True True True True True True True True True True True True True True True True True True True True True True True True True True True True True True True True True False True True True True True True False True True True True True True True True True True True True True True True True True True False True True True True True True True True True True True True True True False True False True True True True True True True True True True True True True True True True True True True True True False True True True True True True True True False True True True True True True True True True True True True False True True True True True True True True True True True True True True True True True True True True True True True True True True True True True True True True True True True True True True True True True True True True True True True True True True True True True True False False True False True True True True True True False False True True True True False True True True True True True True True True True True True True True True True True True True True True True True True True True True True True True True True True True True True True True True True True True True True True True True True True True True True True True True True True True True True True True True True True True True True True True True True True True True True True True True True True True True True True True True True True True True True True True True True True True True True True True True True True True True True True True True True True False True True True True True True True True True True True True True True True True True True True True True True True True True True True True True True False True True True True True True False True True True True True True True True True True True True True True True True True True True True True True False True True True True True True True True True True True True True True True True True True True True True True True True True True True True True True True True True True True True True True True True True True False True True True True True True True True True True True True True True True True True True True True True True True True True True True True True True True True True True True True True True True True True True True True True True True True True True True True True True True True True True True True True True True True True True True True True True True True True True True True True True True True True True True True True True True True True True True True True True True False True True True True True True True True True True True False True True True True True True True True True True True True True True True True True True True True True True True True True True True True True True True True True False True True False True True True False True True True True True True True False True True True True True True True True True True True True True True True True True True True True True False True True True True True False False False False False False False False False False False False False False False False False False False True True True True True True True True True True True True True True False True True True True True True True False True True True True True True True True True False True True True True True True True True True True True True True True True True True True True True True True True True True True True True True True True True True True True False True True True True True True True True True True True True True True True True True True True True True True True True True True True True True True True True True True True True True True True True True True True True True True True True True True True True True True True True True True True False True True True True True True True True True True True True True True True True True True True True True True True True True True True True True True True True True True True True True True True False True True True True True True True True True True True True True True True True True True True True True True True True True True True True True True True True True False True True True True True True True True True True True True True True True True True True True True True True True True True True True True True True True True True True True True True False True True True True True True True True True True True True False True True True True True True True True True True True True True True True True True True True True True True True True True True True False True True True True True True True True True True True True True True True True True True True True True True True True True True True True True True True True True True False True True True True True True True True True True True True True True True True True True True True True True True True True True True True True True True True True True True True True True True True True True True True True True True True True True True True True True True True True True True True True True True True True True True True True True True True True True True True True True True True True True True True True True True True True True True True True True True True True True True True True True True True True True True True True True True True True True True True True True True True True True True True True True True True True True True True True True True True True True True True True True True False True True True True False True True True True True True True True True True True False True False True True True True True True True True True True True True True True True True True True True True True True True True True True True True True True True True True True True True True True True True True True True True True True True True True True True True True True True True True True True True True True True True True True True True True True True True True True True True True True True True True True True True True True True True True True True True True True True True True True True True True True True True False True True True True True True True True True True True True True True True True True False True True True True True True True False True True True True True True True True True True True True True True True True True True False True True True True True True True True True True True True True True True True True True True True True True True True True True True True True True True True True True True True True True "
     ]
    }
   ],
   "source": [
    "for i in range(10877):\n",
    "  print(is_fw(i),end=' ')"
   ]
  },
  {
   "cell_type": "code",
   "execution_count": 6,
   "metadata": {},
   "outputs": [],
   "source": [
    "# per_id = {}\n",
    "# for i in df_per.index:\n",
    "#   per_id[df_per.iloc[i,0]] = df_per.iloc[i,1]\n",
    "# rec_id = {}\n",
    "# for i in df_rec.index:\n",
    "#   rec_id[df_rec.iloc[i,0]] = df_rec.iloc[i,1]"
   ]
  },
  {
   "cell_type": "code",
   "execution_count": 7,
   "metadata": {},
   "outputs": [
    {
     "name": "stdout",
     "output_type": "stream",
     "text": [
      "0 1 2 3 4 5 6 7 8 9 10 11 12 13 14 15 16 17 18 19 20 21 22 23 24 25 26 27 28 29 30 31 32 33 34 35 36 37 38 39 40 41 42 43 44 45 46 47 48 49 50 51 52 53 54 55 56 57 58 59 60 61 62 63 64 65 66 67 68 69 70 71 72 73 "
     ]
    }
   ],
   "source": [
    "for i in range(74):\n",
    "  print(f'{i} ',end='')"
   ]
  },
  {
   "cell_type": "code",
   "execution_count": 8,
   "metadata": {},
   "outputs": [],
   "source": [
    "# df_map.to_csv('./per_job_map.csv',header=['job','person','label'],index=None)"
   ]
  },
  {
   "cell_type": "code",
   "execution_count": 9,
   "metadata": {},
   "outputs": [
    {
     "name": "stdout",
     "output_type": "stream",
     "text": [
      "(1575, 74) (868, 74)\n"
     ]
    },
    {
     "data": {
      "text/html": [
       "<div>\n",
       "<style scoped>\n",
       "    .dataframe tbody tr th:only-of-type {\n",
       "        vertical-align: middle;\n",
       "    }\n",
       "\n",
       "    .dataframe tbody tr th {\n",
       "        vertical-align: top;\n",
       "    }\n",
       "\n",
       "    .dataframe thead th {\n",
       "        text-align: right;\n",
       "    }\n",
       "</style>\n",
       "<table border=\"1\" class=\"dataframe\">\n",
       "  <thead>\n",
       "    <tr style=\"text-align: right;\">\n",
       "      <th></th>\n",
       "      <th>1</th>\n",
       "      <th>2</th>\n",
       "      <th>3</th>\n",
       "      <th>4</th>\n",
       "      <th>5</th>\n",
       "      <th>6</th>\n",
       "      <th>7</th>\n",
       "      <th>8</th>\n",
       "      <th>9</th>\n",
       "      <th>10</th>\n",
       "      <th>...</th>\n",
       "      <th>65</th>\n",
       "      <th>66</th>\n",
       "      <th>67</th>\n",
       "      <th>68</th>\n",
       "      <th>69</th>\n",
       "      <th>70</th>\n",
       "      <th>71</th>\n",
       "      <th>72</th>\n",
       "      <th>73</th>\n",
       "      <th>74</th>\n",
       "    </tr>\n",
       "  </thead>\n",
       "  <tbody>\n",
       "    <tr>\n",
       "      <th>0</th>\n",
       "      <td>-0.724494</td>\n",
       "      <td>-0.559137</td>\n",
       "      <td>-0.300785</td>\n",
       "      <td>0.008680</td>\n",
       "      <td>-0.170450</td>\n",
       "      <td>0</td>\n",
       "      <td>0</td>\n",
       "      <td>0.0</td>\n",
       "      <td>1</td>\n",
       "      <td>0</td>\n",
       "      <td>...</td>\n",
       "      <td>-0.160764</td>\n",
       "      <td>0.035278</td>\n",
       "      <td>0.060169</td>\n",
       "      <td>0.088794</td>\n",
       "      <td>-0.306723</td>\n",
       "      <td>0.137945</td>\n",
       "      <td>0.316116</td>\n",
       "      <td>0.4042</td>\n",
       "      <td>0.127718</td>\n",
       "      <td>0.047178</td>\n",
       "    </tr>\n",
       "    <tr>\n",
       "      <th>7</th>\n",
       "      <td>-0.724494</td>\n",
       "      <td>-0.721122</td>\n",
       "      <td>-0.890788</td>\n",
       "      <td>4.934121</td>\n",
       "      <td>3.222017</td>\n",
       "      <td>0</td>\n",
       "      <td>0</td>\n",
       "      <td>0.0</td>\n",
       "      <td>1</td>\n",
       "      <td>0</td>\n",
       "      <td>...</td>\n",
       "      <td>-0.160764</td>\n",
       "      <td>0.035278</td>\n",
       "      <td>0.060169</td>\n",
       "      <td>0.088794</td>\n",
       "      <td>-0.306723</td>\n",
       "      <td>0.137945</td>\n",
       "      <td>0.316116</td>\n",
       "      <td>0.4042</td>\n",
       "      <td>0.127718</td>\n",
       "      <td>0.047178</td>\n",
       "    </tr>\n",
       "    <tr>\n",
       "      <th>10</th>\n",
       "      <td>1.741550</td>\n",
       "      <td>-0.802114</td>\n",
       "      <td>-0.890788</td>\n",
       "      <td>2.832705</td>\n",
       "      <td>7.543888</td>\n",
       "      <td>0</td>\n",
       "      <td>0</td>\n",
       "      <td>0.0</td>\n",
       "      <td>0</td>\n",
       "      <td>1</td>\n",
       "      <td>...</td>\n",
       "      <td>-0.160764</td>\n",
       "      <td>0.035278</td>\n",
       "      <td>0.060169</td>\n",
       "      <td>0.088794</td>\n",
       "      <td>-0.306723</td>\n",
       "      <td>0.137945</td>\n",
       "      <td>0.316116</td>\n",
       "      <td>0.4042</td>\n",
       "      <td>0.127718</td>\n",
       "      <td>0.047178</td>\n",
       "    </tr>\n",
       "    <tr>\n",
       "      <th>12</th>\n",
       "      <td>-0.724494</td>\n",
       "      <td>-0.397152</td>\n",
       "      <td>-0.448285</td>\n",
       "      <td>0.080217</td>\n",
       "      <td>-0.179261</td>\n",
       "      <td>0</td>\n",
       "      <td>0</td>\n",
       "      <td>0.0</td>\n",
       "      <td>1</td>\n",
       "      <td>1</td>\n",
       "      <td>...</td>\n",
       "      <td>-0.160764</td>\n",
       "      <td>0.035278</td>\n",
       "      <td>0.060169</td>\n",
       "      <td>0.088794</td>\n",
       "      <td>-0.306723</td>\n",
       "      <td>0.137945</td>\n",
       "      <td>0.316116</td>\n",
       "      <td>0.4042</td>\n",
       "      <td>0.127718</td>\n",
       "      <td>0.047178</td>\n",
       "    </tr>\n",
       "    <tr>\n",
       "      <th>13</th>\n",
       "      <td>-0.724494</td>\n",
       "      <td>3.247509</td>\n",
       "      <td>6.041750</td>\n",
       "      <td>0.025324</td>\n",
       "      <td>-0.260802</td>\n",
       "      <td>0</td>\n",
       "      <td>0</td>\n",
       "      <td>0.0</td>\n",
       "      <td>1</td>\n",
       "      <td>1</td>\n",
       "      <td>...</td>\n",
       "      <td>-0.160764</td>\n",
       "      <td>0.035278</td>\n",
       "      <td>0.060169</td>\n",
       "      <td>0.088794</td>\n",
       "      <td>-0.306723</td>\n",
       "      <td>0.137945</td>\n",
       "      <td>0.316116</td>\n",
       "      <td>0.4042</td>\n",
       "      <td>0.127718</td>\n",
       "      <td>0.047178</td>\n",
       "    </tr>\n",
       "  </tbody>\n",
       "</table>\n",
       "<p>5 rows × 74 columns</p>\n",
       "</div>"
      ],
      "text/plain": [
       "          1         2         3         4         5   6   7    8   9   10  \\\n",
       "0  -0.724494 -0.559137 -0.300785  0.008680 -0.170450   0   0  0.0   1   0   \n",
       "7  -0.724494 -0.721122 -0.890788  4.934121  3.222017   0   0  0.0   1   0   \n",
       "10  1.741550 -0.802114 -0.890788  2.832705  7.543888   0   0  0.0   0   1   \n",
       "12 -0.724494 -0.397152 -0.448285  0.080217 -0.179261   0   0  0.0   1   1   \n",
       "13 -0.724494  3.247509  6.041750  0.025324 -0.260802   0   0  0.0   1   1   \n",
       "\n",
       "    ...        65        66        67        68        69        70        71  \\\n",
       "0   ... -0.160764  0.035278  0.060169  0.088794 -0.306723  0.137945  0.316116   \n",
       "7   ... -0.160764  0.035278  0.060169  0.088794 -0.306723  0.137945  0.316116   \n",
       "10  ... -0.160764  0.035278  0.060169  0.088794 -0.306723  0.137945  0.316116   \n",
       "12  ... -0.160764  0.035278  0.060169  0.088794 -0.306723  0.137945  0.316116   \n",
       "13  ... -0.160764  0.035278  0.060169  0.088794 -0.306723  0.137945  0.316116   \n",
       "\n",
       "        72        73        74  \n",
       "0   0.4042  0.127718  0.047178  \n",
       "7   0.4042  0.127718  0.047178  \n",
       "10  0.4042  0.127718  0.047178  \n",
       "12  0.4042  0.127718  0.047178  \n",
       "13  0.4042  0.127718  0.047178  \n",
       "\n",
       "[5 rows x 74 columns]"
      ]
     },
     "execution_count": 9,
     "metadata": {},
     "output_type": "execute_result"
    }
   ],
   "source": [
    "# 属性嵌入，这里的序号是0~N-1\n",
    "a_emb_job = pd.read_csv('./attribute_embedding_position.txt',sep=' ',index_col=0,header=None,na_values=[])\n",
    "a_emb_per = pd.read_csv('./attribute_embedding_user.txt',sep=' ',index_col=0,header=None,na_values=[])\n",
    "a_emb_per.index = [alive[i] for i in range(868)]\n",
    "print(a_emb_job.shape, a_emb_per.shape)\n",
    "a_emb_per.head()"
   ]
  },
  {
   "attachments": {},
   "cell_type": "markdown",
   "metadata": {},
   "source": [
    "先算PU网络，得到匹配度"
   ]
  },
  {
   "cell_type": "code",
   "execution_count": 10,
   "metadata": {},
   "outputs": [],
   "source": [
    "# no_fw = pd.read_csv('./no_fw.csv',index_col=0)\n",
    "# def per_id(x):\n",
    "#   return no_fw.iloc[x,0]\n",
    "\n",
    "# for i in range(10):\n",
    "#   print(per_id(i),end=' ')"
   ]
  },
  {
   "cell_type": "code",
   "execution_count": 11,
   "metadata": {},
   "outputs": [
    {
     "name": "stdout",
     "output_type": "stream",
     "text": [
      "(1575, 128) (868, 128)\n"
     ]
    },
    {
     "data": {
      "text/html": [
       "<div>\n",
       "<style scoped>\n",
       "    .dataframe tbody tr th:only-of-type {\n",
       "        vertical-align: middle;\n",
       "    }\n",
       "\n",
       "    .dataframe tbody tr th {\n",
       "        vertical-align: top;\n",
       "    }\n",
       "\n",
       "    .dataframe thead th {\n",
       "        text-align: right;\n",
       "    }\n",
       "</style>\n",
       "<table border=\"1\" class=\"dataframe\">\n",
       "  <thead>\n",
       "    <tr style=\"text-align: right;\">\n",
       "      <th></th>\n",
       "      <th>1</th>\n",
       "      <th>2</th>\n",
       "      <th>3</th>\n",
       "      <th>4</th>\n",
       "      <th>5</th>\n",
       "      <th>6</th>\n",
       "      <th>7</th>\n",
       "      <th>8</th>\n",
       "      <th>9</th>\n",
       "      <th>10</th>\n",
       "      <th>...</th>\n",
       "      <th>119</th>\n",
       "      <th>120</th>\n",
       "      <th>121</th>\n",
       "      <th>122</th>\n",
       "      <th>123</th>\n",
       "      <th>124</th>\n",
       "      <th>125</th>\n",
       "      <th>126</th>\n",
       "      <th>127</th>\n",
       "      <th>128</th>\n",
       "    </tr>\n",
       "  </thead>\n",
       "  <tbody>\n",
       "    <tr>\n",
       "      <th>0</th>\n",
       "      <td>0.106909</td>\n",
       "      <td>-0.046381</td>\n",
       "      <td>0.227989</td>\n",
       "      <td>0.011383</td>\n",
       "      <td>0.049010</td>\n",
       "      <td>0.013847</td>\n",
       "      <td>0.011298</td>\n",
       "      <td>-0.075828</td>\n",
       "      <td>-0.220346</td>\n",
       "      <td>-0.297584</td>\n",
       "      <td>...</td>\n",
       "      <td>0.305304</td>\n",
       "      <td>0.071091</td>\n",
       "      <td>0.004234</td>\n",
       "      <td>0.159778</td>\n",
       "      <td>0.208874</td>\n",
       "      <td>0.261583</td>\n",
       "      <td>0.304411</td>\n",
       "      <td>-0.178296</td>\n",
       "      <td>-0.006043</td>\n",
       "      <td>0.402940</td>\n",
       "    </tr>\n",
       "    <tr>\n",
       "      <th>7</th>\n",
       "      <td>0.176486</td>\n",
       "      <td>0.125179</td>\n",
       "      <td>0.170178</td>\n",
       "      <td>0.010691</td>\n",
       "      <td>-0.109280</td>\n",
       "      <td>0.048260</td>\n",
       "      <td>0.103159</td>\n",
       "      <td>-0.049660</td>\n",
       "      <td>-0.293907</td>\n",
       "      <td>-0.443231</td>\n",
       "      <td>...</td>\n",
       "      <td>0.141347</td>\n",
       "      <td>0.170352</td>\n",
       "      <td>0.099519</td>\n",
       "      <td>0.360286</td>\n",
       "      <td>0.144341</td>\n",
       "      <td>0.294506</td>\n",
       "      <td>0.422864</td>\n",
       "      <td>-0.047133</td>\n",
       "      <td>-0.079090</td>\n",
       "      <td>0.512646</td>\n",
       "    </tr>\n",
       "    <tr>\n",
       "      <th>10</th>\n",
       "      <td>0.070882</td>\n",
       "      <td>0.197714</td>\n",
       "      <td>0.028229</td>\n",
       "      <td>0.098573</td>\n",
       "      <td>-0.222974</td>\n",
       "      <td>-0.022671</td>\n",
       "      <td>-0.054216</td>\n",
       "      <td>-0.003531</td>\n",
       "      <td>-0.285085</td>\n",
       "      <td>-0.488723</td>\n",
       "      <td>...</td>\n",
       "      <td>-0.069236</td>\n",
       "      <td>0.208382</td>\n",
       "      <td>0.019828</td>\n",
       "      <td>0.413162</td>\n",
       "      <td>0.065986</td>\n",
       "      <td>0.334274</td>\n",
       "      <td>0.341294</td>\n",
       "      <td>0.069452</td>\n",
       "      <td>-0.118390</td>\n",
       "      <td>0.537937</td>\n",
       "    </tr>\n",
       "    <tr>\n",
       "      <th>12</th>\n",
       "      <td>0.186596</td>\n",
       "      <td>-0.067015</td>\n",
       "      <td>0.246331</td>\n",
       "      <td>0.018256</td>\n",
       "      <td>0.053443</td>\n",
       "      <td>0.091744</td>\n",
       "      <td>-0.038790</td>\n",
       "      <td>-0.039274</td>\n",
       "      <td>-0.235857</td>\n",
       "      <td>-0.276473</td>\n",
       "      <td>...</td>\n",
       "      <td>0.248856</td>\n",
       "      <td>0.136002</td>\n",
       "      <td>0.001937</td>\n",
       "      <td>0.131124</td>\n",
       "      <td>0.154355</td>\n",
       "      <td>0.266727</td>\n",
       "      <td>0.293040</td>\n",
       "      <td>-0.170457</td>\n",
       "      <td>0.010407</td>\n",
       "      <td>0.351705</td>\n",
       "    </tr>\n",
       "    <tr>\n",
       "      <th>13</th>\n",
       "      <td>0.169177</td>\n",
       "      <td>0.083607</td>\n",
       "      <td>0.280480</td>\n",
       "      <td>0.036082</td>\n",
       "      <td>-0.073978</td>\n",
       "      <td>0.088527</td>\n",
       "      <td>0.002985</td>\n",
       "      <td>-0.015185</td>\n",
       "      <td>-0.162121</td>\n",
       "      <td>-0.377745</td>\n",
       "      <td>...</td>\n",
       "      <td>0.212814</td>\n",
       "      <td>0.159757</td>\n",
       "      <td>0.102400</td>\n",
       "      <td>0.217491</td>\n",
       "      <td>0.118156</td>\n",
       "      <td>0.201218</td>\n",
       "      <td>0.407281</td>\n",
       "      <td>-0.038142</td>\n",
       "      <td>-0.057384</td>\n",
       "      <td>0.484031</td>\n",
       "    </tr>\n",
       "  </tbody>\n",
       "</table>\n",
       "<p>5 rows × 128 columns</p>\n",
       "</div>"
      ],
      "text/plain": [
       "           1         2         3         4         5         6         7  \\\n",
       "0   0.106909 -0.046381  0.227989  0.011383  0.049010  0.013847  0.011298   \n",
       "7   0.176486  0.125179  0.170178  0.010691 -0.109280  0.048260  0.103159   \n",
       "10  0.070882  0.197714  0.028229  0.098573 -0.222974 -0.022671 -0.054216   \n",
       "12  0.186596 -0.067015  0.246331  0.018256  0.053443  0.091744 -0.038790   \n",
       "13  0.169177  0.083607  0.280480  0.036082 -0.073978  0.088527  0.002985   \n",
       "\n",
       "           8         9        10  ...       119       120       121       122  \\\n",
       "0  -0.075828 -0.220346 -0.297584  ...  0.305304  0.071091  0.004234  0.159778   \n",
       "7  -0.049660 -0.293907 -0.443231  ...  0.141347  0.170352  0.099519  0.360286   \n",
       "10 -0.003531 -0.285085 -0.488723  ... -0.069236  0.208382  0.019828  0.413162   \n",
       "12 -0.039274 -0.235857 -0.276473  ...  0.248856  0.136002  0.001937  0.131124   \n",
       "13 -0.015185 -0.162121 -0.377745  ...  0.212814  0.159757  0.102400  0.217491   \n",
       "\n",
       "         123       124       125       126       127       128  \n",
       "0   0.208874  0.261583  0.304411 -0.178296 -0.006043  0.402940  \n",
       "7   0.144341  0.294506  0.422864 -0.047133 -0.079090  0.512646  \n",
       "10  0.065986  0.334274  0.341294  0.069452 -0.118390  0.537937  \n",
       "12  0.154355  0.266727  0.293040 -0.170457  0.010407  0.351705  \n",
       "13  0.118156  0.201218  0.407281 -0.038142 -0.057384  0.484031  \n",
       "\n",
       "[5 rows x 128 columns]"
      ]
     },
     "execution_count": 11,
     "metadata": {},
     "output_type": "execute_result"
    }
   ],
   "source": [
    "# 结构嵌入，这里的序号是0~N-1\n",
    "d_emb_job = pd.read_csv('./position_pu.csv',index_col=0,header=0,na_values=[])\n",
    "d_emb_per = pd.read_csv('./user_pu.csv',index_col=0,header=0,na_values=[])\n",
    "d_emb_per.index = [alive[i] for i in range(868)]\n",
    "print(d_emb_job.shape, d_emb_per.shape)\n",
    "d_emb_per.head()"
   ]
  },
  {
   "cell_type": "code",
   "execution_count": 12,
   "metadata": {},
   "outputs": [
    {
     "data": {
      "text/plain": [
       "1      0.069535\n",
       "2     -0.003523\n",
       "3      0.013527\n",
       "4      0.105477\n",
       "5      0.119242\n",
       "         ...   \n",
       "124    0.272369\n",
       "125    0.285738\n",
       "126   -0.159624\n",
       "127    0.090348\n",
       "128    0.140246\n",
       "Length: 128, dtype: float64"
      ]
     },
     "execution_count": 12,
     "metadata": {},
     "output_type": "execute_result"
    }
   ],
   "source": [
    "d_emb_per.mean()"
   ]
  },
  {
   "cell_type": "code",
   "execution_count": 13,
   "metadata": {},
   "outputs": [
    {
     "data": {
      "text/plain": [
       "((868, 202), (1575, 202))"
      ]
     },
     "execution_count": 13,
     "metadata": {},
     "output_type": "execute_result"
    }
   ],
   "source": [
    "# a = np.array([[1,2,3],[4,5,6]])\n",
    "# b = np.array([[-1,-2],[-3,-4]])\n",
    "a = a_emb_per.values\n",
    "b = d_emb_per.values\n",
    "X = np.concatenate([a,b],axis=1)\n",
    "\n",
    "c = a_emb_job.values\n",
    "d = d_emb_job.values\n",
    "Y = np.concatenate([c,d],axis=1)\n",
    "X.shape, Y.shape"
   ]
  },
  {
   "cell_type": "code",
   "execution_count": 14,
   "metadata": {},
   "outputs": [],
   "source": [
    "import sklearn\n",
    "from sklearn.decomposition import PCA\n",
    "pca=PCA(n_components=64)\n",
    "pca.fit(X)\n",
    "Xpca = pca.transform(X) #进行降维\n",
    "pca.fit(Y)\n",
    "Ypca = pca.transform(Y)"
   ]
  },
  {
   "cell_type": "code",
   "execution_count": 15,
   "metadata": {},
   "outputs": [
    {
     "data": {
      "text/plain": [
       "((868, 64), (1575, 64))"
      ]
     },
     "execution_count": 15,
     "metadata": {},
     "output_type": "execute_result"
    }
   ],
   "source": [
    "Xpca.shape, Ypca.shape"
   ]
  },
  {
   "cell_type": "code",
   "execution_count": 16,
   "metadata": {},
   "outputs": [
    {
     "data": {
      "text/plain": [
       "((868, 64), (1575, 64))"
      ]
     },
     "execution_count": 16,
     "metadata": {},
     "output_type": "execute_result"
    }
   ],
   "source": [
    "pca_per = pd.DataFrame(Xpca, index=[alive[i] for i in range(868)])\n",
    "pca_job = pd.DataFrame(Ypca)\n",
    "pca_per.shape,pca_job.shape"
   ]
  },
  {
   "cell_type": "code",
   "execution_count": 17,
   "metadata": {},
   "outputs": [],
   "source": [
    "def get_input(pid, rid):\n",
    "  per = pca_per.loc[pid].values\n",
    "  job = pca_job.loc[rid].values\n",
    "  all = np.concatenate([per,job],axis=0)\n",
    "  return all"
   ]
  },
  {
   "cell_type": "code",
   "execution_count": 18,
   "metadata": {},
   "outputs": [],
   "source": [
    "# pca_per.to_csv('./pca_per.csv',header=None)\n",
    "# pca_job.to_csv('./pca_job.csv',header=None)\n",
    "# pca_per = pd.read_csv('./pca_per.csv',index_col=0,header=None)"
   ]
  },
  {
   "cell_type": "code",
   "execution_count": 19,
   "metadata": {},
   "outputs": [],
   "source": [
    "features = []\n",
    "labels = []\n",
    "# get_input(7,1)"
   ]
  },
  {
   "cell_type": "code",
   "execution_count": 20,
   "metadata": {},
   "outputs": [
    {
     "data": {
      "text/plain": [
       "(388183, 3)"
      ]
     },
     "execution_count": 20,
     "metadata": {},
     "output_type": "execute_result"
    }
   ],
   "source": [
    "df_ppd.shape"
   ]
  },
  {
   "cell_type": "code",
   "execution_count": 21,
   "metadata": {},
   "outputs": [
    {
     "name": "stderr",
     "output_type": "stream",
     "text": [
      "100%|██████████| 388183/388183 [01:25<00:00, 4557.92it/s]\n"
     ]
    }
   ],
   "source": [
    "for i in tqdm(range(df_ppd.shape[0])):\n",
    "  row = df_ppd.loc[i]\n",
    "  pid = row['user']\n",
    "  rid = row['position']\n",
    "  label = row['rating']\n",
    "  if is_fw(pid):\n",
    "    continue\n",
    "  # print(pid,rid,label)\n",
    "  feature = get_input(pid,rid)\n",
    "  features.append(feature)\n",
    "  labels.append(label)\n",
    "  "
   ]
  },
  {
   "cell_type": "code",
   "execution_count": 22,
   "metadata": {},
   "outputs": [
    {
     "data": {
      "text/plain": [
       "(torch.Size([388183, 128]), torch.Size([388183, 1]))"
      ]
     },
     "execution_count": 22,
     "metadata": {},
     "output_type": "execute_result"
    }
   ],
   "source": [
    "features = np.array(features)\n",
    "labels = np.array(labels)\n",
    "features = torch.Tensor(features)\n",
    "labels = torch.Tensor(labels).reshape(-1,1)\n",
    "features.shape,labels.shape"
   ]
  },
  {
   "cell_type": "code",
   "execution_count": 23,
   "metadata": {},
   "outputs": [
    {
     "data": {
      "text/plain": [
       "(tensor([[ 1.5127, -0.5813, -0.8024,  ..., -0.0703,  0.0079, -0.1002],\n",
       "         [ 1.0280, -0.0294, -0.2958,  ..., -0.0703,  0.0079, -0.1002],\n",
       "         [ 1.1276, -0.1380, -0.5021,  ..., -0.0703,  0.0079, -0.1002],\n",
       "         ...,\n",
       "         [ 1.7114, -0.2400, -0.4685,  ..., -0.0276,  0.0258, -0.0200],\n",
       "         [ 2.0525, -0.4133, -0.3817,  ..., -0.0276,  0.0258, -0.0200],\n",
       "         [ 0.2351, -0.0658, -0.5743,  ..., -0.0276,  0.0258, -0.0200]]),\n",
       " tensor([[6.],\n",
       "         [6.],\n",
       "         [6.],\n",
       "         ...,\n",
       "         [5.],\n",
       "         [5.],\n",
       "         [5.]]))"
      ]
     },
     "execution_count": 23,
     "metadata": {},
     "output_type": "execute_result"
    }
   ],
   "source": [
    "features, labels"
   ]
  },
  {
   "cell_type": "code",
   "execution_count": 75,
   "metadata": {},
   "outputs": [
    {
     "data": {
      "text/plain": [
       "-0.0008885674"
      ]
     },
     "execution_count": 75,
     "metadata": {},
     "output_type": "execute_result"
    }
   ],
   "source": [
    "np.median(features)"
   ]
  },
  {
   "cell_type": "code",
   "execution_count": 24,
   "metadata": {},
   "outputs": [],
   "source": [
    "class DS:\n",
    "  def __init__(self,data_arrays):\n",
    "    self.data = data_arrays\n",
    "\n",
    "  def __getitem__(self,index):\n",
    "    return self.data[0][index],self.data[1][index]\n",
    "  \n",
    "  def __len__(self):\n",
    "    return self.data[0].size()[0]\n",
    "\n",
    "def load_array(data_arrays, batch_size, is_train=True):\n",
    "  # Array to Iter\n",
    "  dataset = data.TensorDataset(*data_arrays)\n",
    "  return data.DataLoader(dataset, batch_size, shuffle=is_train)\n",
    "    "
   ]
  },
  {
   "cell_type": "code",
   "execution_count": 25,
   "metadata": {},
   "outputs": [],
   "source": [
    "batch_size = 64"
   ]
  },
  {
   "cell_type": "code",
   "execution_count": 26,
   "metadata": {},
   "outputs": [],
   "source": [
    "train_iter = load_array((features,labels), batch_size)\n",
    "# test_iter = load_array((features[train_size:train_size+test_size],labels[train_size:train_size+test_size]), batch_size, False)"
   ]
  },
  {
   "cell_type": "code",
   "execution_count": 27,
   "metadata": {},
   "outputs": [
    {
     "data": {
      "text/plain": [
       "torch.Size([388183, 1])"
      ]
     },
     "execution_count": 27,
     "metadata": {},
     "output_type": "execute_result"
    }
   ],
   "source": [
    "labels.shape"
   ]
  },
  {
   "cell_type": "code",
   "execution_count": 66,
   "metadata": {},
   "outputs": [],
   "source": [
    "net = nn.Sequential(nn.Linear(128,32),\n",
    "                    nn.Sigmoid(),\n",
    "                    nn.Linear(32,1)\n",
    "                    )"
   ]
  },
  {
   "cell_type": "code",
   "execution_count": 28,
   "metadata": {},
   "outputs": [],
   "source": [
    "net = torch.load('./DNN-4000.pt')"
   ]
  },
  {
   "cell_type": "code",
   "execution_count": 67,
   "metadata": {},
   "outputs": [
    {
     "data": {
      "text/plain": [
       "Sequential(\n",
       "  (0): Linear(in_features=128, out_features=32, bias=True)\n",
       "  (1): Sigmoid()\n",
       "  (2): Linear(in_features=32, out_features=1, bias=True)\n",
       ")"
      ]
     },
     "execution_count": 67,
     "metadata": {},
     "output_type": "execute_result"
    }
   ],
   "source": [
    "def init_weights(m):\n",
    "    if type(m) == nn.Linear:\n",
    "        nn.init.normal_(m.weight, std=0.01)\n",
    "\n",
    "net.apply(init_weights)"
   ]
  },
  {
   "cell_type": "code",
   "execution_count": 68,
   "metadata": {},
   "outputs": [],
   "source": [
    "loss = nn.MSELoss()\n",
    "# loss = nn.CrossEntropyLoss(reduction='none')\n",
    "trainer = torch.optim.Adam(net.parameters(), lr=0.01)"
   ]
  },
  {
   "cell_type": "code",
   "execution_count": 53,
   "metadata": {},
   "outputs": [],
   "source": [
    "total_epochs = 0"
   ]
  },
  {
   "cell_type": "code",
   "execution_count": 69,
   "metadata": {},
   "outputs": [
    {
     "name": "stderr",
     "output_type": "stream",
     "text": [
      "epoch 402, loss 0.129940: 100%|██████████| 200/200 [37:29<00:00, 11.25s/it]\n"
     ]
    }
   ],
   "source": [
    "num_epochs = 200\n",
    "looper = tqdm(range(num_epochs))\n",
    "for epoch in looper:\n",
    "    total_epochs += 1\n",
    "    for X, y in train_iter:\n",
    "        # print(X.shape, y.shape)\n",
    "        l = loss(net(X) ,y)\n",
    "        trainer.zero_grad()\n",
    "        l.backward()\n",
    "        trainer.step()\n",
    "    l = loss(net(features), labels)\n",
    "    # print(f'epoch {epoch + 1}, loss {l:f}')\n",
    "    looper.set_description(f'epoch {total_epochs}, loss {l:f}')"
   ]
  },
  {
   "cell_type": "code",
   "execution_count": 83,
   "metadata": {},
   "outputs": [
    {
     "name": "stdout",
     "output_type": "stream",
     "text": [
      "tensor([8.2627], grad_fn=<AddBackward0>)\n",
      "tensor([5.8987], grad_fn=<AddBackward0>)\n",
      "tensor([2.1007], grad_fn=<AddBackward0>)\n",
      "tensor([6.8922], grad_fn=<AddBackward0>)\n"
     ]
    }
   ],
   "source": [
    "print(net(torch.Tensor(get_input(77,1111)))) # None\n",
    "print(net(torch.Tensor(get_input(0,1)))) # None\n",
    "print(net(torch.Tensor(get_input(8031,1038)))) # 2\n",
    "print(net(torch.Tensor(get_input(94,0)))) # 6\n",
    "# net.state_dict()"
   ]
  },
  {
   "cell_type": "code",
   "execution_count": 64,
   "metadata": {},
   "outputs": [
    {
     "data": {
      "text/plain": [
       "Parameter containing:\n",
       "tensor([[ 0.1781,  0.1368,  0.8412,  0.4497,  0.1604, -0.1248,  0.3549, -0.2746,\n",
       "          0.2133,  0.2675,  0.3607,  0.2020,  0.2258,  0.1848,  0.1926,  0.1966,\n",
       "          0.5588,  0.1551, -0.3235,  0.1985,  0.1819,  0.5139,  0.1870,  0.1578,\n",
       "          0.4102,  0.2142,  0.1941,  0.5321,  0.4127,  0.1205,  0.8987,  0.2716]],\n",
       "       requires_grad=True)"
      ]
     },
     "execution_count": 64,
     "metadata": {},
     "output_type": "execute_result"
    }
   ],
   "source": [
    "net[2].weight"
   ]
  },
  {
   "cell_type": "code",
   "execution_count": 71,
   "metadata": {},
   "outputs": [],
   "source": [
    "torch.save(net,'Sigmoid-200.pt')"
   ]
  }
 ],
 "metadata": {
  "kernelspec": {
   "display_name": "pytorch",
   "language": "python",
   "name": "python3"
  },
  "language_info": {
   "codemirror_mode": {
    "name": "ipython",
    "version": 3
   },
   "file_extension": ".py",
   "mimetype": "text/x-python",
   "name": "python",
   "nbconvert_exporter": "python",
   "pygments_lexer": "ipython3",
   "version": "3.9.16"
  },
  "orig_nbformat": 4
 },
 "nbformat": 4,
 "nbformat_minor": 2
}
