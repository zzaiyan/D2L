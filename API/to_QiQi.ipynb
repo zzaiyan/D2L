{
 "cells": [
  {
   "cell_type": "code",
   "execution_count": 1,
   "metadata": {},
   "outputs": [],
   "source": [
    "import pandas as pd\n",
    "import numpy as np\n",
    "from tqdm import tqdm\n",
    "import torch\n",
    "from torch import nn\n",
    "from torch.utils import data"
   ]
  },
  {
   "cell_type": "code",
   "execution_count": null,
   "metadata": {},
   "outputs": [],
   "source": [
    "# 以下为给琪琪的接口"
   ]
  },
  {
   "cell_type": "code",
   "execution_count": 2,
   "metadata": {},
   "outputs": [],
   "source": [
    "pca_per_ppd = pd.read_csv('./pca_per.csv',index_col=0,header=None)\n",
    "pca_job_ppd = pd.read_csv('./pca_job.csv',index_col=0,header=None)"
   ]
  },
  {
   "cell_type": "code",
   "execution_count": 3,
   "metadata": {},
   "outputs": [],
   "source": [
    "pca_per_myd = pd.read_csv('./pca_per_myd.csv',index_col=0,header=None)\n",
    "pca_job_myd = pd.read_csv('./pca_job_myd.csv',index_col=0,header=None)"
   ]
  },
  {
   "cell_type": "code",
   "execution_count": 4,
   "metadata": {},
   "outputs": [],
   "source": [
    "def get_input_ppd(pid,rid):\n",
    "  per = pca_per_ppd.loc[pid].values\n",
    "  job = pca_job_myd.loc[rid].values\n",
    "  all = np.concatenate([per,job],axis=0)\n",
    "  return all\n",
    "\n",
    "def get_input_myd(pid,rid):\n",
    "  per = pca_per_myd.loc[pid].values\n",
    "  job = pca_job_myd.loc[rid].values\n",
    "  all = np.concatenate([per,job],axis=0)\n",
    "  return all"
   ]
  },
  {
   "cell_type": "code",
   "execution_count": 5,
   "metadata": {},
   "outputs": [],
   "source": [
    "net_ppd = torch.load('./Sigmoid-200.pt')\n",
    "net_myd = torch.load('./Sigmoid-MYD.pt')"
   ]
  },
  {
   "cell_type": "code",
   "execution_count": 6,
   "metadata": {},
   "outputs": [
    {
     "data": {
      "text/plain": [
       "((1575, 4), (10877, 3))"
      ]
     },
     "execution_count": 6,
     "metadata": {},
     "output_type": "execute_result"
    }
   ],
   "source": [
    "# 硬核条件，这里的序号是0~N-1\n",
    "hd_job = pd.read_csv('./hardcore_position.csv',index_col=0,header=0,encoding='gbk')\n",
    "hd_job.index = [i for i in range(hd_job.shape[0])]\n",
    "hd_per = pd.read_csv('./hardcore_user.csv',index_col=0,header=0,encoding='gbk')\n",
    "hd_per.index = [i for i in range(hd_per.shape[0])]\n",
    "hd_job.shape, hd_per.shape"
   ]
  },
  {
   "cell_type": "code",
   "execution_count": 7,
   "metadata": {},
   "outputs": [],
   "source": [
    "def is_fw(pid):\n",
    "  val = fw_list.loc[pid,'是否为废人']\n",
    "  return val==1\n",
    "\n",
    "fw_list = pd.read_csv('./fw.txt',sep=' ',index_col=0)"
   ]
  },
  {
   "cell_type": "code",
   "execution_count": 11,
   "metadata": {},
   "outputs": [],
   "source": [
    "# 属性嵌入，这里的序号是0~N-1\n",
    "# 用于拼接向量 and 判断行业\n",
    "a_emb_job = pd.read_csv('./attribute_embedding_position.txt',sep=' ',index_col=0,header=None,na_values=[])\n",
    "a_emb_per = pd.read_csv('./attribute_embedding_user.txt',sep=' ',index_col=0,header=None,na_values=[])"
   ]
  },
  {
   "cell_type": "code",
   "execution_count": 8,
   "metadata": {},
   "outputs": [],
   "source": [
    "def judge_hangye(pid,rid): # 0~N-1\n",
    "  # print(pid,rid)\n",
    "  x = a_emb_per.loc[pid,6:14].values.astype('int')\n",
    "  y = a_emb_job.loc[rid,6:14].values.astype('int')\n",
    "  sum = (x*y).sum()\n",
    "  return sum > 0\n",
    "\n",
    "def judge_gongzi(pid,rid): # 0~N-1\n",
    "  p2, p1 = hd_per.iloc[pid,:-1]\n",
    "  r2, r1 = hd_job.iloc[rid,-2:]\n",
    "  return max(p1,r1)<=min(p2,r2)\n",
    "\n",
    "def judge_type(pid,rid):\n",
    "  pt = hd_per.iloc[pid,-1]\n",
    "  rt = hd_job.iloc[rid,0]\n",
    "  # print(pt,rt)\n",
    "  return pt == rt\n",
    "\n",
    "def judge(pid,rid):\n",
    "  # b1 = judge_hangye(pid,rid)\n",
    "  b2 = judge_gongzi(pid,rid)\n",
    "  b3 = judge_type(pid,rid)\n",
    "  return b2 and b3"
   ]
  },
  {
   "cell_type": "code",
   "execution_count": 13,
   "metadata": {},
   "outputs": [
    {
     "data": {
      "text/plain": [
       "False"
      ]
     },
     "execution_count": 13,
     "metadata": {},
     "output_type": "execute_result"
    }
   ],
   "source": [
    "judge(3108,365)"
   ]
  },
  {
   "cell_type": "code",
   "execution_count": 19,
   "metadata": {},
   "outputs": [],
   "source": [
    "ppd_buf = {}\n",
    "myd_buf = {}\n",
    "for i in pca_per_ppd.index:\n",
    "  ppd_buf[i] = np.zeros(1575)-1\n",
    "  myd_buf[i] = np.zeros(1575)-1\n",
    "\n",
    "def get_ppd(pid,rid):\n",
    "  if judge(pid,rid)==False: # 硬性条件不满足为0\n",
    "    return 0\n",
    "  elif is_fw(pid):  # 废物为1\n",
    "    return 0.1\n",
    "  elif ppd_buf[pid][rid]>=0:\n",
    "    return ppd_buf[pid][rid]\n",
    "  else:\n",
    "    ppd = net_ppd(torch.Tensor(get_input_ppd(pid,rid))).item()\n",
    "    print(ppd)\n",
    "    # print(f'ppd({pid},{rid})={ppd}')\n",
    "  ppd = min(ppd,10)\n",
    "  ppd = max(ppd,1)/10\n",
    "  ppd_buf[pid][rid] = ppd\n",
    "  return ppd\n",
    "\n",
    "def get_myd(pid,rid):\n",
    "  if judge(pid,rid)==False: # 硬性条件不满足为0\n",
    "    return 0\n",
    "  elif is_fw(pid):  # 废物为1\n",
    "    return 0.1\n",
    "  elif myd_buf[pid][rid]>=0:\n",
    "    return myd_buf[pid][rid]\n",
    "  else:\n",
    "    myd = net_myd(torch.Tensor(get_input_myd(pid,rid))).item()\n",
    "    print(myd)\n",
    "    # print(f'ppd({pid},{rid})={ppd}')\n",
    "  myd = min(myd,10)\n",
    "  myd = max(myd,1)/10\n",
    "  myd_buf[pid][rid] = myd\n",
    "  return myd"
   ]
  },
  {
   "cell_type": "code",
   "execution_count": 20,
   "metadata": {},
   "outputs": [
    {
     "data": {
      "text/plain": [
       "(0, 0)"
      ]
     },
     "execution_count": 20,
     "metadata": {},
     "output_type": "execute_result"
    }
   ],
   "source": [
    "# 调用实例，使用时可以把函数里的print关掉\n",
    "# 仅第一次调用神经网络，即建立缓存时会print\n",
    "a,b = 317,46\n",
    "get_ppd(a,b),get_myd(a,b)"
   ]
  },
  {
   "cell_type": "code",
   "execution_count": 17,
   "metadata": {},
   "outputs": [
    {
     "data": {
      "text/plain": [
       "False"
      ]
     },
     "execution_count": 17,
     "metadata": {},
     "output_type": "execute_result"
    }
   ],
   "source": [
    "judge(a,b)"
   ]
  }
 ],
 "metadata": {
  "kernelspec": {
   "display_name": "Python 3 (ipykernel)",
   "language": "python",
   "name": "python3"
  },
  "language_info": {
   "codemirror_mode": {
    "name": "ipython",
    "version": 3
   },
   "file_extension": ".py",
   "mimetype": "text/x-python",
   "name": "python",
   "nbconvert_exporter": "python",
   "pygments_lexer": "ipython3",
   "version": "3.9.16"
  }
 },
 "nbformat": 4,
 "nbformat_minor": 2
}
