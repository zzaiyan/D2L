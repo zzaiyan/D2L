{
 "cells": [
  {
   "cell_type": "code",
   "execution_count": 9,
   "metadata": {},
   "outputs": [],
   "source": [
    "import pandas as pd\n",
    "import numpy as np\n",
    "import torch\n",
    "from torch import nn\n",
    "from torch.utils import data\n",
    "from d2l import torch as d2l\n",
    "from tqdm import tqdm"
   ]
  },
  {
   "cell_type": "code",
   "execution_count": 50,
   "metadata": {},
   "outputs": [],
   "source": [
    "true_w = torch.tensor([2,-3.4,3,1,-5])\n",
    "true_b = 4.2\n",
    "data_size = 100\n",
    "features,labels = d2l.synthetic_data(true_w,true_b,data_size)"
   ]
  },
  {
   "cell_type": "code",
   "execution_count": 51,
   "metadata": {},
   "outputs": [
    {
     "data": {
      "text/plain": [
       "torch.Size([100, 5])"
      ]
     },
     "execution_count": 51,
     "metadata": {},
     "output_type": "execute_result"
    }
   ],
   "source": [
    "features.shape"
   ]
  },
  {
   "cell_type": "code",
   "execution_count": 52,
   "metadata": {},
   "outputs": [],
   "source": [
    "def load_array(data_arrays, batch_size, is_train=True):\n",
    "  # Array to Iter\n",
    "  dataset = data.TensorDataset(*data_arrays)\n",
    "  return data.DataLoader(dataset, batch_size, shuffle=is_train)"
   ]
  },
  {
   "cell_type": "code",
   "execution_count": 53,
   "metadata": {},
   "outputs": [],
   "source": [
    "batch_size = 10\n",
    "data_iter = load_array((features,labels), batch_size)"
   ]
  },
  {
   "cell_type": "code",
   "execution_count": 54,
   "metadata": {},
   "outputs": [],
   "source": [
    "net = nn.Sequential(nn.Linear(5,1))\n",
    "# net = nn.Sequential(nn.Flatten(),\n",
    "#                     nn.Linear(2, 10),\n",
    "#                     nn.ReLU(),\n",
    "#                     nn.Linear(10, 1))"
   ]
  },
  {
   "cell_type": "code",
   "execution_count": 102,
   "metadata": {},
   "outputs": [
    {
     "data": {
      "text/plain": [
       "tensor([0.])"
      ]
     },
     "execution_count": 102,
     "metadata": {},
     "output_type": "execute_result"
    }
   ],
   "source": [
    "net[0].weight.data.normal_(0, 0.1)\n",
    "net[0].bias.data.fill_(0)"
   ]
  },
  {
   "cell_type": "code",
   "execution_count": 56,
   "metadata": {},
   "outputs": [],
   "source": [
    "loss = nn.MSELoss()"
   ]
  },
  {
   "cell_type": "code",
   "execution_count": 63,
   "metadata": {},
   "outputs": [],
   "source": [
    "trainer = torch.optim.SGD(net.parameters(), lr=0.03)"
   ]
  },
  {
   "cell_type": "code",
   "execution_count": 103,
   "metadata": {},
   "outputs": [
    {
     "name": "stdout",
     "output_type": "stream",
     "text": [
      "torch.Size([10, 5]) torch.Size([10, 1])\n",
      "torch.Size([10, 5]) torch.Size([10, 1])\n",
      "torch.Size([10, 5]) torch.Size([10, 1])\n",
      "torch.Size([10, 5]) torch.Size([10, 1])\n",
      "torch.Size([10, 5]) torch.Size([10, 1])\n",
      "torch.Size([10, 5]) torch.Size([10, 1])\n",
      "torch.Size([10, 5]) torch.Size([10, 1])\n",
      "torch.Size([10, 5]) torch.Size([10, 1])\n",
      "torch.Size([10, 5]) torch.Size([10, 1])\n",
      "torch.Size([10, 5]) torch.Size([10, 1])\n",
      "epoch 1, loss 19.451967\n"
     ]
    }
   ],
   "source": [
    "num_epochs = 1\n",
    "for epoch in range(num_epochs):\n",
    "    for X, y in data_iter:\n",
    "        print(X.shape, y.shape)\n",
    "        l = loss(net(X) ,y)\n",
    "        trainer.zero_grad()\n",
    "        l.backward()\n",
    "        trainer.step()\n",
    "    l = loss(net(features), labels)\n",
    "    print(f'epoch {epoch + 1}, loss {l:f}')"
   ]
  },
  {
   "cell_type": "code",
   "execution_count": 43,
   "metadata": {},
   "outputs": [
    {
     "name": "stdout",
     "output_type": "stream",
     "text": [
      "w的估计: tensor([[-5.6982e-04,  6.2490e-04,  8.7690e-04, -6.5446e-05, -2.4891e-04]])\n",
      "b的估计: tensor([-0.0009])\n"
     ]
    }
   ],
   "source": [
    "w = net[0].weight.data\n",
    "print('w的估计:', true_w-w)\n",
    "b = net[0].bias.data\n",
    "print('b的估计:', true_b-b)"
   ]
  },
  {
   "cell_type": "code",
   "execution_count": 33,
   "metadata": {},
   "outputs": [
    {
     "name": "stdout",
     "output_type": "stream",
     "text": [
      "w的估计： tensor([[ 0.0262, -0.1310],\n",
      "        [ 0.9077, -1.3616],\n",
      "        [-0.4431,  0.6230],\n",
      "        [ 0.1779, -0.3980],\n",
      "        [-0.4718,  0.7903],\n",
      "        [-0.3988,  0.5958],\n",
      "        [ 0.2055, -0.3058],\n",
      "        [-0.4572,  0.6321],\n",
      "        [-0.2968,  0.4415],\n",
      "        [ 0.1620, -0.4002]])\n",
      "b的估计： tensor([ 0.3692, -0.1944,  0.1243,  1.2429,  0.1154,  0.0825, -0.0931,  0.0766,\n",
      "         0.0612,  1.2193])\n"
     ]
    }
   ],
   "source": [
    "w = net[1].weight.data\n",
    "print('w的估计:', w)\n",
    "b = net[1].bias.data\n",
    "print('b的估计:', b)"
   ]
  }
 ],
 "metadata": {
  "kernelspec": {
   "display_name": "pytorch",
   "language": "python",
   "name": "python3"
  },
  "language_info": {
   "codemirror_mode": {
    "name": "ipython",
    "version": 3
   },
   "file_extension": ".py",
   "mimetype": "text/x-python",
   "name": "python",
   "nbconvert_exporter": "python",
   "pygments_lexer": "ipython3",
   "version": "3.9.16"
  },
  "orig_nbformat": 4
 },
 "nbformat": 4,
 "nbformat_minor": 2
}
