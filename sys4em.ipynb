{
 "cells": [
  {
   "cell_type": "code",
   "execution_count": 2,
   "metadata": {},
   "outputs": [],
   "source": [
    "import pandas as pd\n",
    "import numpy as np\n",
    "from tqdm import tqdm"
   ]
  },
  {
   "cell_type": "code",
   "execution_count": 61,
   "metadata": {},
   "outputs": [],
   "source": [
    "# 这里使用的ID为1~N版本\n",
    "class Person:\n",
    "  def __init__(self, id):\n",
    "    self.id = id\n",
    "    self.alive = True # 是否存活\n",
    "    self.offers = []  # 收到的offer\n",
    "    self.job = -1 # 签约的企业\n",
    "\n",
    "class Recruit:\n",
    "  def __init__(self, id, num):\n",
    "    self.id = id\n",
    "    self.num = num # 岗位剩余容量\n",
    "    # self.offers = []  # 收到的offer\n",
    "    self.workers = [] # 签约的员工\n",
    "    \n",
    "class Pair:\n",
    "  def __init__(self, per, rec, val):\n",
    "    self.pid = per.id\n",
    "    self.rid = rec.id\n",
    "    self.val = val\n",
    "    \n",
    "  def __cmp__(self, another) -> bool:\n",
    "    return self.val > another.val\n",
    "  \n",
    "  def print(self):\n",
    "    print(self.pid, self.rid, self.val)"
   ]
  },
  {
   "cell_type": "code",
   "execution_count": 4,
   "metadata": {},
   "outputs": [],
   "source": [
    "def get_ppd(per_id, job_id):\n",
    "  return np.random.random()\n",
    "\n",
    "def get_myd(per_id, job_id):\n",
    "  return np.random.random()\n",
    "\n",
    "def hardcore(per_id, job_id):\n",
    "  return True"
   ]
  },
  {
   "cell_type": "code",
   "execution_count": 6,
   "metadata": {},
   "outputs": [
    {
     "data": {
      "text/html": [
       "<div>\n",
       "<style scoped>\n",
       "    .dataframe tbody tr th:only-of-type {\n",
       "        vertical-align: middle;\n",
       "    }\n",
       "\n",
       "    .dataframe tbody tr th {\n",
       "        vertical-align: top;\n",
       "    }\n",
       "\n",
       "    .dataframe thead th {\n",
       "        text-align: right;\n",
       "    }\n",
       "</style>\n",
       "<table border=\"1\" class=\"dataframe\">\n",
       "  <thead>\n",
       "    <tr style=\"text-align: right;\">\n",
       "      <th></th>\n",
       "      <th>序号</th>\n",
       "      <th>求职者 ID</th>\n",
       "      <th>姓名</th>\n",
       "      <th>预期岗位</th>\n",
       "      <th>工作地区</th>\n",
       "      <th>经验</th>\n",
       "      <th>性别</th>\n",
       "      <th>生日</th>\n",
       "      <th>政治面貌</th>\n",
       "      <th>自我评价</th>\n",
       "      <th>...</th>\n",
       "      <th>工作性质</th>\n",
       "      <th>简历关键词</th>\n",
       "      <th>工作经历</th>\n",
       "      <th>项目经历</th>\n",
       "      <th>竞赛经历</th>\n",
       "      <th>教育经历</th>\n",
       "      <th>培训经历</th>\n",
       "      <th>证书</th>\n",
       "      <th>语言</th>\n",
       "      <th>技能</th>\n",
       "    </tr>\n",
       "  </thead>\n",
       "  <tbody>\n",
       "    <tr>\n",
       "      <th>0</th>\n",
       "      <td>1</td>\n",
       "      <td>1648621861036219904</td>\n",
       "      <td>张女士</td>\n",
       "      <td>[\"数据分析师\"]</td>\n",
       "      <td>[\"广东省\",\"广州市\",\"天河区\"]</td>\n",
       "      <td>无经验</td>\n",
       "      <td>女</td>\n",
       "      <td>2002-12-18T16:00:00.000Z</td>\n",
       "      <td>LEAGUE_MEMBER</td>\n",
       "      <td>本科毕业，具有多年的比赛经验，曾获数据挖掘一等奖，数据分析一等奖，数学竞赛二等奖，数学建模一...</td>\n",
       "      <td>...</td>\n",
       "      <td>实习</td>\n",
       "      <td>[]</td>\n",
       "      <td>[]</td>\n",
       "      <td>[]</td>\n",
       "      <td>[]</td>\n",
       "      <td>[]</td>\n",
       "      <td>[]</td>\n",
       "      <td>[]</td>\n",
       "      <td>[]</td>\n",
       "      <td>[]</td>\n",
       "    </tr>\n",
       "  </tbody>\n",
       "</table>\n",
       "<p>1 rows × 23 columns</p>\n",
       "</div>"
      ],
      "text/plain": [
       "   序号               求职者 ID   姓名       预期岗位                 工作地区   经验 性别  \\\n",
       "0   1  1648621861036219904  张女士  [\"数据分析师\"]  [\"广东省\",\"广州市\",\"天河区\"]  无经验  女   \n",
       "\n",
       "                         生日           政治面貌  \\\n",
       "0  2002-12-18T16:00:00.000Z  LEAGUE_MEMBER   \n",
       "\n",
       "                                                自我评价  ...  工作性质  简历关键词 工作经历  \\\n",
       "0  本科毕业，具有多年的比赛经验，曾获数据挖掘一等奖，数据分析一等奖，数学竞赛二等奖，数学建模一...  ...    实习     []   []   \n",
       "\n",
       "  项目经历 竞赛经历 教育经历 培训经历  证书  语言  技能  \n",
       "0   []   []   []   []  []  []  []  \n",
       "\n",
       "[1 rows x 23 columns]"
      ]
     },
     "execution_count": 6,
     "metadata": {},
     "output_type": "execute_result"
    }
   ],
   "source": [
    "df_per = pd.read_excel('./user.xlsx')\n",
    "df_per.head(1)"
   ]
  },
  {
   "cell_type": "code",
   "execution_count": 20,
   "metadata": {},
   "outputs": [
    {
     "data": {
      "text/html": [
       "<div>\n",
       "<style scoped>\n",
       "    .dataframe tbody tr th:only-of-type {\n",
       "        vertical-align: middle;\n",
       "    }\n",
       "\n",
       "    .dataframe tbody tr th {\n",
       "        vertical-align: top;\n",
       "    }\n",
       "\n",
       "    .dataframe thead th {\n",
       "        text-align: right;\n",
       "    }\n",
       "</style>\n",
       "<table border=\"1\" class=\"dataframe\">\n",
       "  <thead>\n",
       "    <tr style=\"text-align: right;\">\n",
       "      <th></th>\n",
       "      <th>序号</th>\n",
       "      <th>招聘信息 ID</th>\n",
       "      <th>企业名称</th>\n",
       "      <th>招聘岗位</th>\n",
       "      <th>学历要求</th>\n",
       "      <th>经验要求</th>\n",
       "      <th>岗位关键词</th>\n",
       "      <th>性质</th>\n",
       "      <th>岗位需求量</th>\n",
       "      <th>最大薪资</th>\n",
       "      <th>最小薪资</th>\n",
       "      <th>企业工作地点</th>\n",
       "      <th>公司类型</th>\n",
       "      <th>行业</th>\n",
       "      <th>公司规模</th>\n",
       "      <th>职位描述</th>\n",
       "      <th>职位福利</th>\n",
       "    </tr>\n",
       "  </thead>\n",
       "  <tbody>\n",
       "    <tr>\n",
       "      <th>0</th>\n",
       "      <td>1</td>\n",
       "      <td>1648527394191049984</td>\n",
       "      <td>众云网</td>\n",
       "      <td>售前技术支持</td>\n",
       "      <td>大专</td>\n",
       "      <td>不限</td>\n",
       "      <td>[{'id': '1648528107189178368', 'createTime': '...</td>\n",
       "      <td>全职</td>\n",
       "      <td>6</td>\n",
       "      <td>20000</td>\n",
       "      <td>12000</td>\n",
       "      <td>深圳市南山区粤海街道滨海社区海天一路19、17、18号软件产业基地4栋511</td>\n",
       "      <td>民营公司</td>\n",
       "      <td>['互联网', '计算机软件']</td>\n",
       "      <td>150-500人</td>\n",
       "      <td>岗位职责：\\n1、负责配合客户及项目需要，完成技术交流，提供解决方案；\\n2、负责网络安全、...</td>\n",
       "      <td>['餐饮补贴', '专业培训', '弹性工作']</td>\n",
       "    </tr>\n",
       "  </tbody>\n",
       "</table>\n",
       "</div>"
      ],
      "text/plain": [
       "   序号              招聘信息 ID 企业名称    招聘岗位 学历要求 经验要求  \\\n",
       "0   1  1648527394191049984  众云网  售前技术支持   大专   不限   \n",
       "\n",
       "                                               岗位关键词  性质  岗位需求量   最大薪资   最小薪资  \\\n",
       "0  [{'id': '1648528107189178368', 'createTime': '...  全职      6  20000  12000   \n",
       "\n",
       "                                   企业工作地点  公司类型                行业      公司规模  \\\n",
       "0  深圳市南山区粤海街道滨海社区海天一路19、17、18号软件产业基地4栋511  民营公司  ['互联网', '计算机软件']  150-500人   \n",
       "\n",
       "                                                职位描述                      职位福利  \n",
       "0  岗位职责：\\n1、负责配合客户及项目需要，完成技术交流，提供解决方案；\\n2、负责网络安全、...  ['餐饮补贴', '专业培训', '弹性工作']  "
      ]
     },
     "execution_count": 20,
     "metadata": {},
     "output_type": "execute_result"
    }
   ],
   "source": [
    "df_rec = pd.read_excel('./position.xlsx')\n",
    "df_rec.head(1)"
   ]
  },
  {
   "cell_type": "code",
   "execution_count": 69,
   "metadata": {},
   "outputs": [],
   "source": [
    "persons = []\n",
    "recruits = []"
   ]
  },
  {
   "cell_type": "code",
   "execution_count": 70,
   "metadata": {},
   "outputs": [
    {
     "name": "stderr",
     "output_type": "stream",
     "text": [
      "100%|██████████| 10877/10877 [00:00<00:00, 136025.46it/s]\n"
     ]
    }
   ],
   "source": [
    "for i in tqdm(range(df_per.shape[0])):\n",
    "  id = df_per.loc[i, '序号']\n",
    "  tmp = Person(id)\n",
    "  persons.append(tmp)\n",
    "  # print(id)"
   ]
  },
  {
   "cell_type": "code",
   "execution_count": 71,
   "metadata": {},
   "outputs": [
    {
     "name": "stderr",
     "output_type": "stream",
     "text": [
      "100%|██████████| 1575/1575 [00:00<00:00, 13687.19it/s]\n"
     ]
    }
   ],
   "source": [
    "for i in tqdm(range(df_rec.shape[0])):\n",
    "  id = df_rec.loc[i, '序号']\n",
    "  num = df_rec.loc[i, '岗位需求量']\n",
    "  tmp = Recruit(id, num)\n",
    "  recruits.append(tmp)\n",
    "  # print(id)"
   ]
  },
  {
   "cell_type": "code",
   "execution_count": 53,
   "metadata": {},
   "outputs": [
    {
     "data": {
      "text/plain": [
       "6"
      ]
     },
     "execution_count": 53,
     "metadata": {},
     "output_type": "execute_result"
    }
   ],
   "source": [
    "# sum = 0\n",
    "# for i in recruits:\n",
    "#   sum += i.num\n",
    "# print(sum)\n",
    "len(tmp_list)"
   ]
  },
  {
   "cell_type": "code",
   "execution_count": 74,
   "metadata": {},
   "outputs": [
    {
     "name": "stdout",
     "output_type": "stream",
     "text": [
      "epoch 1:\n"
     ]
    },
    {
     "name": "stderr",
     "output_type": "stream",
     "text": [
      "  0%|          | 0/1575 [00:00<?, ?it/s]\n"
     ]
    },
    {
     "ename": "AttributeError",
     "evalue": "'Recruit' object has no attribute 'worker'",
     "output_type": "error",
     "traceback": [
      "\u001b[1;31m---------------------------------------------------------------------------\u001b[0m",
      "\u001b[1;31mAttributeError\u001b[0m                            Traceback (most recent call last)",
      "Cell \u001b[1;32mIn[74], line 41\u001b[0m\n\u001b[0;32m     39\u001b[0m       dest_rec\u001b[39m.\u001b[39mnum \u001b[39m-\u001b[39m\u001b[39m=\u001b[39m \u001b[39m1\u001b[39m\n\u001b[0;32m     40\u001b[0m       per\u001b[39m.\u001b[39mjob \u001b[39m=\u001b[39m dest_rec\u001b[39m.\u001b[39mid\n\u001b[1;32m---> 41\u001b[0m       dest_rec\u001b[39m.\u001b[39;49mworker\u001b[39m.\u001b[39mappend(per)\n\u001b[0;32m     47\u001b[0m \u001b[39mbreak\u001b[39;00m\n",
      "\u001b[1;31mAttributeError\u001b[0m: 'Recruit' object has no attribute 'worker'"
     ]
    }
   ],
   "source": [
    "epoch = 1\n",
    "while True:\n",
    "  # 招聘回合\n",
    "  print(f'epoch {epoch}:')\n",
    "  epoch += 1\n",
    "  for rec in tqdm(recruits):  # 对于每个岗位\n",
    "    # 发放offer\n",
    "    tmp_list = [] # 临时数组：<per, rec, val>\n",
    "    # 计算与每个求职者的匹配度\n",
    "    for per in persons:\n",
    "      val = get_ppd(per.id, rec.id)\n",
    "      pair = Pair(per, rec, val)\n",
    "      tmp_list.append(pair)\n",
    "    # 就地排序 by val\n",
    "    tmp_list.sort(reverse=True, key=lambda x:x.val)\n",
    "    tmp_list = tmp_list[:rec.num] # 取TopK\n",
    "    \n",
    "    for pair in tmp_list:\n",
    "      per = persons[pair.pid-1]\n",
    "      rec = recruits[pair.rid-1]\n",
    "      \n",
    "      per.offers.append(rec.id) # 发放offer\n",
    "  \n",
    "  # 所有岗位offer发放完毕\n",
    "    \n",
    "  # 求职者签约\n",
    "    for per in persons: # 对于每个求职者\n",
    "      tmp2list = []\n",
    "      for rid in per.offers:  # 对于每一份offer\n",
    "        rec = recruits[rid-1]\n",
    "        val = get_myd(per.id, rec.id)\n",
    "        pair = Pair(per, rec, val)\n",
    "        tmp2list.append(pair)\n",
    "      if len(tmp2list)==0:  # 当前求职者无offer\n",
    "        continue\n",
    "      tmp2list.sort(reverse=True, key=lambda x:x.val) # 取最高满意度\n",
    "      dest_rec = recruits[tmp2list[0].rid-1]\n",
    "      if dest_rec.num > 0: # 若未招满\n",
    "        dest_rec.num -= 1\n",
    "        per.job = dest_rec.id\n",
    "        dest_rec.worker.append(per)\n",
    "     \n",
    "      \n",
    "      \n",
    "      \n",
    "  \n",
    "  break\n",
    "    \n",
    "    "
   ]
  },
  {
   "cell_type": "code",
   "execution_count": null,
   "metadata": {},
   "outputs": [],
   "source": [
    "for item in tmp_list:\n",
    "  # print(item.pid, item.rid, item.val)\n",
    "  item.print()"
   ]
  },
  {
   "cell_type": "code",
   "execution_count": 23,
   "metadata": {},
   "outputs": [
    {
     "data": {
      "text/plain": [
       "((30, 10), (30, 10))"
      ]
     },
     "execution_count": 23,
     "metadata": {},
     "output_type": "execute_result"
    }
   ],
   "source": [
    "myd = np.ndarray((30, 10), dtype='float')\n",
    "ppd = np.ndarray((30, 10), dtype='float')\n",
    "for i in range(myd.shape[0]):\n",
    "  for j in range(myd.shape[1]):\n",
    "    myd[i][j] = get_myd(i,j)\n",
    "    ppd[i][j] = get_ppd(i,j)\n",
    "    # print(f'mark({i},{j}={mark[i][j]})')\n",
    "myd.shape, ppd.shape"
   ]
  },
  {
   "cell_type": "code",
   "execution_count": null,
   "metadata": {},
   "outputs": [],
   "source": []
  }
 ],
 "metadata": {
  "kernelspec": {
   "display_name": "pytorch",
   "language": "python",
   "name": "python3"
  },
  "language_info": {
   "codemirror_mode": {
    "name": "ipython",
    "version": 3
   },
   "file_extension": ".py",
   "mimetype": "text/x-python",
   "name": "python",
   "nbconvert_exporter": "python",
   "pygments_lexer": "ipython3",
   "version": "3.9.16"
  },
  "orig_nbformat": 4
 },
 "nbformat": 4,
 "nbformat_minor": 2
}
