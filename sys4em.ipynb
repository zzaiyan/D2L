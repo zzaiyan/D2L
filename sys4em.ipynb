{
 "cells": [
  {
   "cell_type": "code",
   "execution_count": 1,
   "metadata": {},
   "outputs": [],
   "source": [
    "import pandas as pd\n",
    "import numpy as np\n",
    "from tqdm import tqdm\n",
    "import torch\n",
    "from torch import nn\n",
    "from torch.utils import data\n",
    "from d2l import torch as d2l"
   ]
  },
  {
   "cell_type": "code",
   "execution_count": 2,
   "metadata": {},
   "outputs": [],
   "source": [
    "# 这里使用的ID为1~N版本\n",
    "class Person:\n",
    "  def __init__(self, id):\n",
    "    self.id = id\n",
    "    self.alive = True # 是否存活\n",
    "    self.offers = []  # 收到的offer\n",
    "    self.job = -1 # 签约的企业\n",
    "\n",
    "class Recruit:\n",
    "  def __init__(self, id, num):\n",
    "    self.id = id\n",
    "    self.num = num # 岗位剩余容量\n",
    "    self.workers = [] # 签约的员工\n",
    "    \n",
    "class Pair:\n",
    "  def __init__(self, per, rec, val):\n",
    "    self.pid = per.id\n",
    "    self.rid = rec.id\n",
    "    self.val = val\n",
    "  \n",
    "  def print(self):\n",
    "    print(self.pid, self.rid, self.val)"
   ]
  },
  {
   "cell_type": "code",
   "execution_count": 3,
   "metadata": {},
   "outputs": [
    {
     "name": "stdout",
     "output_type": "stream",
     "text": [
      "(1575, 74) (868, 74)\n"
     ]
    }
   ],
   "source": [
    "# 属性嵌入，这里的序号是0~N-1\n",
    "# 用于拼接向量 and 判断行业\n",
    "a_emb_job = pd.read_csv('./attribute_embedding_position.txt',sep=' ',index_col=0,header=None,na_values=[])\n",
    "a_emb_per = pd.read_csv('./attribute_embedding_user.txt',sep=' ',index_col=0,header=None,na_values=[])\n",
    "\n",
    "print(a_emb_job.shape, a_emb_per.shape)"
   ]
  },
  {
   "cell_type": "code",
   "execution_count": 4,
   "metadata": {},
   "outputs": [],
   "source": [
    "alive = []\n",
    "for i in a_emb_per.index:\n",
    "  alive.append(i)\n",
    "ss = pd.Series(alive)\n",
    "ss.to_csv('./no_fw.csv')"
   ]
  },
  {
   "cell_type": "code",
   "execution_count": 5,
   "metadata": {},
   "outputs": [],
   "source": [
    "def is_fw(pid):\n",
    "  # return not pid in idx\n",
    "  # print(f'is_fw({pid})')\n",
    "  val = fw_list.loc[pid,'是否为废人']\n",
    "  return val==1\n",
    "\n",
    "fw_list = pd.read_csv('./fw.txt',sep=' ',index_col=0)\n",
    "# fw_list.head()"
   ]
  },
  {
   "cell_type": "code",
   "execution_count": 48,
   "metadata": {},
   "outputs": [],
   "source": [
    "l = fw_list.shape[0]\n",
    "sum = 0\n",
    "map_list = []\n",
    "for i in range(100):\n",
    "  if is_fw(i):\n",
    "    map_list.append(-1)\n",
    "  else:\n",
    "    map_list.append(sum)\n",
    "    sum += 1\n",
    "\n",
    "# map_list"
   ]
  },
  {
   "cell_type": "code",
   "execution_count": 89,
   "metadata": {},
   "outputs": [
    {
     "data": {
      "text/plain": [
       "((1575, 4), (10877, 3))"
      ]
     },
     "execution_count": 89,
     "metadata": {},
     "output_type": "execute_result"
    }
   ],
   "source": [
    "# 硬核条件，这里的序号是0~N-1\n",
    "hd_job = pd.read_csv('./hardcore_position.csv',index_col=0,header=0,encoding='gbk')\n",
    "hd_job.index = [i for i in range(hd_job.shape[0])]\n",
    "hd_per = pd.read_csv('./hardcore_user.csv',index_col=0,header=0,encoding='gbk')\n",
    "hd_per.index = [i for i in range(hd_per.shape[0])]\n",
    "hd_job.shape, hd_per.shape"
   ]
  },
  {
   "cell_type": "code",
   "execution_count": 90,
   "metadata": {},
   "outputs": [
    {
     "data": {
      "text/html": [
       "<div>\n",
       "<style scoped>\n",
       "    .dataframe tbody tr th:only-of-type {\n",
       "        vertical-align: middle;\n",
       "    }\n",
       "\n",
       "    .dataframe tbody tr th {\n",
       "        vertical-align: top;\n",
       "    }\n",
       "\n",
       "    .dataframe thead th {\n",
       "        text-align: right;\n",
       "    }\n",
       "</style>\n",
       "<table border=\"1\" class=\"dataframe\">\n",
       "  <thead>\n",
       "    <tr style=\"text-align: right;\">\n",
       "      <th></th>\n",
       "      <th>性质</th>\n",
       "      <th>岗位需求量</th>\n",
       "      <th>最大薪资</th>\n",
       "      <th>最小薪资</th>\n",
       "    </tr>\n",
       "  </thead>\n",
       "  <tbody>\n",
       "    <tr>\n",
       "      <th>0</th>\n",
       "      <td>全职</td>\n",
       "      <td>6</td>\n",
       "      <td>20000</td>\n",
       "      <td>12000</td>\n",
       "    </tr>\n",
       "    <tr>\n",
       "      <th>1</th>\n",
       "      <td>全职</td>\n",
       "      <td>10</td>\n",
       "      <td>26000</td>\n",
       "      <td>16000</td>\n",
       "    </tr>\n",
       "    <tr>\n",
       "      <th>2</th>\n",
       "      <td>全职</td>\n",
       "      <td>100</td>\n",
       "      <td>25000</td>\n",
       "      <td>15000</td>\n",
       "    </tr>\n",
       "    <tr>\n",
       "      <th>3</th>\n",
       "      <td>全职</td>\n",
       "      <td>5</td>\n",
       "      <td>8000</td>\n",
       "      <td>5000</td>\n",
       "    </tr>\n",
       "    <tr>\n",
       "      <th>4</th>\n",
       "      <td>全职</td>\n",
       "      <td>6</td>\n",
       "      <td>6000</td>\n",
       "      <td>3500</td>\n",
       "    </tr>\n",
       "  </tbody>\n",
       "</table>\n",
       "</div>"
      ],
      "text/plain": [
       "   性质  岗位需求量   最大薪资   最小薪资\n",
       "0  全职      6  20000  12000\n",
       "1  全职     10  26000  16000\n",
       "2  全职    100  25000  15000\n",
       "3  全职      5   8000   5000\n",
       "4  全职      6   6000   3500"
      ]
     },
     "execution_count": 90,
     "metadata": {},
     "output_type": "execute_result"
    }
   ],
   "source": [
    "hd_job.head()"
   ]
  },
  {
   "cell_type": "code",
   "execution_count": 7,
   "metadata": {},
   "outputs": [],
   "source": [
    "def get_input_1(pid, rid):\n",
    "  per = pca_per_1.loc[pid].values\n",
    "  job = pca_job_1.loc[rid].values\n",
    "  all = np.concatenate([per,job],axis=0)\n",
    "  return all\n",
    "\n",
    "def get_input_2(pid, rid):\n",
    "  per = pca_per_2.loc[pid].values\n",
    "  job = pca_job_2.loc[rid].values\n",
    "  all = np.concatenate([per,job],axis=0)\n",
    "  return all\n",
    "\n",
    "pca_per_1 = pd.read_csv('./pca_per.csv',index_col=0,header=None)\n",
    "pca_job_1 = pd.read_csv('./pca_job.csv',index_col=0,header=None)\n",
    "\n",
    "pca_per_2 = pd.read_csv('./pca_per.csv',index_col=0,header=None)\n",
    "pca_job_2 = pd.read_csv('./pca_job.csv',index_col=0,header=None)"
   ]
  },
  {
   "cell_type": "code",
   "execution_count": 8,
   "metadata": {},
   "outputs": [
    {
     "data": {
      "text/plain": [
       "(128,)"
      ]
     },
     "execution_count": 8,
     "metadata": {},
     "output_type": "execute_result"
    }
   ],
   "source": [
    "# net = nn.Sequential(nn.Linear(128,32),\n",
    "#                     nn.ReLU(),\n",
    "#                     nn.Linear(32,1)\n",
    "#                     )\n",
    "net_1 = torch.load('./DNN-4000.pt')\n",
    "net_2 = torch.load('./DNN-4000.pt')\n",
    "get_input_1(7,1).shape"
   ]
  },
  {
   "cell_type": "code",
   "execution_count": 27,
   "metadata": {},
   "outputs": [],
   "source": [
    "def judge_hangye(pid,rid): # 0~N-1\n",
    "  # print(pid,rid)\n",
    "  x = a_emb_per.loc[pid,6:14].values.astype('int')\n",
    "  y = a_emb_job.loc[rid,6:14].values.astype('int')\n",
    "  sum = (x*y).sum()\n",
    "  return sum > 0\n",
    "\n",
    "def judge_gongzi(pid,rid): # 0~N-1\n",
    "  p2, p1 = hd_per.iloc[pid,:-1]\n",
    "  r2, r1 = hd_job.iloc[rid,-2:]\n",
    "  return max(p1,r1)<=min(p2,r2)\n",
    "\n",
    "def judge_type(pid,rid):\n",
    "  pt = hd_per.iloc[pid,-1]\n",
    "  rt = hd_job.iloc[rid,0]\n",
    "  # print(pt,rt)\n",
    "  return pt == rt\n",
    "\n",
    "def judge(pid,rid):\n",
    "  # b1 = judge_hangye(pid,rid)\n",
    "  b2 = judge_gongzi(pid,rid)\n",
    "  b3 = judge_type(pid,rid)\n",
    "  return b2 and b3"
   ]
  },
  {
   "cell_type": "code",
   "execution_count": 91,
   "metadata": {},
   "outputs": [
    {
     "data": {
      "text/plain": [
       "0"
      ]
     },
     "execution_count": 91,
     "metadata": {},
     "output_type": "execute_result"
    }
   ],
   "source": [
    "ppd_buf = {}\n",
    "myd_buf = {}\n",
    "for i in pca_per_1.index:\n",
    "  ppd_buf[i] = np.zeros(1575)-1\n",
    "  myd_buf[i] = np.zeros(1575)-1\n",
    "  # print(i)\n",
    "\n",
    "def get_ppd(pid,rid):\n",
    "  global net1_cnt\n",
    "  if is_fw(pid):  # 废物为1\n",
    "    return 0.1\n",
    "  elif judge(pid,rid)==False: # 硬性条件不满足为0\n",
    "    return 0\n",
    "  elif ppd_buf[pid][rid]>=0:\n",
    "    return ppd_buf[pid][rid]\n",
    "  else:\n",
    "    # ppd = np.random.random_sample()*10\n",
    "    # net1_cnt += 1\n",
    "    ppd = net_1(torch.Tensor(get_input_1(pid,rid))).item()\n",
    "    # print(f'ppd({pid},{rid})={ppd}')\n",
    "  ppd = min(ppd,10)\n",
    "  ppd = max(ppd,1)/10\n",
    "  ppd_buf[pid][rid] = ppd\n",
    "  return ppd\n",
    "\n",
    "def get_myd(pid,rid):\n",
    "  global net2_cnt\n",
    "  if is_fw(pid):  # 废物为1\n",
    "    return 0.1\n",
    "  elif judge(pid,rid)==False: # 硬性条件不满足为0\n",
    "    return 0\n",
    "  elif myd_buf[pid][rid]>=0:\n",
    "    return myd_buf[pid][rid]\n",
    "  else:\n",
    "    # net2_cnt += 1\n",
    "    # ppd = np.random.random_sample()*10\n",
    "    ppd = net_2(torch.Tensor(get_input_2(pid,rid))).item()\n",
    "    # print(f'myd({pid},{rid})={ppd}')\n",
    "  ppd = min(ppd,10)\n",
    "  ppd = max(ppd,1)/10\n",
    "  myd_buf[pid][rid] = ppd\n",
    "  return ppd\n",
    "\n",
    "get_myd(7,1522)"
   ]
  },
  {
   "cell_type": "code",
   "execution_count": 77,
   "metadata": {},
   "outputs": [
    {
     "name": "stdout",
     "output_type": "stream",
     "text": [
      "<7,10>:1.0 <7,11>:1.0 <7,12>:1.0 <7,13>:1.0 <7,14>:1.0 <7,15>:1.0 <7,104>:1.0 <7,110>:1.0 <7,269>:1.0 <7,270>:1.0 <7,271>:1.0 <7,272>:1.0 <7,273>:1.0 <7,274>:1.0 <7,275>:1.0 <7,276>:1.0 <7,277>:1.0 <7,278>:1.0 <7,279>:1.0 <7,280>:1.0 <7,281>:1.0 <7,282>:1.0 <7,283>:1.0 <7,284>:1.0 <7,305>:1.0 <7,1494>:1.0 "
     ]
    }
   ],
   "source": [
    "for i in range(1500):\n",
    "  x = get_ppd(7,i)\n",
    "  if x>0:\n",
    "    print(f'<7,{i}>:{x}',end=' ')"
   ]
  },
  {
   "cell_type": "code",
   "execution_count": 78,
   "metadata": {},
   "outputs": [
    {
     "name": "stdout",
     "output_type": "stream",
     "text": [
      "<7,10>:1.0 <7,11>:1.0 <7,12>:1.0 <7,13>:1.0 <7,14>:1.0 <7,15>:1.0 <7,104>:1.0 <7,110>:1.0 <7,269>:1.0 <7,270>:1.0 <7,271>:1.0 <7,272>:1.0 <7,273>:1.0 <7,274>:1.0 <7,275>:1.0 <7,276>:1.0 <7,277>:1.0 <7,278>:1.0 <7,279>:1.0 <7,280>:1.0 <7,281>:1.0 <7,282>:1.0 <7,283>:1.0 <7,284>:1.0 <7,305>:1.0 <7,1494>:1.0 "
     ]
    }
   ],
   "source": [
    "for i in ppd_buf:\n",
    "  arr = ppd_buf[i]\n",
    "  for j in range(len(arr)):\n",
    "    if arr[j]>0:\n",
    "      print(f'<{i},{j}>:{arr[j]}',end=' ')"
   ]
  },
  {
   "cell_type": "code",
   "execution_count": null,
   "metadata": {},
   "outputs": [],
   "source": [
    "# print(judge_hangye(41,2))\n",
    "true_cnt = 0\n",
    "false_cnt = 0\n",
    "\n",
    "for i in tqdm(range(10877)):\n",
    "  if is_fw(i):\n",
    "    continue\n",
    "  for j in range(1575):\n",
    "    b1 = judge_hangye(i,j)\n",
    "    b2 = judge_gongzi(i,j)\n",
    "    b3 = judge_type(i,j)\n",
    "    res = b1 and b2 and b3\n",
    "    if not res:\n",
    "      false_cnt+=1\n",
    "    else:\n",
    "      true_cnt+=1\n",
    "      \n",
    "true_cnt,false_cnt"
   ]
  },
  {
   "cell_type": "code",
   "execution_count": 38,
   "metadata": {},
   "outputs": [
    {
     "data": {
      "text/plain": [
       "0.10308902055445834"
      ]
     },
     "execution_count": 38,
     "metadata": {},
     "output_type": "execute_result"
    }
   ],
   "source": [
    "140933/(140933+1226167)"
   ]
  },
  {
   "cell_type": "code",
   "execution_count": 119,
   "metadata": {},
   "outputs": [],
   "source": [
    "persons = []\n",
    "recruits = []"
   ]
  },
  {
   "cell_type": "code",
   "execution_count": 120,
   "metadata": {},
   "outputs": [
    {
     "name": "stderr",
     "output_type": "stream",
     "text": [
      "100%|██████████| 5000/5000 [00:00<00:00, 899563.33it/s]\n"
     ]
    }
   ],
   "source": [
    "# for i in tqdm(range(hd_per.shape[0])):\n",
    "for i in tqdm(range(5000)):\n",
    "  # id = hd_per.loc[i, '序号']\n",
    "  tmp = Person(i)\n",
    "  persons.append(tmp)\n",
    "  # print(id)"
   ]
  },
  {
   "cell_type": "code",
   "execution_count": 121,
   "metadata": {},
   "outputs": [
    {
     "name": "stderr",
     "output_type": "stream",
     "text": [
      "100%|██████████| 500/500 [00:00<00:00, 124497.00it/s]\n"
     ]
    }
   ],
   "source": [
    "# for i in tqdm(range(hd_job.shape[0])):\n",
    "for i in tqdm(range(500)):\n",
    "  # id = hd_rec.loc[i+1, '序号']\n",
    "  num = hd_job.loc[i, '岗位需求量']\n",
    "  tmp = Recruit(i, num)\n",
    "  recruits.append(tmp)\n",
    "  # print(id)"
   ]
  },
  {
   "cell_type": "code",
   "execution_count": 122,
   "metadata": {},
   "outputs": [
    {
     "data": {
      "text/plain": [
       "2788"
      ]
     },
     "execution_count": 122,
     "metadata": {},
     "output_type": "execute_result"
    }
   ],
   "source": [
    "def get_cnt_rec():\n",
    "  sum = 0\n",
    "  for i in recruits:\n",
    "    sum += i.num\n",
    "  return sum\n",
    "\n",
    "old_cnt_rec = get_cnt_rec()\n",
    "old_cnt_rec"
   ]
  },
  {
   "cell_type": "code",
   "execution_count": 123,
   "metadata": {},
   "outputs": [
    {
     "name": "stdout",
     "output_type": "stream",
     "text": [
      "epoch 1:\n"
     ]
    },
    {
     "name": "stderr",
     "output_type": "stream",
     "text": [
      "100%|██████████| 500/500 [01:46<00:00,  4.68it/s]\n"
     ]
    },
    {
     "name": "stdout",
     "output_type": "stream",
     "text": [
      "increase 340\n",
      "\n",
      "epoch 2:\n"
     ]
    },
    {
     "name": "stderr",
     "output_type": "stream",
     "text": [
      "100%|██████████| 500/500 [01:07<00:00,  7.36it/s]\n"
     ]
    },
    {
     "name": "stdout",
     "output_type": "stream",
     "text": [
      "increase 330\n",
      "\n",
      "epoch 3:\n"
     ]
    },
    {
     "name": "stderr",
     "output_type": "stream",
     "text": [
      "100%|██████████| 500/500 [00:38<00:00, 12.88it/s]\n"
     ]
    },
    {
     "name": "stdout",
     "output_type": "stream",
     "text": [
      "increase 195\n",
      "\n",
      "epoch 4:\n"
     ]
    },
    {
     "name": "stderr",
     "output_type": "stream",
     "text": [
      "100%|██████████| 500/500 [00:22<00:00, 22.29it/s] \n"
     ]
    },
    {
     "name": "stdout",
     "output_type": "stream",
     "text": [
      "increase 62\n",
      "\n",
      "epoch 5:\n"
     ]
    },
    {
     "name": "stderr",
     "output_type": "stream",
     "text": [
      "100%|██████████| 500/500 [00:15<00:00, 31.40it/s] \n"
     ]
    },
    {
     "name": "stdout",
     "output_type": "stream",
     "text": [
      "increase 46\n",
      "\n",
      "epoch 6:\n"
     ]
    },
    {
     "name": "stderr",
     "output_type": "stream",
     "text": [
      "100%|██████████| 500/500 [00:16<00:00, 29.71it/s] \n"
     ]
    },
    {
     "name": "stdout",
     "output_type": "stream",
     "text": [
      "increase 40\n",
      "\n",
      "epoch 7:\n"
     ]
    },
    {
     "name": "stderr",
     "output_type": "stream",
     "text": [
      "100%|██████████| 500/500 [00:18<00:00, 27.48it/s] \n"
     ]
    },
    {
     "name": "stdout",
     "output_type": "stream",
     "text": [
      "increase 39\n",
      "\n",
      "epoch 8:\n"
     ]
    },
    {
     "name": "stderr",
     "output_type": "stream",
     "text": [
      "100%|██████████| 500/500 [00:17<00:00, 28.40it/s] \n"
     ]
    },
    {
     "name": "stdout",
     "output_type": "stream",
     "text": [
      "increase 37\n",
      "\n",
      "epoch 9:\n"
     ]
    },
    {
     "name": "stderr",
     "output_type": "stream",
     "text": [
      "100%|██████████| 500/500 [00:15<00:00, 32.57it/s] \n"
     ]
    },
    {
     "name": "stdout",
     "output_type": "stream",
     "text": [
      "increase 30\n",
      "\n",
      "epoch 10:\n"
     ]
    },
    {
     "name": "stderr",
     "output_type": "stream",
     "text": [
      "100%|██████████| 500/500 [00:15<00:00, 33.08it/s] \n"
     ]
    },
    {
     "name": "stdout",
     "output_type": "stream",
     "text": [
      "increase 30\n",
      "\n",
      "epoch 11:\n"
     ]
    },
    {
     "name": "stderr",
     "output_type": "stream",
     "text": [
      "100%|██████████| 500/500 [00:14<00:00, 34.45it/s] \n"
     ]
    },
    {
     "name": "stdout",
     "output_type": "stream",
     "text": [
      "increase 30\n",
      "\n",
      "epoch 12:\n"
     ]
    },
    {
     "name": "stderr",
     "output_type": "stream",
     "text": [
      "100%|██████████| 500/500 [00:15<00:00, 32.49it/s] \n"
     ]
    },
    {
     "name": "stdout",
     "output_type": "stream",
     "text": [
      "increase 30\n",
      "\n",
      "epoch 13:\n"
     ]
    },
    {
     "name": "stderr",
     "output_type": "stream",
     "text": [
      "100%|██████████| 500/500 [00:15<00:00, 32.51it/s] \n"
     ]
    },
    {
     "name": "stdout",
     "output_type": "stream",
     "text": [
      "increase 30\n",
      "\n",
      "epoch 14:\n"
     ]
    },
    {
     "name": "stderr",
     "output_type": "stream",
     "text": [
      "100%|██████████| 500/500 [00:15<00:00, 33.02it/s] \n"
     ]
    },
    {
     "name": "stdout",
     "output_type": "stream",
     "text": [
      "increase 30\n",
      "\n",
      "epoch 15:\n"
     ]
    },
    {
     "name": "stderr",
     "output_type": "stream",
     "text": [
      "100%|██████████| 500/500 [00:15<00:00, 32.91it/s] \n"
     ]
    },
    {
     "name": "stdout",
     "output_type": "stream",
     "text": [
      "increase 29\n",
      "\n",
      "epoch 16:\n"
     ]
    },
    {
     "name": "stderr",
     "output_type": "stream",
     "text": [
      "100%|██████████| 500/500 [00:14<00:00, 33.68it/s] \n"
     ]
    },
    {
     "name": "stdout",
     "output_type": "stream",
     "text": [
      "increase 28\n",
      "\n",
      "epoch 17:\n"
     ]
    },
    {
     "name": "stderr",
     "output_type": "stream",
     "text": [
      "100%|██████████| 500/500 [00:14<00:00, 34.95it/s] \n"
     ]
    },
    {
     "name": "stdout",
     "output_type": "stream",
     "text": [
      "increase 25\n",
      "\n",
      "epoch 18:\n"
     ]
    },
    {
     "name": "stderr",
     "output_type": "stream",
     "text": [
      "100%|██████████| 500/500 [00:14<00:00, 33.68it/s] \n"
     ]
    },
    {
     "name": "stdout",
     "output_type": "stream",
     "text": [
      "increase 25\n",
      "\n",
      "epoch 19:\n"
     ]
    },
    {
     "name": "stderr",
     "output_type": "stream",
     "text": [
      "100%|██████████| 500/500 [00:13<00:00, 35.73it/s] \n"
     ]
    },
    {
     "name": "stdout",
     "output_type": "stream",
     "text": [
      "increase 25\n",
      "\n",
      "epoch 20:\n"
     ]
    },
    {
     "name": "stderr",
     "output_type": "stream",
     "text": [
      "100%|██████████| 500/500 [00:16<00:00, 30.20it/s] \n"
     ]
    },
    {
     "name": "stdout",
     "output_type": "stream",
     "text": [
      "increase 25\n",
      "\n",
      "epoch 21:\n"
     ]
    },
    {
     "name": "stderr",
     "output_type": "stream",
     "text": [
      "100%|██████████| 500/500 [00:13<00:00, 37.69it/s] \n"
     ]
    },
    {
     "name": "stdout",
     "output_type": "stream",
     "text": [
      "increase 23\n",
      "\n",
      "epoch 22:\n"
     ]
    },
    {
     "name": "stderr",
     "output_type": "stream",
     "text": [
      "100%|██████████| 500/500 [00:12<00:00, 39.48it/s] \n"
     ]
    },
    {
     "name": "stdout",
     "output_type": "stream",
     "text": [
      "increase 23\n",
      "\n",
      "epoch 23:\n"
     ]
    },
    {
     "name": "stderr",
     "output_type": "stream",
     "text": [
      "100%|██████████| 500/500 [00:13<00:00, 38.22it/s] \n"
     ]
    },
    {
     "name": "stdout",
     "output_type": "stream",
     "text": [
      "increase 23\n",
      "\n",
      "epoch 24:\n"
     ]
    },
    {
     "name": "stderr",
     "output_type": "stream",
     "text": [
      "100%|██████████| 500/500 [00:12<00:00, 39.00it/s] \n"
     ]
    },
    {
     "name": "stdout",
     "output_type": "stream",
     "text": [
      "increase 21\n",
      "\n",
      "epoch 25:\n"
     ]
    },
    {
     "name": "stderr",
     "output_type": "stream",
     "text": [
      "100%|██████████| 500/500 [00:13<00:00, 36.16it/s] \n"
     ]
    },
    {
     "name": "stdout",
     "output_type": "stream",
     "text": [
      "increase 20\n",
      "\n",
      "epoch 26:\n"
     ]
    },
    {
     "name": "stderr",
     "output_type": "stream",
     "text": [
      "100%|██████████| 500/500 [00:12<00:00, 40.60it/s] \n"
     ]
    },
    {
     "name": "stdout",
     "output_type": "stream",
     "text": [
      "increase 20\n",
      "\n",
      "epoch 27:\n"
     ]
    },
    {
     "name": "stderr",
     "output_type": "stream",
     "text": [
      "100%|██████████| 500/500 [00:13<00:00, 38.30it/s] \n"
     ]
    },
    {
     "name": "stdout",
     "output_type": "stream",
     "text": [
      "increase 19\n",
      "\n",
      "epoch 28:\n"
     ]
    },
    {
     "name": "stderr",
     "output_type": "stream",
     "text": [
      "100%|██████████| 500/500 [00:12<00:00, 39.60it/s] \n"
     ]
    },
    {
     "name": "stdout",
     "output_type": "stream",
     "text": [
      "increase 19\n",
      "\n",
      "epoch 29:\n"
     ]
    },
    {
     "name": "stderr",
     "output_type": "stream",
     "text": [
      "100%|██████████| 500/500 [00:12<00:00, 41.28it/s] \n"
     ]
    },
    {
     "name": "stdout",
     "output_type": "stream",
     "text": [
      "increase 19\n",
      "\n",
      "epoch 30:\n"
     ]
    },
    {
     "name": "stderr",
     "output_type": "stream",
     "text": [
      "100%|██████████| 500/500 [00:12<00:00, 41.11it/s] \n"
     ]
    },
    {
     "name": "stdout",
     "output_type": "stream",
     "text": [
      "increase 17\n",
      "\n",
      "epoch 31:\n"
     ]
    },
    {
     "name": "stderr",
     "output_type": "stream",
     "text": [
      "100%|██████████| 500/500 [00:12<00:00, 40.53it/s] \n"
     ]
    },
    {
     "name": "stdout",
     "output_type": "stream",
     "text": [
      "increase 16\n",
      "\n",
      "epoch 32:\n"
     ]
    },
    {
     "name": "stderr",
     "output_type": "stream",
     "text": [
      "100%|██████████| 500/500 [00:11<00:00, 43.41it/s] \n"
     ]
    },
    {
     "name": "stdout",
     "output_type": "stream",
     "text": [
      "increase 15\n",
      "\n",
      "epoch 33:\n"
     ]
    },
    {
     "name": "stderr",
     "output_type": "stream",
     "text": [
      "100%|██████████| 500/500 [00:11<00:00, 43.81it/s] \n"
     ]
    },
    {
     "name": "stdout",
     "output_type": "stream",
     "text": [
      "increase 15\n",
      "\n",
      "epoch 34:\n"
     ]
    },
    {
     "name": "stderr",
     "output_type": "stream",
     "text": [
      "100%|██████████| 500/500 [00:12<00:00, 41.07it/s] \n"
     ]
    },
    {
     "name": "stdout",
     "output_type": "stream",
     "text": [
      "increase 15\n",
      "\n",
      "epoch 35:\n"
     ]
    },
    {
     "name": "stderr",
     "output_type": "stream",
     "text": [
      "100%|██████████| 500/500 [00:11<00:00, 43.52it/s] \n"
     ]
    },
    {
     "name": "stdout",
     "output_type": "stream",
     "text": [
      "increase 12\n",
      "\n",
      "epoch 36:\n"
     ]
    },
    {
     "name": "stderr",
     "output_type": "stream",
     "text": [
      "100%|██████████| 500/500 [00:11<00:00, 44.26it/s] \n"
     ]
    },
    {
     "name": "stdout",
     "output_type": "stream",
     "text": [
      "increase 12\n",
      "\n",
      "epoch 37:\n"
     ]
    },
    {
     "name": "stderr",
     "output_type": "stream",
     "text": [
      "100%|██████████| 500/500 [00:11<00:00, 44.46it/s] \n"
     ]
    },
    {
     "name": "stdout",
     "output_type": "stream",
     "text": [
      "increase 11\n",
      "\n",
      "epoch 38:\n"
     ]
    },
    {
     "name": "stderr",
     "output_type": "stream",
     "text": [
      "100%|██████████| 500/500 [00:10<00:00, 46.01it/s] \n"
     ]
    },
    {
     "name": "stdout",
     "output_type": "stream",
     "text": [
      "increase 10\n",
      "\n",
      "epoch 39:\n"
     ]
    },
    {
     "name": "stderr",
     "output_type": "stream",
     "text": [
      "100%|██████████| 500/500 [00:11<00:00, 42.25it/s] \n"
     ]
    },
    {
     "name": "stdout",
     "output_type": "stream",
     "text": [
      "increase 10\n",
      "\n",
      "epoch 40:\n"
     ]
    },
    {
     "name": "stderr",
     "output_type": "stream",
     "text": [
      "100%|██████████| 500/500 [00:12<00:00, 41.60it/s] \n"
     ]
    },
    {
     "name": "stdout",
     "output_type": "stream",
     "text": [
      "increase 9\n",
      "\n",
      "epoch 41:\n"
     ]
    },
    {
     "name": "stderr",
     "output_type": "stream",
     "text": [
      "100%|██████████| 500/500 [00:11<00:00, 42.95it/s] \n"
     ]
    },
    {
     "name": "stdout",
     "output_type": "stream",
     "text": [
      "increase 9\n",
      "\n",
      "epoch 42:\n"
     ]
    },
    {
     "name": "stderr",
     "output_type": "stream",
     "text": [
      "100%|██████████| 500/500 [00:11<00:00, 43.57it/s] \n"
     ]
    },
    {
     "name": "stdout",
     "output_type": "stream",
     "text": [
      "increase 9\n",
      "\n",
      "epoch 43:\n"
     ]
    },
    {
     "name": "stderr",
     "output_type": "stream",
     "text": [
      "100%|██████████| 500/500 [00:11<00:00, 43.54it/s] \n"
     ]
    },
    {
     "name": "stdout",
     "output_type": "stream",
     "text": [
      "increase 9\n",
      "\n",
      "epoch 44:\n"
     ]
    },
    {
     "name": "stderr",
     "output_type": "stream",
     "text": [
      "100%|██████████| 500/500 [00:11<00:00, 44.33it/s] \n"
     ]
    },
    {
     "name": "stdout",
     "output_type": "stream",
     "text": [
      "increase 9\n",
      "\n",
      "epoch 45:\n"
     ]
    },
    {
     "name": "stderr",
     "output_type": "stream",
     "text": [
      "100%|██████████| 500/500 [00:11<00:00, 43.22it/s] \n"
     ]
    },
    {
     "name": "stdout",
     "output_type": "stream",
     "text": [
      "increase 8\n",
      "\n",
      "epoch 46:\n"
     ]
    },
    {
     "name": "stderr",
     "output_type": "stream",
     "text": [
      "100%|██████████| 500/500 [00:11<00:00, 43.93it/s] \n"
     ]
    },
    {
     "name": "stdout",
     "output_type": "stream",
     "text": [
      "increase 7\n",
      "\n",
      "epoch 47:\n"
     ]
    },
    {
     "name": "stderr",
     "output_type": "stream",
     "text": [
      "100%|██████████| 500/500 [00:11<00:00, 43.83it/s] \n"
     ]
    },
    {
     "name": "stdout",
     "output_type": "stream",
     "text": [
      "increase 7\n",
      "\n",
      "epoch 48:\n"
     ]
    },
    {
     "name": "stderr",
     "output_type": "stream",
     "text": [
      "100%|██████████| 500/500 [00:12<00:00, 39.87it/s] \n"
     ]
    },
    {
     "name": "stdout",
     "output_type": "stream",
     "text": [
      "increase 7\n",
      "\n",
      "epoch 49:\n"
     ]
    },
    {
     "name": "stderr",
     "output_type": "stream",
     "text": [
      "100%|██████████| 500/500 [00:11<00:00, 43.82it/s] \n"
     ]
    },
    {
     "name": "stdout",
     "output_type": "stream",
     "text": [
      "increase 7\n",
      "\n",
      "epoch 50:\n"
     ]
    },
    {
     "name": "stderr",
     "output_type": "stream",
     "text": [
      "100%|██████████| 500/500 [00:11<00:00, 45.25it/s] \n"
     ]
    },
    {
     "name": "stdout",
     "output_type": "stream",
     "text": [
      "increase 7\n",
      "\n",
      "epoch 51:\n"
     ]
    },
    {
     "name": "stderr",
     "output_type": "stream",
     "text": [
      "100%|██████████| 500/500 [00:11<00:00, 44.06it/s] \n"
     ]
    },
    {
     "name": "stdout",
     "output_type": "stream",
     "text": [
      "increase 7\n",
      "\n",
      "epoch 52:\n"
     ]
    },
    {
     "name": "stderr",
     "output_type": "stream",
     "text": [
      "100%|██████████| 500/500 [00:10<00:00, 45.50it/s] \n"
     ]
    },
    {
     "name": "stdout",
     "output_type": "stream",
     "text": [
      "increase 7\n",
      "\n",
      "epoch 53:\n"
     ]
    },
    {
     "name": "stderr",
     "output_type": "stream",
     "text": [
      "100%|██████████| 500/500 [00:10<00:00, 46.74it/s] \n"
     ]
    },
    {
     "name": "stdout",
     "output_type": "stream",
     "text": [
      "increase 7\n",
      "\n",
      "epoch 54:\n"
     ]
    },
    {
     "name": "stderr",
     "output_type": "stream",
     "text": [
      "100%|██████████| 500/500 [00:10<00:00, 46.23it/s] \n"
     ]
    },
    {
     "name": "stdout",
     "output_type": "stream",
     "text": [
      "increase 7\n",
      "\n",
      "epoch 55:\n"
     ]
    },
    {
     "name": "stderr",
     "output_type": "stream",
     "text": [
      "100%|██████████| 500/500 [00:11<00:00, 45.37it/s] \n"
     ]
    },
    {
     "name": "stdout",
     "output_type": "stream",
     "text": [
      "increase 6\n",
      "\n",
      "epoch 56:\n"
     ]
    },
    {
     "name": "stderr",
     "output_type": "stream",
     "text": [
      "100%|██████████| 500/500 [00:10<00:00, 46.20it/s] \n"
     ]
    },
    {
     "name": "stdout",
     "output_type": "stream",
     "text": [
      "increase 6\n",
      "\n",
      "epoch 57:\n"
     ]
    },
    {
     "name": "stderr",
     "output_type": "stream",
     "text": [
      "100%|██████████| 500/500 [00:10<00:00, 47.13it/s] \n"
     ]
    },
    {
     "name": "stdout",
     "output_type": "stream",
     "text": [
      "increase 6\n",
      "\n",
      "epoch 58:\n"
     ]
    },
    {
     "name": "stderr",
     "output_type": "stream",
     "text": [
      "100%|██████████| 500/500 [00:10<00:00, 46.62it/s] \n"
     ]
    },
    {
     "name": "stdout",
     "output_type": "stream",
     "text": [
      "increase 6\n",
      "\n",
      "epoch 59:\n"
     ]
    },
    {
     "name": "stderr",
     "output_type": "stream",
     "text": [
      "100%|██████████| 500/500 [00:10<00:00, 47.80it/s] \n"
     ]
    },
    {
     "name": "stdout",
     "output_type": "stream",
     "text": [
      "increase 6\n",
      "\n",
      "epoch 60:\n"
     ]
    },
    {
     "name": "stderr",
     "output_type": "stream",
     "text": [
      "100%|██████████| 500/500 [00:10<00:00, 48.44it/s] \n"
     ]
    },
    {
     "name": "stdout",
     "output_type": "stream",
     "text": [
      "increase 6\n",
      "\n",
      "epoch 61:\n"
     ]
    },
    {
     "name": "stderr",
     "output_type": "stream",
     "text": [
      "100%|██████████| 500/500 [00:10<00:00, 45.99it/s] \n"
     ]
    },
    {
     "name": "stdout",
     "output_type": "stream",
     "text": [
      "increase 6\n",
      "\n",
      "epoch 62:\n"
     ]
    },
    {
     "name": "stderr",
     "output_type": "stream",
     "text": [
      "100%|██████████| 500/500 [00:10<00:00, 47.17it/s] \n"
     ]
    },
    {
     "name": "stdout",
     "output_type": "stream",
     "text": [
      "increase 6\n",
      "\n",
      "epoch 63:\n"
     ]
    },
    {
     "name": "stderr",
     "output_type": "stream",
     "text": [
      "100%|██████████| 500/500 [00:10<00:00, 48.08it/s] \n"
     ]
    },
    {
     "name": "stdout",
     "output_type": "stream",
     "text": [
      "increase 6\n",
      "\n",
      "epoch 64:\n"
     ]
    },
    {
     "name": "stderr",
     "output_type": "stream",
     "text": [
      "100%|██████████| 500/500 [00:10<00:00, 47.45it/s] \n"
     ]
    },
    {
     "name": "stdout",
     "output_type": "stream",
     "text": [
      "increase 5\n",
      "\n",
      "epoch 65:\n"
     ]
    },
    {
     "name": "stderr",
     "output_type": "stream",
     "text": [
      "100%|██████████| 500/500 [00:10<00:00, 47.10it/s] \n"
     ]
    },
    {
     "name": "stdout",
     "output_type": "stream",
     "text": [
      "increase 5\n",
      "\n",
      "epoch 66:\n"
     ]
    },
    {
     "name": "stderr",
     "output_type": "stream",
     "text": [
      "100%|██████████| 500/500 [00:11<00:00, 45.40it/s] \n"
     ]
    },
    {
     "name": "stdout",
     "output_type": "stream",
     "text": [
      "increase 5\n",
      "\n",
      "epoch 67:\n"
     ]
    },
    {
     "name": "stderr",
     "output_type": "stream",
     "text": [
      "100%|██████████| 500/500 [00:10<00:00, 46.99it/s] \n"
     ]
    },
    {
     "name": "stdout",
     "output_type": "stream",
     "text": [
      "increase 5\n",
      "\n",
      "epoch 68:\n"
     ]
    },
    {
     "name": "stderr",
     "output_type": "stream",
     "text": [
      "100%|██████████| 500/500 [00:10<00:00, 46.17it/s] \n"
     ]
    },
    {
     "name": "stdout",
     "output_type": "stream",
     "text": [
      "increase 5\n",
      "\n",
      "epoch 69:\n"
     ]
    },
    {
     "name": "stderr",
     "output_type": "stream",
     "text": [
      "100%|██████████| 500/500 [00:10<00:00, 47.56it/s] \n"
     ]
    },
    {
     "name": "stdout",
     "output_type": "stream",
     "text": [
      "increase 5\n",
      "\n",
      "epoch 70:\n"
     ]
    },
    {
     "name": "stderr",
     "output_type": "stream",
     "text": [
      "100%|██████████| 500/500 [00:10<00:00, 49.25it/s] \n"
     ]
    },
    {
     "name": "stdout",
     "output_type": "stream",
     "text": [
      "increase 5\n",
      "\n",
      "epoch 71:\n"
     ]
    },
    {
     "name": "stderr",
     "output_type": "stream",
     "text": [
      "100%|██████████| 500/500 [00:09<00:00, 50.32it/s] \n"
     ]
    },
    {
     "name": "stdout",
     "output_type": "stream",
     "text": [
      "increase 5\n",
      "\n",
      "epoch 72:\n"
     ]
    },
    {
     "name": "stderr",
     "output_type": "stream",
     "text": [
      "100%|██████████| 500/500 [00:10<00:00, 48.71it/s] \n"
     ]
    },
    {
     "name": "stdout",
     "output_type": "stream",
     "text": [
      "increase 5\n",
      "\n",
      "epoch 73:\n"
     ]
    },
    {
     "name": "stderr",
     "output_type": "stream",
     "text": [
      "100%|██████████| 500/500 [00:09<00:00, 50.01it/s] \n"
     ]
    },
    {
     "name": "stdout",
     "output_type": "stream",
     "text": [
      "increase 5\n",
      "\n",
      "epoch 74:\n"
     ]
    },
    {
     "name": "stderr",
     "output_type": "stream",
     "text": [
      "100%|██████████| 500/500 [00:10<00:00, 45.63it/s]\n"
     ]
    },
    {
     "name": "stdout",
     "output_type": "stream",
     "text": [
      "increase 5\n",
      "\n",
      "epoch 75:\n"
     ]
    },
    {
     "name": "stderr",
     "output_type": "stream",
     "text": [
      "100%|██████████| 500/500 [00:10<00:00, 47.68it/s]\n"
     ]
    },
    {
     "name": "stdout",
     "output_type": "stream",
     "text": [
      "increase 5\n",
      "\n",
      "epoch 76:\n"
     ]
    },
    {
     "name": "stderr",
     "output_type": "stream",
     "text": [
      "100%|██████████| 500/500 [00:09<00:00, 50.23it/s] \n"
     ]
    },
    {
     "name": "stdout",
     "output_type": "stream",
     "text": [
      "increase 4\n",
      "\n",
      "epoch 77:\n"
     ]
    },
    {
     "name": "stderr",
     "output_type": "stream",
     "text": [
      "100%|██████████| 500/500 [00:10<00:00, 47.63it/s] \n"
     ]
    },
    {
     "name": "stdout",
     "output_type": "stream",
     "text": [
      "increase 4\n",
      "\n",
      "epoch 78:\n"
     ]
    },
    {
     "name": "stderr",
     "output_type": "stream",
     "text": [
      "100%|██████████| 500/500 [00:10<00:00, 46.76it/s] \n"
     ]
    },
    {
     "name": "stdout",
     "output_type": "stream",
     "text": [
      "increase 4\n",
      "\n",
      "epoch 79:\n"
     ]
    },
    {
     "name": "stderr",
     "output_type": "stream",
     "text": [
      "100%|██████████| 500/500 [00:10<00:00, 49.42it/s] \n"
     ]
    },
    {
     "name": "stdout",
     "output_type": "stream",
     "text": [
      "increase 4\n",
      "\n",
      "epoch 80:\n"
     ]
    },
    {
     "name": "stderr",
     "output_type": "stream",
     "text": [
      "100%|██████████| 500/500 [00:10<00:00, 49.58it/s] \n"
     ]
    },
    {
     "name": "stdout",
     "output_type": "stream",
     "text": [
      "increase 4\n",
      "\n",
      "epoch 81:\n"
     ]
    },
    {
     "name": "stderr",
     "output_type": "stream",
     "text": [
      "100%|██████████| 500/500 [00:10<00:00, 49.56it/s] \n"
     ]
    },
    {
     "name": "stdout",
     "output_type": "stream",
     "text": [
      "increase 4\n",
      "\n",
      "epoch 82:\n"
     ]
    },
    {
     "name": "stderr",
     "output_type": "stream",
     "text": [
      "100%|██████████| 500/500 [00:10<00:00, 49.34it/s] \n"
     ]
    },
    {
     "name": "stdout",
     "output_type": "stream",
     "text": [
      "increase 4\n",
      "\n",
      "epoch 83:\n"
     ]
    },
    {
     "name": "stderr",
     "output_type": "stream",
     "text": [
      "100%|██████████| 500/500 [00:09<00:00, 50.38it/s] \n"
     ]
    },
    {
     "name": "stdout",
     "output_type": "stream",
     "text": [
      "increase 4\n",
      "\n",
      "epoch 84:\n"
     ]
    },
    {
     "name": "stderr",
     "output_type": "stream",
     "text": [
      "100%|██████████| 500/500 [00:09<00:00, 50.87it/s] \n"
     ]
    },
    {
     "name": "stdout",
     "output_type": "stream",
     "text": [
      "increase 4\n",
      "\n",
      "epoch 85:\n"
     ]
    },
    {
     "name": "stderr",
     "output_type": "stream",
     "text": [
      "100%|██████████| 500/500 [00:09<00:00, 50.83it/s] \n"
     ]
    },
    {
     "name": "stdout",
     "output_type": "stream",
     "text": [
      "increase 4\n",
      "\n",
      "epoch 86:\n"
     ]
    },
    {
     "name": "stderr",
     "output_type": "stream",
     "text": [
      "100%|██████████| 500/500 [00:09<00:00, 51.06it/s] \n"
     ]
    },
    {
     "name": "stdout",
     "output_type": "stream",
     "text": [
      "increase 4\n",
      "\n",
      "epoch 87:\n"
     ]
    },
    {
     "name": "stderr",
     "output_type": "stream",
     "text": [
      "100%|██████████| 500/500 [00:10<00:00, 48.84it/s] \n"
     ]
    },
    {
     "name": "stdout",
     "output_type": "stream",
     "text": [
      "increase 4\n",
      "\n",
      "epoch 88:\n"
     ]
    },
    {
     "name": "stderr",
     "output_type": "stream",
     "text": [
      "100%|██████████| 500/500 [00:09<00:00, 52.40it/s] \n"
     ]
    },
    {
     "name": "stdout",
     "output_type": "stream",
     "text": [
      "increase 4\n",
      "\n",
      "epoch 89:\n"
     ]
    },
    {
     "name": "stderr",
     "output_type": "stream",
     "text": [
      "100%|██████████| 500/500 [00:09<00:00, 50.72it/s] \n"
     ]
    },
    {
     "name": "stdout",
     "output_type": "stream",
     "text": [
      "increase 4\n",
      "\n",
      "epoch 90:\n"
     ]
    },
    {
     "name": "stderr",
     "output_type": "stream",
     "text": [
      "100%|██████████| 500/500 [00:09<00:00, 53.66it/s] \n"
     ]
    },
    {
     "name": "stdout",
     "output_type": "stream",
     "text": [
      "increase 4\n",
      "\n",
      "epoch 91:\n"
     ]
    },
    {
     "name": "stderr",
     "output_type": "stream",
     "text": [
      "100%|██████████| 500/500 [00:08<00:00, 61.10it/s]  \n"
     ]
    },
    {
     "name": "stdout",
     "output_type": "stream",
     "text": [
      "increase 4\n",
      "\n",
      "epoch 92:\n"
     ]
    },
    {
     "name": "stderr",
     "output_type": "stream",
     "text": [
      "100%|██████████| 500/500 [00:07<00:00, 69.06it/s]  \n"
     ]
    },
    {
     "name": "stdout",
     "output_type": "stream",
     "text": [
      "increase 4\n",
      "\n",
      "epoch 93:\n"
     ]
    },
    {
     "name": "stderr",
     "output_type": "stream",
     "text": [
      "100%|██████████| 500/500 [00:07<00:00, 67.13it/s] \n"
     ]
    },
    {
     "name": "stdout",
     "output_type": "stream",
     "text": [
      "increase 4\n",
      "\n",
      "epoch 94:\n"
     ]
    },
    {
     "name": "stderr",
     "output_type": "stream",
     "text": [
      "100%|██████████| 500/500 [00:07<00:00, 67.16it/s]  \n"
     ]
    },
    {
     "name": "stdout",
     "output_type": "stream",
     "text": [
      "increase 3\n",
      "\n",
      "epoch 95:\n"
     ]
    },
    {
     "name": "stderr",
     "output_type": "stream",
     "text": [
      "100%|██████████| 500/500 [00:07<00:00, 68.74it/s]  \n"
     ]
    },
    {
     "name": "stdout",
     "output_type": "stream",
     "text": [
      "increase 3\n",
      "\n",
      "epoch 96:\n"
     ]
    },
    {
     "name": "stderr",
     "output_type": "stream",
     "text": [
      "100%|██████████| 500/500 [00:07<00:00, 69.21it/s] \n"
     ]
    },
    {
     "name": "stdout",
     "output_type": "stream",
     "text": [
      "increase 3\n",
      "\n",
      "epoch 97:\n"
     ]
    },
    {
     "name": "stderr",
     "output_type": "stream",
     "text": [
      "100%|██████████| 500/500 [00:07<00:00, 68.66it/s] \n"
     ]
    },
    {
     "name": "stdout",
     "output_type": "stream",
     "text": [
      "increase 3\n",
      "\n",
      "epoch 98:\n"
     ]
    },
    {
     "name": "stderr",
     "output_type": "stream",
     "text": [
      "100%|██████████| 500/500 [00:07<00:00, 69.36it/s] \n"
     ]
    },
    {
     "name": "stdout",
     "output_type": "stream",
     "text": [
      "increase 3\n",
      "\n",
      "epoch 99:\n"
     ]
    },
    {
     "name": "stderr",
     "output_type": "stream",
     "text": [
      "100%|██████████| 500/500 [00:07<00:00, 70.76it/s]  \n"
     ]
    },
    {
     "name": "stdout",
     "output_type": "stream",
     "text": [
      "increase 3\n",
      "\n",
      "epoch 100:\n"
     ]
    },
    {
     "name": "stderr",
     "output_type": "stream",
     "text": [
      "100%|██████████| 500/500 [00:06<00:00, 71.53it/s]  \n"
     ]
    },
    {
     "name": "stdout",
     "output_type": "stream",
     "text": [
      "increase 3\n",
      "\n",
      "epoch 101:\n"
     ]
    },
    {
     "name": "stderr",
     "output_type": "stream",
     "text": [
      "100%|██████████| 500/500 [00:07<00:00, 70.53it/s] \n"
     ]
    },
    {
     "name": "stdout",
     "output_type": "stream",
     "text": [
      "increase 3\n",
      "\n",
      "epoch 102:\n"
     ]
    },
    {
     "name": "stderr",
     "output_type": "stream",
     "text": [
      "100%|██████████| 500/500 [00:07<00:00, 71.22it/s]  \n"
     ]
    },
    {
     "name": "stdout",
     "output_type": "stream",
     "text": [
      "increase 3\n",
      "\n",
      "epoch 103:\n"
     ]
    },
    {
     "name": "stderr",
     "output_type": "stream",
     "text": [
      "100%|██████████| 500/500 [00:06<00:00, 72.31it/s]  \n"
     ]
    },
    {
     "name": "stdout",
     "output_type": "stream",
     "text": [
      "increase 3\n",
      "\n",
      "epoch 104:\n"
     ]
    },
    {
     "name": "stderr",
     "output_type": "stream",
     "text": [
      "100%|██████████| 500/500 [00:06<00:00, 71.88it/s]  \n"
     ]
    },
    {
     "name": "stdout",
     "output_type": "stream",
     "text": [
      "increase 3\n",
      "\n",
      "epoch 105:\n"
     ]
    },
    {
     "name": "stderr",
     "output_type": "stream",
     "text": [
      "100%|██████████| 500/500 [00:07<00:00, 68.95it/s]  \n"
     ]
    },
    {
     "name": "stdout",
     "output_type": "stream",
     "text": [
      "increase 3\n",
      "\n",
      "epoch 106:\n"
     ]
    },
    {
     "name": "stderr",
     "output_type": "stream",
     "text": [
      "100%|██████████| 500/500 [00:06<00:00, 73.22it/s]  \n"
     ]
    },
    {
     "name": "stdout",
     "output_type": "stream",
     "text": [
      "increase 3\n",
      "\n",
      "epoch 107:\n"
     ]
    },
    {
     "name": "stderr",
     "output_type": "stream",
     "text": [
      "100%|██████████| 500/500 [00:06<00:00, 73.14it/s]  \n"
     ]
    },
    {
     "name": "stdout",
     "output_type": "stream",
     "text": [
      "increase 3\n",
      "\n",
      "epoch 108:\n"
     ]
    },
    {
     "name": "stderr",
     "output_type": "stream",
     "text": [
      "100%|██████████| 500/500 [00:06<00:00, 71.47it/s]  \n"
     ]
    },
    {
     "name": "stdout",
     "output_type": "stream",
     "text": [
      "increase 3\n",
      "\n",
      "epoch 109:\n"
     ]
    },
    {
     "name": "stderr",
     "output_type": "stream",
     "text": [
      "100%|██████████| 500/500 [00:06<00:00, 74.52it/s]  \n"
     ]
    },
    {
     "name": "stdout",
     "output_type": "stream",
     "text": [
      "increase 3\n",
      "\n",
      "epoch 110:\n"
     ]
    },
    {
     "name": "stderr",
     "output_type": "stream",
     "text": [
      "100%|██████████| 500/500 [00:06<00:00, 74.61it/s]  \n"
     ]
    },
    {
     "name": "stdout",
     "output_type": "stream",
     "text": [
      "increase 3\n",
      "\n",
      "epoch 111:\n"
     ]
    },
    {
     "name": "stderr",
     "output_type": "stream",
     "text": [
      "100%|██████████| 500/500 [00:06<00:00, 72.73it/s]  \n"
     ]
    },
    {
     "name": "stdout",
     "output_type": "stream",
     "text": [
      "increase 3\n",
      "\n",
      "epoch 112:\n"
     ]
    },
    {
     "name": "stderr",
     "output_type": "stream",
     "text": [
      "100%|██████████| 500/500 [00:06<00:00, 74.47it/s]  \n"
     ]
    },
    {
     "name": "stdout",
     "output_type": "stream",
     "text": [
      "increase 3\n",
      "\n",
      "epoch 113:\n"
     ]
    },
    {
     "name": "stderr",
     "output_type": "stream",
     "text": [
      "100%|██████████| 500/500 [00:06<00:00, 73.63it/s] \n"
     ]
    },
    {
     "name": "stdout",
     "output_type": "stream",
     "text": [
      "increase 3\n",
      "\n",
      "epoch 114:\n"
     ]
    },
    {
     "name": "stderr",
     "output_type": "stream",
     "text": [
      "100%|██████████| 500/500 [00:06<00:00, 74.79it/s]  \n"
     ]
    },
    {
     "name": "stdout",
     "output_type": "stream",
     "text": [
      "increase 3\n",
      "\n",
      "epoch 115:\n"
     ]
    },
    {
     "name": "stderr",
     "output_type": "stream",
     "text": [
      "100%|██████████| 500/500 [00:06<00:00, 73.70it/s]  \n"
     ]
    },
    {
     "name": "stdout",
     "output_type": "stream",
     "text": [
      "increase 3\n",
      "\n",
      "epoch 116:\n"
     ]
    },
    {
     "name": "stderr",
     "output_type": "stream",
     "text": [
      "100%|██████████| 500/500 [00:06<00:00, 76.17it/s]  \n"
     ]
    },
    {
     "name": "stdout",
     "output_type": "stream",
     "text": [
      "increase 3\n",
      "\n",
      "epoch 117:\n"
     ]
    },
    {
     "name": "stderr",
     "output_type": "stream",
     "text": [
      "100%|██████████| 500/500 [00:06<00:00, 75.64it/s]  \n"
     ]
    },
    {
     "name": "stdout",
     "output_type": "stream",
     "text": [
      "increase 3\n",
      "\n",
      "epoch 118:\n"
     ]
    },
    {
     "name": "stderr",
     "output_type": "stream",
     "text": [
      "100%|██████████| 500/500 [00:06<00:00, 75.06it/s]  \n"
     ]
    },
    {
     "name": "stdout",
     "output_type": "stream",
     "text": [
      "increase 3\n",
      "\n",
      "epoch 119:\n"
     ]
    },
    {
     "name": "stderr",
     "output_type": "stream",
     "text": [
      "100%|██████████| 500/500 [00:06<00:00, 76.42it/s]  \n"
     ]
    },
    {
     "name": "stdout",
     "output_type": "stream",
     "text": [
      "increase 3\n",
      "\n",
      "epoch 120:\n"
     ]
    },
    {
     "name": "stderr",
     "output_type": "stream",
     "text": [
      "100%|██████████| 500/500 [00:06<00:00, 78.64it/s]  \n"
     ]
    },
    {
     "name": "stdout",
     "output_type": "stream",
     "text": [
      "increase 3\n",
      "\n",
      "epoch 121:\n"
     ]
    },
    {
     "name": "stderr",
     "output_type": "stream",
     "text": [
      "100%|██████████| 500/500 [00:06<00:00, 77.52it/s]  \n"
     ]
    },
    {
     "name": "stdout",
     "output_type": "stream",
     "text": [
      "increase 3\n",
      "\n",
      "epoch 122:\n"
     ]
    },
    {
     "name": "stderr",
     "output_type": "stream",
     "text": [
      "100%|██████████| 500/500 [00:06<00:00, 80.65it/s]  \n"
     ]
    },
    {
     "name": "stdout",
     "output_type": "stream",
     "text": [
      "increase 3\n",
      "\n",
      "epoch 123:\n"
     ]
    },
    {
     "name": "stderr",
     "output_type": "stream",
     "text": [
      "100%|██████████| 500/500 [00:06<00:00, 77.10it/s] \n"
     ]
    },
    {
     "name": "stdout",
     "output_type": "stream",
     "text": [
      "increase 3\n",
      "\n",
      "epoch 124:\n"
     ]
    },
    {
     "name": "stderr",
     "output_type": "stream",
     "text": [
      "100%|██████████| 500/500 [00:06<00:00, 78.59it/s]  \n"
     ]
    },
    {
     "name": "stdout",
     "output_type": "stream",
     "text": [
      "increase 3\n",
      "\n",
      "epoch 125:\n"
     ]
    },
    {
     "name": "stderr",
     "output_type": "stream",
     "text": [
      "100%|██████████| 500/500 [00:06<00:00, 80.36it/s]  \n"
     ]
    },
    {
     "name": "stdout",
     "output_type": "stream",
     "text": [
      "increase 3\n",
      "\n",
      "epoch 126:\n"
     ]
    },
    {
     "name": "stderr",
     "output_type": "stream",
     "text": [
      "100%|██████████| 500/500 [00:06<00:00, 80.29it/s]  \n"
     ]
    },
    {
     "name": "stdout",
     "output_type": "stream",
     "text": [
      "increase 3\n",
      "\n",
      "epoch 127:\n"
     ]
    },
    {
     "name": "stderr",
     "output_type": "stream",
     "text": [
      "100%|██████████| 500/500 [00:06<00:00, 80.92it/s]  \n"
     ]
    },
    {
     "name": "stdout",
     "output_type": "stream",
     "text": [
      "increase 3\n",
      "\n",
      "epoch 128:\n"
     ]
    },
    {
     "name": "stderr",
     "output_type": "stream",
     "text": [
      "100%|██████████| 500/500 [00:06<00:00, 79.83it/s]  \n"
     ]
    },
    {
     "name": "stdout",
     "output_type": "stream",
     "text": [
      "increase 3\n",
      "\n",
      "epoch 129:\n"
     ]
    },
    {
     "name": "stderr",
     "output_type": "stream",
     "text": [
      "100%|██████████| 500/500 [00:06<00:00, 81.51it/s]  \n"
     ]
    },
    {
     "name": "stdout",
     "output_type": "stream",
     "text": [
      "increase 3\n",
      "\n",
      "epoch 130:\n"
     ]
    },
    {
     "name": "stderr",
     "output_type": "stream",
     "text": [
      "100%|██████████| 500/500 [00:06<00:00, 80.27it/s]  \n"
     ]
    },
    {
     "name": "stdout",
     "output_type": "stream",
     "text": [
      "increase 3\n",
      "\n",
      "epoch 131:\n"
     ]
    },
    {
     "name": "stderr",
     "output_type": "stream",
     "text": [
      "100%|██████████| 500/500 [00:06<00:00, 80.96it/s]  \n"
     ]
    },
    {
     "name": "stdout",
     "output_type": "stream",
     "text": [
      "increase 3\n",
      "\n",
      "epoch 132:\n"
     ]
    },
    {
     "name": "stderr",
     "output_type": "stream",
     "text": [
      "100%|██████████| 500/500 [00:06<00:00, 82.63it/s]  \n"
     ]
    },
    {
     "name": "stdout",
     "output_type": "stream",
     "text": [
      "increase 3\n",
      "\n",
      "epoch 133:\n"
     ]
    },
    {
     "name": "stderr",
     "output_type": "stream",
     "text": [
      "100%|██████████| 500/500 [00:06<00:00, 81.06it/s]  \n"
     ]
    },
    {
     "name": "stdout",
     "output_type": "stream",
     "text": [
      "increase 3\n",
      "\n",
      "epoch 134:\n"
     ]
    },
    {
     "name": "stderr",
     "output_type": "stream",
     "text": [
      "100%|██████████| 500/500 [00:06<00:00, 82.01it/s]  \n"
     ]
    },
    {
     "name": "stdout",
     "output_type": "stream",
     "text": [
      "increase 3\n",
      "\n",
      "epoch 135:\n"
     ]
    },
    {
     "name": "stderr",
     "output_type": "stream",
     "text": [
      "100%|██████████| 500/500 [00:05<00:00, 84.06it/s]  \n"
     ]
    },
    {
     "name": "stdout",
     "output_type": "stream",
     "text": [
      "increase 3\n",
      "\n",
      "epoch 136:\n"
     ]
    },
    {
     "name": "stderr",
     "output_type": "stream",
     "text": [
      "100%|██████████| 500/500 [00:06<00:00, 80.63it/s] \n"
     ]
    },
    {
     "name": "stdout",
     "output_type": "stream",
     "text": [
      "increase 3\n",
      "\n",
      "epoch 137:\n"
     ]
    },
    {
     "name": "stderr",
     "output_type": "stream",
     "text": [
      "100%|██████████| 500/500 [00:06<00:00, 82.31it/s]  \n"
     ]
    },
    {
     "name": "stdout",
     "output_type": "stream",
     "text": [
      "increase 3\n",
      "\n",
      "epoch 138:\n"
     ]
    },
    {
     "name": "stderr",
     "output_type": "stream",
     "text": [
      "100%|██████████| 500/500 [00:05<00:00, 83.77it/s]  \n"
     ]
    },
    {
     "name": "stdout",
     "output_type": "stream",
     "text": [
      "increase 3\n",
      "\n",
      "epoch 139:\n"
     ]
    },
    {
     "name": "stderr",
     "output_type": "stream",
     "text": [
      "100%|██████████| 500/500 [00:06<00:00, 81.86it/s]  \n"
     ]
    },
    {
     "name": "stdout",
     "output_type": "stream",
     "text": [
      "increase 3\n",
      "\n",
      "epoch 140:\n"
     ]
    },
    {
     "name": "stderr",
     "output_type": "stream",
     "text": [
      "100%|██████████| 500/500 [00:06<00:00, 83.18it/s] \n"
     ]
    },
    {
     "name": "stdout",
     "output_type": "stream",
     "text": [
      "increase 3\n",
      "\n",
      "epoch 141:\n"
     ]
    },
    {
     "name": "stderr",
     "output_type": "stream",
     "text": [
      "100%|██████████| 500/500 [00:05<00:00, 83.37it/s]  \n"
     ]
    },
    {
     "name": "stdout",
     "output_type": "stream",
     "text": [
      "increase 3\n",
      "\n",
      "epoch 142:\n"
     ]
    },
    {
     "name": "stderr",
     "output_type": "stream",
     "text": [
      "100%|██████████| 500/500 [00:06<00:00, 82.74it/s]  \n"
     ]
    },
    {
     "name": "stdout",
     "output_type": "stream",
     "text": [
      "increase 3\n",
      "\n",
      "epoch 143:\n"
     ]
    },
    {
     "name": "stderr",
     "output_type": "stream",
     "text": [
      "100%|██████████| 500/500 [00:06<00:00, 82.60it/s]  \n"
     ]
    },
    {
     "name": "stdout",
     "output_type": "stream",
     "text": [
      "increase 3\n",
      "\n",
      "epoch 144:\n"
     ]
    },
    {
     "name": "stderr",
     "output_type": "stream",
     "text": [
      "100%|██████████| 500/500 [00:05<00:00, 85.81it/s]  \n"
     ]
    },
    {
     "name": "stdout",
     "output_type": "stream",
     "text": [
      "increase 3\n",
      "\n",
      "epoch 145:\n"
     ]
    },
    {
     "name": "stderr",
     "output_type": "stream",
     "text": [
      "100%|██████████| 500/500 [00:05<00:00, 86.38it/s]  \n"
     ]
    },
    {
     "name": "stdout",
     "output_type": "stream",
     "text": [
      "increase 3\n",
      "\n",
      "epoch 146:\n"
     ]
    },
    {
     "name": "stderr",
     "output_type": "stream",
     "text": [
      "100%|██████████| 500/500 [00:05<00:00, 87.50it/s]  \n"
     ]
    },
    {
     "name": "stdout",
     "output_type": "stream",
     "text": [
      "increase 3\n",
      "\n",
      "epoch 147:\n"
     ]
    },
    {
     "name": "stderr",
     "output_type": "stream",
     "text": [
      "100%|██████████| 500/500 [00:05<00:00, 89.89it/s]  \n"
     ]
    },
    {
     "name": "stdout",
     "output_type": "stream",
     "text": [
      "increase 3\n",
      "\n",
      "epoch 148:\n"
     ]
    },
    {
     "name": "stderr",
     "output_type": "stream",
     "text": [
      " 47%|████▋     | 234/500 [00:01<00:01, 163.91it/s] \n"
     ]
    },
    {
     "ename": "KeyboardInterrupt",
     "evalue": "",
     "output_type": "error",
     "traceback": [
      "\u001b[1;31m---------------------------------------------------------------------------\u001b[0m",
      "\u001b[1;31mKeyboardInterrupt\u001b[0m                         Traceback (most recent call last)",
      "Cell \u001b[1;32mIn[123], line 16\u001b[0m\n\u001b[0;32m     14\u001b[0m \u001b[39mif\u001b[39;00m per\u001b[39m.\u001b[39malive\u001b[39m==\u001b[39m\u001b[39mFalse\u001b[39;00m:\n\u001b[0;32m     15\u001b[0m   \u001b[39mcontinue\u001b[39;00m\n\u001b[1;32m---> 16\u001b[0m val \u001b[39m=\u001b[39m get_ppd(per\u001b[39m.\u001b[39;49mid, rec\u001b[39m.\u001b[39;49mid)\n\u001b[0;32m     17\u001b[0m \u001b[39mif\u001b[39;00m val\u001b[39m==\u001b[39m\u001b[39m0\u001b[39m:\n\u001b[0;32m     18\u001b[0m   \u001b[39mcontinue\u001b[39;00m\n",
      "Cell \u001b[1;32mIn[91], line 10\u001b[0m, in \u001b[0;36mget_ppd\u001b[1;34m(pid, rid)\u001b[0m\n\u001b[0;32m      8\u001b[0m \u001b[39mdef\u001b[39;00m \u001b[39mget_ppd\u001b[39m(pid,rid):\n\u001b[0;32m      9\u001b[0m   \u001b[39mglobal\u001b[39;00m net1_cnt\n\u001b[1;32m---> 10\u001b[0m   \u001b[39mif\u001b[39;00m is_fw(pid):  \u001b[39m# 废物为1\u001b[39;00m\n\u001b[0;32m     11\u001b[0m     \u001b[39mreturn\u001b[39;00m \u001b[39m0.1\u001b[39m\n\u001b[0;32m     12\u001b[0m   \u001b[39melif\u001b[39;00m judge(pid,rid)\u001b[39m==\u001b[39m\u001b[39mFalse\u001b[39;00m: \u001b[39m# 硬性条件不满足为0\u001b[39;00m\n",
      "Cell \u001b[1;32mIn[5], line 4\u001b[0m, in \u001b[0;36mis_fw\u001b[1;34m(pid)\u001b[0m\n\u001b[0;32m      1\u001b[0m \u001b[39mdef\u001b[39;00m \u001b[39mis_fw\u001b[39m(pid):\n\u001b[0;32m      2\u001b[0m   \u001b[39m# return not pid in idx\u001b[39;00m\n\u001b[0;32m      3\u001b[0m   \u001b[39m# print(f'is_fw({pid})')\u001b[39;00m\n\u001b[1;32m----> 4\u001b[0m   val \u001b[39m=\u001b[39m fw_list\u001b[39m.\u001b[39;49mloc[pid,\u001b[39m'\u001b[39;49m\u001b[39m是否为废人\u001b[39;49m\u001b[39m'\u001b[39;49m]\n\u001b[0;32m      5\u001b[0m   \u001b[39mreturn\u001b[39;00m val\u001b[39m==\u001b[39m\u001b[39m1\u001b[39m\n",
      "File \u001b[1;32md:\\Anaconda3\\envs\\pytorch\\lib\\site-packages\\pandas\\core\\indexing.py:884\u001b[0m, in \u001b[0;36m_LocationIndexer.__getitem__\u001b[1;34m(self, key)\u001b[0m\n\u001b[0;32m    882\u001b[0m \u001b[39mdef\u001b[39;00m \u001b[39m__getitem__\u001b[39m(\u001b[39mself\u001b[39m, key):\n\u001b[0;32m    883\u001b[0m     \u001b[39mif\u001b[39;00m \u001b[39mtype\u001b[39m(key) \u001b[39mis\u001b[39;00m \u001b[39mtuple\u001b[39m:\n\u001b[1;32m--> 884\u001b[0m         key \u001b[39m=\u001b[39m \u001b[39mtuple\u001b[39;49m(com\u001b[39m.\u001b[39;49mapply_if_callable(x, \u001b[39mself\u001b[39;49m\u001b[39m.\u001b[39;49mobj) \u001b[39mfor\u001b[39;49;00m x \u001b[39min\u001b[39;49;00m key)\n\u001b[0;32m    885\u001b[0m         \u001b[39mif\u001b[39;00m \u001b[39mself\u001b[39m\u001b[39m.\u001b[39m_is_scalar_access(key):\n\u001b[0;32m    886\u001b[0m             \u001b[39mwith\u001b[39;00m suppress(\u001b[39mKeyError\u001b[39;00m, \u001b[39mIndexError\u001b[39;00m, \u001b[39mAttributeError\u001b[39;00m):\n\u001b[0;32m    887\u001b[0m                 \u001b[39m# AttributeError for IntervalTree get_value\u001b[39;00m\n",
      "File \u001b[1;32md:\\Anaconda3\\envs\\pytorch\\lib\\site-packages\\pandas\\core\\indexing.py:884\u001b[0m, in \u001b[0;36m<genexpr>\u001b[1;34m(.0)\u001b[0m\n\u001b[0;32m    882\u001b[0m \u001b[39mdef\u001b[39;00m \u001b[39m__getitem__\u001b[39m(\u001b[39mself\u001b[39m, key):\n\u001b[0;32m    883\u001b[0m     \u001b[39mif\u001b[39;00m \u001b[39mtype\u001b[39m(key) \u001b[39mis\u001b[39;00m \u001b[39mtuple\u001b[39m:\n\u001b[1;32m--> 884\u001b[0m         key \u001b[39m=\u001b[39m \u001b[39mtuple\u001b[39m(com\u001b[39m.\u001b[39mapply_if_callable(x, \u001b[39mself\u001b[39m\u001b[39m.\u001b[39mobj) \u001b[39mfor\u001b[39;00m x \u001b[39min\u001b[39;00m key)\n\u001b[0;32m    885\u001b[0m         \u001b[39mif\u001b[39;00m \u001b[39mself\u001b[39m\u001b[39m.\u001b[39m_is_scalar_access(key):\n\u001b[0;32m    886\u001b[0m             \u001b[39mwith\u001b[39;00m suppress(\u001b[39mKeyError\u001b[39;00m, \u001b[39mIndexError\u001b[39;00m, \u001b[39mAttributeError\u001b[39;00m):\n\u001b[0;32m    887\u001b[0m                 \u001b[39m# AttributeError for IntervalTree get_value\u001b[39;00m\n",
      "\u001b[1;31mKeyboardInterrupt\u001b[0m: "
     ]
    }
   ],
   "source": [
    "epoch = 0\n",
    "total_pair = 0\n",
    "cnt_rec = get_cnt_rec()\n",
    "while True:\n",
    "  epoch += 1\n",
    "  # 招聘回合\n",
    "  print(f'epoch {epoch}:')\n",
    "  np.random.shuffle(recruits) # 随机优化\n",
    "  for rec in tqdm(recruits):  # 对于每个岗位\n",
    "    # 发放offer\n",
    "    if rec.num <= 0:\n",
    "      continue\n",
    "    pair_list = [] # 临时数组：<per, rec, val>\n",
    "    # 计算与每个求职者的匹配度\n",
    "    for per in persons:\n",
    "      if per.alive==False:\n",
    "        continue\n",
    "      val = get_ppd(per.id, rec.id)\n",
    "      if val==0:\n",
    "        continue\n",
    "      pair = Pair(per, rec, val)\n",
    "      pair_list.append(pair)\n",
    "    # 就地排序 by val\n",
    "    pair_list.sort(reverse=True, key=lambda x:x.val)\n",
    "    if len(pair_list)>rec.num:\n",
    "      pair_list = pair_list[:rec.num] # 取TopK\n",
    "    \n",
    "    for pair in pair_list:\n",
    "      per = persons[pair.pid]\n",
    "      rec = recruits[pair.rid]\n",
    "      # if per.alive:\n",
    "      per.offers.append(rec.id) # 发放offer\n",
    "  \n",
    "  # 所有岗位offer发放完毕\n",
    "    \n",
    "  # 求职者签约\n",
    "  for per in persons: # 对于每个求职者\n",
    "    if per.alive == False:\n",
    "      continue\n",
    "    tmp2list = [] # 临时数组：Pair\n",
    "    for rid in per.offers:  # 对于每一份offer\n",
    "      rec = recruits[rid]\n",
    "      val = get_myd(per.id, rec.id)\n",
    "      pair = Pair(per, rec, val)\n",
    "      tmp2list.append(pair)\n",
    "    if len(tmp2list)==0:  # 当前求职者无offer\n",
    "      continue\n",
    "    \n",
    "    tmp2list.sort(reverse=True, key=lambda x:x.val) # 取最高满意度\n",
    "    # 目标岗位\n",
    "    for k in tmp2list:\n",
    "      dest_rec = recruits[k.rid]\n",
    "      if dest_rec.num > 0: # 若未招满\n",
    "        dest_rec.num -= 1\n",
    "        per.job = dest_rec.id\n",
    "        per.alive = False\n",
    "        per.offers.clear()\n",
    "        dest_rec.workers.append(per)\n",
    "        break\n",
    "    \n",
    "    per.offers.clear()\n",
    "  \n",
    "  new_cnt_rec = get_cnt_rec()\n",
    "  increase = cnt_rec - new_cnt_rec\n",
    "  cnt_rec = new_cnt_rec\n",
    "  total_pair += increase\n",
    "  # print(net1_cnt, net2_cnt)\n",
    "  print(f'increase {increase}, total {total_pair}\\n')\n",
    "  if increase <= 0:\n",
    "    break"
   ]
  },
  {
   "cell_type": "code",
   "execution_count": 116,
   "metadata": {},
   "outputs": [
    {
     "name": "stdout",
     "output_type": "stream",
     "text": [
      "0,True,offers:0\n",
      "1,False,offers:0\n",
      "2,False,offers:0\n",
      "3,False,offers:0\n",
      "4,False,offers:0\n",
      "5,False,offers:0\n",
      "6,False,offers:0\n",
      "7,True,offers:0\n",
      "8,False,offers:0\n",
      "9,False,offers:0\n",
      "10,False,offers:0\n",
      "11,False,offers:0\n",
      "12,False,offers:0\n",
      "13,False,offers:0\n",
      "14,False,offers:0\n",
      "15,True,offers:0\n",
      "16,False,offers:0\n",
      "17,False,offers:0\n",
      "18,False,offers:0\n",
      "19,False,offers:0\n",
      "20,True,offers:0\n",
      "21,False,offers:0\n",
      "22,False,offers:0\n",
      "23,True,offers:0\n",
      "24,True,offers:0\n",
      "25,True,offers:0\n",
      "26,False,offers:0\n",
      "27,False,offers:0\n",
      "28,False,offers:0\n",
      "29,False,offers:0\n",
      "30,True,offers:0\n",
      "31,False,offers:0\n",
      "32,False,offers:0\n",
      "33,False,offers:0\n",
      "34,False,offers:0\n",
      "35,False,offers:0\n",
      "36,False,offers:0\n",
      "37,False,offers:0\n",
      "38,True,offers:0\n",
      "39,False,offers:0\n",
      "40,False,offers:0\n",
      "41,False,offers:0\n",
      "42,False,offers:0\n",
      "43,True,offers:0\n",
      "44,True,offers:0\n",
      "45,False,offers:0\n",
      "46,True,offers:0\n",
      "47,False,offers:0\n",
      "48,False,offers:0\n",
      "49,False,offers:0\n",
      "50,False,offers:0\n",
      "51,False,offers:0\n",
      "52,False,offers:0\n",
      "53,False,offers:0\n",
      "54,False,offers:0\n",
      "55,False,offers:0\n",
      "56,False,offers:0\n",
      "57,False,offers:0\n",
      "58,False,offers:0\n",
      "59,False,offers:0\n",
      "60,False,offers:0\n",
      "61,False,offers:0\n",
      "62,False,offers:0\n",
      "63,False,offers:0\n",
      "64,False,offers:0\n",
      "65,False,offers:0\n",
      "66,False,offers:0\n",
      "67,False,offers:0\n",
      "68,False,offers:0\n",
      "69,False,offers:0\n",
      "70,False,offers:0\n",
      "71,False,offers:0\n",
      "72,False,offers:0\n",
      "73,False,offers:0\n",
      "74,False,offers:0\n",
      "75,False,offers:0\n",
      "76,False,offers:0\n",
      "77,False,offers:0\n",
      "78,False,offers:0\n",
      "79,False,offers:0\n",
      "80,False,offers:0\n",
      "81,False,offers:0\n",
      "82,False,offers:0\n",
      "83,False,offers:0\n",
      "84,False,offers:0\n",
      "85,False,offers:0\n",
      "86,False,offers:0\n",
      "87,False,offers:0\n",
      "88,False,offers:0\n",
      "89,False,offers:0\n",
      "90,False,offers:0\n",
      "91,False,offers:0\n",
      "92,False,offers:0\n",
      "93,False,offers:0\n",
      "94,False,offers:0\n",
      "95,False,offers:0\n",
      "96,False,offers:0\n",
      "97,False,offers:0\n",
      "98,False,offers:0\n",
      "99,False,offers:0\n",
      "100,False,offers:0\n",
      "101,False,offers:0\n",
      "102,False,offers:0\n",
      "103,False,offers:0\n",
      "104,False,offers:0\n",
      "105,False,offers:0\n",
      "106,False,offers:0\n",
      "107,False,offers:0\n",
      "108,False,offers:0\n",
      "109,False,offers:0\n",
      "110,False,offers:0\n",
      "111,False,offers:0\n",
      "112,False,offers:0\n",
      "113,False,offers:0\n",
      "114,False,offers:0\n",
      "115,False,offers:0\n",
      "116,False,offers:0\n",
      "117,False,offers:0\n",
      "118,False,offers:0\n",
      "119,False,offers:0\n",
      "120,False,offers:0\n",
      "121,False,offers:0\n",
      "122,False,offers:0\n",
      "123,False,offers:0\n",
      "124,False,offers:0\n",
      "125,False,offers:0\n",
      "126,False,offers:0\n",
      "127,False,offers:0\n",
      "128,False,offers:0\n",
      "129,False,offers:0\n",
      "130,False,offers:0\n",
      "131,False,offers:0\n",
      "132,False,offers:0\n",
      "133,False,offers:0\n",
      "134,False,offers:0\n",
      "135,False,offers:0\n",
      "136,False,offers:0\n",
      "137,False,offers:0\n",
      "138,False,offers:0\n",
      "139,False,offers:0\n",
      "140,False,offers:0\n",
      "141,False,offers:0\n",
      "142,False,offers:0\n",
      "143,False,offers:0\n",
      "144,False,offers:0\n",
      "145,False,offers:0\n",
      "146,False,offers:0\n",
      "147,False,offers:0\n",
      "148,False,offers:0\n",
      "149,False,offers:0\n",
      "150,False,offers:0\n",
      "151,False,offers:0\n",
      "152,False,offers:0\n",
      "153,False,offers:0\n",
      "154,False,offers:0\n",
      "155,False,offers:0\n",
      "156,False,offers:0\n",
      "157,False,offers:0\n",
      "158,False,offers:0\n",
      "159,False,offers:0\n",
      "160,False,offers:0\n",
      "161,False,offers:0\n",
      "162,False,offers:0\n",
      "163,False,offers:0\n",
      "164,False,offers:0\n",
      "165,False,offers:0\n",
      "166,False,offers:0\n",
      "167,False,offers:0\n",
      "168,False,offers:0\n",
      "169,False,offers:0\n",
      "170,False,offers:0\n",
      "171,False,offers:0\n",
      "172,False,offers:0\n",
      "173,False,offers:0\n",
      "174,False,offers:0\n",
      "175,False,offers:0\n",
      "176,False,offers:0\n",
      "177,False,offers:0\n",
      "178,False,offers:0\n",
      "179,False,offers:0\n",
      "180,False,offers:0\n",
      "181,False,offers:0\n",
      "182,False,offers:0\n",
      "183,False,offers:0\n",
      "184,False,offers:0\n",
      "185,False,offers:0\n",
      "186,False,offers:0\n",
      "187,False,offers:0\n",
      "188,False,offers:0\n",
      "189,False,offers:0\n",
      "190,False,offers:0\n",
      "191,False,offers:0\n",
      "192,False,offers:0\n",
      "193,False,offers:0\n",
      "194,False,offers:0\n",
      "195,False,offers:0\n",
      "196,False,offers:0\n",
      "197,False,offers:0\n",
      "198,False,offers:0\n",
      "199,False,offers:0\n",
      "200,False,offers:0\n",
      "201,False,offers:0\n",
      "202,False,offers:0\n",
      "203,False,offers:0\n",
      "204,False,offers:0\n",
      "205,False,offers:0\n",
      "206,False,offers:0\n",
      "207,False,offers:0\n",
      "208,False,offers:0\n",
      "209,False,offers:0\n",
      "210,False,offers:0\n",
      "211,False,offers:0\n",
      "212,False,offers:0\n",
      "213,False,offers:0\n",
      "214,False,offers:0\n",
      "215,False,offers:0\n",
      "216,False,offers:0\n",
      "217,False,offers:0\n",
      "218,False,offers:0\n",
      "219,False,offers:0\n",
      "220,False,offers:0\n",
      "221,False,offers:0\n",
      "222,False,offers:0\n",
      "223,False,offers:0\n",
      "224,False,offers:0\n",
      "225,False,offers:0\n",
      "226,False,offers:0\n",
      "227,False,offers:0\n",
      "228,False,offers:0\n",
      "229,False,offers:0\n",
      "230,False,offers:0\n",
      "231,False,offers:0\n",
      "232,False,offers:0\n",
      "233,False,offers:0\n",
      "234,False,offers:0\n",
      "235,False,offers:0\n",
      "236,False,offers:0\n",
      "237,False,offers:0\n",
      "238,False,offers:0\n",
      "239,False,offers:0\n",
      "240,False,offers:0\n",
      "241,False,offers:0\n",
      "242,False,offers:0\n",
      "243,False,offers:0\n",
      "244,False,offers:0\n",
      "245,False,offers:0\n",
      "246,False,offers:0\n",
      "247,False,offers:0\n",
      "248,False,offers:0\n",
      "249,False,offers:0\n",
      "250,False,offers:0\n",
      "251,False,offers:0\n",
      "252,False,offers:0\n",
      "253,False,offers:0\n",
      "254,False,offers:0\n",
      "255,False,offers:0\n",
      "256,False,offers:0\n",
      "257,False,offers:0\n",
      "258,False,offers:0\n",
      "259,False,offers:0\n",
      "260,False,offers:0\n",
      "261,False,offers:0\n",
      "262,False,offers:0\n",
      "263,False,offers:0\n",
      "264,False,offers:0\n",
      "265,False,offers:0\n",
      "266,False,offers:0\n",
      "267,False,offers:0\n",
      "268,False,offers:0\n",
      "269,False,offers:0\n",
      "270,False,offers:0\n",
      "271,False,offers:0\n",
      "272,False,offers:0\n",
      "273,False,offers:0\n",
      "274,False,offers:0\n",
      "275,False,offers:0\n",
      "276,False,offers:0\n",
      "277,False,offers:0\n",
      "278,False,offers:0\n",
      "279,False,offers:0\n",
      "280,False,offers:0\n",
      "281,False,offers:0\n",
      "282,False,offers:0\n",
      "283,False,offers:0\n",
      "284,False,offers:0\n",
      "285,False,offers:0\n",
      "286,False,offers:0\n",
      "287,False,offers:0\n",
      "288,False,offers:0\n",
      "289,False,offers:0\n",
      "290,False,offers:0\n",
      "291,False,offers:0\n",
      "292,False,offers:0\n",
      "293,False,offers:0\n",
      "294,False,offers:0\n",
      "295,False,offers:0\n",
      "296,False,offers:0\n",
      "297,False,offers:0\n",
      "298,False,offers:0\n",
      "299,False,offers:0\n",
      "300,False,offers:0\n",
      "301,False,offers:0\n",
      "302,False,offers:0\n",
      "303,False,offers:0\n",
      "304,False,offers:0\n",
      "305,False,offers:0\n",
      "306,False,offers:0\n",
      "307,False,offers:0\n",
      "308,False,offers:0\n",
      "309,False,offers:0\n",
      "310,False,offers:0\n",
      "311,False,offers:0\n",
      "312,False,offers:0\n",
      "313,False,offers:0\n",
      "314,False,offers:0\n",
      "315,False,offers:0\n",
      "316,False,offers:0\n",
      "317,False,offers:0\n",
      "318,False,offers:0\n",
      "319,False,offers:0\n",
      "320,False,offers:0\n",
      "321,False,offers:0\n",
      "322,False,offers:0\n",
      "323,False,offers:0\n",
      "324,False,offers:0\n",
      "325,False,offers:0\n",
      "326,False,offers:0\n",
      "327,False,offers:0\n",
      "328,False,offers:0\n",
      "329,False,offers:0\n",
      "330,False,offers:0\n",
      "331,False,offers:0\n",
      "332,False,offers:0\n",
      "333,False,offers:0\n",
      "334,False,offers:0\n",
      "335,False,offers:0\n",
      "336,False,offers:0\n",
      "337,False,offers:0\n",
      "338,False,offers:0\n",
      "339,False,offers:0\n",
      "340,False,offers:0\n",
      "341,False,offers:0\n",
      "342,False,offers:0\n",
      "343,False,offers:0\n",
      "344,False,offers:0\n",
      "345,False,offers:0\n",
      "346,False,offers:0\n",
      "347,False,offers:0\n",
      "348,False,offers:0\n",
      "349,False,offers:0\n",
      "350,False,offers:0\n",
      "351,False,offers:0\n",
      "352,False,offers:0\n",
      "353,False,offers:0\n",
      "354,False,offers:0\n",
      "355,False,offers:0\n",
      "356,False,offers:0\n",
      "357,False,offers:0\n",
      "358,False,offers:0\n",
      "359,False,offers:0\n",
      "360,False,offers:0\n",
      "361,False,offers:0\n",
      "362,False,offers:0\n",
      "363,False,offers:0\n",
      "364,False,offers:0\n",
      "365,False,offers:0\n",
      "366,False,offers:0\n",
      "367,False,offers:0\n",
      "368,False,offers:0\n",
      "369,False,offers:0\n",
      "370,False,offers:0\n",
      "371,False,offers:0\n",
      "372,False,offers:0\n",
      "373,False,offers:0\n",
      "374,False,offers:0\n",
      "375,False,offers:0\n",
      "376,False,offers:0\n",
      "377,False,offers:0\n",
      "378,False,offers:0\n",
      "379,False,offers:0\n",
      "380,False,offers:0\n",
      "381,False,offers:0\n",
      "382,False,offers:0\n",
      "383,False,offers:0\n",
      "384,False,offers:0\n",
      "385,False,offers:0\n",
      "386,False,offers:0\n",
      "387,False,offers:0\n",
      "388,False,offers:0\n",
      "389,False,offers:0\n",
      "390,False,offers:0\n",
      "391,False,offers:0\n",
      "392,False,offers:0\n",
      "393,False,offers:0\n",
      "394,False,offers:0\n",
      "395,False,offers:0\n",
      "396,False,offers:0\n",
      "397,False,offers:0\n",
      "398,False,offers:0\n",
      "399,False,offers:0\n",
      "400,False,offers:0\n",
      "401,False,offers:0\n",
      "402,False,offers:0\n",
      "403,False,offers:0\n",
      "404,False,offers:0\n",
      "405,False,offers:0\n",
      "406,False,offers:0\n",
      "407,False,offers:0\n",
      "408,False,offers:0\n",
      "409,False,offers:0\n",
      "410,False,offers:0\n",
      "411,False,offers:0\n",
      "412,False,offers:0\n",
      "413,False,offers:0\n",
      "414,False,offers:0\n",
      "415,False,offers:0\n",
      "416,False,offers:0\n",
      "417,False,offers:0\n",
      "418,False,offers:0\n",
      "419,False,offers:0\n",
      "420,False,offers:0\n",
      "421,False,offers:0\n",
      "422,False,offers:0\n",
      "423,False,offers:0\n",
      "424,False,offers:0\n",
      "425,False,offers:0\n",
      "426,False,offers:0\n",
      "427,False,offers:0\n",
      "428,False,offers:0\n",
      "429,False,offers:0\n",
      "430,False,offers:0\n",
      "431,False,offers:0\n",
      "432,False,offers:0\n",
      "433,False,offers:0\n",
      "434,False,offers:0\n",
      "435,False,offers:0\n",
      "436,False,offers:0\n",
      "437,False,offers:0\n",
      "438,False,offers:0\n",
      "439,False,offers:0\n",
      "440,False,offers:0\n",
      "441,False,offers:0\n",
      "442,False,offers:0\n",
      "443,False,offers:0\n",
      "444,False,offers:0\n",
      "445,False,offers:0\n",
      "446,False,offers:0\n",
      "447,False,offers:0\n",
      "448,False,offers:0\n",
      "449,False,offers:0\n",
      "450,False,offers:0\n",
      "451,False,offers:0\n",
      "452,False,offers:0\n",
      "453,False,offers:0\n",
      "454,False,offers:0\n",
      "455,False,offers:0\n",
      "456,False,offers:0\n",
      "457,False,offers:0\n",
      "458,False,offers:0\n",
      "459,False,offers:0\n",
      "460,False,offers:0\n",
      "461,False,offers:0\n",
      "462,False,offers:0\n",
      "463,False,offers:0\n",
      "464,False,offers:0\n",
      "465,False,offers:0\n",
      "466,False,offers:0\n",
      "467,False,offers:0\n",
      "468,False,offers:0\n",
      "469,False,offers:0\n",
      "470,False,offers:0\n",
      "471,False,offers:0\n",
      "472,False,offers:0\n",
      "473,False,offers:0\n",
      "474,False,offers:0\n",
      "475,False,offers:0\n",
      "476,False,offers:0\n",
      "477,False,offers:0\n",
      "478,False,offers:0\n",
      "479,False,offers:0\n",
      "480,False,offers:0\n",
      "481,False,offers:0\n",
      "482,False,offers:0\n",
      "483,False,offers:0\n",
      "484,False,offers:0\n",
      "485,False,offers:0\n",
      "486,False,offers:0\n",
      "487,False,offers:0\n",
      "488,False,offers:0\n",
      "489,False,offers:0\n",
      "490,False,offers:0\n",
      "491,False,offers:0\n",
      "492,False,offers:0\n",
      "493,False,offers:0\n",
      "494,False,offers:0\n",
      "495,False,offers:0\n",
      "496,False,offers:0\n",
      "497,False,offers:0\n",
      "498,False,offers:0\n",
      "499,False,offers:0\n",
      "500,False,offers:0\n",
      "501,False,offers:0\n",
      "502,False,offers:0\n",
      "503,False,offers:0\n",
      "504,False,offers:0\n",
      "505,False,offers:0\n",
      "506,False,offers:0\n",
      "507,False,offers:0\n",
      "508,False,offers:0\n",
      "509,False,offers:0\n",
      "510,False,offers:0\n",
      "511,False,offers:0\n",
      "512,False,offers:0\n",
      "513,False,offers:0\n",
      "514,False,offers:0\n",
      "515,False,offers:0\n",
      "516,False,offers:0\n",
      "517,False,offers:0\n",
      "518,False,offers:0\n",
      "519,False,offers:0\n",
      "520,False,offers:0\n",
      "521,False,offers:0\n",
      "522,False,offers:0\n",
      "523,False,offers:0\n",
      "524,False,offers:0\n",
      "525,False,offers:0\n",
      "526,False,offers:0\n",
      "527,False,offers:0\n",
      "528,False,offers:0\n",
      "529,False,offers:0\n",
      "530,False,offers:0\n",
      "531,False,offers:0\n",
      "532,False,offers:0\n",
      "533,False,offers:0\n",
      "534,False,offers:0\n",
      "535,False,offers:0\n",
      "536,False,offers:0\n",
      "537,False,offers:0\n",
      "538,False,offers:0\n",
      "539,False,offers:0\n",
      "540,False,offers:0\n",
      "541,False,offers:0\n",
      "542,False,offers:0\n",
      "543,False,offers:0\n",
      "544,False,offers:0\n",
      "545,False,offers:0\n",
      "546,False,offers:0\n",
      "547,False,offers:0\n",
      "548,False,offers:0\n",
      "549,False,offers:0\n",
      "550,False,offers:0\n",
      "551,False,offers:0\n",
      "552,False,offers:0\n",
      "553,False,offers:0\n",
      "554,False,offers:0\n",
      "555,False,offers:0\n",
      "556,False,offers:0\n",
      "557,False,offers:0\n",
      "558,False,offers:0\n",
      "559,False,offers:0\n",
      "560,False,offers:0\n",
      "561,False,offers:0\n",
      "562,False,offers:0\n",
      "563,False,offers:0\n",
      "564,False,offers:0\n",
      "565,False,offers:0\n",
      "566,False,offers:0\n",
      "567,False,offers:0\n",
      "568,False,offers:0\n",
      "569,False,offers:0\n",
      "570,False,offers:0\n",
      "571,False,offers:0\n",
      "572,False,offers:0\n",
      "573,False,offers:0\n",
      "574,False,offers:0\n",
      "575,False,offers:0\n",
      "576,False,offers:0\n",
      "577,False,offers:0\n",
      "578,False,offers:0\n",
      "579,False,offers:0\n",
      "580,False,offers:0\n",
      "581,False,offers:0\n",
      "582,False,offers:0\n",
      "583,False,offers:0\n",
      "584,False,offers:0\n",
      "585,False,offers:0\n",
      "586,False,offers:0\n",
      "587,False,offers:0\n",
      "588,False,offers:0\n",
      "589,False,offers:0\n",
      "590,False,offers:0\n",
      "591,False,offers:0\n",
      "592,False,offers:0\n",
      "593,False,offers:0\n",
      "594,False,offers:0\n",
      "595,False,offers:0\n",
      "596,False,offers:0\n",
      "597,False,offers:0\n",
      "598,False,offers:0\n",
      "599,False,offers:0\n",
      "600,False,offers:0\n",
      "601,False,offers:0\n",
      "602,False,offers:0\n",
      "603,False,offers:0\n",
      "604,False,offers:0\n",
      "605,False,offers:0\n",
      "606,False,offers:0\n",
      "607,False,offers:0\n",
      "608,False,offers:0\n",
      "609,False,offers:0\n",
      "610,False,offers:0\n",
      "611,False,offers:0\n",
      "612,False,offers:0\n",
      "613,False,offers:0\n",
      "614,False,offers:0\n",
      "615,False,offers:0\n",
      "616,False,offers:0\n",
      "617,False,offers:0\n",
      "618,False,offers:0\n",
      "619,False,offers:0\n",
      "620,False,offers:0\n",
      "621,False,offers:0\n",
      "622,False,offers:0\n",
      "623,False,offers:0\n",
      "624,False,offers:0\n",
      "625,False,offers:0\n",
      "626,False,offers:0\n",
      "627,False,offers:0\n",
      "628,False,offers:0\n",
      "629,False,offers:0\n",
      "630,False,offers:0\n",
      "631,False,offers:0\n",
      "632,False,offers:0\n",
      "633,False,offers:0\n",
      "634,False,offers:0\n",
      "635,False,offers:0\n",
      "636,False,offers:0\n",
      "637,False,offers:0\n",
      "638,False,offers:0\n",
      "639,True,offers:0\n",
      "640,True,offers:0\n",
      "641,True,offers:0\n",
      "642,True,offers:0\n",
      "643,True,offers:0\n",
      "644,True,offers:0\n",
      "645,True,offers:0\n",
      "646,True,offers:0\n",
      "647,True,offers:0\n",
      "648,True,offers:0\n",
      "649,True,offers:0\n",
      "650,True,offers:0\n",
      "651,True,offers:0\n",
      "652,False,offers:0\n",
      "653,True,offers:0\n",
      "654,True,offers:0\n",
      "655,True,offers:0\n",
      "656,True,offers:0\n",
      "657,True,offers:0\n",
      "658,True,offers:0\n",
      "659,False,offers:0\n",
      "660,True,offers:0\n",
      "661,True,offers:0\n",
      "662,True,offers:0\n",
      "663,True,offers:0\n",
      "664,True,offers:0\n",
      "665,True,offers:0\n",
      "666,True,offers:0\n",
      "667,False,offers:0\n",
      "668,True,offers:0\n",
      "669,True,offers:0\n",
      "670,True,offers:0\n",
      "671,True,offers:0\n",
      "672,True,offers:0\n",
      "673,True,offers:0\n",
      "674,True,offers:0\n",
      "675,True,offers:0\n",
      "676,True,offers:0\n",
      "677,True,offers:0\n",
      "678,True,offers:0\n",
      "679,True,offers:0\n",
      "680,True,offers:0\n",
      "681,True,offers:0\n",
      "682,True,offers:0\n",
      "683,True,offers:0\n",
      "684,True,offers:0\n",
      "685,True,offers:0\n",
      "686,True,offers:0\n",
      "687,True,offers:0\n",
      "688,True,offers:0\n",
      "689,True,offers:0\n",
      "690,True,offers:0\n",
      "691,True,offers:0\n",
      "692,True,offers:0\n",
      "693,True,offers:0\n",
      "694,True,offers:0\n",
      "695,True,offers:0\n",
      "696,True,offers:0\n",
      "697,True,offers:0\n",
      "698,True,offers:0\n",
      "699,True,offers:0\n",
      "700,True,offers:0\n",
      "701,True,offers:0\n",
      "702,True,offers:0\n",
      "703,True,offers:0\n",
      "704,True,offers:0\n",
      "705,True,offers:0\n",
      "706,True,offers:0\n",
      "707,False,offers:0\n",
      "708,True,offers:0\n",
      "709,True,offers:0\n",
      "710,True,offers:0\n",
      "711,True,offers:0\n",
      "712,True,offers:0\n",
      "713,True,offers:0\n",
      "714,True,offers:0\n",
      "715,False,offers:0\n",
      "716,True,offers:0\n",
      "717,True,offers:0\n",
      "718,True,offers:0\n",
      "719,True,offers:0\n",
      "720,False,offers:0\n",
      "721,True,offers:0\n",
      "722,True,offers:0\n",
      "723,True,offers:0\n",
      "724,True,offers:0\n",
      "725,True,offers:0\n",
      "726,True,offers:0\n",
      "727,True,offers:0\n",
      "728,True,offers:0\n",
      "729,True,offers:0\n",
      "730,True,offers:0\n",
      "731,False,offers:0\n",
      "732,True,offers:0\n",
      "733,True,offers:0\n",
      "734,True,offers:0\n",
      "735,True,offers:0\n",
      "736,True,offers:0\n",
      "737,True,offers:0\n",
      "738,True,offers:0\n",
      "739,True,offers:0\n",
      "740,True,offers:0\n",
      "741,True,offers:0\n",
      "742,True,offers:0\n",
      "743,True,offers:0\n",
      "744,True,offers:0\n",
      "745,True,offers:0\n",
      "746,True,offers:0\n",
      "747,True,offers:0\n",
      "748,True,offers:0\n",
      "749,True,offers:0\n",
      "750,True,offers:0\n",
      "751,True,offers:0\n",
      "752,True,offers:0\n",
      "753,True,offers:0\n",
      "754,True,offers:0\n",
      "755,True,offers:0\n",
      "756,True,offers:0\n",
      "757,True,offers:0\n",
      "758,True,offers:0\n",
      "759,True,offers:0\n",
      "760,False,offers:0\n",
      "761,True,offers:0\n",
      "762,True,offers:0\n",
      "763,True,offers:0\n",
      "764,True,offers:0\n",
      "765,True,offers:0\n",
      "766,True,offers:0\n",
      "767,True,offers:0\n",
      "768,True,offers:0\n",
      "769,True,offers:0\n",
      "770,True,offers:0\n",
      "771,True,offers:0\n",
      "772,True,offers:0\n",
      "773,True,offers:0\n",
      "774,True,offers:0\n",
      "775,True,offers:0\n",
      "776,True,offers:0\n",
      "777,True,offers:0\n",
      "778,True,offers:0\n",
      "779,True,offers:0\n",
      "780,True,offers:0\n",
      "781,True,offers:0\n",
      "782,True,offers:0\n",
      "783,True,offers:0\n",
      "784,True,offers:0\n",
      "785,False,offers:0\n",
      "786,True,offers:0\n",
      "787,True,offers:0\n",
      "788,True,offers:0\n",
      "789,True,offers:0\n",
      "790,True,offers:0\n",
      "791,True,offers:0\n",
      "792,True,offers:0\n",
      "793,True,offers:0\n",
      "794,True,offers:0\n",
      "795,True,offers:0\n",
      "796,True,offers:0\n",
      "797,True,offers:0\n",
      "798,True,offers:0\n",
      "799,True,offers:0\n",
      "800,True,offers:0\n",
      "801,True,offers:0\n",
      "802,True,offers:0\n",
      "803,True,offers:0\n",
      "804,True,offers:0\n",
      "805,True,offers:0\n",
      "806,True,offers:0\n",
      "807,True,offers:0\n",
      "808,True,offers:0\n",
      "809,True,offers:0\n",
      "810,False,offers:0\n",
      "811,True,offers:0\n",
      "812,False,offers:0\n",
      "813,True,offers:0\n",
      "814,True,offers:0\n",
      "815,True,offers:0\n",
      "816,True,offers:0\n",
      "817,True,offers:0\n",
      "818,True,offers:0\n",
      "819,True,offers:0\n",
      "820,True,offers:0\n",
      "821,True,offers:0\n",
      "822,True,offers:0\n",
      "823,True,offers:0\n",
      "824,True,offers:0\n",
      "825,True,offers:0\n",
      "826,True,offers:0\n",
      "827,True,offers:0\n",
      "828,True,offers:0\n",
      "829,True,offers:0\n",
      "830,True,offers:0\n",
      "831,True,offers:0\n",
      "832,True,offers:0\n",
      "833,True,offers:0\n",
      "834,True,offers:0\n",
      "835,True,offers:0\n",
      "836,True,offers:0\n",
      "837,True,offers:0\n",
      "838,True,offers:0\n",
      "839,True,offers:0\n",
      "840,True,offers:0\n",
      "841,True,offers:0\n",
      "842,True,offers:0\n",
      "843,True,offers:0\n",
      "844,True,offers:0\n",
      "845,True,offers:0\n",
      "846,True,offers:0\n",
      "847,True,offers:0\n",
      "848,True,offers:0\n",
      "849,True,offers:0\n",
      "850,True,offers:0\n",
      "851,True,offers:0\n",
      "852,True,offers:0\n",
      "853,True,offers:0\n",
      "854,True,offers:0\n",
      "855,False,offers:0\n",
      "856,True,offers:0\n",
      "857,True,offers:0\n",
      "858,False,offers:0\n",
      "859,True,offers:0\n",
      "860,True,offers:0\n",
      "861,True,offers:0\n",
      "862,True,offers:0\n",
      "863,True,offers:0\n",
      "864,True,offers:0\n",
      "865,True,offers:0\n",
      "866,True,offers:0\n",
      "867,True,offers:0\n",
      "868,True,offers:0\n",
      "869,False,offers:0\n",
      "870,True,offers:0\n",
      "871,True,offers:0\n",
      "872,True,offers:0\n",
      "873,True,offers:0\n",
      "874,True,offers:0\n",
      "875,True,offers:0\n",
      "876,True,offers:0\n",
      "877,True,offers:0\n",
      "878,True,offers:0\n",
      "879,True,offers:0\n",
      "880,True,offers:0\n",
      "881,False,offers:0\n",
      "882,True,offers:0\n",
      "883,False,offers:0\n",
      "884,True,offers:0\n",
      "885,True,offers:0\n",
      "886,True,offers:0\n",
      "887,True,offers:0\n",
      "888,True,offers:0\n",
      "889,False,offers:0\n",
      "890,True,offers:0\n",
      "891,True,offers:0\n",
      "892,True,offers:0\n",
      "893,True,offers:0\n",
      "894,True,offers:0\n",
      "895,True,offers:0\n",
      "896,True,offers:0\n",
      "897,True,offers:0\n",
      "898,True,offers:0\n",
      "899,True,offers:0\n",
      "900,True,offers:0\n",
      "901,True,offers:0\n",
      "902,True,offers:0\n",
      "903,True,offers:0\n",
      "904,True,offers:0\n",
      "905,True,offers:0\n",
      "906,True,offers:0\n",
      "907,True,offers:0\n",
      "908,True,offers:0\n",
      "909,True,offers:0\n",
      "910,True,offers:0\n",
      "911,True,offers:0\n",
      "912,True,offers:0\n",
      "913,True,offers:0\n",
      "914,True,offers:0\n",
      "915,True,offers:0\n",
      "916,False,offers:0\n",
      "917,True,offers:0\n",
      "918,True,offers:0\n",
      "919,False,offers:0\n",
      "920,True,offers:0\n",
      "921,True,offers:0\n",
      "922,True,offers:0\n",
      "923,True,offers:0\n",
      "924,True,offers:0\n",
      "925,True,offers:0\n",
      "926,True,offers:0\n",
      "927,True,offers:0\n",
      "928,True,offers:0\n",
      "929,True,offers:0\n",
      "930,True,offers:0\n",
      "931,False,offers:0\n",
      "932,True,offers:0\n",
      "933,True,offers:0\n",
      "934,True,offers:0\n",
      "935,True,offers:0\n",
      "936,True,offers:0\n",
      "937,True,offers:0\n",
      "938,True,offers:0\n",
      "939,True,offers:0\n",
      "940,True,offers:0\n",
      "941,True,offers:0\n",
      "942,True,offers:0\n",
      "943,True,offers:0\n",
      "944,False,offers:0\n",
      "945,True,offers:0\n",
      "946,True,offers:0\n",
      "947,True,offers:0\n",
      "948,True,offers:0\n",
      "949,True,offers:0\n",
      "950,True,offers:0\n",
      "951,True,offers:0\n",
      "952,True,offers:0\n",
      "953,True,offers:0\n",
      "954,True,offers:0\n",
      "955,True,offers:0\n",
      "956,True,offers:0\n",
      "957,True,offers:0\n",
      "958,True,offers:0\n",
      "959,True,offers:0\n",
      "960,True,offers:0\n",
      "961,True,offers:0\n",
      "962,True,offers:0\n",
      "963,True,offers:0\n",
      "964,True,offers:0\n",
      "965,True,offers:0\n",
      "966,True,offers:0\n",
      "967,True,offers:0\n",
      "968,True,offers:0\n",
      "969,True,offers:0\n",
      "970,True,offers:0\n",
      "971,True,offers:0\n",
      "972,True,offers:0\n",
      "973,True,offers:0\n",
      "974,True,offers:0\n",
      "975,True,offers:0\n",
      "976,True,offers:0\n",
      "977,True,offers:0\n",
      "978,True,offers:0\n",
      "979,True,offers:0\n",
      "980,True,offers:0\n",
      "981,True,offers:0\n",
      "982,True,offers:0\n",
      "983,True,offers:0\n",
      "984,True,offers:0\n",
      "985,True,offers:0\n",
      "986,True,offers:0\n",
      "987,True,offers:0\n",
      "988,True,offers:0\n",
      "989,True,offers:0\n",
      "990,True,offers:0\n",
      "991,True,offers:0\n",
      "992,True,offers:0\n",
      "993,True,offers:0\n",
      "994,True,offers:0\n",
      "995,True,offers:0\n",
      "996,True,offers:0\n",
      "997,True,offers:0\n",
      "998,True,offers:0\n",
      "999,True,offers:0\n"
     ]
    }
   ],
   "source": [
    "# 求职者offer情况\n",
    "for i in persons:\n",
    "  print(f'{i.id},{i.alive},offers:{len(i.offers)}')"
   ]
  },
  {
   "cell_type": "code",
   "execution_count": 117,
   "metadata": {},
   "outputs": [
    {
     "name": "stdout",
     "output_type": "stream",
     "text": [
      "岗位0, 招到6, 还差0\t: <39,0.7903871536254883> <59,0.7705034255981446> <134,0.7568811416625977> <149,0.7934394836425781> <282,0.1> <333,0.1> \n",
      "岗位1, 招到10, 还差0\t: <1,0.1> <2,0.1> <3,0.1> <4,0.1> <5,0.1> <6,0.1> <8,0.1> <9,0.1> <11,0.1> <16,0.1> \n",
      "岗位2, 招到100, 还差0\t: <17,0.1> <18,0.1> <19,0.1> <21,0.1> <33,0.1> <34,0.1> <48,0.6581022262573242> <50,0.1> <51,0.1> <53,0.1> <56,0.1> <58,0.1> <61,0.1> <62,0.1> <67,0.1> <73,0.1> <78,0.1> <87,0.1> <95,0.1> <98,0.1> <99,0.1> <111,0.1> <115,0.1> <122,0.1> <125,0.1> <135,0.1> <136,0.1> <137,0.1> <148,0.1> <169,0.1> <171,0.1> <174,0.1> <175,0.1> <176,0.1> <179,0.1> <192,0.1> <197,0.1> <206,0.1> <213,0.1> <214,0.1> <215,0.1> <216,0.1> <217,0.1> <218,0.1> <219,0.1> <220,0.1> <221,0.1> <222,0.1> <223,0.1> <224,0.1> <225,0.1> <228,0.1> <229,0.1> <230,0.1> <231,0.1> <232,0.1> <233,0.1> <234,0.1> <235,0.1> <236,0.1> <238,0.1> <239,0.1> <240,0.1> <241,0.1> <242,0.1> <243,0.1> <244,0.1> <245,0.1> <246,0.1> <247,0.1> <248,0.1> <249,0.1> <250,0.1> <251,0.1> <252,0.1> <253,0.1> <254,0.1> <255,0.1> <257,0.1> <258,0.1> <259,0.1> <260,0.1> <261,0.1> <262,0.1> <263,0.1> <264,0.1> <265,0.1> <266,0.1> <267,0.1> <268,0.1> <269,0.1> <270,0.1> <271,0.1> <272,0.1> <273,0.1> <274,0.1> <275,0.1> <276,0.1> <277,0.1> <278,0.1> \n",
      "岗位3, 招到5, 还差0\t: <37,1.0> <54,1.0> <89,1.0> <97,1.0> <154,1.0> \n",
      "岗位4, 招到6, 还差0\t: <227,1.0> <308,1.0> <315,0.9454571723937988> <325,0.922127628326416> <371,0.930682373046875> <858,0.9301607131958007> \n",
      "岗位5, 招到10, 还差0\t: <10,1.0> <68,1.0> <283,0.1> <284,0.1> <285,0.1> <286,0.1> <287,0.1> <288,0.1> <334,0.1> <360,0.1> \n",
      "岗位6, 招到100, 还差0\t: <12,0.7972942352294922> <35,0.7962944984436036> <52,0.7212835311889648> <55,0.7458709716796875> <66,0.698245620727539> <71,0.6879184722900391> <79,0.7703664779663086> <83,0.7371712684631347> <85,0.7714344978332519> <94,0.8047739028930664> <101,0.7044673919677734> <105,0.7144638061523437> <110,0.7228237152099609> <112,0.7465265274047852> <117,0.709325122833252> <120,0.6851895809173584> <121,0.681457233428955> <124,0.7134895324707031> <127,0.7305242538452148> <129,0.7451960563659668> <132,0.7024976730346679> <133,0.6827269554138183> <138,0.7593914985656738> <141,0.7811361312866211> <145,0.7266268730163574> <147,0.7551714897155761> <150,0.8953327178955078> <152,0.7720837593078613> <153,0.6994205474853515> <156,0.888084602355957> <158,0.7359793663024903> <160,0.748167610168457> <161,0.764777660369873> <166,0.690188980102539> <173,0.8214381217956543> <177,0.7853281974792481> <181,0.6876070499420166> <182,0.6914334297180176> <186,0.7486342430114746> <190,0.7857111930847168> <191,0.7353334426879883> <194,0.8930679321289062> <203,0.7086248397827148> <204,0.6823673725128174> <205,0.7612235069274902> <209,0.7040596961975097> <210,0.7388791084289551> <212,0.7076310157775879> <77,0.2447528839111328> <114,0.4879182815551758> <146,0.6663817405700684> <279,0.1> <281,0.1> <289,0.1> <290,0.1> <291,0.1> <292,0.1> <293,0.1> <294,0.1> <295,0.1> <296,0.1> <297,0.1> <298,0.1> <299,0.1> <300,0.1> <301,0.1> <302,0.1> <303,0.1> <304,0.1> <305,0.1> <306,0.1> <307,0.1> <309,0.1> <310,0.1> <312,0.1> <313,0.1> <314,0.1> <316,0.1> <317,0.1> <318,0.1> <319,0.1> <320,0.1> <321,0.1> <322,0.1> <323,0.1> <324,0.1> <326,0.1> <327,0.1> <328,0.1> <329,0.1> <330,0.1> <331,0.1> <332,0.1> <335,0.1> <336,0.1> <337,0.1> <338,0.1> <340,0.1> <361,0.1> <384,0.1> \n",
      "岗位7, 招到2, 还差0\t: <385,0.1> <402,0.1> \n",
      "岗位8, 招到5, 还差0\t: <40,0.7441337585449219> <362,0.1> <364,0.1> <403,0.1> <418,0.1> \n",
      "岗位9, 招到1, 还差0\t: <434,0.1> \n",
      "岗位10, 招到0, 还差0\t: \n",
      "岗位11, 招到0, 还差0\t: \n",
      "岗位12, 招到0, 还差0\t: \n",
      "岗位13, 招到0, 还差0\t: \n",
      "岗位14, 招到0, 还差0\t: \n",
      "岗位15, 招到0, 还差0\t: \n",
      "岗位16, 招到1, 还差0\t: <448,0.1> \n",
      "岗位17, 招到1, 还差0\t: <456,0.1> \n",
      "岗位18, 招到1, 还差0\t: <13,0.8632425308227539> \n",
      "岗位19, 招到2, 还差0\t: <419,0.1> <463,0.1> \n",
      "岗位20, 招到30, 还差0\t: <29,0.8472482681274414> <63,1.0> <103,1.0> <104,1.0> <123,0.9207591056823731> <187,0.8280597686767578> <617,0.6876714706420899> <720,0.6844997406005859> <731,0.7769895553588867> <760,0.685078239440918> <785,0.8022074699401855> <855,0.6961713314056397> <883,0.6765275955200195> <889,0.7000332355499268> <916,0.6743232727050781> <341,0.1> <342,0.1> <343,0.1> <344,0.1> <345,0.1> <346,0.1> <347,0.1> <348,0.1> <365,0.1> <366,0.1> <367,0.1> <386,0.1> <387,0.1> <435,0.1> <470,0.1> \n",
      "岗位21, 招到20, 还差0\t: <27,0.8933444023132324> <90,0.9033598899841309> <172,0.8823623657226562> <349,0.1> <351,0.1> <368,0.1> <369,0.1> <370,0.1> <372,0.1> <373,0.1> <374,0.1> <375,0.1> <376,0.1> <388,0.1> <389,0.1> <391,0.1> <404,0.1> <405,0.1> <449,0.1> <475,0.1> \n",
      "岗位22, 招到10, 还差0\t: <64,1.0> <142,1.0> <392,0.1> <406,0.1> <407,0.1> <408,0.1> <420,0.1> <421,0.1> <457,0.1> <479,0.1> \n",
      "岗位23, 招到30, 还差0\t: <84,0.9062762260437012> <86,0.9765043258666992> <119,0.9873222351074219> <140,0.8854015350341797> <155,0.9826796531677247> <167,1.0> <195,0.8799493789672852> <199,0.9963472366333008> <352,0.1> <353,0.1> <354,0.1> <355,0.1> <356,0.1> <377,0.1> <378,0.1> <393,0.1> <394,0.1> <395,0.1> <396,0.1> <397,0.1> <398,0.1> <399,0.1> <409,0.1> <422,0.1> <423,0.1> <424,0.1> <436,0.1> <437,0.1> <464,0.1> <483,0.1> \n",
      "岗位24, 招到3, 还差0\t: <450,0.1> <471,0.1> <487,0.1> \n",
      "岗位25, 招到30, 还差0\t: <65,0.9268044471740723> <80,0.8525701522827148> <88,1.0> <108,0.9717648506164551> <113,0.9181804656982422> <130,0.9024620056152344> <159,1.0> <162,0.8893644332885742> <189,0.9143812179565429> <193,0.8330785751342773> <196,0.8467751502990722> <200,0.8566811561584473> <201,0.8386639595031739> <76,0.7842496871948242> <96,0.7105160713195801> <100,0.6437248706817627> <410,0.1> <411,0.1> <412,0.1> <413,0.1> <414,0.1> <415,0.1> <426,0.1> <438,0.1> <439,0.1> <440,0.1> <451,0.1> <458,0.1> <476,0.1> <491,0.1> \n",
      "岗位26, 招到3, 还差0\t: <465,0.1> <480,0.1> <494,0.1> \n",
      "岗位27, 招到20, 还差0\t: <106,0.9196016311645507> <139,0.9306180953979493> <144,0.9042150497436523> <208,0.5640480995178223> <400,0.1> <416,0.1> <427,0.1> <428,0.1> <429,0.1> <430,0.1> <431,0.1> <432,0.1> <441,0.1> <452,0.1> <453,0.1> <454,0.1> <459,0.1> <472,0.1> <484,0.1> <497,0.1> \n",
      "岗位28, 招到2, 还差0\t: <488,0.1> <501,0.1> \n",
      "岗位29, 招到2, 还差0\t: <70,1.0> <72,1.0> \n",
      "岗位30, 招到2, 还差0\t: <492,0.1> <504,0.1> \n",
      "岗位31, 招到3, 还差0\t: <477,0.1> <495,0.1> <507,0.1> \n",
      "岗位32, 招到2, 还差0\t: <42,1.0> <510,0.1> \n",
      "岗位33, 招到2, 还差0\t: <498,0.1> <513,0.1> \n",
      "岗位34, 招到2, 还差0\t: <22,1.0> <31,1.0> \n",
      "岗位35, 招到3, 还差0\t: <168,1.0> <502,0.1> <516,0.1> \n",
      "岗位36, 招到2, 还差0\t: <505,0.1> <519,0.1> \n",
      "岗位37, 招到3, 还差0\t: <481,0.1> <508,0.1> <522,0.1> \n",
      "岗位38, 招到3, 还差0\t: <485,0.1> <511,0.1> <525,0.1> \n",
      "岗位39, 招到3, 还差0\t: <489,0.1> <514,0.1> <529,0.1> \n",
      "岗位40, 招到3, 还差0\t: <493,0.1> <517,0.1> <532,0.1> \n",
      "岗位41, 招到2, 还差0\t: <520,0.1> <535,0.1> \n",
      "岗位42, 招到2, 还差0\t: <32,1.0> <538,0.1> \n",
      "岗位43, 招到3, 还差0\t: <496,0.1> <523,0.1> <541,0.1> \n",
      "岗位44, 招到2, 还差0\t: <526,0.1> <544,0.1> \n",
      "岗位45, 招到2, 还差0\t: <530,0.1> <547,0.1> \n",
      "岗位46, 招到2, 还差0\t: <143,0.9365206718444824> <551,0.1> \n",
      "岗位47, 招到2, 还差0\t: <533,0.1> <554,0.1> \n",
      "岗位48, 招到2, 还差0\t: <536,0.1> <556,0.1> \n",
      "岗位49, 招到3, 还差0\t: <45,1.0> <539,0.1> <558,0.1> \n",
      "岗位50, 招到2, 还差0\t: <542,0.1> <560,0.1> \n",
      "岗位51, 招到3, 还差0\t: <500,0.1> <545,0.1> <562,0.1> \n",
      "岗位52, 招到1, 还差0\t: <564,0.1> \n",
      "岗位53, 招到2, 还差0\t: <549,0.1> <566,0.1> \n",
      "岗位54, 招到1, 还差0\t: <568,0.1> \n",
      "岗位55, 招到2, 还差0\t: <36,0.855594539642334> <570,0.1> \n",
      "岗位56, 招到2, 还差0\t: <553,0.1> <572,0.1> \n",
      "岗位57, 招到3, 还差0\t: <503,0.1> <555,0.1> <574,0.1> \n",
      "岗位58, 招到5, 还差0\t: <118,1.0> <466,0.1> <506,0.1> <557,0.1> <576,0.1> \n",
      "岗位59, 招到3, 还差0\t: <509,0.1> <559,0.1> <578,0.1> \n",
      "岗位60, 招到5, 还差0\t: <164,0.7355081558227539> <473,0.1> <512,0.1> <561,0.1> <580,0.1> \n",
      "岗位61, 招到3, 还差0\t: <74,0.7813719749450684> <563,0.1> <582,0.1> \n",
      "岗位62, 招到5, 还差0\t: <49,0.7449468612670899> <57,0.6788539886474609> <157,0.6974617958068847> <565,0.1> <585,0.1> \n",
      "岗位63, 招到2, 还差0\t: <567,0.1> <587,0.1> \n",
      "岗位64, 招到2, 还差0\t: <569,0.1> <589,0.1> \n",
      "岗位65, 招到2, 还差0\t: <41,1.0> <126,1.0> \n",
      "岗位66, 招到2, 还差0\t: <60,0.820680809020996> <592,0.1> \n",
      "岗位67, 招到2, 还差0\t: <109,0.449826717376709> <594,0.1> \n",
      "岗位68, 招到2, 还差0\t: <571,0.1> <596,0.1> \n",
      "岗位69, 招到5, 还差0\t: <185,0.8189797401428223> <478,0.1> <515,0.1> <573,0.1> <598,0.1> \n",
      "岗位70, 招到2, 还差0\t: <575,0.1> <600,0.1> \n",
      "岗位71, 招到5, 还差0\t: <14,0.8732111930847168> <116,0.9244498252868653> <518,0.1> <577,0.1> <603,0.1> \n",
      "岗位72, 招到2, 还差0\t: <579,0.1> <605,0.1> \n",
      "岗位73, 招到1, 还差0\t: <607,0.1> \n",
      "岗位74, 招到1, 还差0\t: <81,0.8108767509460449> \n",
      "岗位75, 招到1, 还差0\t: <609,0.1> \n",
      "岗位76, 招到1, 还差0\t: <611,0.1> \n",
      "岗位77, 招到1, 还差0\t: <69,0.926911449432373> \n",
      "岗位78, 招到3, 还差0\t: <521,0.1> <581,0.1> <613,0.1> \n",
      "岗位79, 招到3, 还差0\t: <524,0.1> <583,0.1> <616,0.1> \n",
      "岗位80, 招到3, 还差0\t: <163,0.8085932731628418> <586,0.1> <618,0.1> \n",
      "岗位81, 招到1, 还差0\t: <619,0.1> \n",
      "岗位82, 招到3, 还差0\t: <528,0.1> <588,0.1> <620,0.1> \n",
      "岗位83, 招到1, 还差0\t: <621,0.1> \n",
      "岗位84, 招到3, 还差0\t: <531,0.1> <590,0.1> <622,0.1> \n",
      "岗位85, 招到1, 还差0\t: <623,0.1> \n",
      "岗位86, 招到3, 还差0\t: <131,0.7508054733276367> <170,0.824559497833252> <624,0.1> \n",
      "岗位87, 招到1, 还差0\t: <626,0.1> \n",
      "岗位88, 招到3, 还差0\t: <534,0.1> <593,0.1> <627,0.1> \n",
      "岗位89, 招到5, 还差0\t: <460,0.1> <482,0.1> <537,0.1> <595,0.1> <628,0.1> \n",
      "岗位90, 招到3, 还差0\t: <93,0.8211151123046875> <597,0.1> <629,0.1> \n",
      "岗位91, 招到5, 还差0\t: <47,0.8425891876220704> <82,0.7785593032836914> <540,0.1> <599,0.1> <630,0.1> \n",
      "岗位92, 招到3, 还差0\t: <543,0.1> <602,0.1> <631,0.1> \n",
      "岗位93, 招到50, 还差0\t: <75,0.9370403289794922> <151,0.8667328834533692> <165,0.9397523880004883> <178,0.870981502532959> <183,0.8656462669372559> <188,0.9288723945617676> <207,0.8727762222290039> <211,1.0> <226,0.9813980102539063> <237,0.868345832824707> <256,0.8800158500671387> <280,1.0> <311,0.9423515319824218> <350,0.872932243347168> <363,0.8879504203796387> <390,0.9465847969055176> <425,0.9116114616394043> <499,0.9112344741821289> <527,0.9315057754516601> <548,0.9081887245178223> <552,0.8724631309509278> <584,0.8919694900512696> <601,1.0> <614,0.9282220840454102> <625,1.0> <652,1.0> <667,1.0> <707,1.0> <715,1.0> <812,1.0> <869,0.9859009742736816> <881,1.0> <931,0.9861371040344238> <91,0.8139396667480469> <92,0.75015230178833> <184,0.7449405670166016> <202,0.7440415382385254> <339,0.8330658912658692> <591,0.8295790672302246> <659,0.7738831520080567> <810,0.8100341796875> <919,0.8199812889099121> <944,0.795289421081543> <461,0.1> <462,0.1> <467,0.1> <486,0.1> <546,0.1> <604,0.1> <632,0.1> \n",
      "岗位94, 招到30, 还差0\t: <26,0.9333924293518067> <28,0.9214522361755371> <102,0.9544139862060547> <107,0.6172091960906982> <180,0.7104508399963378> <357,0.1> <358,0.1> <359,0.1> <379,0.1> <380,0.1> <381,0.1> <382,0.1> <383,0.1> <401,0.1> <417,0.1> <433,0.1> <442,0.1> <443,0.1> <444,0.1> <445,0.1> <446,0.1> <447,0.1> <455,0.1> <468,0.1> <469,0.1> <474,0.1> <490,0.1> <550,0.1> <606,0.1> <633,0.1> \n",
      "岗位95, 招到2, 还差0\t: <608,0.1> <634,0.1> \n",
      "岗位96, 招到2, 还差0\t: <610,0.1> <635,0.1> \n",
      "岗位97, 招到3, 还差0\t: <128,0.8274223327636718> <198,0.7475905418395996> <636,0.1> \n",
      "岗位98, 招到2, 还差0\t: <612,0.1> <637,0.1> \n",
      "岗位99, 招到2, 还差0\t: <615,0.1> <638,0.1> \n",
      "648 648\n"
     ]
    }
   ],
   "source": [
    "# for item in pair_list:\n",
    "#   # print(item.pid, item.rid, item.val)\n",
    "#   item.print()\n",
    "st = set()\n",
    "cnt_pair = 0\n",
    "for rec in recruits: # 对于每个岗位\n",
    "  print(f'岗位{rec.id}, 招到{len(rec.workers)}, 还差{rec.num}' ,end='\\t: ')\n",
    "  if len(rec.workers)>0:  # 若非空\n",
    "    \n",
    "    for per in rec.workers: # 对于每个签约求职者\n",
    "      print(f'<{per.id},{get_ppd(per.id,rec.id)}>', end=' ')\n",
    "      cnt_pair += 1\n",
    "      st.add(per.id)\n",
    "  print('')\n",
    "    \n",
    "print(cnt_pair, len(st))"
   ]
  },
  {
   "cell_type": "code",
   "execution_count": 118,
   "metadata": {},
   "outputs": [
    {
     "data": {
      "text/plain": [
       "1.0"
      ]
     },
     "execution_count": 118,
     "metadata": {},
     "output_type": "execute_result"
    }
   ],
   "source": [
    "obj = cnt_pair/old_cnt_rec\n",
    "obj"
   ]
  },
  {
   "cell_type": "code",
   "execution_count": null,
   "metadata": {},
   "outputs": [],
   "source": []
  }
 ],
 "metadata": {
  "kernelspec": {
   "display_name": "pytorch",
   "language": "python",
   "name": "python3"
  },
  "language_info": {
   "codemirror_mode": {
    "name": "ipython",
    "version": 3
   },
   "file_extension": ".py",
   "mimetype": "text/x-python",
   "name": "python",
   "nbconvert_exporter": "python",
   "pygments_lexer": "ipython3",
   "version": "3.9.16"
  },
  "orig_nbformat": 4
 },
 "nbformat": 4,
 "nbformat_minor": 2
}
