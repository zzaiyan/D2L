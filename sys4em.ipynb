{
 "cells": [
  {
   "cell_type": "code",
   "execution_count": null,
   "metadata": {},
   "outputs": [],
   "source": [
    "import pandas as pd\n",
    "import numpy as np\n",
    "from tqdm import tqdm\n",
    "import torch\n",
    "from torch import nn\n",
    "from torch.utils import data\n",
    "from d2l import torch as d2l"
   ]
  },
  {
   "cell_type": "code",
   "execution_count": null,
   "metadata": {},
   "outputs": [],
   "source": [
    "# 这里使用的ID为0~N-1版本\n",
    "class Person:\n",
    "  def __init__(self, id):\n",
    "    self.id = id\n",
    "    self.alive = True # 是否存活\n",
    "    self.offers = []  # 收到的offer\n",
    "    self.job = -1 # 签约的企业\n",
    "\n",
    "class Recruit:\n",
    "  def __init__(self, id, num):\n",
    "    self.id = id\n",
    "    self.num = num # 岗位剩余容量\n",
    "    self.workers = [] # 签约的员工\n",
    "    \n",
    "class Pair:\n",
    "  def __init__(self, per, rec, val):\n",
    "    self.pid = per.id\n",
    "    self.rid = rec.id\n",
    "    self.val = val\n",
    "  \n",
    "  def print(self):\n",
    "    print(self.pid, self.rid, self.val)"
   ]
  },
  {
   "cell_type": "code",
   "execution_count": null,
   "metadata": {},
   "outputs": [],
   "source": [
    "alive = []\n",
    "for i in a_emb_per.index:\n",
    "  alive.append(i)\n",
    "ss = pd.Series(alive)\n",
    "ss.to_csv('./no_fw.csv')"
   ]
  },
  {
   "cell_type": "code",
   "execution_count": null,
   "metadata": {},
   "outputs": [],
   "source": [
    "pca_per_ppd = pd.read_csv('./pca_per.csv',index_col=0,header=None)\n",
    "pca_job_ppd = pd.read_csv('./pca_job.csv',index_col=0,header=None)"
   ]
  },
  {
   "cell_type": "code",
   "execution_count": null,
   "metadata": {},
   "outputs": [],
   "source": [
    "pca_per_myd = pd.read_csv('./pca_per_myd.csv',index_col=0,header=None)\n",
    "pca_job_myd = pd.read_csv('./pca_job_myd.csv',index_col=0,header=None)"
   ]
  },
  {
   "cell_type": "code",
   "execution_count": null,
   "metadata": {},
   "outputs": [],
   "source": [
    "def get_input_ppd(pid,rid):\n",
    "  per = pca_per_ppd.loc[pid].values\n",
    "  job = pca_job_myd.loc[rid].values\n",
    "  all = np.concatenate([per,job],axis=0)\n",
    "  return all\n",
    "\n",
    "def get_input_myd(pid,rid):\n",
    "  per = pca_per_myd.loc[pid].values\n",
    "  job = pca_job_myd.loc[rid].values\n",
    "  all = np.concatenate([per,job],axis=0)\n",
    "  return all"
   ]
  },
  {
   "cell_type": "code",
   "execution_count": null,
   "metadata": {},
   "outputs": [],
   "source": [
    "net_ppd = torch.load('./Sigmoid-200.pt')\n",
    "net_myd = torch.load('./Sigmoid-MYD.pt')"
   ]
  },
  {
   "cell_type": "code",
   "execution_count": null,
   "metadata": {},
   "outputs": [],
   "source": [
    "# 硬核条件，这里的序号是0~N-1\n",
    "hd_job = pd.read_csv('./hardcore_position.csv',index_col=0,header=0,encoding='gbk')\n",
    "hd_job.index = [i for i in range(hd_job.shape[0])]\n",
    "hd_per = pd.read_csv('./hardcore_user.csv',index_col=0,header=0,encoding='gbk')\n",
    "hd_per.index = [i for i in range(hd_per.shape[0])]\n",
    "hd_job.shape, hd_per.shape"
   ]
  },
  {
   "cell_type": "code",
   "execution_count": null,
   "metadata": {},
   "outputs": [],
   "source": [
    "# 属性嵌入，这里的序号是0~N-1\n",
    "# 用于拼接向量 and 判断行业\n",
    "a_emb_job = pd.read_csv('./attribute_embedding_position.txt',sep=' ',index_col=0,header=None,na_values=[])\n",
    "a_emb_per = pd.read_csv('./attribute_embedding_user.txt',sep=' ',index_col=0,header=None,na_values=[])"
   ]
  },
  {
   "cell_type": "code",
   "execution_count": 251,
   "metadata": {},
   "outputs": [],
   "source": [
    "def judge_hangye(pid,rid): # 0~N-1\n",
    "  # print(pid,rid)\n",
    "  x = a_emb_per.loc[pid,6:14].values.astype('int')\n",
    "  y = a_emb_job.loc[rid,6:14].values.astype('int')\n",
    "  sum = (x*y).sum()\n",
    "  return sum > 0\n",
    "\n",
    "def judge_gongzi(pid,rid): # 0~N-1\n",
    "  p2, p1 = hd_per.iloc[pid,:-1]\n",
    "  r2, r1 = hd_job.iloc[rid,-2:]\n",
    "  return max(p1,r1)<=min(p2,r2)\n",
    "\n",
    "def judge_type(pid,rid):\n",
    "  pt = hd_per.iloc[pid,-1]\n",
    "  rt = hd_job.iloc[rid,0]\n",
    "  # print(pt,rt)\n",
    "  return pt == rt\n",
    "\n",
    "def judge(pid,rid):\n",
    "  if judge_buf[pid,rid]>=0:\n",
    "    return judge_buf[pid,rid]==1\n",
    "  # b1 = judge_hangye(pid,rid)\n",
    "  b2 = judge_gongzi(pid,rid)\n",
    "  b3 = judge_type(pid,rid)\n",
    "  if b2 and b3:\n",
    "    judge_buf[pid,rid] = 1\n",
    "  else:\n",
    "    judge_buf[pid,rid] = 0\n",
    "  # print('build buf')\n",
    "  return judge_buf[pid,rid]==1\n",
    "\n",
    "judge_buf = np.zeros(shape=(10877,1575),dtype='int')-1\n",
    "# judge_buf"
   ]
  },
  {
   "cell_type": "code",
   "execution_count": 252,
   "metadata": {},
   "outputs": [],
   "source": [
    "ppd_buf = {}\n",
    "myd_buf = {}\n",
    "for i in pca_per_ppd.index:\n",
    "  ppd_buf[i] = np.zeros(1575)-1\n",
    "  myd_buf[i] = np.zeros(1575)-1\n",
    "\n",
    "def get_ppd(pid,rid):\n",
    "  if judge(pid,rid)==False: # 硬性条件不满足为0\n",
    "    return 0\n",
    "  elif is_fw(pid):  # 废物为1\n",
    "    return 0.1\n",
    "  elif ppd_buf[pid][rid]>=0:\n",
    "    return ppd_buf[pid][rid]\n",
    "  else:\n",
    "    ppd = net_ppd(torch.Tensor(get_input_ppd(pid,rid))).item()\n",
    "    # print(ppd)\n",
    "    # print(f'ppd({pid},{rid})={ppd}')\n",
    "  ppd = min(ppd,10)\n",
    "  ppd = max(ppd,1)/10\n",
    "  ppd_buf[pid][rid] = ppd\n",
    "  return ppd\n",
    "\n",
    "def get_myd(pid,rid):\n",
    "  if judge(pid,rid)==False: # 硬性条件不满足为0\n",
    "    return 0\n",
    "  elif is_fw(pid):  # 废物为1\n",
    "    return 0.1\n",
    "  elif myd_buf[pid][rid]>=0:\n",
    "    return myd_buf[pid][rid]\n",
    "  else:\n",
    "    myd = net_myd(torch.Tensor(get_input_myd(pid,rid))).item()\n",
    "    # print(myd)\n",
    "    # print(f'ppd({pid},{rid})={ppd}')\n",
    "  myd = min(myd,10)\n",
    "  myd = max(myd,1)/10\n",
    "  myd_buf[pid][rid] = myd\n",
    "  return myd"
   ]
  },
  {
   "cell_type": "code",
   "execution_count": 253,
   "metadata": {},
   "outputs": [],
   "source": [
    "persons = []\n",
    "recruits = []"
   ]
  },
  {
   "cell_type": "code",
   "execution_count": 254,
   "metadata": {},
   "outputs": [
    {
     "name": "stderr",
     "output_type": "stream",
     "text": [
      "100%|██████████| 5000/5000 [00:00<00:00, 37145.02it/s]\n"
     ]
    }
   ],
   "source": [
    "# for i in tqdm(range(hd_per.shape[0])):\n",
    "for i in tqdm(range(5000)):\n",
    "  # id = hd_per.loc[i, '序号']\n",
    "  tmp = Person(i)\n",
    "  persons.append(tmp)\n",
    "  # print(id)"
   ]
  },
  {
   "cell_type": "code",
   "execution_count": 255,
   "metadata": {},
   "outputs": [
    {
     "name": "stderr",
     "output_type": "stream",
     "text": [
      "100%|██████████| 500/500 [00:00<00:00, 100074.06it/s]\n"
     ]
    }
   ],
   "source": [
    "# for i in tqdm(range(hd_job.shape[0])):\n",
    "for i in tqdm(range(500)):\n",
    "  # id = hd_rec.loc[i+1, '序号']\n",
    "  num = hd_job.loc[i, '岗位需求量']\n",
    "  tmp = Recruit(i, num)\n",
    "  recruits.append(tmp)\n",
    "  # print(id)"
   ]
  },
  {
   "cell_type": "code",
   "execution_count": 256,
   "metadata": {},
   "outputs": [
    {
     "data": {
      "text/plain": [
       "2788"
      ]
     },
     "execution_count": 256,
     "metadata": {},
     "output_type": "execute_result"
    }
   ],
   "source": [
    "def get_cnt_rec():\n",
    "  sum = 0\n",
    "  for i in recruits:\n",
    "    sum += i.num\n",
    "  return sum\n",
    "\n",
    "old_cnt_rec = get_cnt_rec()\n",
    "old_cnt_rec"
   ]
  },
  {
   "cell_type": "code",
   "execution_count": 257,
   "metadata": {},
   "outputs": [
    {
     "name": "stdout",
     "output_type": "stream",
     "text": [
      "epoch 1:\n"
     ]
    },
    {
     "name": "stderr",
     "output_type": "stream",
     "text": [
      " 51%|█████▏    | 257/500 [05:28<05:51,  1.45s/it]"
     ]
    }
   ],
   "source": [
    "epoch = 0\n",
    "total_pair = 0\n",
    "cnt_rec = get_cnt_rec()\n",
    "while True:\n",
    "  epoch += 1\n",
    "  # 招聘回合\n",
    "  print(f'epoch {epoch}:')\n",
    "  np.random.shuffle(recruits) # 随机优化\n",
    "  for rec in tqdm(recruits):  # 对于每个岗位\n",
    "    # 发放offer\n",
    "    if rec.num <= 0:\n",
    "      continue\n",
    "    pair_list = [] # 临时数组：<per, rec, val>\n",
    "    # 计算与每个求职者的匹配度\n",
    "    for per in persons:\n",
    "      if per.alive==False:\n",
    "        continue\n",
    "      val = get_ppd(per.id, rec.id)\n",
    "      if val==0:\n",
    "        continue\n",
    "      pair = Pair(per, rec, val)\n",
    "      pair_list.append(pair)\n",
    "    # 就地排序 by val\n",
    "    pair_list.sort(reverse=True, key=lambda x:x.val)\n",
    "    if len(pair_list)>rec.num:\n",
    "      pair_list = pair_list[:rec.num] # 取TopK\n",
    "    \n",
    "    for pair in pair_list:\n",
    "      per = persons[pair.pid]\n",
    "      rec = recruits[pair.rid]\n",
    "      # if per.alive:\n",
    "      per.offers.append(rec.id) # 发放offer\n",
    "  \n",
    "  # 所有岗位offer发放完毕\n",
    "    \n",
    "  # 求职者签约\n",
    "  for per in persons: # 对于每个求职者\n",
    "    if per.alive == False:\n",
    "      continue\n",
    "    tmp2list = [] # 临时数组：Pair\n",
    "    for rid in per.offers:  # 对于每一份offer\n",
    "      rec = recruits[rid]\n",
    "      val = get_myd(per.id, rec.id)\n",
    "      pair = Pair(per, rec, val)\n",
    "      tmp2list.append(pair)\n",
    "    if len(tmp2list)==0:  # 当前求职者无offer\n",
    "      continue\n",
    "    \n",
    "    tmp2list.sort(reverse=True, key=lambda x:x.val) # 取最高满意度\n",
    "    # 目标岗位\n",
    "    for k in tmp2list:\n",
    "      dest_rec = recruits[k.rid]\n",
    "      if dest_rec.num > 0: # 若未招满\n",
    "        dest_rec.num -= 1\n",
    "        per.job = dest_rec.id\n",
    "        per.alive = False\n",
    "        per.offers.clear()\n",
    "        dest_rec.workers.append(per)\n",
    "        break\n",
    "    \n",
    "    per.offers.clear()\n",
    "    \n",
    "  # 删除冗余\n",
    "  \n",
    "  new_cnt_rec = get_cnt_rec()\n",
    "  increase = cnt_rec - new_cnt_rec\n",
    "  cnt_rec = new_cnt_rec\n",
    "  total_pair += increase\n",
    "  # print(net1_cnt, net2_cnt)\n",
    "  print(f'increase {increase}, total {total_pair}\\n')\n",
    "  \n",
    "  # break\n",
    "  \n",
    "  if increase <= 0:\n",
    "    break"
   ]
  },
  {
   "cell_type": "code",
   "execution_count": null,
   "metadata": {},
   "outputs": [],
   "source": [
    "# 求职者offer情况\n",
    "for i in persons:\n",
    "  if len(i.offers)>0:\n",
    "    print(f'{i.id},{i.alive},offers:{len(i.offers)}')"
   ]
  },
  {
   "cell_type": "code",
   "execution_count": null,
   "metadata": {},
   "outputs": [],
   "source": [
    "# for item in pair_list:\n",
    "#   # print(item.pid, item.rid, item.val)\n",
    "#   item.print()\n",
    "st = set()\n",
    "cnt_pair = 0\n",
    "for rec in recruits: # 对于每个岗位\n",
    "  print(f'岗位{rec.id}, 招到{len(rec.workers)}, 还差{rec.num}' ,end='\\t: ')\n",
    "  if len(rec.workers)>0:  # 若非空\n",
    "    \n",
    "    for per in rec.workers: # 对于每个签约求职者\n",
    "      print(f'<{per.id},{get_ppd(per.id,rec.id)}>', end=' ')\n",
    "      cnt_pair += 1\n",
    "      st.add(per.id)\n",
    "  print('')\n",
    "    \n",
    "print(cnt_pair, len(st))"
   ]
  },
  {
   "cell_type": "code",
   "execution_count": null,
   "metadata": {},
   "outputs": [],
   "source": [
    "obj = cnt_pair/old_cnt_rec\n",
    "obj"
   ]
  },
  {
   "cell_type": "code",
   "execution_count": null,
   "metadata": {},
   "outputs": [],
   "source": []
  }
 ],
 "metadata": {
  "kernelspec": {
   "display_name": "pytorch",
   "language": "python",
   "name": "python3"
  },
  "language_info": {
   "codemirror_mode": {
    "name": "ipython",
    "version": 3
   },
   "file_extension": ".py",
   "mimetype": "text/x-python",
   "name": "python",
   "nbconvert_exporter": "python",
   "pygments_lexer": "ipython3",
   "version": "3.9.16"
  },
  "orig_nbformat": 4
 },
 "nbformat": 4,
 "nbformat_minor": 2
}
