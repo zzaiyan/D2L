{
 "cells": [
  {
   "cell_type": "code",
   "execution_count": 1,
   "metadata": {},
   "outputs": [],
   "source": [
    "import pandas as pd\n",
    "import numpy as np\n",
    "from tqdm import tqdm\n",
    "import torch\n",
    "from torch import nn\n",
    "from torch.utils import data\n",
    "from d2l import torch as d2l"
   ]
  },
  {
   "cell_type": "code",
   "execution_count": 2,
   "metadata": {},
   "outputs": [],
   "source": [
    "# 这里使用的ID为0~N-1版本\n",
    "class Person:\n",
    "  def __init__(self, id):\n",
    "    self.id = id\n",
    "    self.alive = True # 是否存活\n",
    "    self.offers = []  # 收到的offer\n",
    "    self.job = -1 # 签约的企业\n",
    "\n",
    "class Recruit:\n",
    "  def __init__(self, id, num):\n",
    "    self.id = id\n",
    "    self.num = num # 岗位剩余容量\n",
    "    self.workers = [] # 签约的员工\n",
    "    \n",
    "class Pair:\n",
    "  def __init__(self, per, rec, val):\n",
    "    self.per = per\n",
    "    self.rec = rec\n",
    "    self.pid = per.id\n",
    "    self.rid = rec.id\n",
    "    self.val = val\n",
    "  \n",
    "  def print(self):\n",
    "    print(self.pid, self.rid, self.val)"
   ]
  },
  {
   "cell_type": "code",
   "execution_count": 3,
   "metadata": {},
   "outputs": [],
   "source": [
    "# 属性嵌入，这里的序号是0~N-1\n",
    "# 用于拼接向量 and 判断行业\n",
    "a_emb_job = pd.read_csv('./attribute_embedding_position.txt',sep=' ',index_col=0,header=None,na_values=[])\n",
    "a_emb_per = pd.read_csv('./attribute_embedding_user.txt',sep=' ',index_col=0,header=None,na_values=[])"
   ]
  },
  {
   "cell_type": "code",
   "execution_count": 4,
   "metadata": {},
   "outputs": [],
   "source": [
    "def is_fw(pid):\n",
    "  val = fw_list.loc[pid,'是否为废人']\n",
    "  return val==1\n",
    "\n",
    "fw_list = pd.read_csv('./fw.txt',sep=' ',index_col=0)"
   ]
  },
  {
   "cell_type": "code",
   "execution_count": 5,
   "metadata": {},
   "outputs": [],
   "source": [
    "alive = []\n",
    "for i in a_emb_per.index:\n",
    "  alive.append(i)\n",
    "ss = pd.Series(alive)\n",
    "ss.to_csv('./no_fw.csv')"
   ]
  },
  {
   "cell_type": "code",
   "execution_count": 6,
   "metadata": {},
   "outputs": [],
   "source": [
    "pca_per_ppd = pd.read_csv('./pca_per.csv',index_col=0,header=None)\n",
    "pca_job_ppd = pd.read_csv('./pca_job.csv',index_col=0,header=None)"
   ]
  },
  {
   "cell_type": "code",
   "execution_count": 7,
   "metadata": {},
   "outputs": [],
   "source": [
    "pca_per_myd = pd.read_csv('./pca_per_myd.csv',index_col=0,header=None)\n",
    "pca_job_myd = pd.read_csv('./pca_job_myd.csv',index_col=0,header=None)"
   ]
  },
  {
   "cell_type": "code",
   "execution_count": 8,
   "metadata": {},
   "outputs": [],
   "source": [
    "def get_input_ppd(pid,rid):\n",
    "  per = pca_per_ppd.loc[pid].values\n",
    "  job = pca_job_myd.loc[rid].values\n",
    "  all = np.concatenate([per,job],axis=0)\n",
    "  return all\n",
    "\n",
    "def get_input_myd(pid,rid):\n",
    "  per = pca_per_myd.loc[pid].values\n",
    "  job = pca_job_myd.loc[rid].values\n",
    "  all = np.concatenate([per,job],axis=0)\n",
    "  return all"
   ]
  },
  {
   "cell_type": "code",
   "execution_count": 9,
   "metadata": {},
   "outputs": [],
   "source": [
    "net_ppd = torch.load('./Sigmoid-200.pt')\n",
    "net_myd = torch.load('./Sigmoid-MYD.pt')"
   ]
  },
  {
   "cell_type": "code",
   "execution_count": 10,
   "metadata": {},
   "outputs": [
    {
     "data": {
      "text/plain": [
       "((1575, 4), (10877, 3))"
      ]
     },
     "execution_count": 10,
     "metadata": {},
     "output_type": "execute_result"
    }
   ],
   "source": [
    "# 硬核条件，这里的序号是0~N-1\n",
    "hd_job = pd.read_csv('./hardcore_position.csv',index_col=0,header=0,encoding='gbk')\n",
    "hd_job.index = [i for i in range(hd_job.shape[0])]\n",
    "hd_per = pd.read_csv('./hardcore_user.csv',index_col=0,header=0,encoding='gbk')\n",
    "hd_per.index = [i for i in range(hd_per.shape[0])]\n",
    "hd_job.shape, hd_per.shape"
   ]
  },
  {
   "cell_type": "code",
   "execution_count": 11,
   "metadata": {},
   "outputs": [],
   "source": [
    "def judge_hangye(pid,rid): # 0~N-1\n",
    "  # print(pid,rid)\n",
    "  x = a_emb_per.loc[pid,6:14].values.astype('int')\n",
    "  y = a_emb_job.loc[rid,6:14].values.astype('int')\n",
    "  sum = (x*y).sum()\n",
    "  return sum > 0\n",
    "\n",
    "def judge_gongzi(pid,rid): # 0~N-1\n",
    "  p2, p1 = hd_per.iloc[pid,:-1]\n",
    "  r2, r1 = hd_job.iloc[rid,-2:]\n",
    "  return max(p1,r1)<=min(p2,r2)\n",
    "\n",
    "def judge_type(pid,rid):\n",
    "  pt = hd_per.iloc[pid,-1]\n",
    "  rt = hd_job.iloc[rid,0]\n",
    "  # print(pt,rt)\n",
    "  return pt == rt\n",
    "\n",
    "def judge(pid,rid):\n",
    "  if judge_buf[pid,rid]>=0:\n",
    "    return judge_buf[pid,rid]==1\n",
    "  # b1 = judge_hangye(pid,rid)\n",
    "  b2 = judge_gongzi(pid,rid)\n",
    "  b3 = judge_type(pid,rid)\n",
    "  if b2 and b3:\n",
    "    judge_buf[pid,rid] = 1\n",
    "  else:\n",
    "    judge_buf[pid,rid] = 0\n",
    "  # print('build buf')\n",
    "  return judge_buf[pid,rid]==1\n",
    "\n",
    "judge_buf = np.zeros(shape=(10877,1575),dtype='int')-1\n",
    "# judge_buf"
   ]
  },
  {
   "cell_type": "code",
   "execution_count": 12,
   "metadata": {},
   "outputs": [
    {
     "data": {
      "text/plain": [
       "False"
      ]
     },
     "execution_count": 12,
     "metadata": {},
     "output_type": "execute_result"
    }
   ],
   "source": [
    "judge(1,444)"
   ]
  },
  {
   "cell_type": "code",
   "execution_count": 13,
   "metadata": {},
   "outputs": [],
   "source": [
    "ppd_buf = {}\n",
    "myd_buf = {}\n",
    "for i in pca_per_ppd.index:\n",
    "  ppd_buf[i] = np.zeros(1575)-1\n",
    "  myd_buf[i] = np.zeros(1575)-1\n",
    "\n",
    "def get_ppd(pid,rid):\n",
    "  if judge(pid,rid)==False: # 硬性条件不满足为0\n",
    "    return 0\n",
    "  elif is_fw(pid):  # 废物为1\n",
    "    return 0.1\n",
    "  elif ppd_buf[pid][rid]>=0:\n",
    "    return ppd_buf[pid][rid]\n",
    "  else:\n",
    "    ppd = net_ppd(torch.Tensor(get_input_ppd(pid,rid))).item()\n",
    "    # print(ppd)\n",
    "    # print(f'ppd({pid},{rid})={ppd}')\n",
    "  ppd = min(ppd,10)\n",
    "  ppd = max(ppd,1)/10\n",
    "  ppd_buf[pid][rid] = ppd\n",
    "  return ppd\n",
    "\n",
    "def get_myd(pid,rid):\n",
    "  if judge(pid,rid)==False: # 硬性条件不满足为0\n",
    "    return 0\n",
    "  elif is_fw(pid):  # 废物为1\n",
    "    return 0.1\n",
    "  elif myd_buf[pid][rid]>=0:\n",
    "    return myd_buf[pid][rid]\n",
    "  else:\n",
    "    myd = net_myd(torch.Tensor(get_input_myd(pid,rid))).item()\n",
    "    # print(myd)\n",
    "    # print(f'ppd({pid},{rid})={ppd}')\n",
    "  myd = min(myd,10)\n",
    "  myd = max(myd,1)/10\n",
    "  myd_buf[pid][rid] = myd\n",
    "  return myd"
   ]
  },
  {
   "cell_type": "code",
   "execution_count": 25,
   "metadata": {},
   "outputs": [],
   "source": [
    "persons = []\n",
    "recruits = []"
   ]
  },
  {
   "cell_type": "code",
   "execution_count": 26,
   "metadata": {},
   "outputs": [
    {
     "name": "stderr",
     "output_type": "stream",
     "text": [
      "100%|██████████| 5000/5000 [00:00<00:00, 1247562.17it/s]\n"
     ]
    }
   ],
   "source": [
    "# for i in tqdm(range(hd_per.shape[0])):\n",
    "for i in tqdm(range(5000)):\n",
    "  # id = hd_per.loc[i, '序号']\n",
    "  tmp = Person(i)\n",
    "  persons.append(tmp)\n",
    "  # print(id)"
   ]
  },
  {
   "cell_type": "code",
   "execution_count": 27,
   "metadata": {},
   "outputs": [
    {
     "name": "stderr",
     "output_type": "stream",
     "text": [
      "100%|██████████| 500/500 [00:00<00:00, 124949.48it/s]\n"
     ]
    }
   ],
   "source": [
    "# for i in tqdm(range(hd_job.shape[0])):\n",
    "for i in tqdm(range(500)):\n",
    "  # id = hd_rec.loc[i+1, '序号']\n",
    "  num = hd_job.loc[i, '岗位需求量']\n",
    "  tmp = Recruit(i, num)\n",
    "  recruits.append(tmp)\n",
    "  # print(id)"
   ]
  },
  {
   "cell_type": "code",
   "execution_count": 28,
   "metadata": {},
   "outputs": [
    {
     "data": {
      "text/plain": [
       "2788"
      ]
     },
     "execution_count": 28,
     "metadata": {},
     "output_type": "execute_result"
    }
   ],
   "source": [
    "def get_cnt_rec():\n",
    "  sum = 0\n",
    "  for i in recruits:\n",
    "    sum += i.num\n",
    "  return sum\n",
    "\n",
    "old_cnt_rec = get_cnt_rec()\n",
    "old_cnt_rec"
   ]
  },
  {
   "cell_type": "code",
   "execution_count": 29,
   "metadata": {},
   "outputs": [
    {
     "name": "stdout",
     "output_type": "stream",
     "text": [
      "epoch 1:\n"
     ]
    },
    {
     "name": "stderr",
     "output_type": "stream",
     "text": [
      " 23%|██▎       | 113/500 [02:33<09:52,  1.53s/it]"
     ]
    }
   ],
   "source": [
    "epoch = 0\n",
    "total_pair = 0\n",
    "cnt_rec = get_cnt_rec()\n",
    "\n",
    "while True:\n",
    "  epoch += 1\n",
    "  # 招聘回合\n",
    "  print(f'epoch {epoch}:')\n",
    "  \n",
    "  for rec in tqdm(recruits):  # 对于每个岗位\n",
    "    # 发放offer\n",
    "    if rec.num <= 0:\n",
    "      continue\n",
    "    offer_list = [] # 临时数组：<per, rec, val>\n",
    "    # 计算与每个求职者的匹配度\n",
    "    for per in persons:\n",
    "      if per.alive==False:\n",
    "        continue\n",
    "      if judge(per.id, rec.id)==False:\n",
    "        continue\n",
    "      val = get_ppd(per.id, rec.id)\n",
    "      if val<=0:\n",
    "        continue\n",
    "      pair = Pair(per, rec, val)\n",
    "      offer_list.append(pair)\n",
    "    # 就地排序 by val\n",
    "    if len(offer_list)<=0:\n",
    "      continue\n",
    "    \n",
    "    offer_list.sort(reverse=True, key=lambda x:x.val)\n",
    "    \n",
    "    # for of in offer_list:\n",
    "    #   if get_ppd(of.pid,of.rid)==0:\n",
    "    #     print(f'1.ppd={get_ppd(of.pid,of.rid)}, val={of.val}')\n",
    "        \n",
    "    if len(offer_list)>rec.num:\n",
    "      offer_list = offer_list[:rec.num] # 取TopK\n",
    "    \n",
    "    for pair in offer_list:\n",
    "      if pair.val>0:\n",
    "        pair.per.offers.append(pair) # 发放offer\n",
    "  \n",
    "  # 所有岗位offer发放完毕\n",
    "  np.random.shuffle(persons) # 随机优化\n",
    "    \n",
    "  # 求职者签约\n",
    "  for per in persons: # 对于每个求职者\n",
    "    if per.alive == False:\n",
    "      continue\n",
    "    # offer_list2 = [] # 临时数组：Pair\n",
    "    for of in per.offers:  # 对于每一份offer\n",
    "      # rec = recruits[rid]\n",
    "      val = get_myd(of.pid, of.rid)\n",
    "      of.val = val\n",
    "    #   pair = Pair(per, rec, val)\n",
    "    #   offer_list2.append(pair)\n",
    "    # if len(offer_list2)==0:  # 当前求职者无offer\n",
    "    #   continue\n",
    "    \n",
    "    # offer_list2.sort(reverse=True, key=lambda x:x.val) # 取最高满意度\n",
    "    per.offers.sort(reverse=True, key=lambda x:x.val)\n",
    "    # 目标岗位\n",
    "    for of in per.offers:\n",
    "      # dest_rec = recruits[k.rid]\n",
    "      if of.rec.num > 0: # 若未招满\n",
    "        of.rec.num -= 1\n",
    "        per.job = of.rid\n",
    "        per.alive = False\n",
    "        # per.offers.clear()\n",
    "        of.rec.workers.append(per.id)\n",
    "        # if of.pid!=per.id:\n",
    "        #   print('ID ERR!')\n",
    "        # 检测非法值\n",
    "        # if get_myd(per.id,of.rid)==0:\n",
    "        #   print(f'2.<{per.id},{of.rid}>:myd={get_myd(per.id,of.rid)},ppd={get_ppd(per.id,of.rid)}')\n",
    "        break\n",
    "    \n",
    "    per.offers.clear()\n",
    "    \n",
    "  # 删除冗余\n",
    "  \n",
    "  new_cnt_rec = get_cnt_rec()\n",
    "  increase = cnt_rec - new_cnt_rec\n",
    "  cnt_rec = new_cnt_rec\n",
    "  total_pair += increase\n",
    "  # print(net1_cnt, net2_cnt)\n",
    "  print(f'increase {increase}, total {total_pair}\\n')\n",
    "  \n",
    "  # break\n",
    "  \n",
    "  if increase <= 0:\n",
    "    break"
   ]
  },
  {
   "cell_type": "code",
   "execution_count": null,
   "metadata": {},
   "outputs": [],
   "source": [
    "# # 求职者offer情况\n",
    "# for i in persons:\n",
    "#   if i.job!=-1:\n",
    "#     print(f'{i.id},{i.alive},offers:{len(i.offers)}')"
   ]
  },
  {
   "cell_type": "code",
   "execution_count": 19,
   "metadata": {},
   "outputs": [
    {
     "name": "stdout",
     "output_type": "stream",
     "text": [
      "岗位0, 招到5, 还差1\t: <59,0.494078254699707> <68,0.5427844524383545> <17,0.1> <6,0.1> <11,0.1> \n",
      "岗位1, 招到0, 还差10\t: \n",
      "岗位2, 招到6, 还差94\t: <70,0.5950346469879151> <60,0.6839651107788086> <53,0.1> <87,0.1> <48,0.5302452564239502> <5,0.1> \n",
      "岗位3, 招到5, 还差0\t: <37,0.5645097732543946> <369,0.1> <374,0.1> <477,0.1> <320,0.1> \n",
      "岗位4, 招到6, 还差0\t: <22,0.7611891746520996> <205,0.8435685157775878> <35,0.6897110939025879> <312,0.1> <99,0.1> <287,0.1> \n",
      "岗位5, 招到10, 还差0\t: <86,0.5182445526123047> <149,0.8074644088745118> <39,0.7265212059020996> <250,0.1> <424,0.1> <462,0.1> <388,0.1> <332,0.1> <265,0.1> <234,0.1> \n",
      "岗位6, 招到100, 还差0\t: <152,0.2821060657501221> <194,0.2429109573364258> <65,0.553601598739624> <104,0.815860366821289> <102,0.5338583946228027> <94,0.7825079917907715> <132,0.4100177764892578> <26,0.5618669509887695> <187,0.5764382839202881> <85,0.34040036201477053> <390,0.4437525749206543> <166,0.5924441337585449> <80,0.36093339920043943> <189,0.5317788600921631> <103,0.6315285682678222> <110,0.6514101028442383> <64,0.49176793098449706> <315,0.19736512899398803> <203,0.47780561447143555> <212,0.6607916831970215> <178,0.34195423126220703> <308,0.4594700336456299> <155,0.43741254806518554> <72,0.6181765556335449> <83,0.5775906562805175> <186,0.3486334800720215> <120,0.5438296318054199> <116,0.5052546501159668> <74,0.5798407554626465> <209,0.4996945858001709> <363,0.18967312574386597> <129,0.32475886344909666> <97,0.31298160552978516> <55,0.5316473960876464> <201,0.46236262321472166> <127,0.4733062744140625> <167,0.3972890377044678> <91,0.16089509725570678> <165,0.7053840637207032> <151,0.5092119216918946> <339,0.17985647916793823> <143,0.6567141532897949> <138,0.7493914604187012> <191,0.5244179248809815> <113,0.38790163993835447> <207,0.4674534797668457> <196,0.3765242576599121> <499,0.45985074043273927> <121,0.3955019474029541> <181,0.7401948928833008> <161,0.5015645980834961> <325,0.1903947710990906> <172,0.6967934608459473> <12,0.5105434417724609> <160,0.40651631355285645> <371,0.20360770225524902> <105,0.5344126701354981> <237,0.2119518756866455> <168,0.7171838760375977> <154,0.45136404037475586> <133,0.291147518157959> <130,0.4446710586547852> <141,0.3332354545593262> <227,0.13226999044418336> <124,0.3570317268371582> <311,0.4744401931762695> <352,0.1> <66,0.634607982635498> <57,0.37245960235595704> <273,0.1> <215,0.1> <204,0.5220594882965088> <28,0.5371554851531982> <282,0.1> <208,0.33456006050109866> <163,0.39562249183654785> <128,0.4874150276184082> <256,0.1876022696495056> <318,0.1> <280,0.31664748191833497> <89,0.38488450050354006> <210,0.4371949672698975> <292,0.1> <405,0.1> <321,0.1> <464,0.1> <378,0.1> <228,0.1> <347,0.1> <434,0.1> <125,0.1> <441,0.1> <450,0.1> <263,0.1> <278,0.1> <67,0.1> <222,0.1> <300,0.1> <262,0.1> <340,0.1> \n",
      "岗位7, 招到2, 还差0\t: <119,0.6735664367675781> <484,0.1> \n",
      "岗位8, 招到5, 还差0\t: <77,0.7842903137207031> <470,0.1> <268,0.1> <260,0.1> <415,0.1> \n",
      "岗位9, 招到1, 还差0\t: <386,0.1> \n",
      "岗位10, 招到0, 还差0\t: \n",
      "岗位11, 招到0, 还差0\t: \n",
      "岗位12, 招到0, 还差0\t: \n",
      "岗位13, 招到0, 还差0\t: \n",
      "岗位14, 招到0, 还差0\t: \n",
      "岗位15, 招到0, 还差0\t: \n",
      "岗位16, 招到0, 还差1\t: \n",
      "岗位17, 招到0, 还差1\t: \n",
      "岗位18, 招到1, 还差0\t: <13,0.6901973724365235> \n",
      "岗位19, 招到0, 还差2\t: \n",
      "岗位20, 招到30, 还差0\t: <153,0.3920006275177002> <156,0.4081109523773193> <123,0.506151819229126> <52,0.3493671417236328> <139,0.3898910045623779> <10,0.532513427734375> <63,0.5359586238861084> <157,0.4416773319244385> <409,0.1> <238,0.1> <176,0.1> <438,0.1> <422,0.1> <294,0.1> <429,0.1> <192,0.1> <490,0.1> <271,0.1> <404,0.1> <382,0.1> <495,0.1> <319,0.1> <257,0.1> <377,0.1> <342,0.1> <283,0.1> <274,0.1> <407,0.1> <243,0.1> <290,0.1> \n",
      "岗位21, 招到20, 还差0\t: <200,0.7435900688171386> <93,0.3665184020996094> <425,0.3685734272003174> <177,0.6944307327270508> <199,0.43495402336120603> <202,0.7726364135742188> <88,0.7001690864562988> <69,0.8812393188476563> <162,0.7260442733764648> <49,0.7945615768432617> <183,0.6805006980895996> <42,0.5353594779968261> <381,0.1> <358,0.1> <459,0.1> <370,0.1> <301,0.1> <457,0.1> <253,0.1> <333,0.1> \n",
      "岗位22, 招到10, 还差0\t: <45,0.6665619850158692> <31,0.5868377208709716> <190,0.7030040740966796> <142,0.6898436546325684> <327,0.1> <458,0.1> <289,0.1> <400,0.1> <343,0.1> <485,0.1> \n",
      "岗位23, 招到30, 还差0\t: <180,0.4273043632507324> <112,0.5591958045959473> <114,0.4501044273376465> <182,0.4793551445007324> <47,0.6169960021972656> <27,0.5511829853057861> <29,0.5796770572662353> <146,0.5536816120147705> <145,0.45497565269470214> <226,0.48889980316162107> <84,0.5694702625274658> <395,0.1> <58,0.1> <408,0.1> <482,0.1> <414,0.1> <336,0.1> <351,0.1> <353,0.1> <488,0.1> <314,0.1> <98,0.1> <291,0.1> <73,0.1> <387,0.1> <379,0.1> <366,0.1> <489,0.1> <136,0.1> <469,0.1> \n",
      "岗位24, 招到0, 还差3\t: \n",
      "岗位25, 招到30, 还差0\t: <81,0.6363512992858886> <82,0.8496015548706055> <158,0.6581809997558594> <193,0.7670449256896973> <96,0.6244401454925537> <147,0.6391613006591796> <71,0.5353632926940918> <184,0.8481644630432129> <170,0.8847508430480957> <107,0.8935915946960449> <118,0.515018081665039> <185,0.7492809295654297> <109,0.45758585929870604> <211,0.7125689506530761> <92,0.817503547668457> <131,0.8468415260314941> <244,0.1> <135,0.1> <430,0.1> <288,0.1> <326,0.1> <492,0.1> <376,0.1> <475,0.1> <411,0.1> <402,0.1> <249,0.1> <412,0.1> <472,0.1> <478,0.1> \n",
      "岗位26, 招到3, 还差0\t: <54,0.7277312278747559> <36,0.836191463470459> <359,0.1> \n",
      "岗位27, 招到20, 还差0\t: <144,0.44063735008239746> <198,0.5314376354217529> <188,0.6212256908416748> <195,0.5751686573028565> <150,0.5037148952484131> <106,0.4431765079498291> <79,0.5992603778839112> <32,0.6796839714050293> <140,0.8047356605529785> <173,0.5452010631561279> <350,0.4977166175842285> <75,0.7244516372680664> <117,0.6246451377868653> <480,0.1> <304,0.1> <448,0.1> <19,0.1> <169,0.1> <275,0.1> <252,0.1> \n",
      "岗位28, 招到2, 还差0\t: <50,0.1> <137,0.1> \n",
      "岗位29, 招到2, 还差0\t: <164,0.40001769065856935> <16,0.1> \n",
      "岗位30, 招到0, 还差2\t: \n",
      "岗位31, 招到3, 还差0\t: <101,0.7314577102661133> <159,0.6448890686035156> <100,0.8104145050048828> \n",
      "岗位32, 招到1, 还差1\t: <14,0.6022475242614747> \n",
      "岗位33, 招到0, 还差2\t: \n",
      "岗位34, 招到2, 还差0\t: <299,0.1> <467,0.1> \n",
      "岗位35, 招到3, 还差0\t: <108,0.6376772880554199> <214,0.1> <78,0.1> \n",
      "岗位36, 招到2, 还差0\t: <3,0.1> <171,0.1> \n",
      "岗位37, 招到2, 还差1\t: <175,0.1> <197,0.1> \n",
      "岗位38, 招到1, 还差2\t: <213,0.1> \n",
      "岗位39, 招到1, 还差2\t: <1,0.1> \n",
      "岗位40, 招到2, 还差1\t: <76,0.6910091400146484> <134,0.8436286926269532> \n",
      "岗位41, 招到2, 还差0\t: <40,0.3257593154907227> <115,0.1> \n",
      "岗位42, 招到2, 还差0\t: <126,0.7067835807800293> <41,0.7064072608947753> \n",
      "岗位43, 招到3, 还差0\t: <90,0.27907414436340333> <242,0.1> <303,0.1> \n",
      "岗位44, 招到2, 还差0\t: <254,0.1> <251,0.1> \n",
      "岗位45, 招到2, 还差0\t: <316,0.1> <471,0.1> \n",
      "岗位46, 招到0, 还差2\t: \n",
      "岗位47, 招到0, 还差2\t: \n",
      "岗位48, 招到2, 还差0\t: <148,0.1> <95,0.1> \n",
      "岗位49, 招到0, 还差3\t: \n",
      "318 318\n"
     ]
    }
   ],
   "source": [
    "st = set()\n",
    "cnt_pair = 0\n",
    "for rec in recruits: # 对于每个岗位\n",
    "  print(f'岗位{rec.id}, 招到{len(rec.workers)}, 还差{rec.num}' ,end='\\t: ')\n",
    "  if len(rec.workers)>0:  # 若非空\n",
    "    \n",
    "    for pid in rec.workers: # 对于每个签约求职者\n",
    "      # if get_ppd(per.id,rec.id)==0:\n",
    "      #   continue\n",
    "      print(f'<{pid},{get_myd(pid,rec.id)}>', end=' ')\n",
    "      cnt_pair += 1\n",
    "      st.add(pid)\n",
    "  print('')\n",
    "    \n",
    "print(cnt_pair, len(st))"
   ]
  },
  {
   "cell_type": "code",
   "execution_count": 44,
   "metadata": {},
   "outputs": [
    {
     "data": {
      "text/plain": [
       "0.6383928571428571"
      ]
     },
     "execution_count": 44,
     "metadata": {},
     "output_type": "execute_result"
    }
   ],
   "source": [
    "obj = cnt_pair/old_cnt_rec\n",
    "obj"
   ]
  },
  {
   "cell_type": "code",
   "execution_count": 307,
   "metadata": {},
   "outputs": [
    {
     "data": {
      "text/plain": [
       "(0, 0)"
      ]
     },
     "execution_count": 307,
     "metadata": {},
     "output_type": "execute_result"
    }
   ],
   "source": [
    "# 调用实例，使用时可以把函数里的print关掉\n",
    "# 仅第一次调用神经网络，即建立缓存时会print\n",
    "a,b = 317,46\n",
    "get_ppd(a,b),get_myd(a,b)"
   ]
  },
  {
   "cell_type": "code",
   "execution_count": 308,
   "metadata": {},
   "outputs": [
    {
     "data": {
      "text/plain": [
       "False"
      ]
     },
     "execution_count": 308,
     "metadata": {},
     "output_type": "execute_result"
    }
   ],
   "source": [
    "judge(a,b)"
   ]
  }
 ],
 "metadata": {
  "kernelspec": {
   "display_name": "pytorch",
   "language": "python",
   "name": "python3"
  },
  "language_info": {
   "codemirror_mode": {
    "name": "ipython",
    "version": 3
   },
   "file_extension": ".py",
   "mimetype": "text/x-python",
   "name": "python",
   "nbconvert_exporter": "python",
   "pygments_lexer": "ipython3",
   "version": "3.9.16"
  },
  "orig_nbformat": 4
 },
 "nbformat": 4,
 "nbformat_minor": 2
}
