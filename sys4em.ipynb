{
 "cells": [
  {
   "cell_type": "code",
   "execution_count": 1,
   "metadata": {},
   "outputs": [],
   "source": [
    "import pandas as pd\n",
    "import numpy as np\n",
    "from tqdm import tqdm\n",
    "import torch\n",
    "from torch import nn\n",
    "from torch.utils import data\n",
    "from d2l import torch as d2l"
   ]
  },
  {
   "cell_type": "code",
   "execution_count": 2,
   "metadata": {},
   "outputs": [],
   "source": [
    "# 这里使用的ID为0~N-1版本\n",
    "class Person:\n",
    "  def __init__(self, id):\n",
    "    self.id = id\n",
    "    self.alive = True # 是否存活\n",
    "    self.offers = []  # 收到的offer\n",
    "    self.job = -1 # 签约的企业\n",
    "\n",
    "class Recruit:\n",
    "  def __init__(self, id, num):\n",
    "    self.id = id\n",
    "    self.num = num # 岗位剩余容量\n",
    "    self.workers = [] # 签约的员工\n",
    "    \n",
    "class Pair:\n",
    "  def __init__(self, per, rec, val):\n",
    "    self.per = per\n",
    "    self.rec = rec\n",
    "    self.pid = per.id\n",
    "    self.rid = rec.id\n",
    "    self.val = val\n",
    "  \n",
    "  def print(self):\n",
    "    print(self.pid, self.rid, self.val)"
   ]
  },
  {
   "cell_type": "code",
   "execution_count": 3,
   "metadata": {},
   "outputs": [],
   "source": [
    "# 属性嵌入，这里的序号是0~N-1\n",
    "# 用于拼接向量 and 判断行业\n",
    "a_emb_job = pd.read_csv('./attribute_embedding_position.txt',sep=' ',index_col=0,header=None,na_values=[])\n",
    "a_emb_per = pd.read_csv('./attribute_embedding_user.txt',sep=' ',index_col=0,header=None,na_values=[])"
   ]
  },
  {
   "cell_type": "code",
   "execution_count": 4,
   "metadata": {},
   "outputs": [],
   "source": [
    "def is_fw(pid):\n",
    "  val = fw_list.loc[pid,'是否为废人']\n",
    "  return val==1\n",
    "\n",
    "fw_list = pd.read_csv('./fw.txt',sep=' ',index_col=0)"
   ]
  },
  {
   "cell_type": "code",
   "execution_count": 5,
   "metadata": {},
   "outputs": [],
   "source": [
    "alive = []\n",
    "for i in a_emb_per.index:\n",
    "  alive.append(i)\n",
    "ss = pd.Series(alive)\n",
    "ss.to_csv('./no_fw.csv')"
   ]
  },
  {
   "cell_type": "code",
   "execution_count": 6,
   "metadata": {},
   "outputs": [],
   "source": [
    "pca_per_ppd = pd.read_csv('./pca_per.csv',index_col=0,header=None)\n",
    "pca_job_ppd = pd.read_csv('./pca_job.csv',index_col=0,header=None)"
   ]
  },
  {
   "cell_type": "code",
   "execution_count": 7,
   "metadata": {},
   "outputs": [],
   "source": [
    "pca_per_myd = pd.read_csv('./pca_per_myd.csv',index_col=0,header=None)\n",
    "pca_job_myd = pd.read_csv('./pca_job_myd.csv',index_col=0,header=None)"
   ]
  },
  {
   "cell_type": "code",
   "execution_count": 8,
   "metadata": {},
   "outputs": [],
   "source": [
    "def get_input_ppd(pid,rid):\n",
    "  per = pca_per_ppd.loc[pid].values\n",
    "  job = pca_job_myd.loc[rid].values\n",
    "  all = np.concatenate([per,job],axis=0)\n",
    "  return all\n",
    "\n",
    "def get_input_myd(pid,rid):\n",
    "  per = pca_per_myd.loc[pid].values\n",
    "  job = pca_job_myd.loc[rid].values\n",
    "  all = np.concatenate([per,job],axis=0)\n",
    "  return all"
   ]
  },
  {
   "cell_type": "code",
   "execution_count": 9,
   "metadata": {},
   "outputs": [],
   "source": [
    "net_ppd = torch.load('./Sigmoid-200.pt')\n",
    "net_myd = torch.load('./Sigmoid-MYD.pt')"
   ]
  },
  {
   "cell_type": "code",
   "execution_count": 10,
   "metadata": {},
   "outputs": [
    {
     "data": {
      "text/plain": [
       "((1575, 4), (10877, 3))"
      ]
     },
     "execution_count": 10,
     "metadata": {},
     "output_type": "execute_result"
    }
   ],
   "source": [
    "# 硬核条件，这里的序号是0~N-1\n",
    "hd_job = pd.read_csv('./hardcore_position.csv',index_col=0,header=0,encoding='gbk')\n",
    "hd_job.index = [i for i in range(hd_job.shape[0])]\n",
    "hd_per = pd.read_csv('./hardcore_user.csv',index_col=0,header=0,encoding='gbk')\n",
    "hd_per.index = [i for i in range(hd_per.shape[0])]\n",
    "hd_job.shape, hd_per.shape"
   ]
  },
  {
   "cell_type": "code",
   "execution_count": 11,
   "metadata": {},
   "outputs": [],
   "source": [
    "def judge_hangye(pid,rid): # 0~N-1\n",
    "  # print(pid,rid)\n",
    "  x = a_emb_per.loc[pid,6:14].values.astype('int')\n",
    "  y = a_emb_job.loc[rid,6:14].values.astype('int')\n",
    "  sum = (x*y).sum()\n",
    "  return sum > 0\n",
    "\n",
    "def judge_gongzi(pid,rid): # 0~N-1\n",
    "  p2, p1 = hd_per.iloc[pid,:-1]\n",
    "  r2, r1 = hd_job.iloc[rid,-2:]\n",
    "  return max(p1,r1)<=min(p2,r2)\n",
    "\n",
    "def judge_type(pid,rid):\n",
    "  pt = hd_per.iloc[pid,-1]\n",
    "  rt = hd_job.iloc[rid,0]\n",
    "  # print(pt,rt)\n",
    "  return pt == rt\n",
    "\n",
    "def judge(pid,rid):\n",
    "  if judge_buf[pid,rid]>=0:\n",
    "    return judge_buf[pid,rid]==1\n",
    "  # b1 = judge_hangye(pid,rid)\n",
    "  b2 = judge_gongzi(pid,rid)\n",
    "  b3 = judge_type(pid,rid)\n",
    "  if b2 and b3:\n",
    "    judge_buf[pid,rid] = 1\n",
    "  else:\n",
    "    judge_buf[pid,rid] = 0\n",
    "  # print('build buf')\n",
    "  return judge_buf[pid,rid]==1\n",
    "\n",
    "judge_buf = np.zeros(shape=(10877,1575),dtype='int')-1\n",
    "# judge_buf"
   ]
  },
  {
   "cell_type": "code",
   "execution_count": 12,
   "metadata": {},
   "outputs": [
    {
     "data": {
      "text/plain": [
       "False"
      ]
     },
     "execution_count": 12,
     "metadata": {},
     "output_type": "execute_result"
    }
   ],
   "source": [
    "judge(1,444)"
   ]
  },
  {
   "cell_type": "code",
   "execution_count": 34,
   "metadata": {},
   "outputs": [],
   "source": [
    "ppd_buf = np.zeros(shape=(10877,1575))-1\n",
    "myd_buf = np.zeros(shape=(10877,1575))-1\n",
    "# ppd_buf = {}\n",
    "# myd_buf = {}\n",
    "# for i in pca_per_ppd.index:\n",
    "#   ppd_buf[i] = np.zeros(1575)-1\n",
    "#   myd_buf[i] = np.zeros(1575)-1\n",
    "\n",
    "def get_ppd(pid,rid):\n",
    "  if judge(pid,rid)==False: # 硬性条件不满足为0\n",
    "    return 0\n",
    "  elif is_fw(pid):  # 废物为1\n",
    "    # return 0.1\n",
    "    ppd = 1 + np.random.random_sample()\n",
    "  elif ppd_buf[pid][rid]>=0:\n",
    "    return ppd_buf[pid][rid]\n",
    "  else:\n",
    "    ppd = net_ppd(torch.Tensor(get_input_ppd(pid,rid))).item()\n",
    "    # print(ppd)\n",
    "    # print(f'ppd({pid},{rid})={ppd}')\n",
    "  ppd = min(ppd,10)\n",
    "  ppd = max(ppd,1)/10\n",
    "  ppd_buf[pid][rid] = ppd\n",
    "  return ppd\n",
    "\n",
    "def get_myd(pid,rid):\n",
    "  if judge(pid,rid)==False: # 硬性条件不满足为0\n",
    "    return 0\n",
    "  elif is_fw(pid):  # 废物为1\n",
    "    # return 0.1\n",
    "    myd = 1 + np.random.random_sample()\n",
    "  elif myd_buf[pid][rid]>=0:\n",
    "    return myd_buf[pid][rid]\n",
    "  else:\n",
    "    myd = net_myd(torch.Tensor(get_input_myd(pid,rid))).item()\n",
    "    # print(myd)\n",
    "    # print(f'ppd({pid},{rid})={ppd}')\n",
    "  myd = min(myd,10)\n",
    "  myd = max(myd,1)/10\n",
    "  myd_buf[pid][rid] = myd\n",
    "  return myd"
   ]
  },
  {
   "cell_type": "code",
   "execution_count": 35,
   "metadata": {},
   "outputs": [
    {
     "data": {
      "text/plain": [
       "0.16448439281126828"
      ]
     },
     "execution_count": 35,
     "metadata": {},
     "output_type": "execute_result"
    }
   ],
   "source": [
    "get_myd(1,4)"
   ]
  },
  {
   "cell_type": "code",
   "execution_count": 27,
   "metadata": {},
   "outputs": [],
   "source": [
    "reid_per = {}\n",
    "reid_rec = {}\n",
    "\n",
    "dict_per = pd.read_excel('./user.xlsx')\n",
    "for i in dict_per.index:\n",
    "  reid_per[i]=dict_per.loc[i,'求职者 ID']\n",
    "\n",
    "dict_rec = pd.read_excel('./position.xlsx')\n",
    "for i in dict_rec.index:\n",
    "  reid_rec[i]=dict_rec.loc[i,'招聘信息 ID']\n"
   ]
  },
  {
   "cell_type": "code",
   "execution_count": 42,
   "metadata": {},
   "outputs": [],
   "source": [
    "persons = []\n",
    "recruits = []"
   ]
  },
  {
   "cell_type": "code",
   "execution_count": 43,
   "metadata": {},
   "outputs": [
    {
     "name": "stderr",
     "output_type": "stream",
     "text": [
      "100%|██████████| 10877/10877 [00:00<00:00, 1087623.24it/s]\n"
     ]
    }
   ],
   "source": [
    "for i in tqdm(range(hd_per.shape[0])):\n",
    "# for i in tqdm(range(5000)):\n",
    "  # id = hd_per.loc[i, '序号']\n",
    "  tmp = Person(i)\n",
    "  persons.append(tmp)\n",
    "  # print(id)"
   ]
  },
  {
   "cell_type": "code",
   "execution_count": 44,
   "metadata": {},
   "outputs": [
    {
     "name": "stderr",
     "output_type": "stream",
     "text": [
      "100%|██████████| 1575/1575 [00:00<00:00, 143192.20it/s]\n"
     ]
    }
   ],
   "source": [
    "for i in tqdm(range(hd_job.shape[0])):\n",
    "# for i in tqdm(range(50)):\n",
    "  # id = hd_rec.loc[i+1, '序号']\n",
    "  num = hd_job.loc[i, '岗位需求量']\n",
    "  tmp = Recruit(i, num)\n",
    "  recruits.append(tmp)\n",
    "  # print(id)"
   ]
  },
  {
   "cell_type": "code",
   "execution_count": 45,
   "metadata": {},
   "outputs": [
    {
     "data": {
      "text/plain": [
       "5520"
      ]
     },
     "execution_count": 45,
     "metadata": {},
     "output_type": "execute_result"
    }
   ],
   "source": [
    "def get_cnt_rec():\n",
    "  sum = 0\n",
    "  for i in recruits:\n",
    "    sum += i.num\n",
    "  return sum\n",
    "\n",
    "old_cnt_rec = get_cnt_rec()\n",
    "old_cnt_rec"
   ]
  },
  {
   "cell_type": "code",
   "execution_count": 46,
   "metadata": {},
   "outputs": [
    {
     "name": "stdout",
     "output_type": "stream",
     "text": [
      "epoch 1:\n"
     ]
    },
    {
     "name": "stderr",
     "output_type": "stream",
     "text": [
      "100%|██████████| 1575/1575 [1:16:11<00:00,  2.90s/it]\n"
     ]
    },
    {
     "name": "stdout",
     "output_type": "stream",
     "text": [
      "increase 284, total 284\n",
      "\n",
      "epoch 2:\n"
     ]
    },
    {
     "name": "stderr",
     "output_type": "stream",
     "text": [
      "100%|██████████| 1575/1575 [01:03<00:00, 24.83it/s]\n"
     ]
    },
    {
     "name": "stdout",
     "output_type": "stream",
     "text": [
      "increase 258, total 542\n",
      "\n",
      "epoch 3:\n"
     ]
    },
    {
     "name": "stderr",
     "output_type": "stream",
     "text": [
      "100%|██████████| 1575/1575 [01:00<00:00, 25.98it/s]\n"
     ]
    },
    {
     "name": "stdout",
     "output_type": "stream",
     "text": [
      "increase 202, total 744\n",
      "\n",
      "epoch 4:\n"
     ]
    },
    {
     "name": "stderr",
     "output_type": "stream",
     "text": [
      "100%|██████████| 1575/1575 [00:58<00:00, 26.87it/s]\n"
     ]
    },
    {
     "name": "stdout",
     "output_type": "stream",
     "text": [
      "increase 158, total 902\n",
      "\n",
      "epoch 5:\n"
     ]
    },
    {
     "name": "stderr",
     "output_type": "stream",
     "text": [
      "100%|██████████| 1575/1575 [00:55<00:00, 28.17it/s]\n"
     ]
    },
    {
     "name": "stdout",
     "output_type": "stream",
     "text": [
      "increase 207, total 1109\n",
      "\n",
      "epoch 6:\n"
     ]
    },
    {
     "name": "stderr",
     "output_type": "stream",
     "text": [
      "100%|██████████| 1575/1575 [00:52<00:00, 29.89it/s]\n"
     ]
    },
    {
     "name": "stdout",
     "output_type": "stream",
     "text": [
      "increase 644, total 1753\n",
      "\n",
      "epoch 7:\n"
     ]
    },
    {
     "name": "stderr",
     "output_type": "stream",
     "text": [
      "100%|██████████| 1575/1575 [00:26<00:00, 59.40it/s] \n"
     ]
    },
    {
     "name": "stdout",
     "output_type": "stream",
     "text": [
      "increase 23, total 1776\n",
      "\n",
      "epoch 8:\n"
     ]
    },
    {
     "name": "stderr",
     "output_type": "stream",
     "text": [
      "100%|██████████| 1575/1575 [00:23<00:00, 65.73it/s] "
     ]
    },
    {
     "name": "stdout",
     "output_type": "stream",
     "text": [
      "increase 0, total 1776\n",
      "\n"
     ]
    },
    {
     "name": "stderr",
     "output_type": "stream",
     "text": [
      "\n"
     ]
    }
   ],
   "source": [
    "epoch = 0\n",
    "total_pair = 0\n",
    "cnt_rec = get_cnt_rec()\n",
    "\n",
    "while True:\n",
    "  epoch += 1\n",
    "  # 招聘回合\n",
    "  print(f'epoch {epoch}:')\n",
    "  \n",
    "  np.random.shuffle(persons) # 随机优化\n",
    "  \n",
    "  for rec in tqdm(recruits):  # 对于每个岗位\n",
    "    # 发放offer\n",
    "    if rec.num <= 0:\n",
    "      continue\n",
    "    offer_list = [] # 临时数组：<per, rec, val>\n",
    "    # 计算与每个求职者的匹配度\n",
    "    for per in persons:\n",
    "      if per.alive==False:\n",
    "        continue\n",
    "      val = get_ppd(per.id, rec.id)\n",
    "      if val<=0:\n",
    "        continue\n",
    "      pair = Pair(per, rec, val)\n",
    "      offer_list.append(pair)\n",
    "    # 就地排序 by val\n",
    "    if len(offer_list)<=0:\n",
    "      continue\n",
    "    \n",
    "    offer_list.sort(reverse=True, key=lambda x:x.val)\n",
    "    \n",
    "    # for of in offer_list:\n",
    "    #   if get_ppd(of.pid,of.rid)==0:\n",
    "    #     print(f'1.ppd={get_ppd(of.pid,of.rid)}, val={of.val}')\n",
    "        \n",
    "    if len(offer_list)>rec.num:\n",
    "      offer_list = offer_list[:rec.num] # 取TopK\n",
    "    \n",
    "    for pair in offer_list:\n",
    "      if pair.val>0:\n",
    "        pair.per.offers.append(pair) # 发放offer\n",
    "  \n",
    "  # 所有岗位offer发放完毕\n",
    "    \n",
    "  # 求职者签约\n",
    "  for per in persons: # 对于每个求职者\n",
    "    if per.alive == False:\n",
    "      continue\n",
    "    # offer_list2 = [] # 临时数组：Pair\n",
    "    for of in per.offers:  # 对于每一份offer\n",
    "      # rec = recruits[rid]\n",
    "      val = get_myd(of.pid, of.rid)\n",
    "      of.val = val\n",
    "    #   pair = Pair(per, rec, val)\n",
    "    #   offer_list2.append(pair)\n",
    "    # if len(offer_list2)==0:  # 当前求职者无offer\n",
    "    #   continue\n",
    "    \n",
    "    # offer_list2.sort(reverse=True, key=lambda x:x.val) # 取最高满意度\n",
    "    per.offers.sort(reverse=True, key=lambda x:x.val)\n",
    "    # 目标岗位\n",
    "    for of in per.offers:\n",
    "      # dest_rec = recruits[k.rid]\n",
    "      if of.rec.num > 0: # 若未招满\n",
    "        of.rec.num -= 1\n",
    "        per.job = of.rid\n",
    "        per.alive = False\n",
    "        # per.offers.clear()\n",
    "        of.rec.workers.append(per.id)\n",
    "        # if of.pid!=per.id:\n",
    "        #   print('ID ERR!')\n",
    "        # 检测非法值\n",
    "        # if get_myd(per.id,of.rid)==0:\n",
    "        #   print(f'2.<{per.id},{of.rid}>:myd={get_myd(per.id,of.rid)},ppd={get_ppd(per.id,of.rid)}')\n",
    "        break\n",
    "    \n",
    "    per.offers.clear()\n",
    "    \n",
    "  # 删除冗余\n",
    "  \n",
    "  new_cnt_rec = get_cnt_rec()\n",
    "  increase = cnt_rec - new_cnt_rec\n",
    "  cnt_rec = new_cnt_rec\n",
    "  total_pair += increase\n",
    "  # print(net1_cnt, net2_cnt)\n",
    "  print(f'increase {increase}, total {total_pair}\\n')\n",
    "  \n",
    "  # break\n",
    "  \n",
    "  if increase <= 0:\n",
    "    break"
   ]
  },
  {
   "cell_type": "code",
   "execution_count": 52,
   "metadata": {},
   "outputs": [],
   "source": [
    "# # 求职者offer情况\n",
    "# for i in persons:\n",
    "#   if i.job!=-1:\n",
    "#     print(f'{i.id},{i.alive},offers:{len(i.offers)}')"
   ]
  },
  {
   "cell_type": "code",
   "execution_count": 48,
   "metadata": {},
   "outputs": [
    {
     "name": "stdout",
     "output_type": "stream",
     "text": [
      "1776 1776\n"
     ]
    }
   ],
   "source": [
    "st = set()\n",
    "cnt_pair = 0\n",
    "with open('./out_4_opt.csv','w') as f:\n",
    "  for rec in recruits: # 对于每个岗位\n",
    "  #print(f'岗位{rec.id}, 招到{len(rec.workers)}, 还差{rec.num}' ,end='\\t: ')\n",
    "  #if len(rec.workers)>0:  # 若非空\n",
    "    for pid in rec.workers: # 对于每个签约求职者\n",
    "      # if get_ppd(pid,rec.id)!=0:\n",
    "      #   continue\n",
    "      #print(f'<{pid},{get_myd(pid,rec.id)}>', end=' ')\n",
    "      f.write(f'{reid_rec[rec.id]},{reid_per[pid]},{get_ppd(pid,rec.id)},{get_myd(pid,rec.id)}\\n')\n",
    "      cnt_pair += 1\n",
    "      st.add(pid)\n",
    "  #print('')\n",
    "    \n",
    "print(cnt_pair, len(st))"
   ]
  },
  {
   "cell_type": "code",
   "execution_count": 69,
   "metadata": {},
   "outputs": [
    {
     "data": {
      "text/html": [
       "<div>\n",
       "<style scoped>\n",
       "    .dataframe tbody tr th:only-of-type {\n",
       "        vertical-align: middle;\n",
       "    }\n",
       "\n",
       "    .dataframe tbody tr th {\n",
       "        vertical-align: top;\n",
       "    }\n",
       "\n",
       "    .dataframe thead th {\n",
       "        text-align: right;\n",
       "    }\n",
       "</style>\n",
       "<table border=\"1\" class=\"dataframe\">\n",
       "  <thead>\n",
       "    <tr style=\"text-align: right;\">\n",
       "      <th></th>\n",
       "      <th>招聘信息 ID</th>\n",
       "      <th>求职者 ID</th>\n",
       "      <th>岗位匹配度</th>\n",
       "      <th>求职者满意度</th>\n",
       "    </tr>\n",
       "  </thead>\n",
       "  <tbody>\n",
       "    <tr>\n",
       "      <th>0</th>\n",
       "      <td>1648527394191049984</td>\n",
       "      <td>1480370431885179904</td>\n",
       "      <td>0.124705</td>\n",
       "      <td>0.171858</td>\n",
       "    </tr>\n",
       "    <tr>\n",
       "      <th>1</th>\n",
       "      <td>1648527394191049984</td>\n",
       "      <td>1461648125990139904</td>\n",
       "      <td>0.146020</td>\n",
       "      <td>0.149494</td>\n",
       "    </tr>\n",
       "    <tr>\n",
       "      <th>2</th>\n",
       "      <td>1648527394191049984</td>\n",
       "      <td>1647579226406249984</td>\n",
       "      <td>0.166603</td>\n",
       "      <td>0.162506</td>\n",
       "    </tr>\n",
       "    <tr>\n",
       "      <th>3</th>\n",
       "      <td>1648165203084440064</td>\n",
       "      <td>7538280375117339648</td>\n",
       "      <td>0.132962</td>\n",
       "      <td>0.170169</td>\n",
       "    </tr>\n",
       "    <tr>\n",
       "      <th>4</th>\n",
       "      <td>1648165203084440064</td>\n",
       "      <td>7539095847672930304</td>\n",
       "      <td>0.198937</td>\n",
       "      <td>0.102015</td>\n",
       "    </tr>\n",
       "  </tbody>\n",
       "</table>\n",
       "</div>"
      ],
      "text/plain": [
       "               招聘信息 ID               求职者 ID     岗位匹配度    求职者满意度\n",
       "0  1648527394191049984  1480370431885179904  0.124705  0.171858\n",
       "1  1648527394191049984  1461648125990139904  0.146020  0.149494\n",
       "2  1648527394191049984  1647579226406249984  0.166603  0.162506\n",
       "3  1648165203084440064  7538280375117339648  0.132962  0.170169\n",
       "4  1648165203084440064  7539095847672930304  0.198937  0.102015"
      ]
     },
     "execution_count": 69,
     "metadata": {},
     "output_type": "execute_result"
    }
   ],
   "source": [
    "df_4 = pd.read_csv('./res/out_4_opt.csv')\n",
    "df_4.head()"
   ]
  },
  {
   "cell_type": "code",
   "execution_count": 80,
   "metadata": {},
   "outputs": [
    {
     "data": {
      "text/html": [
       "<div>\n",
       "<style scoped>\n",
       "    .dataframe tbody tr th:only-of-type {\n",
       "        vertical-align: middle;\n",
       "    }\n",
       "\n",
       "    .dataframe tbody tr th {\n",
       "        vertical-align: top;\n",
       "    }\n",
       "\n",
       "    .dataframe thead th {\n",
       "        text-align: right;\n",
       "    }\n",
       "</style>\n",
       "<table border=\"1\" class=\"dataframe\">\n",
       "  <thead>\n",
       "    <tr style=\"text-align: right;\">\n",
       "      <th></th>\n",
       "      <th>招聘信息 ID</th>\n",
       "      <th>求职者 ID</th>\n",
       "      <th>岗位匹配度</th>\n",
       "      <th>求职者满意度</th>\n",
       "    </tr>\n",
       "  </thead>\n",
       "  <tbody>\n",
       "    <tr>\n",
       "      <th>1775</th>\n",
       "      <td>1374177417123460096</td>\n",
       "      <td>7531884344179869696</td>\n",
       "      <td>0.184767</td>\n",
       "      <td>0.143034</td>\n",
       "    </tr>\n",
       "    <tr>\n",
       "      <th>1774</th>\n",
       "      <td>1374181407047419904</td>\n",
       "      <td>7538623650378470400</td>\n",
       "      <td>0.504476</td>\n",
       "      <td>0.556234</td>\n",
       "    </tr>\n",
       "    <tr>\n",
       "      <th>1770</th>\n",
       "      <td>1462672316990350080</td>\n",
       "      <td>1562334736783899904</td>\n",
       "      <td>0.707512</td>\n",
       "      <td>0.648837</td>\n",
       "    </tr>\n",
       "    <tr>\n",
       "      <th>1769</th>\n",
       "      <td>1462672316990350080</td>\n",
       "      <td>1623885034161299968</td>\n",
       "      <td>0.157067</td>\n",
       "      <td>0.144563</td>\n",
       "    </tr>\n",
       "    <tr>\n",
       "      <th>1768</th>\n",
       "      <td>1462672316990350080</td>\n",
       "      <td>1516604454231729920</td>\n",
       "      <td>0.155551</td>\n",
       "      <td>0.195489</td>\n",
       "    </tr>\n",
       "    <tr>\n",
       "      <th>...</th>\n",
       "      <td>...</td>\n",
       "      <td>...</td>\n",
       "      <td>...</td>\n",
       "      <td>...</td>\n",
       "    </tr>\n",
       "    <tr>\n",
       "      <th>10</th>\n",
       "      <td>1648165203084440064</td>\n",
       "      <td>7539611467086749696</td>\n",
       "      <td>0.111774</td>\n",
       "      <td>0.125105</td>\n",
       "    </tr>\n",
       "    <tr>\n",
       "      <th>5</th>\n",
       "      <td>1648165203084440064</td>\n",
       "      <td>7532056125691849728</td>\n",
       "      <td>0.105999</td>\n",
       "      <td>0.104057</td>\n",
       "    </tr>\n",
       "    <tr>\n",
       "      <th>2</th>\n",
       "      <td>1648527394191049984</td>\n",
       "      <td>1647579226406249984</td>\n",
       "      <td>0.166603</td>\n",
       "      <td>0.162506</td>\n",
       "    </tr>\n",
       "    <tr>\n",
       "      <th>1</th>\n",
       "      <td>1648527394191049984</td>\n",
       "      <td>1461648125990139904</td>\n",
       "      <td>0.146020</td>\n",
       "      <td>0.149494</td>\n",
       "    </tr>\n",
       "    <tr>\n",
       "      <th>0</th>\n",
       "      <td>1648527394191049984</td>\n",
       "      <td>1480370431885179904</td>\n",
       "      <td>0.124705</td>\n",
       "      <td>0.171858</td>\n",
       "    </tr>\n",
       "  </tbody>\n",
       "</table>\n",
       "<p>1776 rows × 4 columns</p>\n",
       "</div>"
      ],
      "text/plain": [
       "                  招聘信息 ID               求职者 ID     岗位匹配度    求职者满意度\n",
       "1775  1374177417123460096  7531884344179869696  0.184767  0.143034\n",
       "1774  1374181407047419904  7538623650378470400  0.504476  0.556234\n",
       "1770  1462672316990350080  1562334736783899904  0.707512  0.648837\n",
       "1769  1462672316990350080  1623885034161299968  0.157067  0.144563\n",
       "1768  1462672316990350080  1516604454231729920  0.155551  0.195489\n",
       "...                   ...                  ...       ...       ...\n",
       "10    1648165203084440064  7539611467086749696  0.111774  0.125105\n",
       "5     1648165203084440064  7532056125691849728  0.105999  0.104057\n",
       "2     1648527394191049984  1647579226406249984  0.166603  0.162506\n",
       "1     1648527394191049984  1461648125990139904  0.146020  0.149494\n",
       "0     1648527394191049984  1480370431885179904  0.124705  0.171858\n",
       "\n",
       "[1776 rows x 4 columns]"
      ]
     },
     "execution_count": 80,
     "metadata": {},
     "output_type": "execute_result"
    }
   ],
   "source": [
    "df_4 = df_4.sort_values(by=['招聘信息 ID','岗位匹配度'],ascending=[True,False])\n",
    "df_4"
   ]
  },
  {
   "cell_type": "code",
   "execution_count": 81,
   "metadata": {},
   "outputs": [],
   "source": [
    "df_4.to_csv('./res/result4.csv',index=0)"
   ]
  },
  {
   "cell_type": "code",
   "execution_count": 49,
   "metadata": {},
   "outputs": [
    {
     "data": {
      "text/plain": [
       "0.3217391304347826"
      ]
     },
     "execution_count": 49,
     "metadata": {},
     "output_type": "execute_result"
    }
   ],
   "source": [
    "obj = cnt_pair/old_cnt_rec\n",
    "obj"
   ]
  },
  {
   "cell_type": "code",
   "execution_count": 50,
   "metadata": {},
   "outputs": [
    {
     "data": {
      "text/plain": [
       "(0, 0)"
      ]
     },
     "execution_count": 50,
     "metadata": {},
     "output_type": "execute_result"
    }
   ],
   "source": [
    "# 调用实例，使用时可以把函数里的print关掉\n",
    "# 仅第一次调用神经网络，即建立缓存时会print\n",
    "a,b = 317,46\n",
    "get_ppd(a,b),get_myd(a,b)"
   ]
  },
  {
   "cell_type": "code",
   "execution_count": 47,
   "metadata": {},
   "outputs": [],
   "source": [
    "# 以下为导出文件"
   ]
  },
  {
   "cell_type": "code",
   "execution_count": 59,
   "metadata": {},
   "outputs": [],
   "source": [
    "user_map = pd.read_csv(\"map/user_map.csv\")\n",
    "position_map = pd.read_csv(\"map/position_map.csv\")"
   ]
  },
  {
   "cell_type": "code",
   "execution_count": 53,
   "metadata": {},
   "outputs": [
    {
     "name": "stderr",
     "output_type": "stream",
     "text": [
      "1575it [16:29,  1.59it/s]\n"
     ]
    }
   ],
   "source": [
    "ppd_list = []\n",
    "for p_index,p_row in tqdm(position_map.iterrows()):\n",
    "    cur = []\n",
    "    for u_index,u_row in user_map.iterrows():\n",
    "        ppd = get_ppd(u_index,p_index)\n",
    "        if ppd>0:\n",
    "            cur.append((p_row[\"招聘信息 ID\"],u_row[\"求职者 ID\"],ppd))\n",
    "            \n",
    "    cur.sort(key=lambda x:x[2],reverse=True)\n",
    "#             print(cur)\n",
    "    ppd_list += cur\n",
    "#     print(ppd_list)"
   ]
  },
  {
   "cell_type": "code",
   "execution_count": 55,
   "metadata": {},
   "outputs": [],
   "source": [
    "ppd_df = pd.DataFrame(data=ppd_list,columns=[\"招聘信息 ID\",\"求职者 ID\",\"岗位匹配度\"])\n",
    "# ppd_df.sort_values(by=['岗位匹配度'], inplace=True)\n",
    "ppd_df.to_csv(\"res/ppd.csv\",index=0)"
   ]
  },
  {
   "cell_type": "code",
   "execution_count": 66,
   "metadata": {},
   "outputs": [
    {
     "name": "stderr",
     "output_type": "stream",
     "text": [
      "10877it [15:38, 11.59it/s]\n"
     ]
    }
   ],
   "source": [
    "ppd_list = []\n",
    "myd_list = []\n",
    "for u_index,u_row in tqdm(user_map.iterrows()):\n",
    "    cur = []\n",
    "    for p_index,p_row in position_map.iterrows():\n",
    "        myd = get_myd(u_index,p_index)\n",
    "        if myd>0:\n",
    "            cur.append((u_row[\"求职者 ID\"],p_row[\"招聘信息 ID\"],myd))\n",
    "            \n",
    "    cur.sort(key=lambda x:x[2],reverse=True)\n",
    "    myd_list += cur"
   ]
  },
  {
   "cell_type": "code",
   "execution_count": 67,
   "metadata": {},
   "outputs": [],
   "source": [
    "myd_df = pd.DataFrame(data=myd_list,columns=[\"求职者 ID\",\"招聘信息 ID\",\"求职者满意度\"])\n",
    "myd_df = myd_df.merge(position_map,on=\"招聘信息 ID\",how=\"left\")\n",
    "myd_df = myd_df[[\"求职者 ID\",\"招聘信息 ID\",\"企业名称\",\"求职者满意度\"]]\n",
    "myd_df.rename(columns={'企业名称':'公司名称'},inplace = True)\n",
    "# myd_df.sort_values(by=['求职者满意度'], inplace=True)\n",
    "myd_df.to_csv(\"res/myd.csv\",index=0)"
   ]
  },
  {
   "cell_type": "code",
   "execution_count": 68,
   "metadata": {},
   "outputs": [
    {
     "data": {
      "text/html": [
       "<div>\n",
       "<style scoped>\n",
       "    .dataframe tbody tr th:only-of-type {\n",
       "        vertical-align: middle;\n",
       "    }\n",
       "\n",
       "    .dataframe tbody tr th {\n",
       "        vertical-align: top;\n",
       "    }\n",
       "\n",
       "    .dataframe thead th {\n",
       "        text-align: right;\n",
       "    }\n",
       "</style>\n",
       "<table border=\"1\" class=\"dataframe\">\n",
       "  <thead>\n",
       "    <tr style=\"text-align: right;\">\n",
       "      <th></th>\n",
       "      <th>求职者 ID</th>\n",
       "      <th>招聘信息 ID</th>\n",
       "      <th>公司名称</th>\n",
       "      <th>求职者满意度</th>\n",
       "    </tr>\n",
       "  </thead>\n",
       "  <tbody>\n",
       "    <tr>\n",
       "      <th>0</th>\n",
       "      <td>1648621861036228608</td>\n",
       "      <td>1506097472638943244</td>\n",
       "      <td>视源电子</td>\n",
       "      <td>0.886064</td>\n",
       "    </tr>\n",
       "    <tr>\n",
       "      <th>1</th>\n",
       "      <td>1648621861036228608</td>\n",
       "      <td>1506097472638943235</td>\n",
       "      <td>视源电子</td>\n",
       "      <td>0.702926</td>\n",
       "    </tr>\n",
       "    <tr>\n",
       "      <th>2</th>\n",
       "      <td>1648621861036228608</td>\n",
       "      <td>1546677229344391168</td>\n",
       "      <td>嘉盛达</td>\n",
       "      <td>0.533610</td>\n",
       "    </tr>\n",
       "    <tr>\n",
       "      <th>3</th>\n",
       "      <td>1648621861036228608</td>\n",
       "      <td>1506097472638943236</td>\n",
       "      <td>视源电子</td>\n",
       "      <td>0.425034</td>\n",
       "    </tr>\n",
       "    <tr>\n",
       "      <th>4</th>\n",
       "      <td>1648621861036228608</td>\n",
       "      <td>1506097472634748929</td>\n",
       "      <td>视源电子</td>\n",
       "      <td>0.306340</td>\n",
       "    </tr>\n",
       "  </tbody>\n",
       "</table>\n",
       "</div>"
      ],
      "text/plain": [
       "                求职者 ID              招聘信息 ID  公司名称    求职者满意度\n",
       "0  1648621861036228608  1506097472638943244  视源电子  0.886064\n",
       "1  1648621861036228608  1506097472638943235  视源电子  0.702926\n",
       "2  1648621861036228608  1546677229344391168   嘉盛达  0.533610\n",
       "3  1648621861036228608  1506097472638943236  视源电子  0.425034\n",
       "4  1648621861036228608  1506097472634748929  视源电子  0.306340"
      ]
     },
     "execution_count": 68,
     "metadata": {},
     "output_type": "execute_result"
    }
   ],
   "source": [
    "myd_df.head()"
   ]
  }
 ],
 "metadata": {
  "kernelspec": {
   "display_name": "pytorch",
   "language": "python",
   "name": "python3"
  },
  "language_info": {
   "codemirror_mode": {
    "name": "ipython",
    "version": 3
   },
   "file_extension": ".py",
   "mimetype": "text/x-python",
   "name": "python",
   "nbconvert_exporter": "python",
   "pygments_lexer": "ipython3",
   "version": "3.9.16"
  },
  "orig_nbformat": 4
 },
 "nbformat": 4,
 "nbformat_minor": 2
}
