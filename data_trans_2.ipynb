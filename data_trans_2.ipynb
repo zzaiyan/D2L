{
 "cells": [
  {
   "cell_type": "code",
   "execution_count": 60,
   "metadata": {},
   "outputs": [],
   "source": [
    "import pandas as pd\n",
    "import numpy as np\n",
    "from tqdm import tqdm\n",
    "import torch\n",
    "from torch import nn\n",
    "from torch.utils import data"
   ]
  },
  {
   "cell_type": "markdown",
   "metadata": {},
   "source": [
    "关于下标\n",
    "1. 0~N-1：琪琪的属性嵌入、匹配度、满意度\n",
    "2. 1~N：whc做的那两个dict文件\n",
    "3. 真实ID：导出文件格式（题目要求）"
   ]
  },
  {
   "cell_type": "code",
   "execution_count": 2,
   "metadata": {},
   "outputs": [],
   "source": [
    "# ID映射表\n",
    "# df_per = pd.read_csv('./user_dict',sep='\\t')\n",
    "# df_rec = pd.read_csv('./jd_dict',sep='\\t')"
   ]
  },
  {
   "cell_type": "code",
   "execution_count": 3,
   "metadata": {},
   "outputs": [
    {
     "data": {
      "text/plain": [
       "(   position  user  rating\n",
       " 0         0    94       6\n",
       " 1         0   165       6\n",
       " 2         0   168       6\n",
       " 3         1    94       6\n",
       " 4         1   165       6,\n",
       "    user  position  myd\n",
       " 0   425       295    8\n",
       " 1   425      1504    8\n",
       " 2   425      1515    8\n",
       " 3   425      1542    8\n",
       " 4   425      1543    8)"
      ]
     },
     "execution_count": 3,
     "metadata": {},
     "output_type": "execute_result"
    }
   ],
   "source": [
    "# 匹配度、满意度，这里的序号是0~N-1\n",
    "df_ppd = pd.read_csv('./p-u-rating.txt',sep=' ')\n",
    "df_myd = pd.read_csv('./u-p-rating.txt',sep=' ')\n",
    "df_ppd.head(), df_myd.head()"
   ]
  },
  {
   "cell_type": "code",
   "execution_count": 4,
   "metadata": {},
   "outputs": [
    {
     "data": {
      "text/html": [
       "<div>\n",
       "<style scoped>\n",
       "    .dataframe tbody tr th:only-of-type {\n",
       "        vertical-align: middle;\n",
       "    }\n",
       "\n",
       "    .dataframe tbody tr th {\n",
       "        vertical-align: top;\n",
       "    }\n",
       "\n",
       "    .dataframe thead th {\n",
       "        text-align: right;\n",
       "    }\n",
       "</style>\n",
       "<table border=\"1\" class=\"dataframe\">\n",
       "  <thead>\n",
       "    <tr style=\"text-align: right;\">\n",
       "      <th></th>\n",
       "      <th>是否为废人</th>\n",
       "    </tr>\n",
       "    <tr>\n",
       "      <th>下标</th>\n",
       "      <th></th>\n",
       "    </tr>\n",
       "  </thead>\n",
       "  <tbody>\n",
       "    <tr>\n",
       "      <th>0</th>\n",
       "      <td>0</td>\n",
       "    </tr>\n",
       "    <tr>\n",
       "      <th>1</th>\n",
       "      <td>1</td>\n",
       "    </tr>\n",
       "    <tr>\n",
       "      <th>2</th>\n",
       "      <td>1</td>\n",
       "    </tr>\n",
       "    <tr>\n",
       "      <th>3</th>\n",
       "      <td>1</td>\n",
       "    </tr>\n",
       "    <tr>\n",
       "      <th>4</th>\n",
       "      <td>1</td>\n",
       "    </tr>\n",
       "  </tbody>\n",
       "</table>\n",
       "</div>"
      ],
      "text/plain": [
       "    是否为废人\n",
       "下标       \n",
       "0       0\n",
       "1       1\n",
       "2       1\n",
       "3       1\n",
       "4       1"
      ]
     },
     "execution_count": 4,
     "metadata": {},
     "output_type": "execute_result"
    }
   ],
   "source": [
    "def is_fw(pid):\n",
    "  # return not pid in idx\n",
    "  # print(f'is_fw({pid})')\n",
    "  val = fw_list.loc[pid,'是否为废人']\n",
    "  return val==1\n",
    "\n",
    "fw_list = pd.read_csv('./fw.txt',sep=' ',index_col=0)\n",
    "fw_list.head()"
   ]
  },
  {
   "cell_type": "code",
   "execution_count": 5,
   "metadata": {},
   "outputs": [],
   "source": [
    "alive = []\n",
    "for i in range(10877):\n",
    "  if is_fw(i):\n",
    "    pass\n",
    "  else:\n",
    "    alive.append(i)"
   ]
  },
  {
   "cell_type": "code",
   "execution_count": 6,
   "metadata": {},
   "outputs": [
    {
     "name": "stdout",
     "output_type": "stream",
     "text": [
      "0 1 2 3 4 5 6 7 8 9 10 11 12 13 14 15 16 17 18 19 20 21 22 23 24 25 26 27 28 29 30 31 32 33 34 35 36 37 38 39 40 41 42 43 44 45 46 47 48 49 50 51 52 53 54 55 56 57 58 59 60 61 62 63 64 65 66 67 68 69 70 71 72 73 "
     ]
    }
   ],
   "source": [
    "for i in range(74):\n",
    "  print(f'{i} ',end='')"
   ]
  },
  {
   "cell_type": "code",
   "execution_count": 7,
   "metadata": {},
   "outputs": [],
   "source": [
    "# df_map.to_csv('./per_job_map.csv',header=['job','person','label'],index=None)"
   ]
  },
  {
   "cell_type": "code",
   "execution_count": 8,
   "metadata": {},
   "outputs": [
    {
     "name": "stdout",
     "output_type": "stream",
     "text": [
      "(1575, 74) (868, 74)\n"
     ]
    },
    {
     "data": {
      "text/html": [
       "<div>\n",
       "<style scoped>\n",
       "    .dataframe tbody tr th:only-of-type {\n",
       "        vertical-align: middle;\n",
       "    }\n",
       "\n",
       "    .dataframe tbody tr th {\n",
       "        vertical-align: top;\n",
       "    }\n",
       "\n",
       "    .dataframe thead th {\n",
       "        text-align: right;\n",
       "    }\n",
       "</style>\n",
       "<table border=\"1\" class=\"dataframe\">\n",
       "  <thead>\n",
       "    <tr style=\"text-align: right;\">\n",
       "      <th></th>\n",
       "      <th>1</th>\n",
       "      <th>2</th>\n",
       "      <th>3</th>\n",
       "      <th>4</th>\n",
       "      <th>5</th>\n",
       "      <th>6</th>\n",
       "      <th>7</th>\n",
       "      <th>8</th>\n",
       "      <th>9</th>\n",
       "      <th>10</th>\n",
       "      <th>...</th>\n",
       "      <th>65</th>\n",
       "      <th>66</th>\n",
       "      <th>67</th>\n",
       "      <th>68</th>\n",
       "      <th>69</th>\n",
       "      <th>70</th>\n",
       "      <th>71</th>\n",
       "      <th>72</th>\n",
       "      <th>73</th>\n",
       "      <th>74</th>\n",
       "    </tr>\n",
       "  </thead>\n",
       "  <tbody>\n",
       "    <tr>\n",
       "      <th>0</th>\n",
       "      <td>-0.724494</td>\n",
       "      <td>-0.559137</td>\n",
       "      <td>-0.300785</td>\n",
       "      <td>0.008680</td>\n",
       "      <td>-0.170450</td>\n",
       "      <td>0</td>\n",
       "      <td>0</td>\n",
       "      <td>0.0</td>\n",
       "      <td>1</td>\n",
       "      <td>0</td>\n",
       "      <td>...</td>\n",
       "      <td>-0.160764</td>\n",
       "      <td>0.035278</td>\n",
       "      <td>0.060169</td>\n",
       "      <td>0.088794</td>\n",
       "      <td>-0.306723</td>\n",
       "      <td>0.137945</td>\n",
       "      <td>0.316116</td>\n",
       "      <td>0.4042</td>\n",
       "      <td>0.127718</td>\n",
       "      <td>0.047178</td>\n",
       "    </tr>\n",
       "    <tr>\n",
       "      <th>7</th>\n",
       "      <td>-0.724494</td>\n",
       "      <td>-0.721122</td>\n",
       "      <td>-0.890788</td>\n",
       "      <td>4.934121</td>\n",
       "      <td>3.222017</td>\n",
       "      <td>0</td>\n",
       "      <td>0</td>\n",
       "      <td>0.0</td>\n",
       "      <td>1</td>\n",
       "      <td>0</td>\n",
       "      <td>...</td>\n",
       "      <td>-0.160764</td>\n",
       "      <td>0.035278</td>\n",
       "      <td>0.060169</td>\n",
       "      <td>0.088794</td>\n",
       "      <td>-0.306723</td>\n",
       "      <td>0.137945</td>\n",
       "      <td>0.316116</td>\n",
       "      <td>0.4042</td>\n",
       "      <td>0.127718</td>\n",
       "      <td>0.047178</td>\n",
       "    </tr>\n",
       "    <tr>\n",
       "      <th>10</th>\n",
       "      <td>1.741550</td>\n",
       "      <td>-0.802114</td>\n",
       "      <td>-0.890788</td>\n",
       "      <td>2.832705</td>\n",
       "      <td>7.543888</td>\n",
       "      <td>0</td>\n",
       "      <td>0</td>\n",
       "      <td>0.0</td>\n",
       "      <td>0</td>\n",
       "      <td>1</td>\n",
       "      <td>...</td>\n",
       "      <td>-0.160764</td>\n",
       "      <td>0.035278</td>\n",
       "      <td>0.060169</td>\n",
       "      <td>0.088794</td>\n",
       "      <td>-0.306723</td>\n",
       "      <td>0.137945</td>\n",
       "      <td>0.316116</td>\n",
       "      <td>0.4042</td>\n",
       "      <td>0.127718</td>\n",
       "      <td>0.047178</td>\n",
       "    </tr>\n",
       "    <tr>\n",
       "      <th>12</th>\n",
       "      <td>-0.724494</td>\n",
       "      <td>-0.397152</td>\n",
       "      <td>-0.448285</td>\n",
       "      <td>0.080217</td>\n",
       "      <td>-0.179261</td>\n",
       "      <td>0</td>\n",
       "      <td>0</td>\n",
       "      <td>0.0</td>\n",
       "      <td>1</td>\n",
       "      <td>1</td>\n",
       "      <td>...</td>\n",
       "      <td>-0.160764</td>\n",
       "      <td>0.035278</td>\n",
       "      <td>0.060169</td>\n",
       "      <td>0.088794</td>\n",
       "      <td>-0.306723</td>\n",
       "      <td>0.137945</td>\n",
       "      <td>0.316116</td>\n",
       "      <td>0.4042</td>\n",
       "      <td>0.127718</td>\n",
       "      <td>0.047178</td>\n",
       "    </tr>\n",
       "    <tr>\n",
       "      <th>13</th>\n",
       "      <td>-0.724494</td>\n",
       "      <td>3.247509</td>\n",
       "      <td>6.041750</td>\n",
       "      <td>0.025324</td>\n",
       "      <td>-0.260802</td>\n",
       "      <td>0</td>\n",
       "      <td>0</td>\n",
       "      <td>0.0</td>\n",
       "      <td>1</td>\n",
       "      <td>1</td>\n",
       "      <td>...</td>\n",
       "      <td>-0.160764</td>\n",
       "      <td>0.035278</td>\n",
       "      <td>0.060169</td>\n",
       "      <td>0.088794</td>\n",
       "      <td>-0.306723</td>\n",
       "      <td>0.137945</td>\n",
       "      <td>0.316116</td>\n",
       "      <td>0.4042</td>\n",
       "      <td>0.127718</td>\n",
       "      <td>0.047178</td>\n",
       "    </tr>\n",
       "  </tbody>\n",
       "</table>\n",
       "<p>5 rows × 74 columns</p>\n",
       "</div>"
      ],
      "text/plain": [
       "          1         2         3         4         5   6   7    8   9   10  \\\n",
       "0  -0.724494 -0.559137 -0.300785  0.008680 -0.170450   0   0  0.0   1   0   \n",
       "7  -0.724494 -0.721122 -0.890788  4.934121  3.222017   0   0  0.0   1   0   \n",
       "10  1.741550 -0.802114 -0.890788  2.832705  7.543888   0   0  0.0   0   1   \n",
       "12 -0.724494 -0.397152 -0.448285  0.080217 -0.179261   0   0  0.0   1   1   \n",
       "13 -0.724494  3.247509  6.041750  0.025324 -0.260802   0   0  0.0   1   1   \n",
       "\n",
       "    ...        65        66        67        68        69        70        71  \\\n",
       "0   ... -0.160764  0.035278  0.060169  0.088794 -0.306723  0.137945  0.316116   \n",
       "7   ... -0.160764  0.035278  0.060169  0.088794 -0.306723  0.137945  0.316116   \n",
       "10  ... -0.160764  0.035278  0.060169  0.088794 -0.306723  0.137945  0.316116   \n",
       "12  ... -0.160764  0.035278  0.060169  0.088794 -0.306723  0.137945  0.316116   \n",
       "13  ... -0.160764  0.035278  0.060169  0.088794 -0.306723  0.137945  0.316116   \n",
       "\n",
       "        72        73        74  \n",
       "0   0.4042  0.127718  0.047178  \n",
       "7   0.4042  0.127718  0.047178  \n",
       "10  0.4042  0.127718  0.047178  \n",
       "12  0.4042  0.127718  0.047178  \n",
       "13  0.4042  0.127718  0.047178  \n",
       "\n",
       "[5 rows x 74 columns]"
      ]
     },
     "execution_count": 8,
     "metadata": {},
     "output_type": "execute_result"
    }
   ],
   "source": [
    "# 属性嵌入，这里的序号是0~N-1\n",
    "a_emb_job = pd.read_csv('./attribute_embedding_position.txt',sep=' ',index_col=0,header=None,na_values=[])\n",
    "a_emb_per = pd.read_csv('./attribute_embedding_user.txt',sep=' ',index_col=0,header=None,na_values=[])\n",
    "a_emb_per.index = [alive[i] for i in range(868)]\n",
    "print(a_emb_job.shape, a_emb_per.shape)\n",
    "a_emb_per.head()"
   ]
  },
  {
   "cell_type": "markdown",
   "metadata": {},
   "source": [
    "先算PU网络，得到匹配度"
   ]
  },
  {
   "cell_type": "code",
   "execution_count": 9,
   "metadata": {},
   "outputs": [
    {
     "name": "stdout",
     "output_type": "stream",
     "text": [
      "(1575, 128) (868, 128)\n"
     ]
    },
    {
     "data": {
      "text/html": [
       "<div>\n",
       "<style scoped>\n",
       "    .dataframe tbody tr th:only-of-type {\n",
       "        vertical-align: middle;\n",
       "    }\n",
       "\n",
       "    .dataframe tbody tr th {\n",
       "        vertical-align: top;\n",
       "    }\n",
       "\n",
       "    .dataframe thead th {\n",
       "        text-align: right;\n",
       "    }\n",
       "</style>\n",
       "<table border=\"1\" class=\"dataframe\">\n",
       "  <thead>\n",
       "    <tr style=\"text-align: right;\">\n",
       "      <th></th>\n",
       "      <th>1</th>\n",
       "      <th>2</th>\n",
       "      <th>3</th>\n",
       "      <th>4</th>\n",
       "      <th>5</th>\n",
       "      <th>6</th>\n",
       "      <th>7</th>\n",
       "      <th>8</th>\n",
       "      <th>9</th>\n",
       "      <th>10</th>\n",
       "      <th>...</th>\n",
       "      <th>119</th>\n",
       "      <th>120</th>\n",
       "      <th>121</th>\n",
       "      <th>122</th>\n",
       "      <th>123</th>\n",
       "      <th>124</th>\n",
       "      <th>125</th>\n",
       "      <th>126</th>\n",
       "      <th>127</th>\n",
       "      <th>128</th>\n",
       "    </tr>\n",
       "  </thead>\n",
       "  <tbody>\n",
       "    <tr>\n",
       "      <th>0</th>\n",
       "      <td>-0.051832</td>\n",
       "      <td>-0.149874</td>\n",
       "      <td>-0.224147</td>\n",
       "      <td>0.011519</td>\n",
       "      <td>0.053820</td>\n",
       "      <td>0.264336</td>\n",
       "      <td>0.022562</td>\n",
       "      <td>0.261905</td>\n",
       "      <td>-0.074125</td>\n",
       "      <td>-0.005507</td>\n",
       "      <td>...</td>\n",
       "      <td>0.012419</td>\n",
       "      <td>-0.086074</td>\n",
       "      <td>0.078442</td>\n",
       "      <td>0.012039</td>\n",
       "      <td>-0.055958</td>\n",
       "      <td>0.038050</td>\n",
       "      <td>0.034189</td>\n",
       "      <td>-0.160455</td>\n",
       "      <td>0.049304</td>\n",
       "      <td>0.076718</td>\n",
       "    </tr>\n",
       "    <tr>\n",
       "      <th>7</th>\n",
       "      <td>-0.766611</td>\n",
       "      <td>0.110375</td>\n",
       "      <td>-0.580904</td>\n",
       "      <td>-0.090295</td>\n",
       "      <td>0.201381</td>\n",
       "      <td>-0.176775</td>\n",
       "      <td>0.435382</td>\n",
       "      <td>0.769255</td>\n",
       "      <td>0.402643</td>\n",
       "      <td>-0.218459</td>\n",
       "      <td>...</td>\n",
       "      <td>-0.373447</td>\n",
       "      <td>-0.226740</td>\n",
       "      <td>-0.250924</td>\n",
       "      <td>0.050345</td>\n",
       "      <td>-0.059023</td>\n",
       "      <td>0.161022</td>\n",
       "      <td>-0.184423</td>\n",
       "      <td>0.433543</td>\n",
       "      <td>-0.437071</td>\n",
       "      <td>-0.446206</td>\n",
       "    </tr>\n",
       "    <tr>\n",
       "      <th>10</th>\n",
       "      <td>-0.819879</td>\n",
       "      <td>0.164693</td>\n",
       "      <td>-0.661215</td>\n",
       "      <td>-0.131313</td>\n",
       "      <td>0.257609</td>\n",
       "      <td>-0.147225</td>\n",
       "      <td>0.528567</td>\n",
       "      <td>0.879149</td>\n",
       "      <td>0.421028</td>\n",
       "      <td>-0.252310</td>\n",
       "      <td>...</td>\n",
       "      <td>-0.387897</td>\n",
       "      <td>-0.269366</td>\n",
       "      <td>-0.234926</td>\n",
       "      <td>0.047197</td>\n",
       "      <td>-0.048544</td>\n",
       "      <td>0.149407</td>\n",
       "      <td>-0.166082</td>\n",
       "      <td>0.490235</td>\n",
       "      <td>-0.481465</td>\n",
       "      <td>-0.484754</td>\n",
       "    </tr>\n",
       "    <tr>\n",
       "      <th>12</th>\n",
       "      <td>-0.095432</td>\n",
       "      <td>-0.154287</td>\n",
       "      <td>-0.198380</td>\n",
       "      <td>0.020648</td>\n",
       "      <td>0.023234</td>\n",
       "      <td>0.235723</td>\n",
       "      <td>-0.019982</td>\n",
       "      <td>0.245697</td>\n",
       "      <td>-0.070095</td>\n",
       "      <td>0.051449</td>\n",
       "      <td>...</td>\n",
       "      <td>0.014524</td>\n",
       "      <td>-0.051286</td>\n",
       "      <td>0.081739</td>\n",
       "      <td>0.013149</td>\n",
       "      <td>-0.091155</td>\n",
       "      <td>0.068120</td>\n",
       "      <td>0.025149</td>\n",
       "      <td>-0.182351</td>\n",
       "      <td>0.108150</td>\n",
       "      <td>0.082967</td>\n",
       "    </tr>\n",
       "    <tr>\n",
       "      <th>13</th>\n",
       "      <td>0.088222</td>\n",
       "      <td>-0.003400</td>\n",
       "      <td>-0.018967</td>\n",
       "      <td>0.089848</td>\n",
       "      <td>0.040171</td>\n",
       "      <td>-0.089441</td>\n",
       "      <td>0.054320</td>\n",
       "      <td>0.035361</td>\n",
       "      <td>-0.083049</td>\n",
       "      <td>-0.068331</td>\n",
       "      <td>...</td>\n",
       "      <td>0.051633</td>\n",
       "      <td>-0.029428</td>\n",
       "      <td>0.059547</td>\n",
       "      <td>-0.065758</td>\n",
       "      <td>-0.069571</td>\n",
       "      <td>0.088358</td>\n",
       "      <td>0.039683</td>\n",
       "      <td>-0.072314</td>\n",
       "      <td>0.047281</td>\n",
       "      <td>0.045774</td>\n",
       "    </tr>\n",
       "  </tbody>\n",
       "</table>\n",
       "<p>5 rows × 128 columns</p>\n",
       "</div>"
      ],
      "text/plain": [
       "           1         2         3         4         5         6         7  \\\n",
       "0  -0.051832 -0.149874 -0.224147  0.011519  0.053820  0.264336  0.022562   \n",
       "7  -0.766611  0.110375 -0.580904 -0.090295  0.201381 -0.176775  0.435382   \n",
       "10 -0.819879  0.164693 -0.661215 -0.131313  0.257609 -0.147225  0.528567   \n",
       "12 -0.095432 -0.154287 -0.198380  0.020648  0.023234  0.235723 -0.019982   \n",
       "13  0.088222 -0.003400 -0.018967  0.089848  0.040171 -0.089441  0.054320   \n",
       "\n",
       "           8         9        10  ...       119       120       121       122  \\\n",
       "0   0.261905 -0.074125 -0.005507  ...  0.012419 -0.086074  0.078442  0.012039   \n",
       "7   0.769255  0.402643 -0.218459  ... -0.373447 -0.226740 -0.250924  0.050345   \n",
       "10  0.879149  0.421028 -0.252310  ... -0.387897 -0.269366 -0.234926  0.047197   \n",
       "12  0.245697 -0.070095  0.051449  ...  0.014524 -0.051286  0.081739  0.013149   \n",
       "13  0.035361 -0.083049 -0.068331  ...  0.051633 -0.029428  0.059547 -0.065758   \n",
       "\n",
       "         123       124       125       126       127       128  \n",
       "0  -0.055958  0.038050  0.034189 -0.160455  0.049304  0.076718  \n",
       "7  -0.059023  0.161022 -0.184423  0.433543 -0.437071 -0.446206  \n",
       "10 -0.048544  0.149407 -0.166082  0.490235 -0.481465 -0.484754  \n",
       "12 -0.091155  0.068120  0.025149 -0.182351  0.108150  0.082967  \n",
       "13 -0.069571  0.088358  0.039683 -0.072314  0.047281  0.045774  \n",
       "\n",
       "[5 rows x 128 columns]"
      ]
     },
     "execution_count": 9,
     "metadata": {},
     "output_type": "execute_result"
    }
   ],
   "source": [
    "# 结构嵌入，这里的序号是0~N-1\n",
    "d_emb_job = pd.read_csv('./position_up.csv',index_col=0,header=0,na_values=[])\n",
    "d_emb_per = pd.read_csv('./user_up.csv',index_col=0,header=0,na_values=[])\n",
    "d_emb_per.index = [alive[i] for i in range(868)]\n",
    "print(d_emb_job.shape, d_emb_per.shape)\n",
    "d_emb_per.head()"
   ]
  },
  {
   "cell_type": "code",
   "execution_count": 10,
   "metadata": {},
   "outputs": [
    {
     "data": {
      "text/plain": [
       "((868, 202), (1575, 202))"
      ]
     },
     "execution_count": 10,
     "metadata": {},
     "output_type": "execute_result"
    }
   ],
   "source": [
    "# a = np.array([[1,2,3],[4,5,6]])\n",
    "# b = np.array([[-1,-2],[-3,-4]])\n",
    "a = a_emb_per.values\n",
    "b = d_emb_per.values\n",
    "X = np.concatenate([a,b],axis=1)\n",
    "\n",
    "c = a_emb_job.values\n",
    "d = d_emb_job.values\n",
    "Y = np.concatenate([c,d],axis=1)\n",
    "X.shape, Y.shape"
   ]
  },
  {
   "cell_type": "code",
   "execution_count": 11,
   "metadata": {},
   "outputs": [],
   "source": [
    "import sklearn\n",
    "from sklearn.decomposition import PCA\n",
    "pca=PCA(n_components=64)\n",
    "pca.fit(X)\n",
    "Xpca = pca.transform(X) #进行降维\n",
    "pca.fit(Y)\n",
    "Ypca = pca.transform(Y)"
   ]
  },
  {
   "cell_type": "code",
   "execution_count": 12,
   "metadata": {},
   "outputs": [
    {
     "data": {
      "text/plain": [
       "((868, 64), (1575, 64))"
      ]
     },
     "execution_count": 12,
     "metadata": {},
     "output_type": "execute_result"
    }
   ],
   "source": [
    "Xpca.shape, Ypca.shape"
   ]
  },
  {
   "cell_type": "code",
   "execution_count": 13,
   "metadata": {},
   "outputs": [
    {
     "data": {
      "text/plain": [
       "((868, 64), (1575, 64))"
      ]
     },
     "execution_count": 13,
     "metadata": {},
     "output_type": "execute_result"
    }
   ],
   "source": [
    "pca_per = pd.DataFrame(Xpca, index=[alive[i] for i in range(868)])\n",
    "pca_job = pd.DataFrame(Ypca)\n",
    "pca_per.shape,pca_job.shape"
   ]
  },
  {
   "cell_type": "code",
   "execution_count": 14,
   "metadata": {},
   "outputs": [],
   "source": [
    "def get_input(pid, rid):\n",
    "  per = pca_per.loc[pid].values\n",
    "  job = pca_job.loc[rid].values\n",
    "  all = np.concatenate([per,job],axis=0)\n",
    "  return all"
   ]
  },
  {
   "cell_type": "code",
   "execution_count": 15,
   "metadata": {},
   "outputs": [],
   "source": [
    "features = []\n",
    "labels = []\n",
    "# get_input(7,1)"
   ]
  },
  {
   "cell_type": "code",
   "execution_count": 16,
   "metadata": {},
   "outputs": [
    {
     "name": "stderr",
     "output_type": "stream",
     "text": [
      "100%|████████████████████████████████████████████████████████████████████████| 433890/433890 [01:03<00:00, 6785.40it/s]\n"
     ]
    }
   ],
   "source": [
    "for i in tqdm(range(df_myd.shape[0])):\n",
    "  row = df_myd.loc[i]\n",
    "  pid = row['user']\n",
    "  rid = row['position']\n",
    "  label = row['myd']\n",
    "  if is_fw(pid):\n",
    "    continue\n",
    "  # print(pid,rid,label)\n",
    "  feature = get_input(pid,rid)\n",
    "  features.append(feature)\n",
    "  labels.append(label)\n",
    "  "
   ]
  },
  {
   "cell_type": "code",
   "execution_count": 17,
   "metadata": {},
   "outputs": [
    {
     "data": {
      "text/plain": [
       "(torch.Size([433890, 128]), torch.Size([433890, 1]))"
      ]
     },
     "execution_count": 17,
     "metadata": {},
     "output_type": "execute_result"
    }
   ],
   "source": [
    "features = np.array(features)\n",
    "labels = np.array(labels)\n",
    "features = torch.Tensor(features)\n",
    "labels = torch.Tensor(labels).reshape(-1,1)\n",
    "features.shape,labels.shape"
   ]
  },
  {
   "cell_type": "code",
   "execution_count": 18,
   "metadata": {},
   "outputs": [],
   "source": [
    "class DS:\n",
    "  def __init__(self,data_arrays):\n",
    "    self.data = data_arrays\n",
    "\n",
    "  def __getitem__(self,index):\n",
    "    return self.data[0][index],self.data[1][index]\n",
    "  \n",
    "  def __len__(self):\n",
    "    return self.data[0].size()[0]\n",
    "\n",
    "def load_array(data_arrays, batch_size, is_train=True):\n",
    "  # Array to Iter\n",
    "  dataset = data.TensorDataset(*data_arrays)\n",
    "  return data.DataLoader(dataset, batch_size, shuffle=is_train)\n",
    "    "
   ]
  },
  {
   "cell_type": "code",
   "execution_count": 50,
   "metadata": {},
   "outputs": [],
   "source": [
    "batch_size = 128"
   ]
  },
  {
   "cell_type": "code",
   "execution_count": 51,
   "metadata": {},
   "outputs": [],
   "source": [
    "train_iter = load_array((features,labels), batch_size)\n",
    "# test_iter = load_array((features[train_size:train_size+test_size],labels[train_size:train_size+test_size]), batch_size, False)"
   ]
  },
  {
   "cell_type": "code",
   "execution_count": 52,
   "metadata": {},
   "outputs": [],
   "source": [
    "net = nn.Sequential(nn.Linear(128,32),\n",
    "                    nn.ReLU(),\n",
    "                    nn.Linear(32,1)\n",
    "                    )"
   ]
  },
  {
   "cell_type": "code",
   "execution_count": 61,
   "metadata": {},
   "outputs": [],
   "source": [
    "net = torch.load('./DNN-MYD.pt')"
   ]
  },
  {
   "cell_type": "code",
   "execution_count": 53,
   "metadata": {},
   "outputs": [
    {
     "data": {
      "text/plain": [
       "Sequential(\n",
       "  (0): Linear(in_features=128, out_features=32, bias=True)\n",
       "  (1): ReLU()\n",
       "  (2): Linear(in_features=32, out_features=1, bias=True)\n",
       ")"
      ]
     },
     "execution_count": 53,
     "metadata": {},
     "output_type": "execute_result"
    }
   ],
   "source": [
    "def init_weights(m):\n",
    "    if type(m) == nn.Linear:\n",
    "        nn.init.normal_(m.weight, std=0.01)\n",
    "\n",
    "net.apply(init_weights)"
   ]
  },
  {
   "cell_type": "code",
   "execution_count": 54,
   "metadata": {},
   "outputs": [],
   "source": [
    "# device = torch.device(\"cuda:0\" if torch.cuda.is_available() else \"cpu\")"
   ]
  },
  {
   "cell_type": "code",
   "execution_count": 64,
   "metadata": {},
   "outputs": [],
   "source": [
    "net = net.to(\"cpu\")\n",
    "# loss = nn.MSELoss().to(device)\n",
    "loss = nn.MSELoss()\n",
    "# loss = nn.CrossEntropyLoss(reduction='none')\n",
    "trainer = torch.optim.Adam(net.parameters(), lr=0.01)"
   ]
  },
  {
   "cell_type": "code",
   "execution_count": 56,
   "metadata": {},
   "outputs": [],
   "source": [
    "total_epochs = 0"
   ]
  },
  {
   "cell_type": "code",
   "execution_count": null,
   "metadata": {},
   "outputs": [
    {
     "name": "stderr",
     "output_type": "stream",
     "text": [
      "epoch 1985, loss 0.544682:  97%|████████████████████████████████████████████████▋ | 973/1000 [2:01:20<03:14,  7.20s/it]"
     ]
    }
   ],
   "source": [
    "num_epochs = 1000\n",
    "looper = tqdm(range(num_epochs))\n",
    "for epoch in looper:\n",
    "    total_epochs += 1\n",
    "    for X, y in train_iter:\n",
    "        # print(X.shape, y.shape)\n",
    "#         X,y = X.to(device),y.to(device)\n",
    "        l = loss(net(X) ,y)\n",
    "        trainer.zero_grad()\n",
    "        l.backward()\n",
    "        trainer.step()\n",
    "    l = loss(net(features), labels)\n",
    "    # print(f'epoch {epoch + 1}, loss {l:f}')\n",
    "    looper.set_description(f'epoch {total_epochs}, loss {l:f}')"
   ]
  },
  {
   "cell_type": "code",
   "execution_count": 67,
   "metadata": {},
   "outputs": [
    {
     "name": "stdout",
     "output_type": "stream",
     "text": [
      "tensor([4.1503], grad_fn=<AddBackward0>)\n",
      "tensor([7.1419], grad_fn=<AddBackward0>)\n",
      "tensor([4.6116], grad_fn=<AddBackward0>)\n"
     ]
    }
   ],
   "source": [
    "print(net(torch.Tensor(get_input(0,7)))) # None\n",
    "print(net(torch.Tensor(get_input(8031,1038)))) # 2\n",
    "print(net(torch.Tensor(get_input(94,0)))) # 6\n",
    "# net.state_dict()"
   ]
  },
  {
   "cell_type": "code",
   "execution_count": 68,
   "metadata": {},
   "outputs": [],
   "source": [
    "torch.save(net,'DNN-MYD.pt')"
   ]
  },
  {
   "cell_type": "code",
   "execution_count": null,
   "metadata": {},
   "outputs": [],
   "source": []
  }
 ],
 "metadata": {
  "kernelspec": {
   "display_name": "Python 3 (ipykernel)",
   "language": "python",
   "name": "python3"
  },
  "language_info": {
   "codemirror_mode": {
    "name": "ipython",
    "version": 3
   },
   "file_extension": ".py",
   "mimetype": "text/x-python",
   "name": "python",
   "nbconvert_exporter": "python",
   "pygments_lexer": "ipython3",
   "version": "3.8.12"
  }
 },
 "nbformat": 4,
 "nbformat_minor": 2
}
