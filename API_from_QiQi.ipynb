{
 "cells": [
  {
   "cell_type": "code",
   "execution_count": 1,
   "id": "027fda54",
   "metadata": {},
   "outputs": [],
   "source": [
    "import pandas as pd\n",
    "import numpy as np\n",
    "import ast\n",
    "from tqdm import tqdm"
   ]
  },
  {
   "cell_type": "code",
   "execution_count": 3,
   "id": "5eebea41",
   "metadata": {},
   "outputs": [],
   "source": [
    "user_job = pd.read_csv(\"data/user_job.csv\")\n",
    "position_job = pd.read_csv(\"data/position_job.csv\")"
   ]
  },
  {
   "cell_type": "code",
   "execution_count": 10,
   "id": "cdf994ee",
   "metadata": {},
   "outputs": [
    {
     "data": {
      "text/plain": [
       "array([[0, 0, 0, ..., 0, 0, 0],\n",
       "       [0, 0, 0, ..., 0, 0, 1],\n",
       "       [0, 1, 0, ..., 0, 0, 0],\n",
       "       ...,\n",
       "       [0, 0, 0, ..., 0, 0, 0],\n",
       "       [0, 0, 0, ..., 0, 0, 0],\n",
       "       [0, 0, 0, ..., 0, 0, 0]], dtype=int64)"
      ]
     },
     "execution_count": 10,
     "metadata": {},
     "output_type": "execute_result"
    }
   ],
   "source": [
    "user_job.values"
   ]
  },
  {
   "cell_type": "code",
   "execution_count": 4,
   "id": "b960585d",
   "metadata": {},
   "outputs": [
    {
     "data": {
      "text/html": [
       "<div>\n",
       "<style scoped>\n",
       "    .dataframe tbody tr th:only-of-type {\n",
       "        vertical-align: middle;\n",
       "    }\n",
       "\n",
       "    .dataframe tbody tr th {\n",
       "        vertical-align: top;\n",
       "    }\n",
       "\n",
       "    .dataframe thead th {\n",
       "        text-align: right;\n",
       "    }\n",
       "</style>\n",
       "<table border=\"1\" class=\"dataframe\">\n",
       "  <thead>\n",
       "    <tr style=\"text-align: right;\">\n",
       "      <th></th>\n",
       "      <th>Hadoop大数据开发工程师</th>\n",
       "      <th>其他</th>\n",
       "      <th>图像处理工程师</th>\n",
       "      <th>数据分析师</th>\n",
       "      <th>数据挖掘工程师</th>\n",
       "      <th>机器学习工程师</th>\n",
       "      <th>算法工程师</th>\n",
       "      <th>自然语言处理工程师</th>\n",
       "      <th>计算机视觉工程师</th>\n",
       "    </tr>\n",
       "  </thead>\n",
       "  <tbody>\n",
       "    <tr>\n",
       "      <th>0</th>\n",
       "      <td>0</td>\n",
       "      <td>0</td>\n",
       "      <td>0</td>\n",
       "      <td>1</td>\n",
       "      <td>0</td>\n",
       "      <td>0</td>\n",
       "      <td>0</td>\n",
       "      <td>0</td>\n",
       "      <td>0</td>\n",
       "    </tr>\n",
       "    <tr>\n",
       "      <th>1</th>\n",
       "      <td>0</td>\n",
       "      <td>0</td>\n",
       "      <td>0</td>\n",
       "      <td>1</td>\n",
       "      <td>0</td>\n",
       "      <td>0</td>\n",
       "      <td>0</td>\n",
       "      <td>0</td>\n",
       "      <td>0</td>\n",
       "    </tr>\n",
       "    <tr>\n",
       "      <th>2</th>\n",
       "      <td>0</td>\n",
       "      <td>0</td>\n",
       "      <td>0</td>\n",
       "      <td>1</td>\n",
       "      <td>0</td>\n",
       "      <td>0</td>\n",
       "      <td>0</td>\n",
       "      <td>0</td>\n",
       "      <td>0</td>\n",
       "    </tr>\n",
       "    <tr>\n",
       "      <th>3</th>\n",
       "      <td>0</td>\n",
       "      <td>0</td>\n",
       "      <td>0</td>\n",
       "      <td>1</td>\n",
       "      <td>1</td>\n",
       "      <td>0</td>\n",
       "      <td>0</td>\n",
       "      <td>0</td>\n",
       "      <td>0</td>\n",
       "    </tr>\n",
       "    <tr>\n",
       "      <th>4</th>\n",
       "      <td>0</td>\n",
       "      <td>0</td>\n",
       "      <td>0</td>\n",
       "      <td>1</td>\n",
       "      <td>0</td>\n",
       "      <td>0</td>\n",
       "      <td>0</td>\n",
       "      <td>0</td>\n",
       "      <td>0</td>\n",
       "    </tr>\n",
       "    <tr>\n",
       "      <th>...</th>\n",
       "      <td>...</td>\n",
       "      <td>...</td>\n",
       "      <td>...</td>\n",
       "      <td>...</td>\n",
       "      <td>...</td>\n",
       "      <td>...</td>\n",
       "      <td>...</td>\n",
       "      <td>...</td>\n",
       "      <td>...</td>\n",
       "    </tr>\n",
       "    <tr>\n",
       "      <th>1570</th>\n",
       "      <td>0</td>\n",
       "      <td>0</td>\n",
       "      <td>0</td>\n",
       "      <td>0</td>\n",
       "      <td>0</td>\n",
       "      <td>0</td>\n",
       "      <td>1</td>\n",
       "      <td>0</td>\n",
       "      <td>0</td>\n",
       "    </tr>\n",
       "    <tr>\n",
       "      <th>1571</th>\n",
       "      <td>0</td>\n",
       "      <td>1</td>\n",
       "      <td>0</td>\n",
       "      <td>0</td>\n",
       "      <td>0</td>\n",
       "      <td>0</td>\n",
       "      <td>0</td>\n",
       "      <td>0</td>\n",
       "      <td>0</td>\n",
       "    </tr>\n",
       "    <tr>\n",
       "      <th>1572</th>\n",
       "      <td>0</td>\n",
       "      <td>1</td>\n",
       "      <td>0</td>\n",
       "      <td>0</td>\n",
       "      <td>0</td>\n",
       "      <td>0</td>\n",
       "      <td>0</td>\n",
       "      <td>0</td>\n",
       "      <td>0</td>\n",
       "    </tr>\n",
       "    <tr>\n",
       "      <th>1573</th>\n",
       "      <td>0</td>\n",
       "      <td>1</td>\n",
       "      <td>0</td>\n",
       "      <td>0</td>\n",
       "      <td>1</td>\n",
       "      <td>0</td>\n",
       "      <td>1</td>\n",
       "      <td>0</td>\n",
       "      <td>0</td>\n",
       "    </tr>\n",
       "    <tr>\n",
       "      <th>1574</th>\n",
       "      <td>0</td>\n",
       "      <td>0</td>\n",
       "      <td>0</td>\n",
       "      <td>1</td>\n",
       "      <td>0</td>\n",
       "      <td>0</td>\n",
       "      <td>0</td>\n",
       "      <td>0</td>\n",
       "      <td>0</td>\n",
       "    </tr>\n",
       "  </tbody>\n",
       "</table>\n",
       "<p>1575 rows × 9 columns</p>\n",
       "</div>"
      ],
      "text/plain": [
       "      Hadoop大数据开发工程师  其他  图像处理工程师  数据分析师  数据挖掘工程师  机器学习工程师  算法工程师  自然语言处理工程师  \\\n",
       "0                  0   0        0      1        0        0      0          0   \n",
       "1                  0   0        0      1        0        0      0          0   \n",
       "2                  0   0        0      1        0        0      0          0   \n",
       "3                  0   0        0      1        1        0      0          0   \n",
       "4                  0   0        0      1        0        0      0          0   \n",
       "...              ...  ..      ...    ...      ...      ...    ...        ...   \n",
       "1570               0   0        0      0        0        0      1          0   \n",
       "1571               0   1        0      0        0        0      0          0   \n",
       "1572               0   1        0      0        0        0      0          0   \n",
       "1573               0   1        0      0        1        0      1          0   \n",
       "1574               0   0        0      1        0        0      0          0   \n",
       "\n",
       "      计算机视觉工程师  \n",
       "0            0  \n",
       "1            0  \n",
       "2            0  \n",
       "3            0  \n",
       "4            0  \n",
       "...        ...  \n",
       "1570         0  \n",
       "1571         0  \n",
       "1572         0  \n",
       "1573         0  \n",
       "1574         0  \n",
       "\n",
       "[1575 rows x 9 columns]"
      ]
     },
     "execution_count": 4,
     "metadata": {},
     "output_type": "execute_result"
    }
   ],
   "source": [
    "position_job"
   ]
  },
  {
   "cell_type": "code",
   "execution_count": 5,
   "id": "40a0d603",
   "metadata": {},
   "outputs": [],
   "source": [
    "user_job_matrix = user_job.values\n",
    "position_job_matrix = position_job.values"
   ]
  },
  {
   "cell_type": "code",
   "execution_count": 6,
   "id": "e9ff7e5f",
   "metadata": {},
   "outputs": [],
   "source": [
    "def judge_industry(user,position):\n",
    "    return (user_job_matrix[user]*position_job_matrix[position]).sum()>0"
   ]
  },
  {
   "cell_type": "code",
   "execution_count": 7,
   "id": "37ae0f87",
   "metadata": {},
   "outputs": [
    {
     "data": {
      "text/plain": [
       "True"
      ]
     },
     "execution_count": 7,
     "metadata": {},
     "output_type": "execute_result"
    }
   ],
   "source": [
    "judge_industry(0,0)"
   ]
  },
  {
   "cell_type": "code",
   "execution_count": 2,
   "id": "b2935621",
   "metadata": {},
   "outputs": [
    {
     "data": {
      "text/html": [
       "<div>\n",
       "<style scoped>\n",
       "    .dataframe tbody tr th:only-of-type {\n",
       "        vertical-align: middle;\n",
       "    }\n",
       "\n",
       "    .dataframe tbody tr th {\n",
       "        vertical-align: top;\n",
       "    }\n",
       "\n",
       "    .dataframe thead th {\n",
       "        text-align: right;\n",
       "    }\n",
       "</style>\n",
       "<table border=\"1\" class=\"dataframe\">\n",
       "  <thead>\n",
       "    <tr style=\"text-align: right;\">\n",
       "      <th></th>\n",
       "      <th>招聘信息 ID</th>\n",
       "      <th>求职者 ID</th>\n",
       "      <th>岗位匹配度</th>\n",
       "    </tr>\n",
       "  </thead>\n",
       "  <tbody>\n",
       "    <tr>\n",
       "      <th>0</th>\n",
       "      <td>1648527394191052802</td>\n",
       "      <td>1469967882053091328</td>\n",
       "      <td>0.818127</td>\n",
       "    </tr>\n",
       "    <tr>\n",
       "      <th>1</th>\n",
       "      <td>1648527394191052802</td>\n",
       "      <td>1469173034668654592</td>\n",
       "      <td>0.794768</td>\n",
       "    </tr>\n",
       "    <tr>\n",
       "      <th>2</th>\n",
       "      <td>1648527394191052802</td>\n",
       "      <td>1503675724379324416</td>\n",
       "      <td>0.769387</td>\n",
       "    </tr>\n",
       "    <tr>\n",
       "      <th>3</th>\n",
       "      <td>1648527394191052802</td>\n",
       "      <td>1573938917198135296</td>\n",
       "      <td>0.759405</td>\n",
       "    </tr>\n",
       "    <tr>\n",
       "      <th>4</th>\n",
       "      <td>1648527394191052802</td>\n",
       "      <td>1498147738557218816</td>\n",
       "      <td>0.754274</td>\n",
       "    </tr>\n",
       "  </tbody>\n",
       "</table>\n",
       "</div>"
      ],
      "text/plain": [
       "               招聘信息 ID               求职者 ID     岗位匹配度\n",
       "0  1648527394191052802  1469967882053091328  0.818127\n",
       "1  1648527394191052802  1469173034668654592  0.794768\n",
       "2  1648527394191052802  1503675724379324416  0.769387\n",
       "3  1648527394191052802  1573938917198135296  0.759405\n",
       "4  1648527394191052802  1498147738557218816  0.754274"
      ]
     },
     "execution_count": 2,
     "metadata": {},
     "output_type": "execute_result"
    }
   ],
   "source": [
    "result31 = pd.read_csv('./res/result3-1.csv')\n",
    "result31.head()"
   ]
  },
  {
   "cell_type": "code",
   "execution_count": 6,
   "id": "cecd56c6",
   "metadata": {},
   "outputs": [
    {
     "name": "stderr",
     "output_type": "stream",
     "text": [
      "100%|██████████| 3455500/3455500 [00:17<00:00, 198363.21it/s]\n"
     ]
    }
   ],
   "source": [
    "nparr = result31.values\n",
    "for i in tqdm(result31.index):\n",
    "  x = nparr[i,2]\n",
    "  nparr[i,2] = round(x,2)"
   ]
  },
  {
   "cell_type": "code",
   "execution_count": 7,
   "id": "bde97d7e",
   "metadata": {},
   "outputs": [],
   "source": [
    "result31 = pd.DataFrame(data=nparr,columns=result31.columns)"
   ]
  },
  {
   "cell_type": "code",
   "execution_count": 8,
   "id": "5af2257d",
   "metadata": {},
   "outputs": [
    {
     "data": {
      "text/html": [
       "<div>\n",
       "<style scoped>\n",
       "    .dataframe tbody tr th:only-of-type {\n",
       "        vertical-align: middle;\n",
       "    }\n",
       "\n",
       "    .dataframe tbody tr th {\n",
       "        vertical-align: top;\n",
       "    }\n",
       "\n",
       "    .dataframe thead th {\n",
       "        text-align: right;\n",
       "    }\n",
       "</style>\n",
       "<table border=\"1\" class=\"dataframe\">\n",
       "  <thead>\n",
       "    <tr style=\"text-align: right;\">\n",
       "      <th></th>\n",
       "      <th>招聘信息 ID</th>\n",
       "      <th>求职者 ID</th>\n",
       "      <th>岗位匹配度</th>\n",
       "    </tr>\n",
       "  </thead>\n",
       "  <tbody>\n",
       "    <tr>\n",
       "      <th>0</th>\n",
       "      <td>1.648527e+18</td>\n",
       "      <td>1.469968e+18</td>\n",
       "      <td>0.82</td>\n",
       "    </tr>\n",
       "    <tr>\n",
       "      <th>1</th>\n",
       "      <td>1.648527e+18</td>\n",
       "      <td>1.469173e+18</td>\n",
       "      <td>0.79</td>\n",
       "    </tr>\n",
       "    <tr>\n",
       "      <th>2</th>\n",
       "      <td>1.648527e+18</td>\n",
       "      <td>1.503676e+18</td>\n",
       "      <td>0.77</td>\n",
       "    </tr>\n",
       "    <tr>\n",
       "      <th>3</th>\n",
       "      <td>1.648527e+18</td>\n",
       "      <td>1.573939e+18</td>\n",
       "      <td>0.76</td>\n",
       "    </tr>\n",
       "    <tr>\n",
       "      <th>4</th>\n",
       "      <td>1.648527e+18</td>\n",
       "      <td>1.498148e+18</td>\n",
       "      <td>0.75</td>\n",
       "    </tr>\n",
       "  </tbody>\n",
       "</table>\n",
       "</div>"
      ],
      "text/plain": [
       "        招聘信息 ID        求职者 ID  岗位匹配度\n",
       "0  1.648527e+18  1.469968e+18   0.82\n",
       "1  1.648527e+18  1.469173e+18   0.79\n",
       "2  1.648527e+18  1.503676e+18   0.77\n",
       "3  1.648527e+18  1.573939e+18   0.76\n",
       "4  1.648527e+18  1.498148e+18   0.75"
      ]
     },
     "execution_count": 8,
     "metadata": {},
     "output_type": "execute_result"
    }
   ],
   "source": [
    "result31.head()"
   ]
  }
 ],
 "metadata": {
  "kernelspec": {
   "display_name": "pytorch",
   "language": "python",
   "name": "python3"
  },
  "language_info": {
   "codemirror_mode": {
    "name": "ipython",
    "version": 3
   },
   "file_extension": ".py",
   "mimetype": "text/x-python",
   "name": "python",
   "nbconvert_exporter": "python",
   "pygments_lexer": "ipython3",
   "version": "3.9.16"
  }
 },
 "nbformat": 4,
 "nbformat_minor": 5
}
